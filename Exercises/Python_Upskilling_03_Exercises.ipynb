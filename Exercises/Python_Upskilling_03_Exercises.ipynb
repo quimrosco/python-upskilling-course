{
 "cells": [
  {
   "cell_type": "markdown",
   "id": "8fa3e58d-8cea-4c09-8cda-896b4fb5bdf6",
   "metadata": {},
   "source": [
    "# **03. Practice: Python Added Functionalities and Modules**"
   ]
  },
  {
   "cell_type": "markdown",
   "id": "5848dd03-e5e9-4819-b7b8-fefd30b52f1e",
   "metadata": {},
   "source": [
    "## **Homework Assignments / Coaching Session Doubts and Practice**"
   ]
  },
  {
   "cell_type": "markdown",
   "id": "bd7f7f03-c292-4931-897e-19990dd11e2c",
   "metadata": {},
   "source": [
    "### **Exercise 1**\n",
    "\n",
    "We have a list of movies, a list of directors, and a list of nationalities of these directors.\n",
    "\n",
    "Write a function that returns a single list of tuples relating all three lists, index per index.\n",
    "\n",
    "Plus,  the function returns all names capitalized, if the director is Italian, the respective movie, director, nationality tuple shoud be excluded from the resulting list. \n",
    "\n",
    "Plus, there are some movies that have been assigned to the wrong director. Correct them by using the \"corrected\" list."
   ]
  },
  {
   "cell_type": "code",
   "execution_count": null,
   "id": "1d270544-c7d6-480f-b502-cc7d04ffe73d",
   "metadata": {},
   "outputs": [],
   "source": [
    "films = ['the shining', 'north by northwest', 'la chinoise', 'as bestas', 'the rope', 'la dolce vita', 'la grande bellezza']\n",
    "directors = ['kubrick', 'hitchcock', 'goddard', 'sorogoyen', 'nolan', 'fellini', 'sorrentino']\n",
    "nationality = ['american', 'british', 'french', 'spanish', 'british', 'italian', 'italian']\n",
    "\n",
    "corrected_films = [('the rope', 'hitchcock'), ('vertigo', 'hitchcock'), ('raging bull', 'scorsese')]"
   ]
  },
  {
   "cell_type": "markdown",
   "id": "84603b9c-67d4-4ad2-a229-ee3b6b03fc37",
   "metadata": {},
   "source": [
    "**Solution**"
   ]
  },
  {
   "cell_type": "code",
   "execution_count": null,
   "id": "b7a06356-177e-4c64-8d07-f0257e4ea43c",
   "metadata": {},
   "outputs": [],
   "source": []
  },
  {
   "cell_type": "markdown",
   "id": "aa8318ae-d002-43b9-9a20-f44115f697a3",
   "metadata": {},
   "source": [
    "### **Exercise 2**\n",
    "\n",
    "Create a function that, when launched, it asks the user to input an even integer number, checks if it's an integer number, and if it's not an integer, it returns the sentence 'Not an integer number, try again', and it prompts the user for an input value yet again.\n",
    "\n",
    "If it's an integer number, it checks if it's even, and if it's not it returns to the user 'An integer, but not even, try again', and it prompts the user for an input value yet again.\n",
    "\n",
    "If it's an even integer number, it returns the value multiplied by 4."
   ]
  },
  {
   "cell_type": "markdown",
   "id": "cafb1852-ad28-44fe-b89e-77f840e1c72d",
   "metadata": {},
   "source": [
    "**Solution**"
   ]
  },
  {
   "cell_type": "code",
   "execution_count": null,
   "id": "cdbe614e-d8b4-41e2-96b9-ec2de82d0f6b",
   "metadata": {},
   "outputs": [],
   "source": []
  },
  {
   "cell_type": "markdown",
   "id": "189ffdf3-318d-40e2-b5e1-7a733653f0fe",
   "metadata": {},
   "source": [
    "### **Exercise 3**\n",
    "\n",
    "We have a list of items, both strings and numbers. Define a function that returns the Upper version of the string objects in the list, and that drops all other items that are not strings. \n",
    "\n",
    "Use exception handling to do so.\n",
    "\n",
    "Also, define a second function that does the same, but instead of dropping all non-string objects, it just includes them in the list without no change whatsoever."
   ]
  },
  {
   "cell_type": "code",
   "execution_count": 1,
   "id": "06cf4f4c-f35f-4a03-9498-def9e2f5c945",
   "metadata": {},
   "outputs": [],
   "source": [
    "my_list = ['orange', 'drum', 45, ['a', 'b', 'c'], 'melon', 66, 'new york', 'subway', 77]"
   ]
  },
  {
   "cell_type": "markdown",
   "id": "9d489a8a-e62c-4dc9-99ef-b750aa03aad4",
   "metadata": {},
   "source": [
    "**Solution**"
   ]
  },
  {
   "cell_type": "code",
   "execution_count": null,
   "id": "5a999d36-ca5e-42e9-ac3d-a3ca68c664f2",
   "metadata": {},
   "outputs": [],
   "source": []
  },
  {
   "cell_type": "markdown",
   "id": "64acdc36-0327-4768-953d-4726b8af2b7c",
   "metadata": {},
   "source": [
    "### **Exercise 4**\n",
    "\n",
    "Use a list comprehension to, for each string in the list, just get the first and third words in a string altogether.\n",
    "\n",
    "For instance 'John WORTODROP Smith' has to be converted into 'John Smith'.\n",
    "\n",
    "Use a **list comprehension** to do so.\n",
    "\n",
    "Then, do it in a traditional for loop, as well as by using the combination of a lambda function and the map function."
   ]
  },
  {
   "cell_type": "code",
   "execution_count": null,
   "id": "59a1b305-c7e2-4783-a8c8-c7c54d6e101b",
   "metadata": {},
   "outputs": [],
   "source": [
    "my_list = ['John DISREGARDTHIS Smith', 'Virginia FILLER Woolf', 'Anne AAA Miller', 'James BBBB Buchanan', 'Sophie ZZZZZZ Smith']"
   ]
  },
  {
   "cell_type": "markdown",
   "id": "612f91cb-7a06-46b6-b1a6-b68731eb04ba",
   "metadata": {},
   "source": [
    "**Solution**"
   ]
  },
  {
   "cell_type": "code",
   "execution_count": null,
   "id": "f6dcf0ee-967d-4153-81ba-578c79720bc5",
   "metadata": {},
   "outputs": [],
   "source": []
  },
  {
   "cell_type": "markdown",
   "id": "90d495c7-a64d-418e-8205-ffa32b67f691",
   "metadata": {},
   "source": [
    "### **Exercise 5**\n",
    "\n",
    "Generate two random datetimes (**clue**: you can use the randint function to generate each one of the components of each datetime).\n",
    "\n",
    "You may code a function to do one, to ensure reproducibility among the two.\n",
    "\n",
    "Then, code a second function that inputs the two datetimes, and returns its difference in hours.\n"
   ]
  },
  {
   "cell_type": "markdown",
   "id": "913ac0d8-ea45-4b1d-9c20-a5fed1572112",
   "metadata": {},
   "source": [
    "\n",
    "**Solution**"
   ]
  },
  {
   "cell_type": "code",
   "execution_count": null,
   "id": "ecebc974-dc6a-4d2e-9705-33caa6819084",
   "metadata": {},
   "outputs": [],
   "source": []
  },
  {
   "cell_type": "markdown",
   "id": "8801eddc-0838-4c14-990d-c2ebbf343b77",
   "metadata": {},
   "source": [
    "### **Exercise 6**\n",
    "\n",
    "Found which strings answer to the following patterns in the following texts:"
   ]
  },
  {
   "cell_type": "markdown",
   "id": "cfba9367-595d-4535-a55b-70e63c574f61",
   "metadata": {},
   "source": [
    "1. Detect all fruits the kids like.\n",
    "\n",
    "(you should find 'an apple', 'an orange', 'a banana' in the text)."
   ]
  },
  {
   "cell_type": "code",
   "execution_count": 2,
   "id": "167e61d4-cece-40f8-9656-bc6f0ddc707a",
   "metadata": {},
   "outputs": [],
   "source": [
    "txt = 'Sammy enjoys having a banana, an apple, an orange, and some figues, Danny enjoys having breakfast with a pineapple, an apple, a pear or some grapes.'"
   ]
  },
  {
   "cell_type": "markdown",
   "id": "2b93a486-476d-463e-8199-7338d6b7df92",
   "metadata": {},
   "source": [
    "2. Detect all phone numbers in the message:"
   ]
  },
  {
   "cell_type": "code",
   "execution_count": 3,
   "id": "ba032d71-b090-4e75-a16e-6e17230e9795",
   "metadata": {},
   "outputs": [],
   "source": [
    "txt = 'I called 932-014-675, then 902-345-671, then I also considered calling 789-345-124, but I finally called 765-432-843, and that was it.'"
   ]
  },
  {
   "cell_type": "markdown",
   "id": "655222b8-d278-4ffa-b46d-2fba61db744c",
   "metadata": {},
   "source": [
    "3. Detect all president names in the text:"
   ]
  },
  {
   "cell_type": "code",
   "execution_count": 4,
   "id": "d87af9b9-2334-41f5-a24b-9fe2e66196dc",
   "metadata": {},
   "outputs": [],
   "source": [
    "txt = 'Some presidents of the USA include Obama, Biden, Bush, Clinton, also Trump. Some others also include FDR, Taft, Nixon, Ford.'"
   ]
  },
  {
   "cell_type": "markdown",
   "id": "a6782b8d-4054-4496-bfe2-c2a82f1fdc1f",
   "metadata": {},
   "source": [
    "**Solution**"
   ]
  },
  {
   "cell_type": "code",
   "execution_count": null,
   "id": "bda72a15-f00f-4e5b-a788-96da4274d95c",
   "metadata": {},
   "outputs": [],
   "source": []
  },
  {
   "cell_type": "markdown",
   "id": "0866da80-5803-48e6-9d7e-253c146d7272",
   "metadata": {},
   "source": [
    "### **Exercise 7**\n",
    "\n",
    "Create a new object class called \"Operator\" that intakes a specific numeric value (attribute called value) and that has three different methods:\n",
    " - A first method returns the squared value + 5 of the number, method .square_me().\n",
    " - A second method that allows for changing the inputed value, i.e. method .change_value()\n",
    " - A third method that intakes a second number and calculates the multiplication of the two, i.e., method multiply_me()\n",
    "\n",
    "Then create an object from this class and demonstrate that the three methods, and the attribute, work as expected"
   ]
  },
  {
   "cell_type": "markdown",
   "id": "77b8aac5-0efb-4902-97b4-03f7a135852d",
   "metadata": {},
   "source": [
    "**Solution**"
   ]
  },
  {
   "cell_type": "code",
   "execution_count": null,
   "id": "940d629b-ac28-4c8e-8e2c-0dd436130b55",
   "metadata": {},
   "outputs": [],
   "source": []
  }
 ],
 "metadata": {
  "kernelspec": {
   "display_name": "Python 3 (ipykernel)",
   "language": "python",
   "name": "python3"
  },
  "language_info": {
   "codemirror_mode": {
    "name": "ipython",
    "version": 3
   },
   "file_extension": ".py",
   "mimetype": "text/x-python",
   "name": "python",
   "nbconvert_exporter": "python",
   "pygments_lexer": "ipython3",
   "version": "3.10.6"
  }
 },
 "nbformat": 4,
 "nbformat_minor": 5
}
