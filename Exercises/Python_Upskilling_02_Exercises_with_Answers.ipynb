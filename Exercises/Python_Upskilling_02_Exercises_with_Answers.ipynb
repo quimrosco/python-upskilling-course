{
 "cells": [
  {
   "cell_type": "markdown",
   "id": "d8b2b83c-2db0-494c-9545-888bdbb6618d",
   "metadata": {},
   "source": [
    "# **02. Practice: Conditional Statements, Loops and Functions**"
   ]
  },
  {
   "cell_type": "markdown",
   "id": "7061ca68-629b-4490-9a11-22997f3a5ebc",
   "metadata": {},
   "source": [
    "## **Homework Assignments / Coaching Session Doubts and Practice**"
   ]
  },
  {
   "cell_type": "markdown",
   "id": "1b854a1d-86a8-4281-b842-e5c6226cf0e9",
   "metadata": {},
   "source": [
    "### **Exercise 1**\n",
    "\n",
    "From the following list of countries, create a conditional statement that:\n",
    " - For those countries with two or more words, it prints out 'Two Word Country!'\n",
    " - For those countries beginning either with 'N', 'D' or 'F', as long as it's not France, it prints out 'Nordic Country!'\n",
    " - For those countries beginning with 'Fr', 'Sp' or 'Gr' it prints out 'Delicious Wines!'\n",
    " - For Burkina Faso, does nothing but printing 'Burkina Faso!'\n",
    " - For the rest of countries, it does nothing.\n",
    " \n",
    "Make one of the countries pass the conditional loop to see that all conditions are met."
   ]
  },
  {
   "cell_type": "code",
   "execution_count": 14,
   "id": "4efc0497-1eb0-4999-918c-bf5eb9ce4648",
   "metadata": {},
   "outputs": [],
   "source": [
    "list_of_countries = ['Sri Lanka', 'Central African Republic', 'Norway', 'Denmark', 'France', 'Philipines', 'Spain', 'Greece', 'West Sahara', 'Burkina Faso', 'Finland']"
   ]
  },
  {
   "cell_type": "markdown",
   "id": "4c246276-57a9-4ebd-a3c2-0fec5656081c",
   "metadata": {},
   "source": [
    "**Solution**"
   ]
  },
  {
   "cell_type": "code",
   "execution_count": 6,
   "id": "e7c680bc-023f-445e-9d10-fb015c24f9da",
   "metadata": {},
   "outputs": [
    {
     "name": "stdout",
     "output_type": "stream",
     "text": [
      "Two-Word Country!\n"
     ]
    }
   ],
   "source": [
    "country = 'Sri Lanka'\n",
    "if len(country.split()) > 1 and country not in ['Burkina Faso']:\n",
    "    print('Two-Word Country!')\n",
    "elif country[0] in ['N', 'D', 'F'] and country != 'France':\n",
    "    print('Nordic Country!')\n",
    "elif country[:2] in ['Fr', 'Sp', 'Gr']:\n",
    "    print('Delicious Wines!')\n",
    "elif country == 'Burkina Faso':\n",
    "    print('Burkina Faso')\n",
    "    "
   ]
  },
  {
   "cell_type": "markdown",
   "id": "f6674793-1342-4d68-ae03-f649ff114f34",
   "metadata": {},
   "source": [
    "### **Exercise 2**\n",
    "\n",
    "Considering the same list as before, we want to add to it a list of additional countries (see list 2).\n",
    "\n",
    "Use the Conditional statement written in the previous exercise so as to apply it to the overall list, instead of printing the specified statements, you'll use them to substitue the original elements in the list.\n",
    "\n",
    "Print the result.\n",
    "\n",
    "For instance, an expected result would be:"
   ]
  },
  {
   "cell_type": "code",
   "execution_count": 2,
   "id": "ac50a14e-0f64-4edf-9ccc-3ef06eb6f491",
   "metadata": {},
   "outputs": [
    {
     "name": "stdout",
     "output_type": "stream",
     "text": [
      "In: ['France', 'Norway', 'Philipines']\n",
      "Out:['Delicious Wines!', 'Nordic Country!', 'Philipines']\n"
     ]
    }
   ],
   "source": []
  },
  {
   "cell_type": "code",
   "execution_count": 9,
   "id": "b9a8e772-3a3a-435f-971a-0525bddc2df5",
   "metadata": {},
   "outputs": [],
   "source": [
    "list_countries_2 = ['China', 'South Korea', 'Iran', 'Chile', 'South Africa', 'Mexico']"
   ]
  },
  {
   "cell_type": "markdown",
   "id": "12fd7961-fc91-44e9-8f71-a51c998791a1",
   "metadata": {},
   "source": [
    "**Solution**"
   ]
  },
  {
   "cell_type": "code",
   "execution_count": 17,
   "id": "5c206ab1-8774-473e-a263-518aba1f9e5f",
   "metadata": {},
   "outputs": [
    {
     "name": "stdout",
     "output_type": "stream",
     "text": [
      "['Sri Lanka', 'Central African Republic', 'Norway', 'Denmark', 'France', 'Philipines', 'Spain', 'Greece', 'West Sahara', 'Burkina Faso', 'Finland', 'China', 'South Korea', 'Iran', 'Chile', 'South Africa', 'Mexico', 'China', 'South Korea', 'Iran', 'Chile', 'South Africa', 'Mexico', 'China', 'South Korea', 'Iran', 'Chile', 'South Africa', 'Mexico']\n"
     ]
    }
   ],
   "source": [
    "total_list = list_of_countries + list_countries_2\n",
    "print(total_list)"
   ]
  },
  {
   "cell_type": "code",
   "execution_count": 18,
   "id": "0fa57a44-c870-4952-a56e-4cff0b8dcf78",
   "metadata": {},
   "outputs": [
    {
     "name": "stdout",
     "output_type": "stream",
     "text": [
      "['Two-Word Country!', 'Two-Word Country!', 'Nordic Country!', 'Nordic Country!', 'Delicious Wines!', 'Philipines', 'Delicious Wines!', 'Delicious Wines!', 'Two-Word Country!', 'Burkina Faso', 'Nordic Country!', 'China', 'Two-Word Country!', 'Iran', 'Chile', 'Two-Word Country!', 'Mexico', 'China', 'Two-Word Country!', 'Iran', 'Chile', 'Two-Word Country!', 'Mexico', 'China', 'Two-Word Country!', 'Iran', 'Chile', 'Two-Word Country!', 'Mexico']\n"
     ]
    }
   ],
   "source": [
    "for c, country in enumerate(total_list):\n",
    "    if len(country.split()) > 1 and country not in ['Burkina Faso']:\n",
    "        total_list[c] = 'Two-Word Country!'\n",
    "    elif country[0] in ['N', 'D', 'F'] and country != 'France':\n",
    "        total_list[c] = 'Nordic Country!'\n",
    "    elif country[:2] in ['Fr', 'Sp', 'Gr']:\n",
    "        total_list[c] = 'Delicious Wines!'\n",
    "    elif country == 'Burkina Faso':\n",
    "        total_list[c] = 'Burkina Faso'\n",
    "\n",
    "print(total_list)"
   ]
  },
  {
   "cell_type": "markdown",
   "id": "64e5e7d7-f6b2-458d-ac8a-aff424c7bb48",
   "metadata": {},
   "source": [
    "### **Exercise 3**\n",
    "\n",
    "We have a list of tuples, with known politicians in the first position of the tuple, and with their respective countries in the second position.\n",
    "\n",
    "You will see that the different politicians are written in inconsistent ways. \n",
    "\n",
    "We want to obtain a new list of elements in which, for each politician and country, we obtain just one string of the format \"Politician: [politician name], Country: [country name]\".\n",
    "\n",
    "Also, we want that politicians are now written with each letter in their names uppercase, the rest lowercase, like 'Emmanuel Macron' instead of 'emmANUEL macron'.\n",
    "\n",
    "Plus, in our final list we just want politicians from the Americas and Europe, so please filter according to the country.\n",
    "\n",
    "Print the final resulting list."
   ]
  },
  {
   "cell_type": "code",
   "execution_count": 20,
   "id": "5c9c3a83-1102-4471-9be9-0bf81f2c5f22",
   "metadata": {},
   "outputs": [],
   "source": [
    "list_politicians = [('Barack obama', 'USA'), ('Pedro SANCHEZ', 'Spain'), ('emmANUEL macron', 'France'), ('LULA DA silVA', 'Brazil'), ('Jacinda Ardern', 'New Zealand'), ('Irene Montero', 'Spain'), ('Shinzo Abe', 'Japan'), ('Joe BIDEN', 'USA'), ('Angela Merkel', 'Germany'), ('Mark Rutte', 'Netherlands'), ('Justin Trudeau', 'Canada'), ('Elizabeth Warren', 'USA'), ('AOC', 'USA'), ('Narendra Modi', 'India')]"
   ]
  },
  {
   "cell_type": "markdown",
   "id": "a5b09c9b-5888-4a11-a911-c055240bb5a9",
   "metadata": {},
   "source": [
    "**Solution**"
   ]
  },
  {
   "cell_type": "code",
   "execution_count": 21,
   "id": "07a9f385-52f0-4486-950b-0782bf4f4722",
   "metadata": {},
   "outputs": [
    {
     "name": "stdout",
     "output_type": "stream",
     "text": [
      "['Politician: Barack Obama, Country: USA', 'Politician: Pedro Sanchez, Country: Spain', 'Politician: Emmanuel Macron, Country: France', 'Politician: Lula Da Silva, Country: Brazil', 'Politician: Irene Montero, Country: Spain', 'Politician: Joe Biden, Country: USA', 'Politician: Angela Merkel, Country: Germany', 'Politician: Mark Rutte, Country: Netherlands', 'Politician: Justin Trudeau, Country: Canada', 'Politician: Elizabeth Warren, Country: USA', 'Politician: Aoc, Country: USA']\n"
     ]
    }
   ],
   "source": [
    "new_lst = []\n",
    "for p, c in list_politicians:\n",
    "    if c not in ['New Zealand', 'Japan', 'India']:\n",
    "        new_name = ' '.join([i.capitalize() for i in p.split(\" \")])\n",
    "        new_lst.append(f\"Politician: {new_name}, Country: {c}\")\n",
    "\n",
    "print(new_lst)"
   ]
  },
  {
   "cell_type": "markdown",
   "id": "dbf5dcd2-b9df-4dd2-b5f8-744c338128b1",
   "metadata": {},
   "source": [
    "### **Exercise 4**\n",
    "\n",
    "We are presented 3 different texts concerning different books, movies and TV Shows. None of them contain duplicates.\n",
    "\n",
    "Combine their individual elements (all those movies, films and TV Shows turned lists) into one single list of strings. For instance, with incoming ['movie A', 'movie B'] and ['book A'] we'd obtain a single list, ['movie A', 'movie B', 'book A'].\n",
    "\n",
    "Make sure that if an element is present more than twice in a list, it is totally removed altogether from it. That means, if 'the Godfather' is present more than once, drop it altogether, we don't even one one instance of it in the list."
   ]
  },
  {
   "cell_type": "code",
   "execution_count": 22,
   "id": "4c103023-e4e7-44e2-8e73-38319920b02d",
   "metadata": {},
   "outputs": [],
   "source": [
    "books = 'Some books I love include Crime and Punishhment, The Wind-Up Bird Chronicle, 1984, the Magic Mountain, the Godfather, the Trial, Wuthering Heights.'\n",
    "films = 'Some films that exist include the Godfather, La La Land, Moonlight, 1984, Casablanca, North by Northwest, Fargo, The Rope, Pierrot le Fou.'\n",
    "shows = 'Some TV SHows I enjoy include the Wire, the Sopranos, Fargo, Seinfeld, Friends, Curb your Enthusiasm, Frasier, Homeland.'"
   ]
  },
  {
   "cell_type": "markdown",
   "id": "48f4f69a-0a4d-4871-8294-121604a70e0e",
   "metadata": {},
   "source": [
    "**Solution**"
   ]
  },
  {
   "cell_type": "code",
   "execution_count": 23,
   "id": "544b7c00-2773-43c9-ba97-673c8bcad3f1",
   "metadata": {},
   "outputs": [
    {
     "name": "stdout",
     "output_type": "stream",
     "text": [
      "['Crime and Punishhment', 'The Wind-Up Bird Chronicle', '1984', 'the Magic Mountain', 'the Godfather', 'the Trial', 'Wuthering Heights', 'the Godfather', 'La La Land', 'Moonlight', '1984', 'Casablanca', 'North by Northwest', 'Fargo', 'The Rope', 'Pierrot le Fou', 'the Wire', 'the Sopranos', 'Fargo', 'Seinfeld', 'Friends', 'Curb your Enthusiasm', 'Frasier', 'Homeland']\n"
     ]
    }
   ],
   "source": [
    "total_lst = books[books.find('Crime'):-1].split(', ') + films[films.find('the Godfather'):-1].split(', ') + shows[shows.find('the Wire'):-1].split(', ')\n",
    "print(total_lst)"
   ]
  },
  {
   "cell_type": "code",
   "execution_count": 31,
   "id": "0d33fee9-7cc8-4c91-b22f-997e67898940",
   "metadata": {},
   "outputs": [
    {
     "name": "stdout",
     "output_type": "stream",
     "text": [
      "['Crime and Punishhment', 'The Wind-Up Bird Chronicle', 'the Magic Mountain', 'the Trial', 'Wuthering Heights', 'La La Land', 'Moonlight', 'Casablanca', 'North by Northwest', 'The Rope', 'Pierrot le Fou', 'the Wire', 'the Sopranos', 'Seinfeld', 'Friends', 'Curb your Enthusiasm', 'Frasier', 'Homeland']\n"
     ]
    }
   ],
   "source": [
    "new_lst = []\n",
    "for i in total_lst:\n",
    "    if (total_lst.count(i)) > 1:\n",
    "        pass\n",
    "    else:\n",
    "        new_lst.append(i)\n",
    "\n",
    "print(new_lst)"
   ]
  },
  {
   "cell_type": "markdown",
   "id": "1bd3c97b-98df-4011-9564-609e3184e297",
   "metadata": {},
   "source": [
    "### **Exercise 5**\n",
    "\n",
    "We have a list of numbers. Generate a function that acts upon a single element of the list at each time, and it returns both its squared value, as well as its value divided by the following value of the list. If there's no following element in the list, it returns the value itself.\n",
    "\n",
    "Apply the defined function to all the list so as to obtain a single list of values that, for each index, presents its sqared value (**tip**: this will require some tuple unpacking or indexing of the result :) )."
   ]
  },
  {
   "cell_type": "code",
   "execution_count": 18,
   "id": "aae61454-a4f3-4690-bd5d-85b1adb14dfb",
   "metadata": {},
   "outputs": [],
   "source": [
    "number_list = [1, 2, 3, 4, 5, 6, 7, 8, 9, 1, 2, 3, 4, 5, 6, 7, 8, 9, 10]"
   ]
  },
  {
   "cell_type": "markdown",
   "id": "c8e0f48e-2619-4821-867d-640cf06f425e",
   "metadata": {},
   "source": [
    "**Solution**"
   ]
  },
  {
   "cell_type": "code",
   "execution_count": 37,
   "id": "5152ae69-df3f-4ad2-adf9-98b373e722fd",
   "metadata": {},
   "outputs": [],
   "source": [
    "def my_func(c, x):\n",
    "    if c == len(number_list) -1:\n",
    "        a = 1\n",
    "    else:\n",
    "        a = number_list[c+1]\n",
    "    \n",
    "    return x**2, x/a"
   ]
  },
  {
   "cell_type": "code",
   "execution_count": 41,
   "id": "0297ff2d-9a8e-4894-866c-91481266a169",
   "metadata": {},
   "outputs": [
    {
     "data": {
      "text/plain": [
       "[1, 4, 9, 16, 25, 36, 49, 64, 81, 1, 4, 9, 16, 25, 36, 49, 64, 81, 100]"
      ]
     },
     "execution_count": 41,
     "metadata": {},
     "output_type": "execute_result"
    }
   ],
   "source": [
    "new_lst = []\n",
    "for a, b in enumerate(number_list):\n",
    "    new_lst.append(my_func(a, b)[0])\n",
    "\n",
    "new_lst"
   ]
  },
  {
   "cell_type": "markdown",
   "id": "b865fa17-b1ed-440c-b6ab-14b53d6dbae5",
   "metadata": {},
   "source": [
    "### **Exercise 6**\n",
    "\n",
    "The previous exercise's answer could have been obtained much more easily by using a short function to obtain the result.\n",
    "\n",
    "Use Python's already built-in _**_ operator in a **lambda function** and combine it with **map** to apply it directly, and in a much more simple way, to our list of numbers, and obtain the same result (just the squared values!) as in the previous exercise."
   ]
  },
  {
   "cell_type": "markdown",
   "id": "62c0a74b-6da8-4582-9a05-0dceecb80ac5",
   "metadata": {},
   "source": [
    "**Solution**"
   ]
  },
  {
   "cell_type": "code",
   "execution_count": 42,
   "id": "e6348052-0cde-4aea-bf7f-eab07943813e",
   "metadata": {},
   "outputs": [
    {
     "data": {
      "text/plain": [
       "[1, 4, 9, 16, 25, 36, 49, 64, 81, 1, 4, 9, 16, 25, 36, 49, 64, 81, 100]"
      ]
     },
     "execution_count": 42,
     "metadata": {},
     "output_type": "execute_result"
    }
   ],
   "source": [
    "list(map(lambda x: x**2, number_list))"
   ]
  },
  {
   "cell_type": "markdown",
   "id": "16f0e189-0cd9-4a43-92eb-d66a83b95c91",
   "metadata": {},
   "source": [
    "### **Exercise 7**\n",
    "Code a While Loop that keeps printing the code 'I am a While Loop and thus I keep printing. Iteration number: [number of iteration]' and that:\n",
    "    - In the 5th iteration it writes, in addition to the previous statement: 'This is the 5th Iteration!'\n",
    "    - In the 10th Iteration it writes the following statement: 'This is the 10th Iteration!' but not the initial statement.\n",
    "    - In and after the 15th iteration it writes, in addition to the initial staetement, the following one: 'I am getting tiiireeeed'\n",
    "    - During the 20th iteration, it stops running."
   ]
  },
  {
   "cell_type": "markdown",
   "id": "ef9b158b-61f6-4f1e-a41c-3956288bde54",
   "metadata": {},
   "source": [
    "**Solution**"
   ]
  },
  {
   "cell_type": "code",
   "execution_count": 45,
   "id": "9e9b983b-ce95-4542-8c1e-db33c4ee3a6e",
   "metadata": {},
   "outputs": [
    {
     "name": "stdout",
     "output_type": "stream",
     "text": [
      "I am a While Loop and thus I keep printing. Iteration number: 1\n",
      "I am a While Loop and thus I keep printing. Iteration number: 2\n",
      "I am a While Loop and thus I keep printing. Iteration number: 3\n",
      "I am a While Loop and thus I keep printing. Iteration number: 4\n",
      "This is the 5th Iteration!\n",
      "I am a While Loop and thus I keep printing. Iteration number: 5\n",
      "I am a While Loop and thus I keep printing. Iteration number: 6\n",
      "I am a While Loop and thus I keep printing. Iteration number: 7\n",
      "I am a While Loop and thus I keep printing. Iteration number: 8\n",
      "I am a While Loop and thus I keep printing. Iteration number: 9\n",
      "This is the 1th Iteration!\n",
      "I am a While Loop and thus I keep printing. Iteration number: 11\n",
      "I am a While Loop and thus I keep printing. Iteration number: 12\n",
      "I am a While Loop and thus I keep printing. Iteration number: 13\n",
      "I am a While Loop and thus I keep printing. Iteration number: 14\n",
      "I am a While Loop and thus I keep printing. Iteration number: 15\n",
      "I am getting tiiireeeed\n",
      "I am a While Loop and thus I keep printing. Iteration number: 16\n",
      "I am getting tiiireeeed\n",
      "I am a While Loop and thus I keep printing. Iteration number: 17\n",
      "I am getting tiiireeeed\n",
      "I am a While Loop and thus I keep printing. Iteration number: 18\n",
      "I am getting tiiireeeed\n",
      "I am a While Loop and thus I keep printing. Iteration number: 19\n",
      "I am getting tiiireeeed\n",
      "I am a While Loop and thus I keep printing. Iteration number: 20\n",
      "I am getting tiiireeeed\n"
     ]
    }
   ],
   "source": [
    "counter = 0\n",
    "while True:\n",
    "    counter +=1\n",
    "    if counter == 5:\n",
    "        print('This is the 5th Iteration!')\n",
    "    elif counter == 10:\n",
    "        print('This is the 1th Iteration!')\n",
    "        continue # It jumps to the following loop iteration, and thus it does not print the initial statement! :)\n",
    "    \n",
    "    print(f'I am a While Loop and thus I keep printing. Iteration number: {counter}')\n",
    "    \n",
    "    if counter >= 15:\n",
    "        print('I am getting tiiireeeed')\n",
    "    \n",
    "    if counter == 20:\n",
    "        break\n",
    "    "
   ]
  },
  {
   "cell_type": "markdown",
   "id": "81518700-bad4-45a1-8f9f-d44d3684050c",
   "metadata": {},
   "source": [
    "### **Exercise 8**\n",
    "We have a list of movies and a list of ratings. Their positions match i.e., the first item of the ratings list is the rating corresponding to the first item in the films list.\n",
    "\n",
    "Use the **filter** function to obtain a list of films including just those films with a related score of 85 or above."
   ]
  },
  {
   "cell_type": "code",
   "execution_count": 3,
   "id": "64db35a4-ad32-43b2-bf98-a6009885f95b",
   "metadata": {},
   "outputs": [],
   "source": [
    "films = ['Tenet', 'Fargo', 'The Big Lebowski', 'Ran', 'the Godfather', 'Burn after Reading']\n",
    "ratings = [77, 85, 90, 90, 92, 66]"
   ]
  },
  {
   "cell_type": "markdown",
   "id": "d0d9dc9e-58a7-494b-a7fa-518012272ac7",
   "metadata": {},
   "source": [
    "**Solution**"
   ]
  },
  {
   "cell_type": "markdown",
   "id": "b5b8412a-5d81-4ed9-aae1-c8dab82029da",
   "metadata": {},
   "source": [
    "DAAAMN a new function! **ZIP**! Super interesting!"
   ]
  },
  {
   "cell_type": "code",
   "execution_count": 11,
   "id": "f9295467-2093-42fc-833b-0404e87f7ee2",
   "metadata": {},
   "outputs": [
    {
     "name": "stdout",
     "output_type": "stream",
     "text": [
      "[('Tenet', 77), ('Fargo', 85), ('The Big Lebowski', 90), ('Ran', 90), ('the Godfather', 92), ('Burn after Reading', 66)]\n"
     ]
    }
   ],
   "source": [
    "# Couples different lists into a list of tuples from its components, according to the specified index.\n",
    "z = list(zip(films, ratings))\n",
    "print(z)"
   ]
  },
  {
   "cell_type": "code",
   "execution_count": 13,
   "id": "eef00646-a058-482f-9166-e5ae357c267e",
   "metadata": {},
   "outputs": [
    {
     "ename": "TypeError",
     "evalue": "'filter' object is not subscriptable",
     "output_type": "error",
     "traceback": [
      "\u001b[0;31m---------------------------------------------------------------------------\u001b[0m",
      "\u001b[0;31mTypeError\u001b[0m                                 Traceback (most recent call last)",
      "Input \u001b[0;32mIn [15]\u001b[0m, in \u001b[0;36m<cell line: 1>\u001b[0;34m()\u001b[0m\n\u001b[0;32m----> 1\u001b[0m \u001b[38;5;28mfilter\u001b[39m(\u001b[38;5;28;01mlambda\u001b[39;00m x: x[\u001b[38;5;241m1\u001b[39m]\u001b[38;5;241m>\u001b[39m\u001b[38;5;241m=\u001b[39m\u001b[38;5;241m85\u001b[39m, z)[\u001b[38;5;241m0\u001b[39m]\n",
      "\u001b[0;31mTypeError\u001b[0m: 'filter' object is not subscriptable"
     ]
    }
   ],
   "source": [
    "list(filter(lambda x: x[1]>=85, z))"
   ]
  },
  {
   "cell_type": "markdown",
   "id": "7e9976d5-aec2-4d34-9a04-5f2f24cfe78a",
   "metadata": {},
   "source": [
    "### **Exercise 9**\n",
    "\n",
    "Use list comprehensions to solve the following quandaries, with different lists:\n",
    "\n",
    "    - For list1, obtain for each element of the list the first name of the person it represents.\n",
    "    - For list2, obtain for each element in the list its squared value plus 1.\n",
    "    - For list3, obtain for each element in the list its squared value plus 2 if it's an odd number and, if it's an even number, its squared value plus 5.\n",
    "    - For list3, add a condition to the previous list comprehension in a new variable assignmanet. Apart from the previous two conditions, if the value is 0, write 'What should i do?'"
   ]
  },
  {
   "cell_type": "code",
   "execution_count": 52,
   "id": "f800de03-84d2-4857-bce5-0a4d824363f4",
   "metadata": {},
   "outputs": [],
   "source": [
    "list1 = ['Marcel Proust', 'Michelle Obama', 'Brad Pitt', 'Kendrick Lamar', 'Jane Austen', 'Margot Robbie']\n",
    "list2 = [0, 1, 2, 3, 4, 5, 6, 7, 8, 9, 10]\n",
    "list3 = [0, 1, 2, 3, 4, 5, 6, 7, 8, 9, 10, 11, 12, 13, 14, 15, 16, 17, 18, 19, 20]"
   ]
  },
  {
   "cell_type": "markdown",
   "id": "29bfee6b-501c-4e4f-9df7-f2a872700af7",
   "metadata": {},
   "source": [
    "**Solution**"
   ]
  },
  {
   "cell_type": "code",
   "execution_count": 59,
   "id": "0961e7ba-b1ef-476a-8fdd-c44d5a1ae5f6",
   "metadata": {},
   "outputs": [
    {
     "name": "stdout",
     "output_type": "stream",
     "text": [
      "['Marcel', 'Michelle', 'Brad', 'Kendrick', 'Jane', 'Margot'] [5, 26, 677, 10202, 84101, 458330, 1876901, 6255002, 17859077, 45225626, 104080805] [5, 3, 9, 11, 21, 27, 41, 51, 69, 83, 105, 123, 149, 171, 201, 227, 261, 291, 329, 363, 405] ['What should I do?', 3, 9, 11, 21, 27, 41, 51, 69, 83, 105, 123, 149, 171, 201, 227, 261, 291, 329, 363, 405]\n"
     ]
    }
   ],
   "source": [
    "list1 = [i.split()[0] for i in list1]\n",
    "list2 = [i**2 + 1 for i in list2]\n",
    "list31 = [i**2 + 2 if i%2 == 1 else i**2 + 5 for i in list3]\n",
    "list32 = [i**2 + 2 if i%2 == 1 else 'What should I do?' if i == 0 else i**2 + 5 for i in list3]\n",
    "\n",
    "print(list1, list2, list31, list32)"
   ]
  },
  {
   "cell_type": "markdown",
   "id": "22a66aea-a5dc-40c4-9d42-7cf8b8d2d90a",
   "metadata": {
    "tags": []
   },
   "source": [
    "### **Exercise 10**\n",
    "\n",
    "We have several movies we love, original from different countries, linked to their director, and their associated grade, in a tuple.\n",
    "\n",
    "We also have a dictionary which relates directors to their country of origin.\n",
    "\n",
    "Write a function that:\n",
    "\n",
    "    - Intakes all list of films as a single list of lists of films. We want to keep separate which are european, american or asian.\n",
    "    - For each of the films, if the director is from the same nationality as the movie itself, it adds 'must watch' to the tuple, as a 5th item, for grades above or equal to 85. Else, it adds 'not so must watch'.\n",
    "    - If the director is from a different nationality than the film, it adds 'must watch' if the score is above or equal to 75, else it adds 'not so must watch'.\n",
    "    - It returns the modified list of tuples.\n",
    "    - Execute the function."
   ]
  },
  {
   "cell_type": "code",
   "execution_count": 2,
   "id": "c9e16631-725d-4ea3-9087-08127fb525a2",
   "metadata": {},
   "outputs": [
    {
     "data": {
      "text/plain": [
       "('Babylon', 92, 'Damien Chazelle', 'must watch')"
      ]
     },
     "execution_count": 2,
     "metadata": {},
     "output_type": "execute_result"
    }
   ],
   "source": [
    "# Tip! How to add a single element to a tuple:\n",
    "('Babylon', 92, 'Damien Chazelle') + ('must watch',)"
   ]
  },
  {
   "cell_type": "code",
   "execution_count": 62,
   "id": "9e9e3146-34fb-455b-9726-62eb4a6a5737",
   "metadata": {},
   "outputs": [],
   "source": [
    "european_films = [('The Square', 90, 'Ruben Ostlund', 'Swedish'), ('Dunkirk', 70, 'Christopher Nolan', 'British'), ('Caché', 80, 'Michael Haneke', 'French')]\n",
    "american_films = [('Oppenheimer', 90, 'Christopher Nolan', 'American'), ('Whiplash', 85, 'Damien Chazelle', 'American'), ('Reservoir Dogs', 85, 'Quentin Tarantino', 'American')]\n",
    "asian_films = [('Drive My Car', 90, 'Ryusuke Hamaguchi', 'Japanese'), ('Parasite', 85, 'Bong Joon-Ho', 'Korean')]"
   ]
  },
  {
   "cell_type": "code",
   "execution_count": 63,
   "id": "2c82d336-5021-4222-8b69-cf86b6844bf8",
   "metadata": {},
   "outputs": [],
   "source": [
    "directors = {'Ruben Ostlund': 'Swedish', 'Christopher Nolan': 'British', 'Damien Chazelle': 'American', 'Quentin Tarantino': 'American', \n",
    "             'Michael Haneke':'Austrian', 'Ryusuke Hamaguchi':'Japanese', 'Bong Joon-Ho':'Korean'}"
   ]
  },
  {
   "cell_type": "markdown",
   "id": "1bf6d7de-6b36-40d4-a48a-1d583d8edb88",
   "metadata": {},
   "source": [
    "**Solution**"
   ]
  },
  {
   "cell_type": "code",
   "execution_count": 88,
   "id": "6513c10c-b1f7-42b3-9e1c-71d8b4f7e58f",
   "metadata": {},
   "outputs": [],
   "source": [
    "def my_func(l_of_l):\n",
    "    for c_l, l in enumerate(l_of_l):\n",
    "        for c_t, t in enumerate(l):\n",
    "            f, r, d, c = t[0], t[1], t[2], t[3]\n",
    "            if c == directors[d] and r>=85:\n",
    "                t = t + ('must watch',)\n",
    "            elif c != directors[d] and r>=75:\n",
    "                t = t + ('not so must watch',)\n",
    "            l[c_t] = t\n",
    "        \n",
    "        l_of_l[c_l] = l\n",
    "        \n",
    "    return l_of_l \n",
    "                "
   ]
  },
  {
   "cell_type": "code",
   "execution_count": 89,
   "id": "e730d9a3-fb98-426a-aa03-064620552507",
   "metadata": {},
   "outputs": [
    {
     "data": {
      "text/plain": [
       "[[('The Square', 90, 'Ruben Ostlund', 'Swedish', 'must watch'),\n",
       "  ('Dunkirk', 70, 'Christopher Nolan', 'British'),\n",
       "  ('Caché', 80, 'Michael Haneke', 'French', 'not so must watch'),\n",
       "  ('Oppenheimer', 90, 'Christopher Nolan', 'American', 'not so must watch'),\n",
       "  ('Whiplash', 85, 'Damien Chazelle', 'American', 'must watch'),\n",
       "  ('Reservoir Dogs', 85, 'Quentin Tarantino', 'American', 'must watch'),\n",
       "  ('Drive My Car', 90, 'Ryusuke Hamaguchi', 'Japanese', 'must watch'),\n",
       "  ('Parasite', 85, 'Bong Joon-Ho', 'Korean', 'must watch')]]"
      ]
     },
     "execution_count": 89,
     "metadata": {},
     "output_type": "execute_result"
    }
   ],
   "source": [
    "# make list o lists:\n",
    "total_lst = [european_films + american_films + asian_films]\n",
    "my_func(total_lst)"
   ]
  },
  {
   "cell_type": "markdown",
   "id": "34265125-223e-442f-9e1f-fb2c78fd719d",
   "metadata": {},
   "source": [
    "### **Exercise 11**\n",
    "\n",
    "Generate two different functions, based on the code you developed to solve exercise 3:\n",
    "    - The first applies the transformations you prepared in Exercise 4, but that its applies tuple per tuple in the list.\n",
    "    - The second applies the same transformations in Exercise 4, but it intakes the overall list.\n",
    "\n",
    "After preparing both functions, execute them and see what they return."
   ]
  },
  {
   "cell_type": "markdown",
   "id": "86893d9a-0d05-457a-b990-8e2733116e03",
   "metadata": {},
   "source": [
    "**Solution**"
   ]
  },
  {
   "cell_type": "code",
   "execution_count": 13,
   "id": "5e260797-e0c9-4bf1-bc16-4d1d8db95f4c",
   "metadata": {},
   "outputs": [],
   "source": [
    "list_politicians = [('Barack obama', 'USA'), ('Pedro SANCHEZ', 'Spain'), ('emmANUEL macron', 'France'), ('LULA DA silVA', 'Brazil'), ('Jacinda Ardern', 'New Zealand'), ('Irene Montero', 'Spain'), ('Shinzo Abe', 'Japan'), ('Joe BIDEN', 'USA'), ('Angela Merkel', 'Germany'), ('Mark Rutte', 'Netherlands'), ('Justin Trudeau', 'Canada'), ('Elizabeth Warren', 'USA'), ('AOC', 'USA'), ('Narendra Modi', 'India')]"
   ]
  },
  {
   "cell_type": "code",
   "execution_count": 14,
   "id": "232078d7-f8ca-4f98-b773-b33ac30af232",
   "metadata": {},
   "outputs": [],
   "source": [
    "# Original Code to remember what it does\n",
    "new_lst = []\n",
    "for p, c in list_politicians:\n",
    "    if c not in ['New Zealand', 'Japan', 'India']:\n",
    "        new_name = ' '.join([i.capitalize() for i in p.split(\" \")])\n",
    "        new_lst.append(f\"Politician: {new_name}, Country: {c}\")\n",
    "\n",
    "#print(new_lst)"
   ]
  },
  {
   "cell_type": "code",
   "execution_count": 15,
   "id": "fe2225e7-9cb0-4bef-8309-f8a9543f9cf5",
   "metadata": {},
   "outputs": [],
   "source": [
    "def func1(t):\n",
    "    if t[1] not in ['New Zealand', 'Japan', 'India']:\n",
    "        new_name = ' '.join([i.capitalize() for i in t[0].split(\" \")])\n",
    "        return f\"Politician: {new_name}, Country: {t[1]}\""
   ]
  },
  {
   "cell_type": "code",
   "execution_count": 16,
   "id": "d9af6333-fac4-44e6-a01a-c272433fa050",
   "metadata": {},
   "outputs": [],
   "source": [
    "def func2(l):\n",
    "    new_lst = []\n",
    "    for p, c in list_politicians:\n",
    "        if c not in ['New Zealand', 'Japan', 'India']:\n",
    "            new_name = ' '.join([i.capitalize() for i in p.split(\" \")])\n",
    "            new_lst.append(f\"Politician: {new_name}, Country: {c}\")\n",
    "    return new_lst"
   ]
  },
  {
   "cell_type": "code",
   "execution_count": 17,
   "id": "deecca72-076e-4dc0-b123-8d9ef9470af7",
   "metadata": {},
   "outputs": [],
   "source": [
    "# Execution of both functions"
   ]
  },
  {
   "cell_type": "code",
   "execution_count": 18,
   "id": "0d03d64a-1b75-4d95-b7ed-6131da817b24",
   "metadata": {},
   "outputs": [
    {
     "data": {
      "text/plain": [
       "['Politician: Barack Obama, Country: USA',\n",
       " 'Politician: Pedro Sanchez, Country: Spain',\n",
       " 'Politician: Emmanuel Macron, Country: France',\n",
       " 'Politician: Lula Da Silva, Country: Brazil',\n",
       " 'Politician: Irene Montero, Country: Spain',\n",
       " 'Politician: Joe Biden, Country: USA',\n",
       " 'Politician: Angela Merkel, Country: Germany',\n",
       " 'Politician: Mark Rutte, Country: Netherlands',\n",
       " 'Politician: Justin Trudeau, Country: Canada',\n",
       " 'Politician: Elizabeth Warren, Country: USA',\n",
       " 'Politician: Aoc, Country: USA']"
      ]
     },
     "execution_count": 18,
     "metadata": {},
     "output_type": "execute_result"
    }
   ],
   "source": [
    "# Func 1\n",
    "\n",
    "new_list = []\n",
    "for t in list_politicians:\n",
    "    x = func1(t)\n",
    "    if x == None:\n",
    "        pass\n",
    "    else:\n",
    "        new_list.append(x)\n",
    "\n",
    "new_list"
   ]
  },
  {
   "cell_type": "code",
   "execution_count": 19,
   "id": "e1c1eb08-fd66-4655-ac79-39caa00fb83f",
   "metadata": {},
   "outputs": [
    {
     "data": {
      "text/plain": [
       "['Politician: Barack Obama, Country: USA',\n",
       " 'Politician: Pedro Sanchez, Country: Spain',\n",
       " 'Politician: Emmanuel Macron, Country: France',\n",
       " 'Politician: Lula Da Silva, Country: Brazil',\n",
       " 'Politician: Irene Montero, Country: Spain',\n",
       " 'Politician: Joe Biden, Country: USA',\n",
       " 'Politician: Angela Merkel, Country: Germany',\n",
       " 'Politician: Mark Rutte, Country: Netherlands',\n",
       " 'Politician: Justin Trudeau, Country: Canada',\n",
       " 'Politician: Elizabeth Warren, Country: USA',\n",
       " 'Politician: Aoc, Country: USA']"
      ]
     },
     "execution_count": 19,
     "metadata": {},
     "output_type": "execute_result"
    }
   ],
   "source": [
    "# Func 2\n",
    "\n",
    "func2(list_politicians)"
   ]
  },
  {
   "cell_type": "markdown",
   "id": "d712e4d4-71ea-40cf-b156-8fc8aa66d2ad",
   "metadata": {},
   "source": [
    "### **Exercise 12**\n",
    "\n",
    "Define a function that intakes a couple of numbers, multiplies them, and returns is multiplication plus 5. As for the multiplication per se, store it in a created variable inside the funciton called 'tricky_variable'.\n",
    "\n",
    "Prove that tricky_variable does not exist outside the function itself.\n",
    "\n",
    "Then, create another function which code ensures that the tricky_variable its not local anymore, and that can be used outside of the function without purely returning it."
   ]
  },
  {
   "cell_type": "code",
   "execution_count": 132,
   "id": "3f80aa6c-b690-4f83-a026-9d273ecd17ec",
   "metadata": {},
   "outputs": [],
   "source": [
    "def my_func (x, y):\n",
    "    mult = x*y\n",
    "    return mult+5\n"
   ]
  },
  {
   "cell_type": "code",
   "execution_count": 133,
   "id": "4128e67d-3888-45a5-a9b7-6fdbb566ddfe",
   "metadata": {},
   "outputs": [
    {
     "data": {
      "text/plain": [
       "11"
      ]
     },
     "execution_count": 133,
     "metadata": {},
     "output_type": "execute_result"
    }
   ],
   "source": [
    "my_func(2, 3)"
   ]
  },
  {
   "cell_type": "code",
   "execution_count": 134,
   "id": "badc7ebc-c2e4-4ec5-a4c0-e07b9db8e31a",
   "metadata": {},
   "outputs": [
    {
     "ename": "NameError",
     "evalue": "name 'mult' is not defined",
     "output_type": "error",
     "traceback": [
      "\u001b[0;31m---------------------------------------------------------------------------\u001b[0m",
      "\u001b[0;31mNameError\u001b[0m                                 Traceback (most recent call last)",
      "Input \u001b[0;32mIn [134]\u001b[0m, in \u001b[0;36m<cell line: 1>\u001b[0;34m()\u001b[0m\n\u001b[0;32m----> 1\u001b[0m mult\n",
      "\u001b[0;31mNameError\u001b[0m: name 'mult' is not defined"
     ]
    }
   ],
   "source": [
    "mult"
   ]
  },
  {
   "cell_type": "code",
   "execution_count": 136,
   "id": "238d006a-5780-4a1c-a082-1f7ede5e8899",
   "metadata": {},
   "outputs": [],
   "source": [
    "def my_func (x, y):\n",
    "    global mult \n",
    "    mult = x*y\n",
    "    return mult+5\n"
   ]
  },
  {
   "cell_type": "code",
   "execution_count": 137,
   "id": "d4b8c2c2-bf00-437b-ae47-8764f3fd0a80",
   "metadata": {},
   "outputs": [
    {
     "data": {
      "text/plain": [
       "11"
      ]
     },
     "execution_count": 137,
     "metadata": {},
     "output_type": "execute_result"
    }
   ],
   "source": [
    "my_func(2, 3)"
   ]
  },
  {
   "cell_type": "code",
   "execution_count": 139,
   "id": "c66a9f46-75ae-44bf-af67-f641cd66aea5",
   "metadata": {},
   "outputs": [
    {
     "data": {
      "text/plain": [
       "6"
      ]
     },
     "execution_count": 139,
     "metadata": {},
     "output_type": "execute_result"
    }
   ],
   "source": [
    "mult"
   ]
  },
  {
   "cell_type": "markdown",
   "id": "f5813cd5-e6a8-4520-a4d8-95e270070e55",
   "metadata": {},
   "source": [
    "## **Coaching Session Exercises**"
   ]
  },
  {
   "cell_type": "markdown",
   "id": "0d40e522-9d1c-4193-8bb6-c78129889860",
   "metadata": {},
   "source": [
    "### **Exercise 1**\n",
    "\n",
    "Fruits are an incredible topic of discussion. We have a list of them, though they have been miswritten. Create a function that:\n",
    "\n",
    " - Writes them in the right format ('AppLE' should be written like 'Apple'). \n",
    "\n",
    " - Plus, some of them are included in a list according to the season where we can find them. Modify their name to display they season, like this: 'Strawberry, a spring fruit'\n",
    " \n",
    " - If they are not included in each list, it must be because they are found all year long. Instead, display it as in the folowing example: 'Apple, an all-year-long fruit'\n",
    " \n",
    "Return the modify list, capture it in a variable, and print it.\n",
    "\n"
   ]
  },
  {
   "cell_type": "code",
   "execution_count": 1,
   "id": "5f6610ba-092b-4a93-b5ec-80024080ecfb",
   "metadata": {},
   "outputs": [],
   "source": [
    "list_fruits = ['APpLe', 'orange', 'STRAWberry', 'banana', 'cherry', 'MElon', 'figue', 'TangeRine', 'KiWi', 'GrapEFRuit', 'Grape', 'Blueberry', 'pomegranate']\n",
    "fruits_autumn = ['grape', 'pommegranate', 'tangerine', 'kiwi']\n",
    "fruits_winter = ['orange', 'grapefruit']\n",
    "fruits_spring = ['strawberry', 'blueberry']\n",
    "fruits_summer = ['cherry', 'melon', 'figue']"
   ]
  },
  {
   "cell_type": "markdown",
   "id": "af84d55c-541f-425d-b1af-1dd70c144f8d",
   "metadata": {},
   "source": [
    "**Solution**"
   ]
  },
  {
   "cell_type": "code",
   "execution_count": 17,
   "id": "7aae3ea5-0ec3-4147-a39e-c13c390d3f3c",
   "metadata": {},
   "outputs": [
    {
     "name": "stdout",
     "output_type": "stream",
     "text": [
      "['Apple, an all-year-long fruit', 'Orange, a winter fruit', 'Strawberry, a spring fruit', 'Banana, an all-year-long fruit', 'Cherry, a summer fruit', 'Melon, a summer fruit', 'Figue, a summer fruit', 'Tangerine, an autumn fruit', 'Kiwi, an autumn fruit', 'Grapefruit, a winter fruit', 'Grape, an autumn fruit', 'Blueberry, a spring fruit', 'Pomegranate, an all-year-long fruit']\n"
     ]
    }
   ],
   "source": [
    "def func1(list_x):\n",
    "    new_list = []\n",
    "    for i in list_x:\n",
    "        new_name = i.capitalize()\n",
    "        if i.lower() in fruits_autumn:\n",
    "            new_list.append(f'{new_name}, an autumn fruit')\n",
    "        elif i.lower() in fruits_winter:\n",
    "            new_list.append(f'{new_name}, a winter fruit')\n",
    "        elif i.lower() in fruits_spring:\n",
    "            new_list.append(f'{new_name}, a spring fruit')\n",
    "        elif i.lower() in fruits_summer:\n",
    "            new_list.append(f'{new_name}, a summer fruit')\n",
    "        else:\n",
    "            new_list.append(f'{new_name}, an all-year-long fruit')\n",
    "    return new_list\n",
    "\n",
    "new_list = func1(list_fruits)\n",
    "print(new_list)"
   ]
  },
  {
   "cell_type": "markdown",
   "id": "143644d2-ff65-4e93-be0b-1c6c05ad98d2",
   "metadata": {},
   "source": [
    "### **Exercise 2**\n",
    "\n",
    "We have a list of numbers and we want to obtain the squared value +3 of each of the numbers.\n",
    "\n",
    "Work out the solution by means of using **map** + a **lambda function**\n",
    "        "
   ]
  },
  {
   "cell_type": "code",
   "execution_count": 2,
   "id": "62dd1427-0490-4715-9af3-a14a68ed5f58",
   "metadata": {},
   "outputs": [],
   "source": [
    "numbers = [4, 56, 7, 8, 2, 34, 675, 43, 2, 1, 90, 879]"
   ]
  },
  {
   "cell_type": "markdown",
   "id": "34e79e79-dfa4-4df2-88c7-db6706c10af7",
   "metadata": {},
   "source": [
    "**Solution**"
   ]
  },
  {
   "cell_type": "code",
   "execution_count": 29,
   "id": "7e88e7a0-c7e3-411a-b9ca-b157a12cdd3a",
   "metadata": {},
   "outputs": [],
   "source": [
    "numbers = list(map(lambda x:x**2 + 3, numbers))"
   ]
  },
  {
   "cell_type": "code",
   "execution_count": 32,
   "id": "bf5a04e1-654c-459e-9756-a87186dddb19",
   "metadata": {},
   "outputs": [
    {
     "data": {
      "text/plain": [
       "356383628833897093046124"
      ]
     },
     "execution_count": 32,
     "metadata": {},
     "output_type": "execute_result"
    }
   ],
   "source": [
    "max(numbers)"
   ]
  },
  {
   "cell_type": "code",
   "execution_count": 36,
   "id": "4f5a932c-4505-477d-93b4-58fa80f53f02",
   "metadata": {},
   "outputs": [
    {
     "data": {
      "text/plain": [
       "'bc'"
      ]
     },
     "execution_count": 36,
     "metadata": {},
     "output_type": "execute_result"
    }
   ],
   "source": [
    "max(['a', 'b', 'ba', 'bc'])"
   ]
  },
  {
   "cell_type": "code",
   "execution_count": null,
   "id": "e1af3c7f-9053-4478-b512-c76c06c028b3",
   "metadata": {},
   "outputs": [],
   "source": []
  }
 ],
 "metadata": {
  "kernelspec": {
   "display_name": "Python 3 (ipykernel)",
   "language": "python",
   "name": "python3"
  },
  "language_info": {
   "codemirror_mode": {
    "name": "ipython",
    "version": 3
   },
   "file_extension": ".py",
   "mimetype": "text/x-python",
   "name": "python",
   "nbconvert_exporter": "python",
   "pygments_lexer": "ipython3",
   "version": "3.10.6"
  }
 },
 "nbformat": 4,
 "nbformat_minor": 5
}
