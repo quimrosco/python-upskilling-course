{
 "cells": [
  {
   "cell_type": "markdown",
   "id": "d8b2b83c-2db0-494c-9545-888bdbb6618d",
   "metadata": {},
   "source": [
    "# **02. Practice: Conditional Statements, Loops and Functions**"
   ]
  },
  {
   "cell_type": "markdown",
   "id": "7061ca68-629b-4490-9a11-22997f3a5ebc",
   "metadata": {},
   "source": [
    "## **Homework Assignments / Coaching Session Doubts and Practice**"
   ]
  },
  {
   "cell_type": "markdown",
   "id": "1b854a1d-86a8-4281-b842-e5c6226cf0e9",
   "metadata": {},
   "source": [
    "### **Exercise 1**\n",
    "\n",
    "From the following list of countries, create a conditional statement that:\n",
    " - For those countries with two or more words, it prints out 'Two Word Country!'\n",
    " - For those countries beginning either with 'N', 'D' or 'F', as long as it's not France, it prints out 'Nordic Country!'\n",
    " - For those countries beginning with 'Fr', 'Sp' or 'Gr' it prints out 'Delicious Wines!'\n",
    " - For Burkina Faso, does nothing but printing 'Burkina Faso!'\n",
    " - For the rest of countries, it does nothing.\n",
    " \n",
    "Make one of the countries pass the conditional loop to see that all conditions are met."
   ]
  },
  {
   "cell_type": "code",
   "execution_count": null,
   "id": "4efc0497-1eb0-4999-918c-bf5eb9ce4648",
   "metadata": {},
   "outputs": [],
   "source": [
    "list_of_countries = ['Sri Lanka', 'Central African Republic', 'Norway', 'Denmark', 'France', 'Philipines', 'Spain', 'Greece', 'West Sahara', 'Burkina Faso', 'Finland']"
   ]
  },
  {
   "cell_type": "markdown",
   "id": "4c246276-57a9-4ebd-a3c2-0fec5656081c",
   "metadata": {},
   "source": [
    "**Solution**"
   ]
  },
  {
   "cell_type": "code",
   "execution_count": null,
   "id": "e7c680bc-023f-445e-9d10-fb015c24f9da",
   "metadata": {},
   "outputs": [],
   "source": []
  },
  {
   "cell_type": "markdown",
   "id": "f6674793-1342-4d68-ae03-f649ff114f34",
   "metadata": {},
   "source": [
    "### **Exercise 2**\n",
    "\n",
    "Considering the same list as before, we want to add to it a list of additional countries (see list 2).\n",
    "\n",
    "Use the Conditional statement written in the previous exercise so as to apply it to the overall list, instead of printing the specified statements, you'll use them to substitue the original elements in the list.\n",
    "\n",
    "Print the result.\n",
    "\n",
    "For instance, an expected result would be:"
   ]
  },
  {
   "cell_type": "code",
   "execution_count": 2,
   "id": "ac50a14e-0f64-4edf-9ccc-3ef06eb6f491",
   "metadata": {},
   "outputs": [
    {
     "name": "stdout",
     "output_type": "stream",
     "text": [
      "In: ['France', 'Norway', 'Philipines']\n",
      "Out:['Delicious Wines!', 'Nordic Country!', 'Philipines']\n"
     ]
    }
   ],
   "source": []
  },
  {
   "cell_type": "code",
   "execution_count": 3,
   "id": "b9a8e772-3a3a-435f-971a-0525bddc2df5",
   "metadata": {},
   "outputs": [],
   "source": [
    "list_countries_2 = ['China', 'South Korea', 'Iran', 'Chile', 'South Africa', 'Mexico']"
   ]
  },
  {
   "cell_type": "markdown",
   "id": "12fd7961-fc91-44e9-8f71-a51c998791a1",
   "metadata": {},
   "source": [
    "**Solution**"
   ]
  },
  {
   "cell_type": "code",
   "execution_count": null,
   "id": "5c206ab1-8774-473e-a263-518aba1f9e5f",
   "metadata": {},
   "outputs": [],
   "source": []
  },
  {
   "cell_type": "markdown",
   "id": "64e5e7d7-f6b2-458d-ac8a-aff424c7bb48",
   "metadata": {},
   "source": [
    "### **Exercise 3**\n",
    "\n",
    "We have a list of tuples, with known politicians in the first position of the tuple, and with their respective countries in the second position.\n",
    "\n",
    "You will see that the different politicians are written in inconsistent ways. \n",
    "\n",
    "We want to obtain a new list of elements in which, for each politician and country, we obtain just one string of the format \"Politician: [politician name], Country: [country name]\".\n",
    "\n",
    "Also, we want that politicians are now written with each letter in their names uppercase, the rest lowercase, like 'Emmanuel Macron' instead of 'emmANUEL macron'.\n",
    "\n",
    "Plus, in our final list we just want politicians from the Americas and Europe, so please filter according to the country.\n",
    "\n",
    "Print the final resulting list."
   ]
  },
  {
   "cell_type": "code",
   "execution_count": null,
   "id": "5c9c3a83-1102-4471-9be9-0bf81f2c5f22",
   "metadata": {},
   "outputs": [],
   "source": [
    "list_politicians = [('Barack obama', 'USA'), ('Pedro SANCHEZ', 'Spain'), ('emmANUEL macron', 'France'), ('LULA DA silVA', 'Brazil'), ('Jacinda Ardern', 'New Zealand'), ('Irene Montero', 'Spain'), ('Shinzo Abe', 'Japan'), ('Joe BIDEN', 'USA'), ('Angela Merkel', 'Germany'), ('Mark Rutte', 'Netherlands'), ('Justin Trudeau', 'Canada'), ('Elizabeth Warren', 'USA'), ('AOC', 'USA'), ('Narendra Modi', 'India')]"
   ]
  },
  {
   "cell_type": "markdown",
   "id": "a5b09c9b-5888-4a11-a911-c055240bb5a9",
   "metadata": {},
   "source": [
    "**Solution**"
   ]
  },
  {
   "cell_type": "code",
   "execution_count": null,
   "id": "07a9f385-52f0-4486-950b-0782bf4f4722",
   "metadata": {},
   "outputs": [],
   "source": []
  },
  {
   "cell_type": "markdown",
   "id": "dbf5dcd2-b9df-4dd2-b5f8-744c338128b1",
   "metadata": {},
   "source": [
    "### **Exercise 4**\n",
    "\n",
    "We are presented 3 different texts concerning different books, movies and TV Shows. None of them contain duplicates.\n",
    "\n",
    "Combine their individual elements (all those movies, films and TV Shows turned lists) into one single list of strings. For instance, with incoming ['movie A', 'movie B'] and ['book A'] we'd obtain a single list, ['movie A', 'movie B', 'book A'].\n",
    "\n",
    "Make sure that if an element is present more than twice in a list, it is totally removed altogether from it. That means, if 'the Godfather' is present more than once, drop it altogether, we don't even one one instance of it in the list."
   ]
  },
  {
   "cell_type": "code",
   "execution_count": 5,
   "id": "4c103023-e4e7-44e2-8e73-38319920b02d",
   "metadata": {},
   "outputs": [],
   "source": [
    "books = 'Some books I love include Crime and Punishhment, The Wind-Up Bird Chronicle, 1984, the Magic Mountain, the Godfather, the Trial, Wuthering Heights.'\n",
    "films = 'Some films that exist include the Godfather, La La Land, Moonlight, 1984, Casablanca, North by Northwest, Fargo, The Rope, Pierrot le Fou.'\n",
    "shows = 'Some TV SHows I enjoy include the Wire, the Sopranos, Fargo, Seinfeld, Friends, Curb your Enthusiasm, Frasier, Homeland.'"
   ]
  },
  {
   "cell_type": "markdown",
   "id": "48f4f69a-0a4d-4871-8294-121604a70e0e",
   "metadata": {},
   "source": [
    "**Solution**"
   ]
  },
  {
   "cell_type": "code",
   "execution_count": null,
   "id": "544b7c00-2773-43c9-ba97-673c8bcad3f1",
   "metadata": {},
   "outputs": [],
   "source": []
  },
  {
   "cell_type": "markdown",
   "id": "1bd3c97b-98df-4011-9564-609e3184e297",
   "metadata": {},
   "source": [
    "### **Exercise 5**\n",
    "\n",
    "We have a list of numbers. Generate a function that acts upon a single element of the list at each time, and it returns both its squared value, as well as its value divided by the following value of the list. If there's no following element in the list, it returns the value itself.\n",
    "\n",
    "Apply the defined function to all the list so as to obtain a single list of values that, for each index, presents its sqared value (**tip**: this will require some tuple unpacking or indexing of the result :) )."
   ]
  },
  {
   "cell_type": "code",
   "execution_count": null,
   "id": "aae61454-a4f3-4690-bd5d-85b1adb14dfb",
   "metadata": {},
   "outputs": [],
   "source": [
    "number_list = [1, 2, 3, 4, 5, 6, 7, 8, 9, 1, 2, 3, 4, 5, 6, 7, 8, 9, 10]"
   ]
  },
  {
   "cell_type": "markdown",
   "id": "c8e0f48e-2619-4821-867d-640cf06f425e",
   "metadata": {},
   "source": [
    "**Solution**"
   ]
  },
  {
   "cell_type": "code",
   "execution_count": null,
   "id": "5152ae69-df3f-4ad2-adf9-98b373e722fd",
   "metadata": {},
   "outputs": [],
   "source": []
  },
  {
   "cell_type": "markdown",
   "id": "b865fa17-b1ed-440c-b6ab-14b53d6dbae5",
   "metadata": {},
   "source": [
    "### **Exercise 6**\n",
    "\n",
    "The previous exercise's answer could have been obtained much more easily by using a short function to obtain the result.\n",
    "\n",
    "Use Python's already built-in _**_ operator in a **lambda function** and combine it with **map** to apply it directly, and in a much more simple way, to our list of numbers, and obtain the same result (just the squared values!) as in the previous exercise."
   ]
  },
  {
   "cell_type": "markdown",
   "id": "62c0a74b-6da8-4582-9a05-0dceecb80ac5",
   "metadata": {},
   "source": [
    "**Solution**"
   ]
  },
  {
   "cell_type": "code",
   "execution_count": null,
   "id": "e6348052-0cde-4aea-bf7f-eab07943813e",
   "metadata": {},
   "outputs": [],
   "source": []
  },
  {
   "cell_type": "markdown",
   "id": "16f0e189-0cd9-4a43-92eb-d66a83b95c91",
   "metadata": {},
   "source": [
    "### **Exercise 7**\n",
    "Code a While Loop that keeps printing the code 'I am a While Loop and thus I keep printing. Iteration number: [number of iteration]' and that:\n",
    "    - In the 5th iteration it writes, in addition to the previous statement: 'This is the 5th Iteration!'\n",
    "    - In the 10th Iteration it writes the following statement: 'This is the 10th Iteration!' but not the initial statement.\n",
    "    - In and after the 15th iteration it writes, in addition to the initial staetement, the following one: 'I am getting tiiireeeed'\n",
    "    - During the 20th iteration, it stops running."
   ]
  },
  {
   "cell_type": "markdown",
   "id": "ef9b158b-61f6-4f1e-a41c-3956288bde54",
   "metadata": {},
   "source": [
    "**Solution**"
   ]
  },
  {
   "cell_type": "code",
   "execution_count": null,
   "id": "9e9b983b-ce95-4542-8c1e-db33c4ee3a6e",
   "metadata": {},
   "outputs": [],
   "source": []
  },
  {
   "cell_type": "markdown",
   "id": "81518700-bad4-45a1-8f9f-d44d3684050c",
   "metadata": {},
   "source": [
    "### **Exercise 8**\n",
    "We have a list of movies and a list of ratings. Their positions match i.e., the first item of the ratings list is the rating corresponding to the first item in the films list.\n",
    "\n",
    "Use the **filter** function to obtain a list of films including just those films with a related score of 85 or above."
   ]
  },
  {
   "cell_type": "code",
   "execution_count": null,
   "id": "64db35a4-ad32-43b2-bf98-a6009885f95b",
   "metadata": {},
   "outputs": [],
   "source": [
    "films = ['Tenet', 'Fargo', 'The Big Lebowski', 'Ran', 'the Godfather', 'Burn after Reading']\n",
    "ratings = [77, 85, 90, 90, 92, 66]"
   ]
  },
  {
   "cell_type": "markdown",
   "id": "d0d9dc9e-58a7-494b-a7fa-518012272ac7",
   "metadata": {},
   "source": [
    "**Solution**"
   ]
  },
  {
   "cell_type": "code",
   "execution_count": null,
   "id": "f9295467-2093-42fc-833b-0404e87f7ee2",
   "metadata": {},
   "outputs": [],
   "source": []
  },
  {
   "cell_type": "markdown",
   "id": "7e9976d5-aec2-4d34-9a04-5f2f24cfe78a",
   "metadata": {},
   "source": [
    "### **Exercise 9**\n",
    "\n",
    "Use list comprehensions to solve the following quandaries, with different lists:\n",
    "\n",
    "    - For list1, obtain for each element of the list the first name of the person it represents.\n",
    "    - For list2, obtain for each element in the list its squared value plus 1.\n",
    "    - For list3, obtain for each element in the list its squared value plus 2 if it's an odd number and, if it's an even number, its squared value plus 5.\n",
    "    - For list3, add a condition to the previous list comprehension in a new variable assignmanet. Apart from the previous two conditions, if the value is 0, write 'What should i do?'"
   ]
  },
  {
   "cell_type": "code",
   "execution_count": null,
   "id": "4fe35fce-8cb7-4ff7-b229-cfa37e69c7ba",
   "metadata": {},
   "outputs": [],
   "source": [
    "list1 = ['Marcel Proust', 'Michelle Obama', 'Brad Pitt', 'Kendrick Lamar', 'Jane Austen', 'Margot Robbie']\n",
    "list2 = [0, 1, 2, 3, 4, 5, 6, 7, 8, 9, 10]\n",
    "list3 = [0, 1, 2, 3, 4, 5, 6, 7, 8, 9, 10, 11, 12, 13, 14, 15, 16, 17, 18, 19, 20]"
   ]
  },
  {
   "cell_type": "markdown",
   "id": "29bfee6b-501c-4e4f-9df7-f2a872700af7",
   "metadata": {},
   "source": [
    "**Solution**"
   ]
  },
  {
   "cell_type": "code",
   "execution_count": null,
   "id": "0961e7ba-b1ef-476a-8fdd-c44d5a1ae5f6",
   "metadata": {},
   "outputs": [],
   "source": []
  },
  {
   "cell_type": "markdown",
   "id": "22a66aea-a5dc-40c4-9d42-7cf8b8d2d90a",
   "metadata": {
    "tags": []
   },
   "source": [
    "### **Exercise 10**\n",
    "\n",
    "We have several movies we love, original from different countries, linked to their director, and their associated grade, in a tuple.\n",
    "\n",
    "We also have a dictionary which relates directors to their country of origin.\n",
    "\n",
    "Write a function that:\n",
    "\n",
    "    - Intakes all list of films as a single list of lists of films. We want to keep separate which are european, american or asian.\n",
    "    - For each of the films, if the director is from the same nationality as the movie itself, it adds 'must watch' to the tuple, as a 5th item, for grades above or equal to 85. Else, it adds 'not so must watch'.\n",
    "    - If the director is from a different nationality than the film, it adds 'must watch' if the score is above or equal to 75, else it adds 'not so must watch'.\n",
    "    - It returns the modified list of tuples.\n",
    "    - Execute the function."
   ]
  },
  {
   "cell_type": "code",
   "execution_count": 2,
   "id": "c9e16631-725d-4ea3-9087-08127fb525a2",
   "metadata": {},
   "outputs": [
    {
     "data": {
      "text/plain": [
       "('Babylon', 92, 'Damien Chazelle', 'must watch')"
      ]
     },
     "execution_count": 2,
     "metadata": {},
     "output_type": "execute_result"
    }
   ],
   "source": [
    "# Tip! How to add a single element to a tuple:\n",
    "('Babylon', 92, 'Damien Chazelle') + ('must watch',)"
   ]
  },
  {
   "cell_type": "code",
   "execution_count": 3,
   "id": "9e9e3146-34fb-455b-9726-62eb4a6a5737",
   "metadata": {},
   "outputs": [],
   "source": [
    "european_films = [('The Square', 90, 'Ruben Ostlund', 'Swedish'), ('Dunkirk', 70, 'Christopher Nolan', 'British'), ('Caché', 80, 'Michael Haneke', 'French')]\n",
    "american_films = [('Oppenheimer', 90, 'Christopher Nolan', 'American'), ('Whiplash', 85, 'Damien Chazelle', 'American'), ('Reservoir Dogs', 85, 'Quentin Tarantino', 'American')]\n",
    "asian_films = [('Drive My Car', 90, 'Ryusuke Hamaguchi', 'Japanese'), ('Parasite', 85, 'Bong Joon-Ho', 'Korean')]"
   ]
  },
  {
   "cell_type": "code",
   "execution_count": 4,
   "id": "2c82d336-5021-4222-8b69-cf86b6844bf8",
   "metadata": {},
   "outputs": [],
   "source": [
    "directors = {'Ruben Ostlund': 'Swedish', 'Christopher Nolan': 'British', 'Damien Chazelle': 'American', 'Quentin Tarantino': 'American', \n",
    "             'Michael Haneke':'Austrian', 'Ryusuke Hamaguchi':'Japanese', 'Bong Joon-Ho':'Korean'}"
   ]
  },
  {
   "cell_type": "markdown",
   "id": "1bf6d7de-6b36-40d4-a48a-1d583d8edb88",
   "metadata": {},
   "source": [
    "**Solution**"
   ]
  },
  {
   "cell_type": "code",
   "execution_count": null,
   "id": "6513c10c-b1f7-42b3-9e1c-71d8b4f7e58f",
   "metadata": {},
   "outputs": [],
   "source": []
  },
  {
   "cell_type": "markdown",
   "id": "34265125-223e-442f-9e1f-fb2c78fd719d",
   "metadata": {},
   "source": [
    "### **Exercise 11**\n",
    "\n",
    "Generate two different functions, based on the code you developed to solve exercise 3:\n",
    "    - The first applies the transformations you prepared in Exercise 4, but that its applies tuple per tuple in the list.\n",
    "    - The second applies the same transformations in Exercise 4, but it intakes the overall list.\n",
    "\n",
    "After preparing both functions, execute them and see what they return."
   ]
  },
  {
   "cell_type": "markdown",
   "id": "5d1d4fe2-c334-4998-aa6d-90a160fb6c0c",
   "metadata": {},
   "source": [
    "**Solution**"
   ]
  },
  {
   "cell_type": "code",
   "execution_count": null,
   "id": "d91f7802-bbca-4a3b-a7ea-0ff51d623157",
   "metadata": {},
   "outputs": [],
   "source": []
  },
  {
   "cell_type": "markdown",
   "id": "d712e4d4-71ea-40cf-b156-8fc8aa66d2ad",
   "metadata": {},
   "source": [
    "### **Exercise 12**\n",
    "\n",
    "Deine a function that intakes a couple of numbers, multiplies them, and returns is multiplication plus 5. As for the multiplication per se, store it in a created variable inside the funciton called 'tricky_variable'.\n",
    "\n",
    "Prove that tricky_variable does not exist outside the function itself.\n",
    "\n",
    "Then, create another function which code ensures that the tricky_variable its not local anymore, and that can be used outside of the function without purely returning it."
   ]
  },
  {
   "cell_type": "markdown",
   "id": "19ab7a84-f46d-4447-a2f9-091f455f5d59",
   "metadata": {},
   "source": [
    "**Solution**"
   ]
  },
  {
   "cell_type": "code",
   "execution_count": null,
   "id": "acd82a4a-dfa0-49da-bf78-cb882b1da6ca",
   "metadata": {},
   "outputs": [],
   "source": []
  },
  {
   "cell_type": "markdown",
   "id": "1412af9a-bd4a-4068-aee3-1fe03e806e71",
   "metadata": {},
   "source": [
    "## **Coaching Session Exercises**"
   ]
  },
  {
   "cell_type": "markdown",
   "id": "cf99007e-bcc2-49b5-8895-2fa5f38a55e3",
   "metadata": {},
   "source": [
    "### **Exercise 1**\n",
    "\n",
    "Fruits are an incredible topic of discussion. We have a list of them, though they have been miswritten. Create a function that:\n",
    "\n",
    " - Writes them in the right format ('AppLE' shoul be written like 'Apple'). \n",
    "\n",
    " - Plus, some of them are included in a list according to the season where we can find them. Modify their name to display they season, like this: 'Strawberry, a spring fruit'\n",
    " \n",
    " - If they are not included in each list, it must be because they are found all year long. Instead, display it as in the folowing example: 'Apple, an all-year-long fruit'\n",
    " \n",
    "Return the modify list, capture it in a variable, and print it.\n",
    "\n"
   ]
  },
  {
   "cell_type": "code",
   "execution_count": 1,
   "id": "e4191d65-a1ea-437c-859d-d6b061890cd3",
   "metadata": {},
   "outputs": [],
   "source": [
    "list_fruits = ['APpLe', 'orange', 'STRAWberry', 'banana', 'cherry', 'MElon', 'figue', 'TangeRine', 'KiWi', 'GrapEFRuit', 'Grape', 'Blueberry', 'pomegranate']\n",
    "fruits_autumn = ['grape', 'pommegranate', 'tangerine', 'kiwi']\n",
    "fruits_winter = ['orange', 'grapefruit']\n",
    "fruits_spring = ['strawberry', 'blueberry']\n",
    "fruits_summer = ['cherry', 'melon', 'figue']"
   ]
  },
  {
   "cell_type": "markdown",
   "id": "603eef9c-f6a8-47c5-ba93-80f3993fc6f8",
   "metadata": {},
   "source": [
    "**Solution**"
   ]
  },
  {
   "cell_type": "code",
   "execution_count": null,
   "id": "cbb271c1-91d4-49fc-afa7-7db3beb0915b",
   "metadata": {},
   "outputs": [],
   "source": []
  },
  {
   "cell_type": "markdown",
   "id": "29896074-42f3-4a22-b8e6-ece186164966",
   "metadata": {},
   "source": [
    "### **Exercise 2**\n",
    "\n",
    "We have a list of numbers and we want to obtain the squared value +3 of each of the numbers.\n",
    "\n",
    "Work out the solution by means of using **map** + a **lambda function**\n",
    "        "
   ]
  },
  {
   "cell_type": "code",
   "execution_count": 2,
   "id": "89f9e228-0d63-4e36-8241-5ed62be6b526",
   "metadata": {},
   "outputs": [],
   "source": [
    "numbers = [4, 56, 7, 8, 2, 34, 675, 43, 2, 1, 90, 879]"
   ]
  },
  {
   "cell_type": "markdown",
   "id": "3a966216-26d4-4df5-959c-e3eff2e47998",
   "metadata": {},
   "source": [
    "**Solution**"
   ]
  },
  {
   "cell_type": "code",
   "execution_count": null,
   "id": "9cc09466-3414-4632-a584-0d5fb939f405",
   "metadata": {},
   "outputs": [],
   "source": []
  }
 ],
 "metadata": {
  "kernelspec": {
   "display_name": "Python 3 (ipykernel)",
   "language": "python",
   "name": "python3"
  },
  "language_info": {
   "codemirror_mode": {
    "name": "ipython",
    "version": 3
   },
   "file_extension": ".py",
   "mimetype": "text/x-python",
   "name": "python",
   "nbconvert_exporter": "python",
   "pygments_lexer": "ipython3",
   "version": "3.10.6"
  }
 },
 "nbformat": 4,
 "nbformat_minor": 5
}
