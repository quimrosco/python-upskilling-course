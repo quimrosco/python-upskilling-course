{
 "cells": [
  {
   "cell_type": "markdown",
   "id": "20cf7574-4484-4c7b-940a-476b12965fad",
   "metadata": {},
   "source": [
    "# **01. Practice: Introduction to Python and Python Data Types**"
   ]
  },
  {
   "cell_type": "markdown",
   "id": "ccc12609-e787-468d-a580-4e07daa244bb",
   "metadata": {},
   "source": [
    "## **Homework Assignments / Coaching Session Doubts and Practice**"
   ]
  },
  {
   "cell_type": "markdown",
   "id": "7cf77dc5-8095-478a-b2c6-0981ac578401",
   "metadata": {},
   "source": [
    "### **Exercise 1**\n",
    "\n",
    "Generate a variable y, which value equals to x to the power of 3, plus 5. Obtain the product of its division, its floored division, and the residue of it.\n",
    "\n",
    "Print a text specifying each of the variables names and values."
   ]
  },
  {
   "cell_type": "code",
   "execution_count": 6,
   "id": "66c81c77-2601-46bd-9c3e-f46d4330cf50",
   "metadata": {},
   "outputs": [],
   "source": [
    "x = 4"
   ]
  },
  {
   "cell_type": "markdown",
   "id": "05b57532-4e01-4e5f-ac5b-87bb21550e6d",
   "metadata": {},
   "source": [
    "Expected result:"
   ]
  },
  {
   "cell_type": "code",
   "execution_count": 16,
   "id": "3c747325-2c53-43fc-be55-ee727a5fdfbe",
   "metadata": {},
   "outputs": [
    {
     "name": "stdout",
     "output_type": "stream",
     "text": [
      "Division: 17.25\n",
      "Floored Division: 17\n",
      "Residue: 1\n"
     ]
    }
   ],
   "source": [
    "y = x**3 + "
   ]
  },
  {
   "cell_type": "markdown",
   "id": "f46b156d-7634-4118-87c0-56ef6effa734",
   "metadata": {},
   "source": [
    "### **Exercise 2**\n",
    "\n",
    "A company wants a unique list of employees. However, there has been an accident. One of its employees names has been copied many times (see variable), and they want that sorted out.\n",
    "\n",
    "Find a way to reduce this employee's name back to just one repetition yet again, **without using string indexing**.\n",
    "\n",
    "(Hint: you may want to try your way with other Python objects apart from strings!)"
   ]
  },
  {
   "cell_type": "code",
   "execution_count": 2,
   "id": "51629455-ca37-4d3b-8fa8-d3d8cc34202e",
   "metadata": {},
   "outputs": [],
   "source": [
    "employee = 'bruce '\n",
    "multiple_employees = employee * 8000"
   ]
  },
  {
   "cell_type": "code",
   "execution_count": 3,
   "id": "0a974f45-e327-439b-b8ff-a2e241c184ce",
   "metadata": {},
   "outputs": [
    {
     "data": {
      "text/plain": [
       "'bruce bruce bruce bruce bruce bruce bruce'"
      ]
     },
     "execution_count": 3,
     "metadata": {},
     "output_type": "execute_result"
    }
   ],
   "source": [
    "multiple_employees[:41]"
   ]
  },
  {
   "cell_type": "markdown",
   "id": "e0b2ac3f-18dc-4cac-87c7-2c8807a76e4e",
   "metadata": {},
   "source": [
    "Find a way to stop this madness!\n",
    "\n",
    "Expected result:"
   ]
  },
  {
   "cell_type": "code",
   "execution_count": 4,
   "id": "1d641a69-6884-4f06-b330-4bc3fd817f39",
   "metadata": {},
   "outputs": [
    {
     "data": {
      "text/plain": [
       "'bruce'"
      ]
     },
     "execution_count": 4,
     "metadata": {},
     "output_type": "execute_result"
    }
   ],
   "source": []
  },
  {
   "cell_type": "markdown",
   "id": "0fb87e21-caa8-4c05-b8ff-d9c5d138cdcc",
   "metadata": {},
   "source": [
    "### **Exercise 3**\n",
    "\n",
    "List 1 and List 2 should be equal. However, when matching element per element, we find that they are not equivalent.\n",
    "\n",
    "Prove that they are not equivalent, sort this out (however, you **cannot type** the correct strings by hand), and prove that after sorting it out they are equivalent again.\n",
    "\n",
    "Print all three results (a list seeing how they don't all match, both corrected lists, and the new list proving all elements from both lists are equivalent index to index) at a time."
   ]
  },
  {
   "cell_type": "code",
   "execution_count": 46,
   "id": "58e85b54-eae3-478e-a466-806613fa120d",
   "metadata": {},
   "outputs": [],
   "source": [
    "list1 = ['Apple', 'banana ', 'ORANGE']\n",
    "list2 = ['apple', 'Banana', 'orange ']"
   ]
  },
  {
   "cell_type": "code",
   "execution_count": 47,
   "id": "bfaa8571-39df-45d0-801e-35a783002ab8",
   "metadata": {},
   "outputs": [
    {
     "name": "stdout",
     "output_type": "stream",
     "text": [
      "They are not equivalent: [False, False, False]\n",
      "New List 1: ['apple', 'banana', 'orange'], New List 2: ['apple', 'banana', 'orange']\n",
      "Now they are equivalent: [True, True, True]\n"
     ]
    }
   ],
   "source": []
  },
  {
   "cell_type": "markdown",
   "id": "43c7efe8-7b67-4226-a40f-d8a37669b87c",
   "metadata": {},
   "source": [
    "### **Exercise 4**\n",
    "\n",
    "Strings 1 and 2 include food types. However, they should be lists and not have repeated values.\n",
    "\n",
    "Prepare lists of non repeated values from said strings.\n",
    "\n",
    "Then, find the index with a built-in list method of the string 'Sushi' in each of the lists, and prove that 'Sushi' from all three lists are equivalent."
   ]
  },
  {
   "cell_type": "code",
   "execution_count": 48,
   "id": "c79b6a1c-9f09-4aa3-86f2-20b76ccf2c39",
   "metadata": {},
   "outputs": [],
   "source": [
    "str1 = \"Mexican, Thai, American, Burger, Breakfast, Italian, Pizza, Sushi, Georgian, Mediterranian, Traditional, Empanadas\"\n",
    "str2 = \"Burger, Tacos, Thai, American, Breakfast, Chinese, Georgian, Pizza, Traditional, Sushi, Mediterranian, Empanadas\""
   ]
  },
  {
   "cell_type": "markdown",
   "id": "0d94d3b7-4b10-47a8-a0ae-80cbffec689d",
   "metadata": {},
   "source": [
    "Expected result:"
   ]
  },
  {
   "cell_type": "code",
   "execution_count": 51,
   "id": "3ab4ccc2-b97e-4326-b57b-1407fe898a27",
   "metadata": {},
   "outputs": [
    {
     "data": {
      "text/plain": [
       "True"
      ]
     },
     "execution_count": 51,
     "metadata": {},
     "output_type": "execute_result"
    }
   ],
   "source": []
  },
  {
   "cell_type": "markdown",
   "id": "ca2d6c3c-1e7d-4801-8ad7-891592327002",
   "metadata": {},
   "source": [
    "### **Exercise 5**\n",
    "\n",
    "A travelling agency has all information considering trips to be made overseas stored in many different places. They want to centralize everything in a dictionary. \n",
    "\n",
    "Create a dictionary which, for every country, presents the cities to visit, the price of the trip and its length."
   ]
  },
  {
   "cell_type": "code",
   "execution_count": 46,
   "id": "16ea4736-d00e-4c3d-ba48-7348adf0c6b9",
   "metadata": {},
   "outputs": [],
   "source": [
    "cities_japan = ['Tokyo', 'Osaka', 'Nara', 'Kyoto', 'Hiroshima']\n",
    "cities_austria = ['Vienna', 'Graz', 'Innsbruck']\n",
    "cities_uk = ['London', 'Bath', 'Edinburgh', 'Dundee', 'Glasgow']\n",
    "cities_france = ['Nantes', 'Paris', 'Lyon', 'Marseille', 'Tolouse', 'Bourdeaux']\n",
    "price_japan = 4000\n",
    "price_austria = 1500\n",
    "price_uk = 2000\n",
    "price_france = 2000\n",
    "length_japan = '22 days'\n",
    "length_austria = '8 days'\n",
    "length_uk = '15 days'\n",
    "length_france = '20 days'"
   ]
  },
  {
   "cell_type": "markdown",
   "id": "b4aebc21-f94b-48b8-b676-7d047d2c871e",
   "metadata": {},
   "source": [
    "Expected result:"
   ]
  },
  {
   "cell_type": "code",
   "execution_count": 48,
   "id": "09399f8a-3e52-419e-9e78-fb716da01f37",
   "metadata": {},
   "outputs": [
    {
     "data": {
      "text/plain": [
       "{'Japan': {'cities': ['Tokyo', 'Osaka', 'Nara', 'Kyoto', 'Hiroshima'],\n",
       "  'price': 4000,\n",
       "  'length': '22 days'},\n",
       " 'Austria': {'cities': ['Vienna', 'Graz', 'Innsbruck'],\n",
       "  'price': 1500,\n",
       "  'length': '8 days'},\n",
       " 'UK': {'cities': ['London', 'Bath', 'Edinburgh', 'Dundee', 'Glasgow'],\n",
       "  'price': 2000,\n",
       "  'length': '15 days'},\n",
       " 'France': {'cities': ['Nantes',\n",
       "   'Paris',\n",
       "   'Lyon',\n",
       "   'Marseille',\n",
       "   'Tolouse',\n",
       "   'Bourdeaux'],\n",
       "  'price': 2000,\n",
       "  'length': '20 days'}}"
      ]
     },
     "execution_count": 48,
     "metadata": {},
     "output_type": "execute_result"
    }
   ],
   "source": [
    "d"
   ]
  },
  {
   "cell_type": "markdown",
   "id": "2da742d4-e9dd-486c-baf9-c36594cd99ef",
   "metadata": {},
   "source": [
    "Now, after generating the dictionary, we have realized that there's some incorrect data. Make the following modifications:\n",
    "\n",
    "1. During our Japanese visit, we will also be visiting Sapporo.\n",
    "2. During our French visit, we won't be visiting Marseille. However, we will be adding Rennes and Reims to our tour.\n",
    "3. All lists of cities need to be ordered alphabetically.\n",
    "4. All lengths should be numerical instead of strings, in days. Therefore, instead of '10 days', we want just 10.\n",
    "\n",
    "Expected result:"
   ]
  },
  {
   "cell_type": "code",
   "execution_count": 51,
   "id": "81d23379-b7e1-427d-8208-3a14df5bf89d",
   "metadata": {},
   "outputs": [
    {
     "data": {
      "text/plain": [
       "{'Japan': {'cities': ['Hiroshima',\n",
       "   'Kyoto',\n",
       "   'Nara',\n",
       "   'Osaka',\n",
       "   'Sapporo',\n",
       "   'Tokyo'],\n",
       "  'price': 4000,\n",
       "  'length': 22},\n",
       " 'Austria': {'cities': ['Graz', 'Innsbruck', 'Vienna'],\n",
       "  'price': 1500,\n",
       "  'length': 8},\n",
       " 'UK': {'cities': ['Bath', 'Dundee', 'Edinburgh', 'Glasgow', 'London'],\n",
       "  'price': 2000,\n",
       "  'length': 15},\n",
       " 'France': {'cities': ['Bourdeaux',\n",
       "   'Lyon',\n",
       "   'Nantes',\n",
       "   'Paris',\n",
       "   'Reims',\n",
       "   'Rennes',\n",
       "   'Tolouse'],\n",
       "  'price': 2000,\n",
       "  'length': 20}}"
      ]
     },
     "execution_count": 51,
     "metadata": {},
     "output_type": "execute_result"
    }
   ],
   "source": [
    "d"
   ]
  }
 ],
 "metadata": {
  "kernelspec": {
   "display_name": "Python 3 (ipykernel)",
   "language": "python",
   "name": "python3"
  },
  "language_info": {
   "codemirror_mode": {
    "name": "ipython",
    "version": 3
   },
   "file_extension": ".py",
   "mimetype": "text/x-python",
   "name": "python",
   "nbconvert_exporter": "python",
   "pygments_lexer": "ipython3",
   "version": "3.11.7"
  }
 },
 "nbformat": 4,
 "nbformat_minor": 5
}
