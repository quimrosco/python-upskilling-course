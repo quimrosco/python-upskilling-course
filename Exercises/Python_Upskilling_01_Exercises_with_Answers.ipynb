{
 "cells": [
  {
   "cell_type": "markdown",
   "id": "20cf7574-4484-4c7b-940a-476b12965fad",
   "metadata": {},
   "source": [
    "# **01. Practice: Introduction to Python and Python Data Types**"
   ]
  },
  {
   "cell_type": "markdown",
   "id": "ccc12609-e787-468d-a580-4e07daa244bb",
   "metadata": {},
   "source": [
    "## **Homework Assignments / Coaching Session Doubts and Practice**"
   ]
  },
  {
   "cell_type": "markdown",
   "id": "7cf77dc5-8095-478a-b2c6-0981ac578401",
   "metadata": {},
   "source": [
    "### **Exercise 1**\n",
    "\n",
    "Generate a variable y, which value equals to x to the power of 3, plus 5. Obtain the product of its division, its floored division, and the residue of it.\n",
    "\n",
    "Print a text specifying each of the variables names and values."
   ]
  },
  {
   "cell_type": "code",
   "execution_count": 6,
   "id": "66c81c77-2601-46bd-9c3e-f46d4330cf50",
   "metadata": {},
   "outputs": [],
   "source": [
    "x = 4"
   ]
  },
  {
   "cell_type": "markdown",
   "id": "05b57532-4e01-4e5f-ac5b-87bb21550e6d",
   "metadata": {},
   "source": [
    "Expected result:"
   ]
  },
  {
   "cell_type": "code",
   "execution_count": 16,
   "id": "3c747325-2c53-43fc-be55-ee727a5fdfbe",
   "metadata": {},
   "outputs": [
    {
     "name": "stdout",
     "output_type": "stream",
     "text": [
      "Division: 17.25\n",
      "Floored Division: 17\n",
      "Residue: 1\n"
     ]
    }
   ],
   "source": []
  },
  {
   "cell_type": "markdown",
   "id": "a74663cf-de07-4cf9-9da2-5b28cbba70dd",
   "metadata": {},
   "source": [
    "**Solution**"
   ]
  },
  {
   "cell_type": "code",
   "execution_count": 15,
   "id": "f8d8472d-590e-4d25-84da-a465cbcc7d2d",
   "metadata": {},
   "outputs": [
    {
     "name": "stdout",
     "output_type": "stream",
     "text": [
      "Division: 17.25\n",
      "Floored Division: 17\n",
      "Residue: 1\n"
     ]
    }
   ],
   "source": [
    "# Divide\n",
    "y = (x**3)+5\n",
    "\n",
    "# Calculate each of the three required measures\n",
    "division = y/x\n",
    "floored_div = y//x\n",
    "residue = y%x\n",
    "\n",
    "# Print the string\n",
    "print(f\"Division: {division}\\nFloored Division: {floored_div}\\nResidue: {residue}\")"
   ]
  },
  {
   "cell_type": "markdown",
   "id": "f46b156d-7634-4118-87c0-56ef6effa734",
   "metadata": {},
   "source": [
    "### **Exercise 2**\n",
    "\n",
    "A company wants a unique list of employees. However, there has been an accident. One of its employees names has been copied many times (see variable), and they want that sorted out.\n",
    "\n",
    "Find a way to reduce this employee's name back to just one repetition yet again, **without using string indexing**.\n",
    "\n",
    "(Hint: you may want to try your way with other Python objects apart from strings!)"
   ]
  },
  {
   "cell_type": "code",
   "execution_count": 1,
   "id": "51629455-ca37-4d3b-8fa8-d3d8cc34202e",
   "metadata": {},
   "outputs": [],
   "source": [
    "employee = 'bruce '\n",
    "multiple_employees = employee * 8000"
   ]
  },
  {
   "cell_type": "code",
   "execution_count": 2,
   "id": "0a974f45-e327-439b-b8ff-a2e241c184ce",
   "metadata": {},
   "outputs": [
    {
     "data": {
      "text/plain": [
       "'bruce bruce bruce bruce bruce bruce bruce'"
      ]
     },
     "execution_count": 2,
     "metadata": {},
     "output_type": "execute_result"
    }
   ],
   "source": [
    "multiple_employees[:41]"
   ]
  },
  {
   "cell_type": "markdown",
   "id": "e0b2ac3f-18dc-4cac-87c7-2c8807a76e4e",
   "metadata": {},
   "source": [
    "Find a way to stop this madness!\n",
    "\n",
    "Expected result:"
   ]
  },
  {
   "cell_type": "code",
   "execution_count": 4,
   "id": "1d641a69-6884-4f06-b330-4bc3fd817f39",
   "metadata": {},
   "outputs": [
    {
     "data": {
      "text/plain": [
       "'bruce'"
      ]
     },
     "execution_count": 4,
     "metadata": {},
     "output_type": "execute_result"
    }
   ],
   "source": []
  },
  {
   "cell_type": "markdown",
   "id": "8ae12544-437e-48bf-afca-37c2a4a74686",
   "metadata": {},
   "source": [
    "**Solution**"
   ]
  },
  {
   "cell_type": "code",
   "execution_count": 3,
   "id": "df20e5fa-ec41-42ef-8e40-6c119d75ba1c",
   "metadata": {},
   "outputs": [
    {
     "data": {
      "text/plain": [
       "'bruce'"
      ]
     },
     "execution_count": 3,
     "metadata": {},
     "output_type": "execute_result"
    }
   ],
   "source": [
    "# Split into multiple Glopis\n",
    "list_employees = multiple_employees.split()\n",
    "# Reduce list to one, and select first value\n",
    "list(set(list_employees))[0]"
   ]
  },
  {
   "cell_type": "markdown",
   "id": "0fb87e21-caa8-4c05-b8ff-d9c5d138cdcc",
   "metadata": {},
   "source": [
    "### **Exercise 3**\n",
    "\n",
    "List 1 and List 2 should be equal. However, when matching element per element, we find that they are not equivalent.\n",
    "\n",
    "Prove that they are not equivalent, sort this out (however, you **cannot type** the correct strings by hand), and prove that after sorting it out they are equivalent again.\n",
    "\n",
    "Print all three results (a list seeing how they don't all match, both corrected lists, and the new list proving all elements from both lists are equivalent index to index) at a time."
   ]
  },
  {
   "cell_type": "code",
   "execution_count": 3,
   "id": "58e85b54-eae3-478e-a466-806613fa120d",
   "metadata": {},
   "outputs": [],
   "source": [
    "list1 = ['Apple', 'banana ', 'ORANGE']\n",
    "list2 = ['apple', 'Banana', 'orange ']"
   ]
  },
  {
   "cell_type": "code",
   "execution_count": 47,
   "id": "bfaa8571-39df-45d0-801e-35a783002ab8",
   "metadata": {},
   "outputs": [
    {
     "name": "stdout",
     "output_type": "stream",
     "text": [
      "They are not equivalent: [False, False, False]\n",
      "New List 1: ['apple', 'banana', 'orange'], New List 2: ['apple', 'banana', 'orange']\n",
      "Now they are equivalent: [True, True, True]\n"
     ]
    }
   ],
   "source": []
  },
  {
   "cell_type": "markdown",
   "id": "af54a869-82dd-46de-b97e-63f18516c43a",
   "metadata": {},
   "source": [
    "**Solution**"
   ]
  },
  {
   "cell_type": "code",
   "execution_count": 7,
   "id": "791ef5f7-a555-4ce2-b310-f0c15f1f678c",
   "metadata": {},
   "outputs": [],
   "source": [
    "list1 = [i.lower().strip() for i in list1]"
   ]
  },
  {
   "cell_type": "code",
   "execution_count": 8,
   "id": "57cf2edd-c89f-4af7-8e50-641d6b542493",
   "metadata": {},
   "outputs": [
    {
     "data": {
      "text/plain": [
       "['apple', 'banana', 'orange']"
      ]
     },
     "execution_count": 8,
     "metadata": {},
     "output_type": "execute_result"
    }
   ],
   "source": [
    "list1"
   ]
  },
  {
   "cell_type": "code",
   "execution_count": 6,
   "id": "2e81a6c7-b6b6-417a-853a-7570c3d556e7",
   "metadata": {},
   "outputs": [
    {
     "data": {
      "text/plain": [
       "['APPLE', 'BANANA ', 'ORANGE']"
      ]
     },
     "execution_count": 6,
     "metadata": {},
     "output_type": "execute_result"
    }
   ],
   "source": [
    "new_list = []\n",
    "for i in list1:\n",
    "    new_list.append(i.lower().strip())\n",
    "    \n",
    "new_list"
   ]
  },
  {
   "cell_type": "code",
   "execution_count": 45,
   "id": "ebc6d53f-bd4a-4c84-bfdb-54c9cf086d41",
   "metadata": {},
   "outputs": [
    {
     "name": "stdout",
     "output_type": "stream",
     "text": [
      "They are not equivalent: [False, False, False]\n",
      "New List 1: ['apple', 'banana', 'orange'], New List 2: ['apple', 'banana', 'orange']\n",
      "Now they are equivalent: [True, True, True]\n"
     ]
    }
   ],
   "source": [
    "# Print missmatch of indexes:\n",
    "are_they_equivalent = [list1[i] == list2[i] for i in range(3)]\n",
    "\n",
    "# Correct strings\n",
    "list1 = [i.lower().strip() for i in list1]\n",
    "list2 = [i.lower().strip() for i in list2]\n",
    "\n",
    "# Prove that they are correct now\n",
    "they_are_equivalent_now = [list1[i] == list2[i] for i in range(3)]\n",
    "\n",
    "# Print solution\n",
    "print(f\"They are not equivalent: {are_they_equivalent}\\nNew List 1: {list1}, New List 2: {list2}\\nNow they are equivalent: {they_are_equivalent_now}\")"
   ]
  },
  {
   "cell_type": "markdown",
   "id": "43c7efe8-7b67-4226-a40f-d8a37669b87c",
   "metadata": {},
   "source": [
    "### **Exercise 4**\n",
    "\n",
    "Strings 1 and 2 include food types. However, they should be lists and not have repeated values.\n",
    "\n",
    "Prepare lists of non repeated values from said strings.\n",
    "\n",
    "Then, find the index with a built-in list method of the string 'Sushi' in each of the lists, and prove that 'Sushi' from all three lists are equivalent."
   ]
  },
  {
   "cell_type": "code",
   "execution_count": 6,
   "id": "c79b6a1c-9f09-4aa3-86f2-20b76ccf2c39",
   "metadata": {},
   "outputs": [],
   "source": [
    "str1 = \"Mexican, Thai, American, Burger, Breakfast, Italian, Pizza, Sushi, Georgian, Mediterranian, Traditional, Empanadas\"\n",
    "str2 = \"Burger, Tacos, Thai, American, Breakfast, Chinese, Georgian, Pizza, Traditional, Sushi, Mediterranian, Empanadas\""
   ]
  },
  {
   "cell_type": "markdown",
   "id": "0d94d3b7-4b10-47a8-a0ae-80cbffec689d",
   "metadata": {},
   "source": [
    "Expected result:"
   ]
  },
  {
   "cell_type": "code",
   "execution_count": 16,
   "id": "3ab4ccc2-b97e-4326-b57b-1407fe898a27",
   "metadata": {},
   "outputs": [
    {
     "data": {
      "text/plain": [
       "['Mexican, Thai, American, Burger, Breakfast, Italian, Pizza, Sushi, Georgian, Mediterranian, Traditional, Empanadas']"
      ]
     },
     "execution_count": 16,
     "metadata": {},
     "output_type": "execute_result"
    }
   ],
   "source": [
    "str1.split(\" ,\")"
   ]
  },
  {
   "cell_type": "markdown",
   "id": "aa305255-0afa-49fa-ae8f-2832b8a5b9a1",
   "metadata": {},
   "source": [
    "**Solution**"
   ]
  },
  {
   "cell_type": "code",
   "execution_count": 7,
   "id": "f6fe0ffd-23ec-4447-8a42-4da960b2351d",
   "metadata": {},
   "outputs": [
    {
     "data": {
      "text/plain": [
       "True"
      ]
     },
     "execution_count": 7,
     "metadata": {},
     "output_type": "execute_result"
    }
   ],
   "source": [
    "list1 = list(set(str1.split(\", \")))\n",
    "list2 = list(set(str2.split(\", \")))\n",
    "\n",
    "list1[list1.index('Sushi')] == list2[list2.index('Sushi')]"
   ]
  },
  {
   "cell_type": "markdown",
   "id": "ca2d6c3c-1e7d-4801-8ad7-891592327002",
   "metadata": {},
   "source": [
    "### **Exercise 5**\n",
    "\n",
    "A travelling agency has all information considering trips to be made overseas stored in many different places. They want to centralize everything in a dictionary. \n",
    "\n",
    "Create a dictionary which, for every country, presents the cities to visit, the price of the trip and its length."
   ]
  },
  {
   "cell_type": "code",
   "execution_count": 9,
   "id": "16ea4736-d00e-4c3d-ba48-7348adf0c6b9",
   "metadata": {},
   "outputs": [],
   "source": [
    "cities_japan = ['Tokyo', 'Osaka', 'Nara', 'Kyoto', 'Hiroshima']\n",
    "cities_austria = ['Vienna', 'Graz', 'Innsbruck']\n",
    "cities_uk = ['London', 'Bath', 'Edinburgh', 'Dundee', 'Glasgow']\n",
    "cities_france = ['Nantes', 'Paris', 'Lyon', 'Marseille', 'Tolouse', 'Bourdeaux']\n",
    "price_japan = 4000\n",
    "price_austria = 1500\n",
    "price_uk = 2000\n",
    "price_france = 2000\n",
    "length_japan = '22 days'\n",
    "length_austria = '8 days'\n",
    "length_uk = '15 days'\n",
    "length_france = '20 days'"
   ]
  },
  {
   "cell_type": "markdown",
   "id": "b4aebc21-f94b-48b8-b676-7d047d2c871e",
   "metadata": {},
   "source": [
    "Expected result:"
   ]
  },
  {
   "cell_type": "code",
   "execution_count": 48,
   "id": "09399f8a-3e52-419e-9e78-fb716da01f37",
   "metadata": {},
   "outputs": [
    {
     "data": {
      "text/plain": [
       "{'Japan': {'cities': ['Tokyo', 'Osaka', 'Nara', 'Kyoto', 'Hiroshima'],\n",
       "  'price': 4000,\n",
       "  'length': '22 days'},\n",
       " 'Austria': {'cities': ['Vienna', 'Graz', 'Innsbruck'],\n",
       "  'price': 1500,\n",
       "  'length': '8 days'},\n",
       " 'UK': {'cities': ['London', 'Bath', 'Edinburgh', 'Dundee', 'Glasgow'],\n",
       "  'price': 2000,\n",
       "  'length': '15 days'},\n",
       " 'France': {'cities': ['Nantes',\n",
       "   'Paris',\n",
       "   'Lyon',\n",
       "   'Marseille',\n",
       "   'Tolouse',\n",
       "   'Bourdeaux'],\n",
       "  'price': 2000,\n",
       "  'length': '20 days'}}"
      ]
     },
     "execution_count": 48,
     "metadata": {},
     "output_type": "execute_result"
    }
   ],
   "source": [
    "d"
   ]
  },
  {
   "cell_type": "markdown",
   "id": "2da742d4-e9dd-486c-baf9-c36594cd99ef",
   "metadata": {},
   "source": [
    "Now, after generating the dictionary, we have realized that there's some incorrect data. Make the following modifications:\n",
    "\n",
    "1. During our Japanese visit, we will also be visiting Sapporo.\n",
    "2. During our French visit, we won't be visiting Marseille. However, we will be adding Rennes and Reims to our tour.\n",
    "3. All lists of cities need to be ordered alphabetically.\n",
    "4. All lengths should be numerical instead of strings, in days. Therefore, instead of '10 days', we want just 10.\n",
    "\n",
    "Expected result:"
   ]
  },
  {
   "cell_type": "code",
   "execution_count": 51,
   "id": "81d23379-b7e1-427d-8208-3a14df5bf89d",
   "metadata": {},
   "outputs": [
    {
     "data": {
      "text/plain": [
       "{'Japan': {'cities': ['Hiroshima',\n",
       "   'Kyoto',\n",
       "   'Nara',\n",
       "   'Osaka',\n",
       "   'Sapporo',\n",
       "   'Tokyo'],\n",
       "  'price': 4000,\n",
       "  'length': 22},\n",
       " 'Austria': {'cities': ['Graz', 'Innsbruck', 'Vienna'],\n",
       "  'price': 1500,\n",
       "  'length': 8},\n",
       " 'UK': {'cities': ['Bath', 'Dundee', 'Edinburgh', 'Glasgow', 'London'],\n",
       "  'price': 2000,\n",
       "  'length': 15},\n",
       " 'France': {'cities': ['Bourdeaux',\n",
       "   'Lyon',\n",
       "   'Nantes',\n",
       "   'Paris',\n",
       "   'Reims',\n",
       "   'Rennes',\n",
       "   'Tolouse'],\n",
       "  'price': 2000,\n",
       "  'length': 20}}"
      ]
     },
     "execution_count": 51,
     "metadata": {},
     "output_type": "execute_result"
    }
   ],
   "source": [
    "d"
   ]
  },
  {
   "cell_type": "markdown",
   "id": "4a43e745-2bdd-4a4a-b683-51940a156152",
   "metadata": {},
   "source": [
    "**Solution 1**"
   ]
  },
  {
   "cell_type": "code",
   "execution_count": 10,
   "id": "403e209f-d534-495a-bca9-9e45becdb045",
   "metadata": {},
   "outputs": [],
   "source": [
    "d = {\n",
    "    'Japan': {'cities': cities_japan, 'price':price_japan, 'length':length_japan},\n",
    "    'Austria': {'cities': cities_austria, 'price':price_austria, 'length':length_austria},\n",
    "    'UK': {'cities': cities_uk, 'price':price_uk, 'length':length_uk},\n",
    "    'France': {'cities': cities_france, 'price':price_france, 'length':length_france}\n",
    "    }"
   ]
  },
  {
   "cell_type": "markdown",
   "id": "be4e638c-f800-42a8-a60d-251759d3c720",
   "metadata": {},
   "source": [
    "**Solution 2**"
   ]
  },
  {
   "cell_type": "code",
   "execution_count": 49,
   "id": "550038c6-32d4-4263-b45b-cf33a52667cd",
   "metadata": {},
   "outputs": [],
   "source": [
    "d['Japan']['cities'].append('Sapporo')\n",
    "d['France']['cities'] = d['France']['cities'] + ['Reims', 'Rennes']\n",
    "d['France']['cities'].pop(d['France']['cities'].index('Marseille'))\n",
    "# sort values\n",
    "d['France']['cities'].sort()\n",
    "d['Japan']['cities'].sort()\n",
    "d['Austria']['cities'].sort()\n",
    "d['UK']['cities'].sort()\n",
    "# convert into numbers\n",
    "d['Japan']['length'] = int(d['Japan']['length'].split()[0])\n",
    "d['France']['length'] = int(d['France']['length'].split()[0])\n",
    "d['Austria']['length'] = int(d['Austria']['length'].split()[0])\n",
    "d['UK']['length'] = int(d['UK']['length'].split()[0])"
   ]
  },
  {
   "cell_type": "markdown",
   "id": "c188dfe5-0f67-44ea-8fd0-0a5e44f4ab67",
   "metadata": {},
   "source": [
    "### **Additional content we've covered**\n",
    "\n",
    "Apart from the content covered in the first theoretical session last week, we've been able to get first glances of for loops, the range() function and list comprehensions, to be seen during the following weeks.\n",
    "\n",
    "We will covered that during the following sessions, but there's a couple more additional things that would prove to be useful for you to know:\n",
    "\n",
    " - **\"\\n\" in print statements:** you can use this to print several separated lines.\n",
    " - **stiring method - str.join(list):** you can use this to join a list of objects into a single string, using a spacer."
   ]
  },
  {
   "cell_type": "code",
   "execution_count": 8,
   "id": "056193af-7c5d-426d-95b7-c073525dd989",
   "metadata": {},
   "outputs": [
    {
     "name": "stdout",
     "output_type": "stream",
     "text": [
      "Hello\n",
      "World\n"
     ]
    }
   ],
   "source": [
    "# Example 1\n",
    "\n",
    "print(\"Hello\\nWorld\")"
   ]
  },
  {
   "cell_type": "code",
   "execution_count": 9,
   "id": "4ec30646-b7eb-42b7-b699-787294735557",
   "metadata": {},
   "outputs": [
    {
     "data": {
      "text/plain": [
       "'London, Bath, Edinburgh, Dundee, Glasgow'"
      ]
     },
     "execution_count": 9,
     "metadata": {},
     "output_type": "execute_result"
    }
   ],
   "source": [
    "# Example 2\n",
    "\n",
    "\", \".join(['London', 'Bath', 'Edinburgh', 'Dundee', 'Glasgow'])"
   ]
  },
  {
   "cell_type": "markdown",
   "id": "73975325-04d6-4111-a8f8-103b9dedf3ff",
   "metadata": {},
   "source": [
    "## **Coaching Session Exercises in-Situ**"
   ]
  },
  {
   "cell_type": "markdown",
   "id": "bc264897-f7eb-471c-8c4a-3fda0cb2ec89",
   "metadata": {},
   "source": [
    "### **Exercise 1**\n",
    "\n",
    "From the following massive text, find how many times the word Taiwan appears.\n",
    "\n",
    "Also, extract the words Taiwan, Beijing, and September from the text."
   ]
  },
  {
   "cell_type": "code",
   "execution_count": 1,
   "id": "6d69a361-310e-4dde-a57a-129181c58418",
   "metadata": {},
   "outputs": [],
   "source": [
    "txt = \"Taiwan’s presidential offices are located in a sprawling, stately complex built by the Japanese colonial administration in the early 20th century—a reminder that, for all the belligerent rhetoric coming from the Chinese Communist Party, Taiwan has not been firmly under Beijing’s control for well over 100 years. When I arrived at the offices in September for an interview with President Tsai Ing-wen, it occurred to me that the large tower rising above the entrance might become a target in the event of an invasion.\""
   ]
  },
  {
   "cell_type": "code",
   "execution_count": 2,
   "id": "e02ef050-baf7-4fc8-9d22-7fc053cbb3c1",
   "metadata": {},
   "outputs": [
    {
     "name": "stdout",
     "output_type": "stream",
     "text": [
      "Taiwan’s presidential offices are located in a sprawling, stately complex built by the Japanese colonial administration in the early 20th century—a reminder that, for all the belligerent rhetoric coming from the Chinese Communist Party, Taiwan has not been firmly under Beijing’s control for well over 100 years. When I arrived at the offices in September for an interview with President Tsai Ing-wen, it occurred to me that the large tower rising above the entrance might become a target in the event of an invasion.\n"
     ]
    }
   ],
   "source": [
    "print(txt)"
   ]
  },
  {
   "cell_type": "markdown",
   "id": "4b8fcb42-382a-4fa1-8608-e83bf3e0120c",
   "metadata": {},
   "source": [
    "**Solution**"
   ]
  },
  {
   "cell_type": "code",
   "execution_count": 17,
   "id": "a671c173-0e03-4e59-99f1-fc4db1b6f336",
   "metadata": {},
   "outputs": [
    {
     "data": {
      "text/plain": [
       "2"
      ]
     },
     "execution_count": 17,
     "metadata": {},
     "output_type": "execute_result"
    }
   ],
   "source": [
    "txt.count(\"Taiwan\")"
   ]
  },
  {
   "cell_type": "code",
   "execution_count": 22,
   "id": "4fc26f5d-d48b-403a-9cac-81ccae3cb89b",
   "metadata": {},
   "outputs": [
    {
     "data": {
      "text/plain": [
       "'Beijing'"
      ]
     },
     "execution_count": 22,
     "metadata": {},
     "output_type": "execute_result"
    }
   ],
   "source": [
    "txt[txt.find('Beijing'):txt.find('Beijing')+len('Beijing')]"
   ]
  },
  {
   "cell_type": "markdown",
   "id": "8ece3dc8-fc50-4bf4-ab67-287f4033f03d",
   "metadata": {},
   "source": [
    "### **Exercise 2**\n",
    " \n",
    "Convert the following texts into a single list of cities in the world.\n",
    "\n",
    "Then, eliminate duplicate instances from them.\n",
    "\n",
    "Also, render all them with the first letter in uppercase, and the rest in lowercase.\n",
    "\n",
    "Find in which index the name 'Seattle' is stored.\n",
    "\n",
    "Join them back again into a single text."
   ]
  },
  {
   "cell_type": "code",
   "execution_count": 23,
   "id": "83c0eb59-0be2-4869-a573-29679d462da4",
   "metadata": {},
   "outputs": [],
   "source": [
    "txt1 = 'I loved visiting new york city, barcelona, kiev, london, tokyo, paris, seattle, los angeles, portland, toronto.'\n",
    "txt2 = 'Some French cities include nantes, Rouen, Paris, Marseille, Lyon, Reims, Poitiers.'\n",
    "txt3 = 'Some American cities include new york city, atlanta, portland, seattle, sacramento, tallahassee, austin, des moines.'"
   ]
  },
  {
   "cell_type": "markdown",
   "id": "4da0d526-c3dd-4308-8e1d-5b25737e0e02",
   "metadata": {},
   "source": [
    "**Solution**"
   ]
  },
  {
   "cell_type": "code",
   "execution_count": 24,
   "id": "59b15ac8-be56-43a8-89bc-2e641eb474ed",
   "metadata": {},
   "outputs": [],
   "source": [
    "lst1 = txt1[txt1.find(\"barcelona\"):-1].split(\", \")\n",
    "lst2 = txt2[txt2.find(\"nantes\"):-1].split(\", \")\n",
    "lst3 = txt3[txt3.find(\"new york city\"):-1].split(\", \")"
   ]
  },
  {
   "cell_type": "code",
   "execution_count": 25,
   "id": "15fe639f-b681-4f83-b2eb-752eb2af3a54",
   "metadata": {},
   "outputs": [],
   "source": [
    "total_lst = lst1+lst2+lst3"
   ]
  },
  {
   "cell_type": "code",
   "execution_count": 26,
   "id": "5acec60a-18e1-45bd-806a-b20af95d26ac",
   "metadata": {},
   "outputs": [],
   "source": [
    "total_lst = list(set(total_lst))"
   ]
  },
  {
   "cell_type": "code",
   "execution_count": 27,
   "id": "5bbf52bf-a0e2-40c6-9371-eaae2c9ad1fc",
   "metadata": {},
   "outputs": [
    {
     "data": {
      "text/plain": [
       "['Reims',\n",
       " 'nantes',\n",
       " 'Rouen',\n",
       " 'london',\n",
       " 'austin',\n",
       " 'Marseille',\n",
       " 'tokyo',\n",
       " 'new york city',\n",
       " 'des moines',\n",
       " 'kiev',\n",
       " 'barcelona',\n",
       " 'sacramento',\n",
       " 'portland',\n",
       " 'paris',\n",
       " 'Poitiers',\n",
       " 'Lyon',\n",
       " 'tallahassee',\n",
       " 'atlanta',\n",
       " 'seattle',\n",
       " 'los angeles',\n",
       " 'Paris',\n",
       " 'toronto']"
      ]
     },
     "execution_count": 27,
     "metadata": {},
     "output_type": "execute_result"
    }
   ],
   "source": [
    "total_lst"
   ]
  },
  {
   "cell_type": "code",
   "execution_count": 63,
   "id": "406fa731-6478-4cd6-9332-d7913284fb0e",
   "metadata": {},
   "outputs": [],
   "source": [
    "total_lst = [i.capitalize() for i in total_lst]"
   ]
  },
  {
   "cell_type": "code",
   "execution_count": 65,
   "id": "3a136a88-6132-4065-a453-b5b299f9948d",
   "metadata": {},
   "outputs": [
    {
     "data": {
      "text/plain": [
       "'Barcelona, Kiev, London, Tokyo, Paris, Seattle, Los angeles, Portland, Toronto, Nantes, Rouen, Paris, Marseille, Lyon, Reims, Poitiers, New york city, Atlanta, Portland, Seattle, Sacramento, Tallahassee, Austin, Des moines'"
      ]
     },
     "execution_count": 65,
     "metadata": {},
     "output_type": "execute_result"
    }
   ],
   "source": [
    "\", \".join(total_lst)"
   ]
  }
 ],
 "metadata": {
  "kernelspec": {
   "display_name": "Python 3 (ipykernel)",
   "language": "python",
   "name": "python3"
  },
  "language_info": {
   "codemirror_mode": {
    "name": "ipython",
    "version": 3
   },
   "file_extension": ".py",
   "mimetype": "text/x-python",
   "name": "python",
   "nbconvert_exporter": "python",
   "pygments_lexer": "ipython3",
   "version": "3.11.7"
  }
 },
 "nbformat": 4,
 "nbformat_minor": 5
}
