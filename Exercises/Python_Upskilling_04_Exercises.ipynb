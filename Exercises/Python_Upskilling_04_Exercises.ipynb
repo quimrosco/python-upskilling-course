{
 "cells": [
  {
   "cell_type": "markdown",
   "id": "7046c1fb-db74-4afc-b48a-8cde243fa674",
   "metadata": {},
   "source": [
    "# **04. Python Numpy and Pandas Fundamentals**"
   ]
  },
  {
   "cell_type": "markdown",
   "id": "06b10fda-884c-4192-8b9b-a2b63c2446a7",
   "metadata": {},
   "source": [
    "## **Homework Assignments / Coaching Session Doubts and Practice**"
   ]
  },
  {
   "cell_type": "markdown",
   "id": "1d28e88a-4849-40f9-a920-520bb8ffb0a6",
   "metadata": {},
   "source": [
    "### **Exercise 1**\n",
    "\n",
    "1. Create a Pandas Dataframe from a Dictionary depicting, for the countries of FR, UK, ES, RO, JP; their GDP, Capital city, Continent they belong to, and total population.\n",
    "2. Now create a second pandas Dataframe, with made-up values, of four numerical columns (col_a to col_d, with those names), that represent indexes for the same countries as before, using **random**"
   ]
  },
  {
   "cell_type": "code",
   "execution_count": null,
   "id": "020bb0cf-cc21-40e6-9132-4136cd4848cf",
   "metadata": {},
   "outputs": [],
   "source": []
  },
  {
   "cell_type": "markdown",
   "id": "5ea89d3c-6433-41ac-8742-573060ac76e0",
   "metadata": {},
   "source": [
    "### **Exercise 2**\n",
    "\n",
    "Create a new pandas dataframe reading from the CSV file **'countries of the world.csv'**.\n",
    "\n",
    "1. Find out whether the dataframe column 'Country' has unique registers for all countries. Can it be our main Key?\n",
    "2. Make the Country column the dataframe index.\n",
    "3. Select the Population and GDP per Capita of the US, India, China and Japan. Which country is bigger? Which is richer per capita? [Select these without filtering, just by indexing]\n",
    "4. Create a new column with the total GDP per country, in $ (assume GDP total = Population * GDP per capita).\n",
    "5. Compare again the columns before. What's the ordering if considering GDP total, or GDP per capita? Use **sort_values()** to find out. Add France and Spain to the mix. And now?"
   ]
  },
  {
   "cell_type": "code",
   "execution_count": null,
   "id": "b0c8af3d-2131-4724-9423-215bc2ac68db",
   "metadata": {},
   "outputs": [],
   "source": []
  },
  {
   "cell_type": "markdown",
   "id": "6d5692b2-1b42-4cef-841f-4eae7ca38f14",
   "metadata": {},
   "source": [
    "### **Exercise 3**\n",
    "\n",
    "We forgot to do domething quite important during the last exercise, which was finding main information concerning our dataframe.\n",
    "\n",
    "Explore the dataframe, to get:\n",
    "    - How many null values per column are there.\n",
    "    - A random sample of 10 rows.\n",
    "    - An analysis of the mean, and quartile values for all numerical columns. How do the distributions on GDP per capita, total GDP from the last exercise, Birthrate and Deathrate look?"
   ]
  },
  {
   "cell_type": "code",
   "execution_count": null,
   "id": "0d637ac7-6aa9-485f-a24f-64d5c1ee8460",
   "metadata": {},
   "outputs": [],
   "source": []
  },
  {
   "cell_type": "markdown",
   "id": "29c769aa-042e-4e31-be3e-e3a0909351c3",
   "metadata": {},
   "source": [
    "### **Exercise 4**\n",
    "\n",
    "Let's do a small exploration on the Net Population Flux of each country. \n",
    "\n",
    "First, let's start by filtering our dataframe to obtain those countries which Birtrates are equal or smaller to the Deathrates. What do you see?"
   ]
  },
  {
   "cell_type": "code",
   "execution_count": null,
   "id": "1be47cd1-1315-4e7d-9240-74fccc4b4f37",
   "metadata": {},
   "outputs": [],
   "source": []
  },
  {
   "cell_type": "markdown",
   "id": "bc7aef06-06a1-40d2-b0c4-668af4678014",
   "metadata": {},
   "source": [
    "If you have compared both values, you may see that after enacting the comparison you obtain numbers that make no sense. It might be because datatypes are not what you think, and because comparisons are thus not acting in a numerical basis. Therefore:\n",
    " 1. Check the datatype (**dtype**) of the Birthrate and Deathrate columns. Are they numerical?\n",
    "\n",
    "To turn them into numerical, we must first substitute their commas by dots i.e., turning '15,5' into '15.5'. \n",
    "\n",
    " 2. For that, use **df.column.apply**, following the example provided, to make both columns Deathrate and Birtrate have their comma values substituted by their point values.\n",
    " 3. Now, use the **float()** function to turn these new strings into floats, also using **df.column.apply**.\n",
    "\n",
    "**WARNING** - Be mindful of NaN objects, which are of type **float**! Instead of using a simple lambda function in apply, you can code a function with def that takes into account an if/else or try/except to try to get around those values!"
   ]
  },
  {
   "cell_type": "markdown",
   "id": "650f993e-23fc-40d7-86d6-9687950a2b5f",
   "metadata": {},
   "source": [
    "**Example of df.column.apply**"
   ]
  },
  {
   "cell_type": "code",
   "execution_count": 20,
   "id": "bff27838-6ca9-4b49-b915-9b2361dba725",
   "metadata": {},
   "outputs": [
    {
     "data": {
      "text/html": [
       "<div>\n",
       "<style scoped>\n",
       "    .dataframe tbody tr th:only-of-type {\n",
       "        vertical-align: middle;\n",
       "    }\n",
       "\n",
       "    .dataframe tbody tr th {\n",
       "        vertical-align: top;\n",
       "    }\n",
       "\n",
       "    .dataframe thead th {\n",
       "        text-align: right;\n",
       "    }\n",
       "</style>\n",
       "<table border=\"1\" class=\"dataframe\">\n",
       "  <thead>\n",
       "    <tr style=\"text-align: right;\">\n",
       "      <th></th>\n",
       "      <th>A</th>\n",
       "      <th>B</th>\n",
       "      <th>C</th>\n",
       "      <th>D</th>\n",
       "      <th>E</th>\n",
       "    </tr>\n",
       "  </thead>\n",
       "  <tbody>\n",
       "    <tr>\n",
       "      <th>0</th>\n",
       "      <td>-0.383945</td>\n",
       "      <td>1.597973</td>\n",
       "      <td>-0.264637</td>\n",
       "      <td>2.419672</td>\n",
       "      <td>1.961480</td>\n",
       "    </tr>\n",
       "    <tr>\n",
       "      <th>1</th>\n",
       "      <td>0.417202</td>\n",
       "      <td>0.180861</td>\n",
       "      <td>0.299652</td>\n",
       "      <td>0.957938</td>\n",
       "      <td>-1.930422</td>\n",
       "    </tr>\n",
       "    <tr>\n",
       "      <th>2</th>\n",
       "      <td>-1.063466</td>\n",
       "      <td>-1.119329</td>\n",
       "      <td>0.474865</td>\n",
       "      <td>0.249703</td>\n",
       "      <td>-0.604305</td>\n",
       "    </tr>\n",
       "    <tr>\n",
       "      <th>3</th>\n",
       "      <td>-1.274128</td>\n",
       "      <td>-0.135673</td>\n",
       "      <td>-1.510706</td>\n",
       "      <td>-0.114590</td>\n",
       "      <td>-1.466162</td>\n",
       "    </tr>\n",
       "    <tr>\n",
       "      <th>4</th>\n",
       "      <td>0.897091</td>\n",
       "      <td>-2.328572</td>\n",
       "      <td>1.115739</td>\n",
       "      <td>-1.586601</td>\n",
       "      <td>0.915069</td>\n",
       "    </tr>\n",
       "  </tbody>\n",
       "</table>\n",
       "</div>"
      ],
      "text/plain": [
       "          A         B         C         D         E\n",
       "0 -0.383945  1.597973 -0.264637  2.419672  1.961480\n",
       "1  0.417202  0.180861  0.299652  0.957938 -1.930422\n",
       "2 -1.063466 -1.119329  0.474865  0.249703 -0.604305\n",
       "3 -1.274128 -0.135673 -1.510706 -0.114590 -1.466162\n",
       "4  0.897091 -2.328572  1.115739 -1.586601  0.915069"
      ]
     },
     "execution_count": 20,
     "metadata": {},
     "output_type": "execute_result"
    }
   ],
   "source": [
    "random_df = pd.DataFrame(np.random.randn(5, 5), columns = 'A B C D E'.split())\n",
    "random_df"
   ]
  },
  {
   "cell_type": "code",
   "execution_count": 21,
   "id": "8ac62bdf-d39c-4287-82b5-4dcc12f12f55",
   "metadata": {},
   "outputs": [],
   "source": [
    "random_df[\"A\"] = random_df.A.apply(lambda x: x**2 + 3)"
   ]
  },
  {
   "cell_type": "code",
   "execution_count": 22,
   "id": "1a180f1a-f1c4-4141-9e8b-798a79116be5",
   "metadata": {},
   "outputs": [
    {
     "data": {
      "text/html": [
       "<div>\n",
       "<style scoped>\n",
       "    .dataframe tbody tr th:only-of-type {\n",
       "        vertical-align: middle;\n",
       "    }\n",
       "\n",
       "    .dataframe tbody tr th {\n",
       "        vertical-align: top;\n",
       "    }\n",
       "\n",
       "    .dataframe thead th {\n",
       "        text-align: right;\n",
       "    }\n",
       "</style>\n",
       "<table border=\"1\" class=\"dataframe\">\n",
       "  <thead>\n",
       "    <tr style=\"text-align: right;\">\n",
       "      <th></th>\n",
       "      <th>A</th>\n",
       "      <th>B</th>\n",
       "      <th>C</th>\n",
       "      <th>D</th>\n",
       "      <th>E</th>\n",
       "    </tr>\n",
       "  </thead>\n",
       "  <tbody>\n",
       "    <tr>\n",
       "      <th>0</th>\n",
       "      <td>3.147414</td>\n",
       "      <td>1.597973</td>\n",
       "      <td>-0.264637</td>\n",
       "      <td>2.419672</td>\n",
       "      <td>1.961480</td>\n",
       "    </tr>\n",
       "    <tr>\n",
       "      <th>1</th>\n",
       "      <td>3.174058</td>\n",
       "      <td>0.180861</td>\n",
       "      <td>0.299652</td>\n",
       "      <td>0.957938</td>\n",
       "      <td>-1.930422</td>\n",
       "    </tr>\n",
       "    <tr>\n",
       "      <th>2</th>\n",
       "      <td>4.130960</td>\n",
       "      <td>-1.119329</td>\n",
       "      <td>0.474865</td>\n",
       "      <td>0.249703</td>\n",
       "      <td>-0.604305</td>\n",
       "    </tr>\n",
       "    <tr>\n",
       "      <th>3</th>\n",
       "      <td>4.623401</td>\n",
       "      <td>-0.135673</td>\n",
       "      <td>-1.510706</td>\n",
       "      <td>-0.114590</td>\n",
       "      <td>-1.466162</td>\n",
       "    </tr>\n",
       "    <tr>\n",
       "      <th>4</th>\n",
       "      <td>3.804772</td>\n",
       "      <td>-2.328572</td>\n",
       "      <td>1.115739</td>\n",
       "      <td>-1.586601</td>\n",
       "      <td>0.915069</td>\n",
       "    </tr>\n",
       "  </tbody>\n",
       "</table>\n",
       "</div>"
      ],
      "text/plain": [
       "          A         B         C         D         E\n",
       "0  3.147414  1.597973 -0.264637  2.419672  1.961480\n",
       "1  3.174058  0.180861  0.299652  0.957938 -1.930422\n",
       "2  4.130960 -1.119329  0.474865  0.249703 -0.604305\n",
       "3  4.623401 -0.135673 -1.510706 -0.114590 -1.466162\n",
       "4  3.804772 -2.328572  1.115739 -1.586601  0.915069"
      ]
     },
     "execution_count": 22,
     "metadata": {},
     "output_type": "execute_result"
    }
   ],
   "source": [
    "random_df"
   ]
  },
  {
   "cell_type": "markdown",
   "id": "a8cef9fb-48c8-490a-9c8b-26c33e6c5ba1",
   "metadata": {},
   "source": [
    "**Solution**"
   ]
  },
  {
   "cell_type": "code",
   "execution_count": null,
   "id": "c9bf848d-f8c2-445d-a264-c1c8a81a80ac",
   "metadata": {},
   "outputs": [],
   "source": []
  },
  {
   "cell_type": "markdown",
   "id": "ba7f0be4-5eba-4f7f-9c00-217b01989a69",
   "metadata": {},
   "source": [
    "Now, apply the aforementioned filter, and let's get those countries for which the birtrate is equal or lower to the deathrate."
   ]
  },
  {
   "cell_type": "code",
   "execution_count": null,
   "id": "2dbfee17-8df1-4b40-b5d4-6d2450571b9a",
   "metadata": {},
   "outputs": [],
   "source": []
  },
  {
   "cell_type": "markdown",
   "id": "f5960e6a-e7ac-4baa-957b-b73c67c0c1a0",
   "metadata": {},
   "source": [
    "### **Exercise 5**\n",
    "\n",
    "Let's continue with that small exploration on the Net Population Flux of each country.\n",
    "\n",
    "Let's assume that the Net Population Flux = Birtrate - Deathrate + Net Migration.\n",
    "\n",
    "1. Turn all three columns into floats for calculating.\n",
    "2. This time, deal with the NaN values in all columns:\n",
    "    2.1. Find out which Countries have NaN values of Birtrate, Deathrate and Migration\n",
    "    2.2. Fill them with the mean values of the dataset, for each respective column.\n",
    "3. Now, calculate a new column, the 'Net Population Flux'.\n",
    "4. Which countries have it negative?\n",
    "5. Which countries are the most negative, in Europe (eastern or western), or North America?"
   ]
  },
  {
   "cell_type": "code",
   "execution_count": null,
   "id": "e7cd7f43-33dd-4e57-9bcc-fb8007910f52",
   "metadata": {},
   "outputs": [],
   "source": []
  }
 ],
 "metadata": {
  "kernelspec": {
   "display_name": "Python 3 (ipykernel)",
   "language": "python",
   "name": "python3"
  },
  "language_info": {
   "codemirror_mode": {
    "name": "ipython",
    "version": 3
   },
   "file_extension": ".py",
   "mimetype": "text/x-python",
   "name": "python",
   "nbconvert_exporter": "python",
   "pygments_lexer": "ipython3",
   "version": "3.10.6"
  }
 },
 "nbformat": 4,
 "nbformat_minor": 5
}
