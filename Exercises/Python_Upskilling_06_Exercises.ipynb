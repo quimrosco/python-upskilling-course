{
 "cells": [
  {
   "cell_type": "markdown",
   "id": "6970390d-ba88-4c73-a6ff-a75358411e92",
   "metadata": {},
   "source": [
    "# **06. Python Visualization Libraries**"
   ]
  },
  {
   "cell_type": "code",
   "execution_count": 1,
   "id": "ff999d28-f0e2-4f69-b3b4-08642b6fbae9",
   "metadata": {},
   "outputs": [],
   "source": [
    "import pandas as pd\n",
    "import numpy as np\n",
    "import matplotlib.pyplot as plt\n",
    "import seaborn as sns\n",
    "import plotly.express as px"
   ]
  },
  {
   "cell_type": "markdown",
   "id": "2d477776-afc0-48f4-b61b-fb354577ede1",
   "metadata": {},
   "source": [
    "## **Section I** \n",
    "\n",
    "We have a dataset that considers different IMDB scores for movies and films found on Netflix.\n",
    "\n",
    "Use these datasets to practice several visualization skills, completing the exercises in this section."
   ]
  },
  {
   "cell_type": "code",
   "execution_count": null,
   "id": "78aa5403-908b-4c72-bac1-b64307d9696d",
   "metadata": {},
   "outputs": [],
   "source": []
  },
  {
   "cell_type": "code",
   "execution_count": 7,
   "id": "cf022068-6771-40cf-a80a-009201fef605",
   "metadata": {},
   "outputs": [],
   "source": [
    "# Explore the dataset further"
   ]
  },
  {
   "cell_type": "code",
   "execution_count": null,
   "id": "c5ffdfc0-2d69-45e4-92a4-f4e3b229a50a",
   "metadata": {},
   "outputs": [],
   "source": []
  },
  {
   "cell_type": "markdown",
   "id": "ee3bd8f4-bace-4ee0-a7f0-06459e231caf",
   "metadata": {},
   "source": [
    "### **Exercise 1**\n",
    "\n",
    "Let's get a quick overview of our dataset by using **Pandas built-in visualization capabilities**.\n",
    "\n",
    "To that, plot a histogram of film lenghts, and a scatterplot that plots lenghts and the imdb_score for both films and shows. What do you see?"
   ]
  },
  {
   "cell_type": "code",
   "execution_count": null,
   "id": "b620ac46-a52f-4ad2-bd74-09272875c878",
   "metadata": {},
   "outputs": [],
   "source": []
  },
  {
   "cell_type": "markdown",
   "id": "1c808934-9765-4a30-9d1e-790b8f97d6bf",
   "metadata": {},
   "source": [
    "There seems to be **no clear correlation** between the two variables, ecept for **super long films** - that may be why lately new films are getting each time longer and longeeeer - they want to farm that score !!"
   ]
  },
  {
   "cell_type": "markdown",
   "id": "2d55402c-2772-472f-9170-fbc93229e840",
   "metadata": {},
   "source": [
    "### **Exercise 2**\n",
    "\n",
    "Let's turn all of that into a more beautiful format. For that, obtain a seaborn **jointplot**--meaning, a bidimensional scatterplot.\n",
    "\n",
    "Plus, modify its format to make it look better.\n",
    "\n",
    "Plot the graphs in four different renderizations - i.e., as a scatterplot, as a KDE, a Resid, and as an hexagonal heat map."
   ]
  },
  {
   "cell_type": "code",
   "execution_count": null,
   "id": "75fadb12-e693-4894-9fd5-089fc6ce7656",
   "metadata": {},
   "outputs": [],
   "source": []
  },
  {
   "cell_type": "markdown",
   "id": "c2d5fa6c-4f3a-482b-a061-b0f8794203ec",
   "metadata": {},
   "source": [
    "There seems to be two density hotspots, probably attributable to films and TV shows!"
   ]
  },
  {
   "cell_type": "markdown",
   "id": "3d700f5d-c241-470e-8013-6c269eacbe30",
   "metadata": {},
   "source": [
    "### **Exercise 3**\n",
    "\n",
    "Now, let's check whether our previous assumption (that there are two main peaks due to movies and tv shows separation) holds. Introduce a legend to the previously obtained graph in order to plot MOVIES and SHOWS in  separate colours. What do you see?\n",
    "\n",
    "Format the title, axes and legend, to show a more proper title for them."
   ]
  },
  {
   "cell_type": "code",
   "execution_count": null,
   "id": "c6f08ab8-5373-4e0c-9113-da68aef66a20",
   "metadata": {},
   "outputs": [],
   "source": []
  },
  {
   "cell_type": "markdown",
   "id": "e4565df9-a6b8-4c68-bfa9-0a507c6b171b",
   "metadata": {},
   "source": [
    "### **Exercise 4**\n",
    "\n",
    "Create a graph to plot the correlation between all variables in the dataframe for every film and movie released in the 2000s or afterwards. Differentiate between fillms and TV shows."
   ]
  },
  {
   "cell_type": "code",
   "execution_count": null,
   "id": "252c4290-cfeb-4c4b-b948-46d83d298d5a",
   "metadata": {},
   "outputs": [],
   "source": []
  },
  {
   "cell_type": "markdown",
   "id": "cfa260a1-ca8c-40b8-897a-b2adbb108ca1",
   "metadata": {},
   "source": [
    "\n",
    "Plus, **have films gotten longer in time**? Plot a graph to chech that out"
   ]
  },
  {
   "cell_type": "markdown",
   "id": "5b2a05ab-6791-465f-aaa9-ab7c75c0a04f",
   "metadata": {},
   "source": [
    "### **Exercise 5**\n",
    "\n",
    "Now, use Plotly Express to obtain, for the correlation of runtime and imdb_score:\n",
    "\n",
    "- An hexagonal heatmap plot\n",
    "- Prepare a field with buckets for every decade of release (90s, 2000s, etc.). Plot a scatterplot with a legend according to the decade of release, for movies/shows over the 90s, with a facet col for movies ad TV."
   ]
  },
  {
   "cell_type": "code",
   "execution_count": null,
   "id": "2da2b47e-1fe5-4898-b389-5fda4a2f1e79",
   "metadata": {},
   "outputs": [],
   "source": []
  },
  {
   "cell_type": "markdown",
   "id": "78ac43b5-c9cc-4622-82e7-70cbfd186e4f",
   "metadata": {},
   "source": [
    "### **Exercise 6**\n",
    "\n",
    "Using Seaborn's Catplot, plot in a way that you can see the dispersion of points, per decade, of the imdb_score; using type as the legend/facet_col, or however you want to differentiate it."
   ]
  },
  {
   "cell_type": "code",
   "execution_count": null,
   "id": "a0d4530a-08e2-4a50-9912-bfe8c0cfeeac",
   "metadata": {},
   "outputs": [],
   "source": []
  },
  {
   "cell_type": "markdown",
   "id": "b0abe628-c3cc-4590-9116-498ecd1d38d5",
   "metadata": {},
   "source": [
    "We can see that films, during the last decades, are each time worse, and that tv shows got incrementally better till its 2000s golden age, and then dropped in quality."
   ]
  },
  {
   "cell_type": "markdown",
   "id": "b92940fa-6145-45b4-89ee-e484ee547895",
   "metadata": {},
   "source": [
    "## **Part II**\n",
    "\n",
    "Download the second dataset. The second dataset considers all export transactions that Russia did with all its trading partners throughout the period encompassing 2007 - 2020.\n",
    "\n",
    "This final exercise considers a final exploratory mini-project, to test all your data exploration skills.\n",
    "\n",
    "To that:\n",
    "\n",
    " - Import the dataset\n",
    " - Do some fundamental exploration of the dataset - are there any null values, which datatypes do columns present, obtain a sample of the data to see how it's qualitatively arranged.\n",
    " - Do some Data Engineering and Feature Engineering, by:\n",
    "     - Filtering the dataframe to obtain just the 30 most common trading partners (considering number of row registers for those partners, not sum on qty ot USD exported - therefore, they are not top partners, but most common ones!)\n",
    "     - Filtering the dataframe to obtain the top 50 traded Commodities overall (considering the total sum of Trade Value, not count of rows)\n",
    "     - Joining with the iso3.csv table, thus obtaining the Continent and SubRegion fields, per row in the dataframe.\n",
    " - Then, do some exploration by:\n",
    "     - Plotting the total Trading value per continent, on a column chart.\n",
    "     - Plotting the total Trading value per country, on a column chart, ordered by total trading volume.\n",
    "     - Plotting a correlation matrix of all variables.\n",
    "     - Plotting a violin dispersion graph of the US$ Trade Value, of each row, for the top 5 countries as for traded volume in USD.\n",
    "     - Plotting, in a column chart, for the suspicious \"Special transactions and commodities not classified according to kind\" Category, the total transacted USD per country. Which countries have shifted upwards in the ranking?"
   ]
  },
  {
   "cell_type": "markdown",
   "id": "71980ff6-2f91-4dae-aa56-1bb1b47f677e",
   "metadata": {},
   "source": [
    "### **Import**"
   ]
  },
  {
   "cell_type": "code",
   "execution_count": null,
   "id": "5c8c6d75-31b1-42e4-b7a9-f228a9af77a1",
   "metadata": {},
   "outputs": [],
   "source": []
  },
  {
   "cell_type": "markdown",
   "id": "4b7bb4d9-47c0-4232-9ffa-125470d7c495",
   "metadata": {},
   "source": [
    "### **Fundamental Exploration of the dataset**"
   ]
  },
  {
   "cell_type": "code",
   "execution_count": null,
   "id": "5cbfb430-7a75-46b6-9dd5-abc5b8a34c2e",
   "metadata": {},
   "outputs": [],
   "source": []
  },
  {
   "cell_type": "markdown",
   "id": "b529c446-fc93-41f1-a513-8cf66e078e3a",
   "metadata": {},
   "source": [
    "### **Data and Feature Engineering**"
   ]
  },
  {
   "cell_type": "code",
   "execution_count": null,
   "id": "0463dc03-fb69-4163-b8ca-f177d2cb9d62",
   "metadata": {},
   "outputs": [],
   "source": []
  },
  {
   "cell_type": "markdown",
   "id": "61fed647-a5b5-4d50-9cbb-85ecf81b1aa0",
   "metadata": {},
   "source": [
    "**Now, join**"
   ]
  },
  {
   "cell_type": "code",
   "execution_count": null,
   "id": "c4359b65-f4d8-40d5-921c-2f59a1c72613",
   "metadata": {},
   "outputs": [],
   "source": []
  },
  {
   "cell_type": "markdown",
   "id": "bfe8bb5d-a12f-4b46-958f-0a144404cbb4",
   "metadata": {},
   "source": [
    "### **EDA: Exploratory Data Analysis**"
   ]
  },
  {
   "cell_type": "code",
   "execution_count": null,
   "id": "4f27d086-ae8f-4a63-92f8-cbe6844caefa",
   "metadata": {},
   "outputs": [],
   "source": []
  }
 ],
 "metadata": {
  "kernelspec": {
   "display_name": "Python 3 (ipykernel)",
   "language": "python",
   "name": "python3"
  },
  "language_info": {
   "codemirror_mode": {
    "name": "ipython",
    "version": 3
   },
   "file_extension": ".py",
   "mimetype": "text/x-python",
   "name": "python",
   "nbconvert_exporter": "python",
   "pygments_lexer": "ipython3",
   "version": "3.10.6"
  }
 },
 "nbformat": 4,
 "nbformat_minor": 5
}
