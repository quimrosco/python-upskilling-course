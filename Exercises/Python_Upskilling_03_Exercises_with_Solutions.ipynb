{
 "cells": [
  {
   "cell_type": "markdown",
   "id": "8fa3e58d-8cea-4c09-8cda-896b4fb5bdf6",
   "metadata": {},
   "source": [
    "# **03. Practice: Python Added Functionalities and Modules**"
   ]
  },
  {
   "cell_type": "markdown",
   "id": "5848dd03-e5e9-4819-b7b8-fefd30b52f1e",
   "metadata": {},
   "source": [
    "## **Homework Assignments / Coaching Session Doubts and Practice**"
   ]
  },
  {
   "cell_type": "markdown",
   "id": "bd7f7f03-c292-4931-897e-19990dd11e2c",
   "metadata": {},
   "source": [
    "### **Exercise 1**\n",
    "\n",
    "We have a list of movies, a list of directors, and a list of nationalities of these directors.\n",
    "\n",
    "Write a function that returns a single list of tuples relating all three lists, index per index.\n",
    "\n",
    "Plus,  the function returns all names capitalized, if the director is Italian, the respective movie, director, nationality tuple shoud be excluded from the resulting list. \n",
    "\n",
    "Plus, there are some movies that have been assigned to the wrong director. Correct them by using the \"corrected\" list."
   ]
  },
  {
   "cell_type": "code",
   "execution_count": 2,
   "id": "1d270544-c7d6-480f-b502-cc7d04ffe73d",
   "metadata": {},
   "outputs": [],
   "source": [
    "films = ['the shining', 'north by northwest', 'la chinoise', 'as bestas', 'the rope', 'la dolce vita', 'la grande bellezza']\n",
    "directors = ['kubrick', 'hitchcock', 'goddard', 'sorogoyen', 'nolan', 'fellini', 'sorrentino']\n",
    "nationality = ['american', 'british', 'french', 'spanish', 'british', 'italian', 'italian']\n",
    "\n",
    "corrected_films = [('the rope', 'hitchcock'), ('vertigo', 'hitchcock'), ('raging bull', 'scorsese')]"
   ]
  },
  {
   "cell_type": "markdown",
   "id": "84603b9c-67d4-4ad2-a229-ee3b6b03fc37",
   "metadata": {},
   "source": [
    "**Solution**"
   ]
  },
  {
   "cell_type": "code",
   "execution_count": 15,
   "id": "b7a06356-177e-4c64-8d07-f0257e4ea43c",
   "metadata": {},
   "outputs": [],
   "source": [
    "def my_func(l_f, l_d, l_n):\n",
    "    zipped = list(zip(l_f, l_d, l_n))\n",
    "    new_list = []\n",
    "    for f, d, n in zipped:\n",
    "        \n",
    "        # list comprehension to generate a list of films from the tuple list in corrected_films\n",
    "        if f in [t[0] for t in corrected_films]:\n",
    "            ind = [t[0] for t in corrected_films].index(f)\n",
    "            d = [t[1] for t in corrected_films][ind].capitalize()\n",
    "        \n",
    "        f = f.title()\n",
    "        d = d.capitalize()\n",
    "        n = n.capitalize()\n",
    "        \n",
    "        # second if to append if it's not an italian director\n",
    "        if n != 'Italian':\n",
    "            new_list.append((f, d, n))\n",
    "    \n",
    "    return new_list"
   ]
  },
  {
   "cell_type": "code",
   "execution_count": 16,
   "id": "4604476c-88ee-41ca-b000-0b405f201201",
   "metadata": {},
   "outputs": [
    {
     "data": {
      "text/plain": [
       "[('The Shining', 'Kubrick', 'American'),\n",
       " ('North By Northwest', 'Hitchcock', 'British'),\n",
       " ('La Chinoise', 'Goddard', 'French'),\n",
       " ('As Bestas', 'Sorogoyen', 'Spanish'),\n",
       " ('The Rope', 'Hitchcock', 'British')]"
      ]
     },
     "execution_count": 16,
     "metadata": {},
     "output_type": "execute_result"
    }
   ],
   "source": [
    "my_func(films, directors, nationality)"
   ]
  },
  {
   "cell_type": "markdown",
   "id": "aa8318ae-d002-43b9-9a20-f44115f697a3",
   "metadata": {},
   "source": [
    "### **Exercise 2**\n",
    "\n",
    "Create a function that, when launched, it asks the user to input an even integer number, checks if it's an integer number, and if it's not an integer, it returns the sentence 'Not an integer number, try again', and it prompts the user for an input value yet again.\n",
    "\n",
    "If it's an integer number, it checks if it's even, and if it's not it returns to the user 'An integer, but not even, try again', and it prompts the user for an input value yet again.\n",
    "\n",
    "If it's an even integer number, it returns the value multiplied by 4."
   ]
  },
  {
   "cell_type": "markdown",
   "id": "cafb1852-ad28-44fe-b89e-77f840e1c72d",
   "metadata": {},
   "source": [
    "**Solution**"
   ]
  },
  {
   "cell_type": "code",
   "execution_count": 24,
   "id": "cdbe614e-d8b4-41e2-96b9-ec2de82d0f6b",
   "metadata": {},
   "outputs": [],
   "source": [
    "def my_func():\n",
    "    while True:\n",
    "        x = input('Please, enter an even number')\n",
    "        try:\n",
    "            int(x)\n",
    "        except:\n",
    "            print('This is not even an integer, try again!')\n",
    "            continue\n",
    "        \n",
    "        if int(x)%2 == 0:\n",
    "            return int(x)*4\n",
    "        else:\n",
    "            print('An integer, but not even, please try again')\n",
    "        "
   ]
  },
  {
   "cell_type": "code",
   "execution_count": 25,
   "id": "157df922-15de-4edc-9385-847e495f86de",
   "metadata": {},
   "outputs": [
    {
     "name": "stdin",
     "output_type": "stream",
     "text": [
      "Please, enter an even number 4\n"
     ]
    },
    {
     "data": {
      "text/plain": [
       "16"
      ]
     },
     "execution_count": 25,
     "metadata": {},
     "output_type": "execute_result"
    }
   ],
   "source": [
    "my_func()"
   ]
  },
  {
   "cell_type": "markdown",
   "id": "189ffdf3-318d-40e2-b5e1-7a733653f0fe",
   "metadata": {},
   "source": [
    "### **Exercise 3**\n",
    "\n",
    "We have a list of items, both strings and numbers. Define a function that returns the Upper version of the string objects in the list, and that drops all other items that are not strings. \n",
    "\n",
    "Use exception handling to do so.\n",
    "\n",
    "Also, define a second function that does the same, but instead of dropping all non-string objects, it just includes them in the list without no change whatsoever."
   ]
  },
  {
   "cell_type": "code",
   "execution_count": 51,
   "id": "06cf4f4c-f35f-4a03-9498-def9e2f5c945",
   "metadata": {},
   "outputs": [],
   "source": [
    "my_list = ['orange', 'drum', 45, ['a', 'b', 'c'], 'melon', 66, 'new york', 'subway', 77]"
   ]
  },
  {
   "cell_type": "markdown",
   "id": "9d489a8a-e62c-4dc9-99ef-b750aa03aad4",
   "metadata": {},
   "source": [
    "**Solution**"
   ]
  },
  {
   "cell_type": "code",
   "execution_count": 53,
   "id": "5a999d36-ca5e-42e9-ac3d-a3ca68c664f2",
   "metadata": {},
   "outputs": [],
   "source": [
    "def func1(my_list):\n",
    "    new_list = []\n",
    "    for ind, i in enumerate(my_list):\n",
    "        try:\n",
    "            new_list.append(i.upper())\n",
    "        except:\n",
    "            pass\n",
    "    return new_list"
   ]
  },
  {
   "cell_type": "code",
   "execution_count": 54,
   "id": "f286f4c7-3c93-4602-b224-513cfeb7bd6e",
   "metadata": {},
   "outputs": [
    {
     "data": {
      "text/plain": [
       "['ORANGE', 'DRUM', 'MELON', 'NEW YORK', 'SUBWAY']"
      ]
     },
     "execution_count": 54,
     "metadata": {},
     "output_type": "execute_result"
    }
   ],
   "source": [
    "func1(my_list)"
   ]
  },
  {
   "cell_type": "markdown",
   "id": "64acdc36-0327-4768-953d-4726b8af2b7c",
   "metadata": {},
   "source": [
    "### **Exercise 4**\n",
    "\n",
    "Use a list comprehension to, for each string in the list, just get the first and third words in a string altogether.\n",
    "\n",
    "For instance 'John WORTODROP Smith' has to be converted into 'John Smith'.\n",
    "\n",
    "Use a **list comprehension** to do so.\n",
    "\n",
    "Then, do it in a traditional for loop, as well as by using the combination of a lambda function and the map function."
   ]
  },
  {
   "cell_type": "code",
   "execution_count": 57,
   "id": "59a1b305-c7e2-4783-a8c8-c7c54d6e101b",
   "metadata": {},
   "outputs": [],
   "source": [
    "my_list = ['John DISREGARDTHIS Smith', 'Virginia FILLER Woolf', 'Anne AAA Miller', 'James BBBB Buchanan', 'Sophie ZZZZZZ Smith']"
   ]
  },
  {
   "cell_type": "markdown",
   "id": "612f91cb-7a06-46b6-b1a6-b68731eb04ba",
   "metadata": {},
   "source": [
    "**Solution**"
   ]
  },
  {
   "cell_type": "code",
   "execution_count": 58,
   "id": "f6dcf0ee-967d-4153-81ba-578c79720bc5",
   "metadata": {},
   "outputs": [
    {
     "data": {
      "text/plain": [
       "['John Smith',\n",
       " 'Virginia Woolf',\n",
       " 'Anne Miller',\n",
       " 'James Buchanan',\n",
       " 'Sophie Smith']"
      ]
     },
     "execution_count": 58,
     "metadata": {},
     "output_type": "execute_result"
    }
   ],
   "source": [
    "[i.split()[0] + \" \" + i.split()[2] for i in my_list]"
   ]
  },
  {
   "cell_type": "code",
   "execution_count": 59,
   "id": "b6633718-fabd-4835-9a70-59bffe826e88",
   "metadata": {},
   "outputs": [
    {
     "data": {
      "text/plain": [
       "['John Smith',\n",
       " 'Virginia Woolf',\n",
       " 'Anne Miller',\n",
       " 'James Buchanan',\n",
       " 'Sophie Smith']"
      ]
     },
     "execution_count": 59,
     "metadata": {},
     "output_type": "execute_result"
    }
   ],
   "source": [
    "list(map(lambda i: i.split()[0] + \" \" + i.split()[2], my_list))"
   ]
  },
  {
   "cell_type": "markdown",
   "id": "90d495c7-a64d-418e-8205-ffa32b67f691",
   "metadata": {},
   "source": [
    "### **Exercise 5**\n",
    "\n",
    "Generate two random datetimes (**clue**: you can use the randint function to generate each one of the components of each datetime).\n",
    "\n",
    "You may code a function to do one, to ensure reproducibility among the two.\n",
    "\n",
    "Then, code a second function that inputs the two datetimes, and returns its difference in hours.\n"
   ]
  },
  {
   "cell_type": "markdown",
   "id": "913ac0d8-ea45-4b1d-9c20-a5fed1572112",
   "metadata": {},
   "source": [
    "\n",
    "**Solution**"
   ]
  },
  {
   "cell_type": "code",
   "execution_count": 61,
   "id": "ecebc974-dc6a-4d2e-9705-33caa6819084",
   "metadata": {},
   "outputs": [],
   "source": [
    "from datetime import datetime\n",
    "import random"
   ]
  },
  {
   "cell_type": "code",
   "execution_count": 89,
   "id": "a26681a0-237a-4329-8218-8324ba40a4f8",
   "metadata": {},
   "outputs": [],
   "source": [
    "def create_datetimes():\n",
    "    random_list = []\n",
    "    for i in range(6):\n",
    "        if i == 1:\n",
    "            random_list.append(random.randint(1, 12))\n",
    "        elif i == 2:\n",
    "            random_list.append(random.randint(1, 30))\n",
    "        elif i == 3:\n",
    "            random_list.append(random.randint(0, 23))\n",
    "        else:\n",
    "            random_list.append(random.randint(1, 60))  \n",
    "    rl = random_list\n",
    "    dt = datetime(year = rl[0] + 1960, month = rl[1], day = rl[2], hour = rl[3], minute = rl[4], second = rl[5])\n",
    "    return dt"
   ]
  },
  {
   "cell_type": "code",
   "execution_count": 90,
   "id": "f08082bd-c8ab-4f66-ae5a-91f069385035",
   "metadata": {},
   "outputs": [],
   "source": [
    "dt1 = create_datetimes()"
   ]
  },
  {
   "cell_type": "code",
   "execution_count": 91,
   "id": "17a8952a-5fb6-420b-9bf8-4dc40e53a28e",
   "metadata": {},
   "outputs": [],
   "source": [
    "dt2 = create_datetimes()"
   ]
  },
  {
   "cell_type": "code",
   "execution_count": 97,
   "id": "f75fefe6-c915-4ee3-8651-9bbd1b783aae",
   "metadata": {},
   "outputs": [
    {
     "name": "stdout",
     "output_type": "stream",
     "text": [
      "1987-06-06 20:12:53 1991-05-30 12:34:55\n"
     ]
    }
   ],
   "source": [
    "print(dt1, dt2)"
   ]
  },
  {
   "cell_type": "code",
   "execution_count": 95,
   "id": "b5f88eb3-125a-4af8-85ce-aaaa4f8f503d",
   "metadata": {},
   "outputs": [],
   "source": [
    "def diff(dt1, dt2):\n",
    "    td = max([dt1, dt2]) - min([dt1, dt2])\n",
    "    return td.total_seconds()//3600"
   ]
  },
  {
   "cell_type": "code",
   "execution_count": 96,
   "id": "b38a855f-7526-407c-8b52-f9c9a5a669cc",
   "metadata": {},
   "outputs": [
    {
     "data": {
      "text/plain": [
       "34888.0"
      ]
     },
     "execution_count": 96,
     "metadata": {},
     "output_type": "execute_result"
    }
   ],
   "source": [
    "diff(dt1, dt2)"
   ]
  },
  {
   "cell_type": "markdown",
   "id": "8801eddc-0838-4c14-990d-c2ebbf343b77",
   "metadata": {},
   "source": [
    "### **Exercise 6**\n",
    "\n",
    "Found which strings answer to the following patterns in the following texts:"
   ]
  },
  {
   "cell_type": "markdown",
   "id": "cfba9367-595d-4535-a55b-70e63c574f61",
   "metadata": {},
   "source": [
    "1. Detect all fruits the kids like.\n",
    "\n",
    "(you should find 'an apple', 'an orange', 'a banana' in the text)."
   ]
  },
  {
   "cell_type": "code",
   "execution_count": 98,
   "id": "167e61d4-cece-40f8-9656-bc6f0ddc707a",
   "metadata": {},
   "outputs": [],
   "source": [
    "txt1 = 'Sammy enjoys having a banana, an apple, an orange, and some figues, Danny enjoys having breakfast with a pineapple, an apple, a pear or some grapes.'"
   ]
  },
  {
   "cell_type": "markdown",
   "id": "2b93a486-476d-463e-8199-7338d6b7df92",
   "metadata": {},
   "source": [
    "2. Detect all phone numbers in the message:"
   ]
  },
  {
   "cell_type": "code",
   "execution_count": 99,
   "id": "ba032d71-b090-4e75-a16e-6e17230e9795",
   "metadata": {},
   "outputs": [],
   "source": [
    "txt2 = 'I called 932-014-675, then 902-345-671, then I also considered calling 789-345-124, but I finally called 765-432-843, and that was it.'"
   ]
  },
  {
   "cell_type": "markdown",
   "id": "655222b8-d278-4ffa-b46d-2fba61db744c",
   "metadata": {},
   "source": [
    "3. Detect all president names in the text:"
   ]
  },
  {
   "cell_type": "code",
   "execution_count": 100,
   "id": "d87af9b9-2334-41f5-a24b-9fe2e66196dc",
   "metadata": {},
   "outputs": [],
   "source": [
    "txt3 = 'Some presidents of the USA include Obama, Biden, Bush, Clinton, also Trump. Some others also include FDR, Taft, Nixon, Ford.'"
   ]
  },
  {
   "cell_type": "markdown",
   "id": "a6782b8d-4054-4496-bfe2-c2a82f1fdc1f",
   "metadata": {},
   "source": [
    "**Solution**"
   ]
  },
  {
   "cell_type": "code",
   "execution_count": 101,
   "id": "bda72a15-f00f-4e5b-a788-96da4274d95c",
   "metadata": {},
   "outputs": [],
   "source": [
    "import re"
   ]
  },
  {
   "cell_type": "code",
   "execution_count": 108,
   "id": "6c6522b5-740a-4057-ac12-2459fbfbbe68",
   "metadata": {},
   "outputs": [
    {
     "name": "stdout",
     "output_type": "stream",
     "text": [
      "<re.Match object; span=(19, 28), match=' a banana'>\n",
      "<re.Match object; span=(29, 38), match=' an apple'>\n",
      "<re.Match object; span=(39, 49), match=' an orange'>\n",
      "<re.Match object; span=(55, 66), match='some figues'>\n",
      "<re.Match object; span=(102, 114), match=' a pineapple'>\n",
      "<re.Match object; span=(115, 124), match=' an apple'>\n",
      "<re.Match object; span=(125, 132), match=' a pear'>\n",
      "<re.Match object; span=(136, 147), match='some grapes'>\n"
     ]
    }
   ],
   "source": [
    "pattern1 = r'(\\sa\\w?|some)\\s\\w+'\n",
    "\n",
    "for m in re.finditer(pattern1, txt1):\n",
    "    print(m)"
   ]
  },
  {
   "cell_type": "code",
   "execution_count": 110,
   "id": "24a79938-7fb8-450e-a1a6-767235824113",
   "metadata": {},
   "outputs": [
    {
     "name": "stdout",
     "output_type": "stream",
     "text": [
      "<re.Match object; span=(9, 20), match='932-014-675'>\n",
      "<re.Match object; span=(27, 38), match='902-345-671'>\n",
      "<re.Match object; span=(71, 82), match='789-345-124'>\n",
      "<re.Match object; span=(105, 116), match='765-432-843'>\n"
     ]
    }
   ],
   "source": [
    "pattern2 = r'\\d\\d\\d-\\d\\d\\d-\\d\\d\\d'\n",
    "\n",
    "for m in re.finditer(pattern2, txt2):\n",
    "    print(m)"
   ]
  },
  {
   "cell_type": "code",
   "execution_count": 115,
   "id": "d28544af-b23c-4a84-887e-7c3054e78c7a",
   "metadata": {},
   "outputs": [
    {
     "name": "stdout",
     "output_type": "stream",
     "text": [
      "<re.Match object; span=(34, 40), match=' Obama'>\n",
      "<re.Match object; span=(41, 47), match=' Biden'>\n",
      "<re.Match object; span=(48, 53), match=' Bush'>\n",
      "<re.Match object; span=(54, 62), match=' Clinton'>\n",
      "<re.Match object; span=(68, 74), match=' Trump'>\n",
      "<re.Match object; span=(75, 80), match=' Some'>\n",
      "<re.Match object; span=(100, 104), match=' FDR'>\n",
      "<re.Match object; span=(105, 110), match=' Taft'>\n",
      "<re.Match object; span=(111, 117), match=' Nixon'>\n",
      "<re.Match object; span=(118, 123), match=' Ford'>\n"
     ]
    }
   ],
   "source": [
    "pattern3 = r'\\s([A-Z][a-z]+|FDR)'\n",
    "\n",
    "for m in re.finditer(pattern3, txt3):\n",
    "    print(m)"
   ]
  },
  {
   "cell_type": "markdown",
   "id": "0866da80-5803-48e6-9d7e-253c146d7272",
   "metadata": {},
   "source": [
    "### **Exercise 7**\n",
    "\n",
    "Create a new object class called \"Operator\" that intakes a specific numeric value (attribute called value) and that has three different methods:\n",
    " - A first method returns the squared value + 5 of the number, method .square_me().\n",
    " - A second method that allows for changing the inputed value, i.e. method .change_value()\n",
    " - A third method that intakes a second number and calculates the multiplication of the two, i.e., method multiply_me()\n",
    "\n",
    "Then create an object from this class and demonstrate that the three methods, and the attribute, work as expected"
   ]
  },
  {
   "cell_type": "markdown",
   "id": "77b8aac5-0efb-4902-97b4-03f7a135852d",
   "metadata": {},
   "source": [
    "**Solution**"
   ]
  },
  {
   "cell_type": "code",
   "execution_count": 116,
   "id": "940d629b-ac28-4c8e-8e2c-0dd436130b55",
   "metadata": {},
   "outputs": [],
   "source": [
    "class Operator():\n",
    "    def __init__(self, number):\n",
    "        self.value = number\n",
    "        \n",
    "    def square_me(self):\n",
    "        return self.value**2 + 5\n",
    "    def change_value(self, number2):\n",
    "        self.value = number2\n",
    "        print(f'Changed value to {number2}')\n",
    "    def multiply_me(self, number3):\n",
    "        return self.value*number3"
   ]
  },
  {
   "cell_type": "code",
   "execution_count": 118,
   "id": "baf7e2b3-5617-4fbf-bb9f-f4c9f644f2af",
   "metadata": {},
   "outputs": [],
   "source": [
    "x = Operator(number = 5)"
   ]
  },
  {
   "cell_type": "code",
   "execution_count": 119,
   "id": "57a5da1b-1d4c-4b0a-b7f9-b813884ad4c8",
   "metadata": {},
   "outputs": [
    {
     "data": {
      "text/plain": [
       "5"
      ]
     },
     "execution_count": 119,
     "metadata": {},
     "output_type": "execute_result"
    }
   ],
   "source": [
    "x.value"
   ]
  },
  {
   "cell_type": "code",
   "execution_count": 120,
   "id": "8f22d2d3-bd4c-4dd0-9900-d88b082a819e",
   "metadata": {},
   "outputs": [
    {
     "data": {
      "text/plain": [
       "30"
      ]
     },
     "execution_count": 120,
     "metadata": {},
     "output_type": "execute_result"
    }
   ],
   "source": [
    "x.square_me()"
   ]
  },
  {
   "cell_type": "code",
   "execution_count": 121,
   "id": "f9ab6b53-7ddf-444b-840a-326d3ec0317a",
   "metadata": {},
   "outputs": [
    {
     "name": "stdout",
     "output_type": "stream",
     "text": [
      "Changed value to 2\n"
     ]
    }
   ],
   "source": [
    "x.change_value(2)"
   ]
  },
  {
   "cell_type": "code",
   "execution_count": 123,
   "id": "1c247454-160b-4c88-9aa9-0c9857ab9860",
   "metadata": {},
   "outputs": [
    {
     "data": {
      "text/plain": [
       "2"
      ]
     },
     "execution_count": 123,
     "metadata": {},
     "output_type": "execute_result"
    }
   ],
   "source": [
    "x.value"
   ]
  },
  {
   "cell_type": "code",
   "execution_count": 125,
   "id": "754ed400-c91e-4ef8-9b42-4990079681ef",
   "metadata": {},
   "outputs": [
    {
     "data": {
      "text/plain": [
       "9"
      ]
     },
     "execution_count": 125,
     "metadata": {},
     "output_type": "execute_result"
    }
   ],
   "source": [
    "x.square_me()"
   ]
  },
  {
   "cell_type": "code",
   "execution_count": 126,
   "id": "202264d1-4a8f-4132-901d-49f013a7d0ee",
   "metadata": {},
   "outputs": [
    {
     "data": {
      "text/plain": [
       "10"
      ]
     },
     "execution_count": 126,
     "metadata": {},
     "output_type": "execute_result"
    }
   ],
   "source": [
    "x.multiply_me(5)"
   ]
  },
  {
   "cell_type": "code",
   "execution_count": null,
   "id": "f54b2ed3-3f7b-41a7-87c4-32f1bce709c6",
   "metadata": {},
   "outputs": [],
   "source": []
  }
 ],
 "metadata": {
  "kernelspec": {
   "display_name": "Python 3 (ipykernel)",
   "language": "python",
   "name": "python3"
  },
  "language_info": {
   "codemirror_mode": {
    "name": "ipython",
    "version": 3
   },
   "file_extension": ".py",
   "mimetype": "text/x-python",
   "name": "python",
   "nbconvert_exporter": "python",
   "pygments_lexer": "ipython3",
   "version": "3.10.6"
  }
 },
 "nbformat": 4,
 "nbformat_minor": 5
}
