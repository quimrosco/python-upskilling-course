{
 "cells": [
  {
   "cell_type": "markdown",
   "id": "be05fbb8-37c4-4500-b809-128f2dfecc9f",
   "metadata": {},
   "source": [
    "# **05. Python Pandas II**"
   ]
  },
  {
   "cell_type": "markdown",
   "id": "e9a0007b-7099-49d7-8bf8-1db29c213e59",
   "metadata": {},
   "source": [
    "## **Homework Assignments / Coaching Session Doubts and Practice**"
   ]
  },
  {
   "cell_type": "markdown",
   "id": "9a79c530-d9b9-4fac-af8b-242be8bbd532",
   "metadata": {},
   "source": [
    "## **Exercise 1** \n",
    "\n",
    "We have a dataframe that considers different salaries for Data positions in different countries:\n",
    "\n",
    "    - Import the dataframe\n",
    "    - Do an initial exploration - What do you see?\n",
    "    - What's the compared mean Average Salary in ES, FR and the US? Find it out, using Pandas base exploratory funcitons."
   ]
  },
  {
   "cell_type": "markdown",
   "id": "f1b5c622-53f7-4371-aae1-5a40e7d2f58b",
   "metadata": {},
   "source": [
    "# **Exercise 2**\n",
    "\n",
    "Obtain a DataFrame that, per country, shows the mean salary, in local currency, and the maximum and minimum salaries, all per experience level."
   ]
  },
  {
   "cell_type": "markdown",
   "id": "272f417e-ff18-455d-85bb-eaf5fded1255",
   "metadata": {},
   "source": [
    "# **Exercise 3**\n",
    "\n",
    "There are many types of Data Jobs available.\n",
    "\n",
    "Create the same grouping as before, plus an added dimension, \"type of job\", created from scratch considering:\n",
    "\n",
    "    - If the title considers 'ML', 'Machine Learning', 'Science' or 'AI', then the category should be 'ML-Related'\n",
    "    - Else, if the title considers 'BI' or 'Business Intelligence', then it should be 'BI-Related'\n",
    "    - Else, if the title consders 'Analy', it should be 'Analyst'\n",
    "    - Else, if the title considers 'ETL' or 'Data Engineer' it should be 'Data Engineer'\n",
    "    - Else, if the title considers 'Cloud' or 'Architect', it should be 'Data/Cloud Architect'\n",
    "    - Else, the category should be 'Others'.\n",
    "    \n",
    "Think what flow of transformations you need to achieve this. Plus, take into account the elses as mentioned before!"
   ]
  },
  {
   "cell_type": "markdown",
   "id": "2ac9c8ef-f101-4274-9e8e-5435a24eb931",
   "metadata": {},
   "source": [
    "# **Exercise 4**\n",
    "\n",
    "Get a list of the unique countries from the previous dataset of salaries.\n",
    "\n",
    "Now, import the cost of living dataset.\n",
    "\n",
    "From the following countries: ('FR', 'US', 'UK', 'ES', 'JP', 'IT', 'DE', 'UA'), compare the average salary per position and type of job, as obtained before, with the cost of living, assuming that they live in the cities of FR: Paris; UK: London, USA: NYC, San Francisco, Austin; ES: Barcelona, Madrid; IT: Milan; JP: Tokyo, Osaka; DE: Berlin, Munich, Frankfurt, Köln; UA: Kiev. Do so by dividing the medium obtained salary by the cost of living index.\n",
    "\n",
    "For an entry level position, what's the most expensive city/country? And for a Mid one?\n"
   ]
  },
  {
   "cell_type": "code",
   "execution_count": null,
   "id": "8560f05b-0e47-437c-9f32-f8f763f739ac",
   "metadata": {},
   "outputs": [],
   "source": []
  }
 ],
 "metadata": {
  "kernelspec": {
   "display_name": "Python 3 (ipykernel)",
   "language": "python",
   "name": "python3"
  },
  "language_info": {
   "codemirror_mode": {
    "name": "ipython",
    "version": 3
   },
   "file_extension": ".py",
   "mimetype": "text/x-python",
   "name": "python",
   "nbconvert_exporter": "python",
   "pygments_lexer": "ipython3",
   "version": "3.10.6"
  }
 },
 "nbformat": 4,
 "nbformat_minor": 5
}
