{
 "cells": [
  {
   "cell_type": "markdown",
   "id": "6d3c6a23-7bbc-455b-9e3a-e3de4bd60ab7",
   "metadata": {},
   "source": [
    "# **01. Introduction to Python and Python Data Types**"
   ]
  },
  {
   "cell_type": "markdown",
   "id": "3cf7b9f0-ec57-40f2-a81f-268fa333e5e4",
   "metadata": {},
   "source": [
    "Welcome to our <font color=#f2cc38>**First Content Block**</font> In the Python Introduction Module! \n",
    "\n",
    "Today we will be covering all content from our **first steps** in Python to everything about the different **data types** we can find while developing Python code."
   ]
  },
  {
   "cell_type": "markdown",
   "id": "2481d307-1f43-4e88-b769-ca51fa96214b",
   "metadata": {},
   "source": [
    "## **01.1. Our Python first steps**"
   ]
  },
  {
   "cell_type": "markdown",
   "id": "873459de-fc0b-492f-848a-aea21fe63cdc",
   "metadata": {},
   "source": [
    "In this section, we will be reviewing core fundamental Python concepts, from main things to have in mind while writing and **structuring** Python code versus SQL code, to the concept of **libraries** and how to import them into Python, up to coding our first, most fundamental piece of code via the **print** statement."
   ]
  },
  {
   "cell_type": "markdown",
   "id": "2aa80830-00f3-4e59-a5af-2878b174d029",
   "metadata": {},
   "source": [
    "### **A Fundamental Principle of <font color=#f2cc38> Structuring Python </font> Code**"
   ]
  },
  {
   "cell_type": "markdown",
   "id": "3ee104fd-6e94-4d74-b6aa-646fd72610d1",
   "metadata": {},
   "source": [
    "One main thing all participants of this course have in common is that all of you have an outstanding SQL proficiency level. You have all been introduced to Python already, and worked in it, so you may well know that code structuring in Python is way different than code structuring in SQL. **Why is that so ?** SQL is a query language looking at making information requests to databases. As such, we would normally structure its code by means of \"dictating\" data transformation rules to our base data contained in the database. Because of that, **all commands** given by SQL target the modification of entire columns (think of e.g., COALESCE, or LOWER) or tables (think of e.g. GROUP BY or ORDER BY at a time). In summary, in SQL we **never deal with individual elements** (i.e., cells) of data at a time. However, **Python is based on that**.\n",
    "\n",
    "**Python coding targets individual objects at a time**, and every line of code has its aim on applying an individual transformation to one sole object, at its core. Fancier added modules on top of base Python, like Numpy or Pandas, may hide the reality of that, but while in SQL you never had to worry about how the database was dealing with individual objects, in Python you do have to concern yourself on how the code is running per element, in a most fundamnetal basis. And from there, we can extrapolate to dealing with multiple objects at a time, via the use of e.g., Loops.\n",
    "\n",
    "So, from now on, while structuring Python code in your head, think about writing modifications for individual objects, and iterating through groups of them to apply broad transformations in them."
   ]
  },
  {
   "cell_type": "markdown",
   "id": "d7a1fb45-6e1c-4c29-af38-2aa7749b3586",
   "metadata": {},
   "source": [
    "### **The Concept of <font color=#f2cc38> Libraries </font> in Python**"
   ]
  },
  {
   "cell_type": "markdown",
   "id": "ccba6e03-c08c-46e4-9dd1-5bf31077a01d",
   "metadata": {},
   "source": [
    "We spoke about Numpy and Pandas before. Python has an insane amunt of possibilities to code, the problem is that, in order to cover main functionalities on your day to day work requires a massive amount of code. Think about developing a **Deep Learning AI**. Machine Learning Engineers can't be coding each day from scratch the mathematical principles of a Neural Network. Instead, code is written once, and recycled every time. When that trascends individual use and steps into the territory of open-source sharing, one may prepare a **Library** i.e., a comprehensive collection of code to satisfy one function, coded by one or more individuals, which may depend on other libraries at a time, built on top of Python.\n",
    "\n",
    "Libraries are what allow users to code extremelly complicated concepts conceptually in **very few lines** of code, like being able to code the training of an AI in 5 to 10 lines of code if wanted.\n",
    "\n",
    "Libraries also have overlapping functionalities, like many that are useful for Data transformation and handling (pandas, or polars), Data Visualization (seaborn, plotly.express, etc.), Data Science (sklearn, tensorflow, pytorch, etc.). It's on our knowledge and preference to know when to use one or the other, or how to combine them to obtain the best results and simplicityout of our code.\n",
    "\n",
    " * Libraries must be imported in our Python Script. Let's see how to do that, via **import** and **pip**."
   ]
  },
  {
   "cell_type": "code",
   "execution_count": 13,
   "id": "80b1cb05-410a-47a5-9c0d-56030c792726",
   "metadata": {},
   "outputs": [],
   "source": [
    "# JupyterLab has predefined Installed packages, like math, pandas or numpy are. Let's import them both.\n",
    "import math\n",
    "\n",
    "# It's a best practice to import Pandas and Numpy with pseudonyms (pd and np). For that, we use the **as** statement.\n",
    "import pandas as pd\n",
    "import numpy as np"
   ]
  },
  {
   "cell_type": "code",
   "execution_count": 14,
   "id": "39d2412f-bf6c-437c-9bc2-bf1ef3abc4e3",
   "metadata": {},
   "outputs": [
    {
     "data": {
      "text/plain": [
       "array([1, 2, 3])"
      ]
     },
     "execution_count": 14,
     "metadata": {},
     "output_type": "execute_result"
    }
   ],
   "source": [
    "# Now we can run code with any of these libraries!\n",
    "np.array([1, 2, 3])"
   ]
  },
  {
   "cell_type": "markdown",
   "id": "fe5f96ad-57e7-4cff-b724-21908743e0b6",
   "metadata": {},
   "source": [
    " - If the library is not installed by default in JupyterLab, we have to install it using **pip install**"
   ]
  },
  {
   "cell_type": "code",
   "execution_count": 36,
   "id": "4cfaaef4-48f1-417e-8ad9-b3ef5fa7ee37",
   "metadata": {},
   "outputs": [
    {
     "name": "stdout",
     "output_type": "stream",
     "text": [
      "Collecting polars\n",
      "  Downloading polars-0.19.1-cp38-abi3-manylinux_2_17_x86_64.manylinux2014_x86_64.whl (19.4 MB)\n",
      "\u001b[2K     \u001b[90m━━━━━━━━━━━━━━━━━━━━━━━━━━━━━━━━━━━━━━━━\u001b[0m \u001b[32m19.4/19.4 MB\u001b[0m \u001b[31m41.5 MB/s\u001b[0m eta \u001b[36m0:00:00\u001b[0m00:01\u001b[0m00:01\u001b[0m\n",
      "\u001b[?25hInstalling collected packages: polars\n",
      "Successfully installed polars-0.19.1\n"
     ]
    }
   ],
   "source": [
    "!pip install polars"
   ]
  },
  {
   "cell_type": "markdown",
   "id": "650acf40-5d94-42c1-ac66-66d358111ca7",
   "metadata": {},
   "source": [
    " - If we want to omit all text associated with installing a package, just use a '-q' in the end:"
   ]
  },
  {
   "cell_type": "code",
   "execution_count": 16,
   "id": "580ece5f-7385-4ba3-9089-3406d60b819b",
   "metadata": {},
   "outputs": [],
   "source": [
    "!pip install geojson -q"
   ]
  },
  {
   "cell_type": "markdown",
   "id": "1f241921-3e3c-4297-8dc4-d8b7eef8b7c0",
   "metadata": {},
   "source": [
    "### **The <font color=#f2cc38> print </font> statement (this wouldn't be a Python course without it)**"
   ]
  },
  {
   "cell_type": "markdown",
   "id": "5f844660-0ac7-4479-b13d-dc2d57b2761e",
   "metadata": {},
   "source": [
    "Despite Jupyter Notebook having a predefined functionality to show the resulti of a piece of code when executed, and a variable is not assigned to said result, in many environments where code is executed that is not the case.\n",
    "\n",
    "Instead, we make use of the **print** statement, which lets us visualize the result of a piece of code. The print statement is ideal for **debugging** i.e., finding out which piece of code is making our whole code crash.\n",
    "\n",
    "Normally, the first piece of code someone writes is **'Hello World'** in Python. So let's pretend we haven't run the cells above, and let's execute our first print statement."
   ]
  },
  {
   "cell_type": "code",
   "execution_count": 18,
   "id": "0559d643-6407-4e0e-8a0d-443fc8ef0a16",
   "metadata": {},
   "outputs": [
    {
     "name": "stdout",
     "output_type": "stream",
     "text": [
      "Hello World!\n"
     ]
    }
   ],
   "source": [
    "print('Hello World!')"
   ]
  },
  {
   "cell_type": "markdown",
   "id": "bfc0c3bf-695d-4703-a0fb-dedebde97c4e",
   "metadata": {},
   "source": [
    "## **01.2. Assigning Variables**\n",
    "\n",
    "Python is fully based on the use of variables. That means that we will be storing a value in a \"predefined name\" (called variable) so that we can make a recurrent use of it, or modify it when needed.\n",
    "\n",
    "Let's see how to create one:"
   ]
  },
  {
   "cell_type": "code",
   "execution_count": 1,
   "id": "fcfb5afc-8a5e-4cd0-a593-abd106bc25c8",
   "metadata": {},
   "outputs": [],
   "source": [
    "# let's generate a variable called 'x' and assign it our opening sentence. We do it via the use of an equal.\n",
    "\n",
    "x = 'Hello World'"
   ]
  },
  {
   "cell_type": "code",
   "execution_count": 2,
   "id": "c7ebe1ce-fe03-47b5-97d6-e0a0620ab8df",
   "metadata": {},
   "outputs": [
    {
     "name": "stdout",
     "output_type": "stream",
     "text": [
      "Hello World\n"
     ]
    }
   ],
   "source": [
    "print(x)"
   ]
  },
  {
   "cell_type": "markdown",
   "id": "0795e177-8932-4a8e-bc63-2ae04cbb5ae4",
   "metadata": {},
   "source": [
    "At the same time, we can reassign it, and give it another value:"
   ]
  },
  {
   "cell_type": "code",
   "execution_count": 3,
   "id": "1e4b44b9-8a4a-4189-9341-ac67a3483637",
   "metadata": {},
   "outputs": [
    {
     "name": "stdout",
     "output_type": "stream",
     "text": [
      "Another Value\n"
     ]
    }
   ],
   "source": [
    "x = 'Another Value'\n",
    "print(x)"
   ]
  },
  {
   "cell_type": "markdown",
   "id": "dedf8d26-8ae0-468c-a062-80ce29f1d4bd",
   "metadata": {},
   "source": [
    "## **01.3. Types of Objects**\n",
    "\n",
    "Python is fundamented on the use of **objects**. So far, we have dealt with just one type of object, like 'Hello World!' was, representing one sentence. However, there are many more of them. Let's get a quick overview on the most important of them, with which we will be working:\n",
    "\n",
    " - **Numerical Objects**. Numerical objects aim to represent numbers, and they consider different **object types**, like **integers** or **floats**.\n",
    " - **Booleans**. Type of Objects representing True or False values.\n",
    " - **Strings**. Strings represent texts in Python.\n",
    " - **Lists**. Lists are one type of object iming to describe a **sequence of other object elements** in Python.\n",
    " - **Sets**. Like lists, they represent a sequence of objects in Python, but their core components must not be repeated therein.\n",
    " - **Tuples**. Sequence-representing objects, like lists, that unlike them are _immutable_ i.e., their core components cannot be canged.\n",
    " - **Dictionaries**. Dictionaries are objects aiming to correlate sets of values among each other.\n",
    "\n",
    "throughout this section, we will be **reviewing all of them**, as well as other core concepts, like further concerning the **printing statement** or **comparison operators**, linked to some of them."
   ]
  },
  {
   "cell_type": "markdown",
   "id": "4fca6f7a-9d60-411d-aa93-2b6754c3787b",
   "metadata": {},
   "source": [
    "### **01.3.1. <font color=#f2cc38> Numerical </font> Objects in Python**"
   ]
  },
  {
   "cell_type": "markdown",
   "id": "2554bf98-cd44-45c3-b6c9-19c251117d4d",
   "metadata": {},
   "source": [
    "In our Python journey, we are mainly going to encounter two main types of numercial objects:\n",
    " - **ints**: they are the object type taking care of representing integers (like 1, 3, 10, -4).\n",
    " - **floats**: they are the object type taking care of representing fractional numbers, exponential ones, etc. (like 1.4, 3e4, 2E2, etc.).\n",
    " \n",
    "Numerical objects can be **operated with**. Let's oversee some fundamental operations that can be made with them:"
   ]
  },
  {
   "cell_type": "markdown",
   "id": "b8dc8d94-6d13-492f-997d-64b41108f10a",
   "metadata": {},
   "source": [
    "#### **Arithmetic Operations with Numerical Objects**"
   ]
  },
  {
   "cell_type": "markdown",
   "id": "614c6898-5fc9-46e8-b160-ab437cbb2c0a",
   "metadata": {},
   "source": [
    "Let's get an overview on all main possible operations to be done with numerical objects:"
   ]
  },
  {
   "cell_type": "code",
   "execution_count": 1,
   "id": "22e38425-9086-40e2-b11c-0d9b9789157b",
   "metadata": {},
   "outputs": [
    {
     "name": "stdout",
     "output_type": "stream",
     "text": [
      "3\n",
      "----\n",
      "9\n",
      "----\n",
      "4\n",
      "----\n",
      "3.5\n",
      "----\n",
      "49\n"
     ]
    }
   ],
   "source": [
    "# Numbers can be added, subtracted, multiplied, divided and powered\n",
    "print(2+1)\n",
    "print('----')\n",
    "print(10-1)\n",
    "print('----')\n",
    "print(2*2)\n",
    "print('----')\n",
    "print(7/2)\n",
    "print('----')\n",
    "print(7**2)"
   ]
  },
  {
   "cell_type": "code",
   "execution_count": 3,
   "id": "698e469a-5a8f-4e83-8443-43aef03e7536",
   "metadata": {},
   "outputs": [
    {
     "name": "stdout",
     "output_type": "stream",
     "text": [
      "3\n",
      "----\n",
      "0\n"
     ]
    }
   ],
   "source": [
    "# Also, we can do a specific operation to round a division to the nearest integer on the lower end of the calculation:\n",
    "print(10//3)\n",
    "print('----')\n",
    "print(9//10)"
   ]
  },
  {
   "cell_type": "code",
   "execution_count": 5,
   "id": "6cbc29da-7928-4020-9700-4931f97ba719",
   "metadata": {},
   "outputs": [
    {
     "name": "stdout",
     "output_type": "stream",
     "text": [
      "1\n"
     ]
    }
   ],
   "source": [
    "# or, also, calculate the remainder of a division between two numbers in the following way:\n",
    "print(10%3)"
   ]
  },
  {
   "cell_type": "markdown",
   "id": "e97ac65f-58fa-46fe-a545-36a52cd73a92",
   "metadata": {},
   "source": [
    "The **remainder** of a division can be used to see whether one number is a **multiple** of another or not (whether the remainder is equal to 0 or not)."
   ]
  },
  {
   "cell_type": "markdown",
   "id": "8d8aab4b-3d98-4f0f-9808-47ad0aab407a",
   "metadata": {},
   "source": [
    "Also, be sure to use parentheses to prioritize certain **orders** among numerical operations:"
   ]
  },
  {
   "cell_type": "code",
   "execution_count": 6,
   "id": "5364b744-7668-465a-a43b-67089e5813e0",
   "metadata": {},
   "outputs": [
    {
     "name": "stdout",
     "output_type": "stream",
     "text": [
      "35\n",
      "---\n",
      "45\n"
     ]
    }
   ],
   "source": [
    "# It's not the same printing 'a' than 'b'. Remember that the order of operations alters the result.\n",
    "a = 5 + 10 * 3\n",
    "b = (5+10) * 3\n",
    "print(a)\n",
    "print('---')\n",
    "print(b)"
   ]
  },
  {
   "cell_type": "markdown",
   "id": "04e4579f-7d10-4212-af2f-655544110ffd",
   "metadata": {},
   "source": [
    "#### **Using Variables with Objects**"
   ]
  },
  {
   "cell_type": "markdown",
   "id": "ff2a4f58-abfe-4306-bf91-1d01675e4ce3",
   "metadata": {},
   "source": [
    "Let's get a further overview on variables"
   ]
  },
  {
   "cell_type": "code",
   "execution_count": 22,
   "id": "066a2923-ba32-4435-8a5c-7f0bfbab3f0f",
   "metadata": {},
   "outputs": [],
   "source": [
    "a = 4"
   ]
  },
  {
   "cell_type": "code",
   "execution_count": 23,
   "id": "50e456df-ae6c-43f1-a413-e0126ad63d1e",
   "metadata": {},
   "outputs": [],
   "source": [
    "b = 5"
   ]
  },
  {
   "cell_type": "code",
   "execution_count": 24,
   "id": "0d10c690-670a-4d2c-bd34-e818492ebd9a",
   "metadata": {},
   "outputs": [
    {
     "data": {
      "text/plain": [
       "9"
      ]
     },
     "execution_count": 24,
     "metadata": {},
     "output_type": "execute_result"
    }
   ],
   "source": [
    "# You can operate between variables\n",
    "\n",
    "a + b"
   ]
  },
  {
   "cell_type": "code",
   "execution_count": 8,
   "id": "696d7b65-355d-4133-b23e-1ee795d7754c",
   "metadata": {},
   "outputs": [
    {
     "name": "stdout",
     "output_type": "stream",
     "text": [
      "40\n"
     ]
    }
   ],
   "source": [
    "# You can redefine variables by the use of the same variable:\n",
    "\n",
    "a = a + 5\n",
    "\n",
    "print(a)"
   ]
  },
  {
   "cell_type": "code",
   "execution_count": 36,
   "id": "946bb908-67df-4f23-a75e-7b6f063e22ce",
   "metadata": {},
   "outputs": [
    {
     "name": "stdout",
     "output_type": "stream",
     "text": [
      "629\n"
     ]
    }
   ],
   "source": [
    "# There's a quicker way to the what has been done in the cell above - this command sums 5 to the original variable a:\n",
    "\n",
    "a += 5\n",
    "\n",
    "print(a)"
   ]
  },
  {
   "cell_type": "code",
   "execution_count": 37,
   "id": "a8d302e4-29db-4c00-9cd5-775f309d9b94",
   "metadata": {},
   "outputs": [
    {
     "name": "stdout",
     "output_type": "stream",
     "text": [
      "2\n",
      "5\n",
      "8\n"
     ]
    }
   ],
   "source": [
    "# And it can also be used to reference another variable - in this case, we're summing b to a every time we execute it\n",
    "\n",
    "a = 2\n",
    "b = 3\n",
    "print(a)\n",
    "a+=b\n",
    "print(a)\n",
    "a+=b\n",
    "print(a)"
   ]
  },
  {
   "cell_type": "markdown",
   "id": "53433c63-330d-4694-90b2-6a76fb170a79",
   "metadata": {},
   "source": [
    "### **01.3.2. <font color=#f2cc38> Boolean </font> Objects in Python and  <font color=#f2cc38> Comparison </font> Operators**"
   ]
  },
  {
   "cell_type": "markdown",
   "id": "b5eac89c-1c84-4e49-bb8f-61b83afcec52",
   "metadata": {},
   "source": [
    "#### **Booleans**\n",
    "\n",
    "Booleans are objects that either indicate whether a statement is true or false. Booleans also include a third object to represent the absence of value of a placeholder e.g., a 'None' object."
   ]
  },
  {
   "cell_type": "code",
   "execution_count": 13,
   "id": "baffc902-f78a-40e2-b354-bad8d33ad0af",
   "metadata": {},
   "outputs": [
    {
     "data": {
      "text/plain": [
       "True"
      ]
     },
     "execution_count": 13,
     "metadata": {},
     "output_type": "execute_result"
    }
   ],
   "source": [
    "True"
   ]
  },
  {
   "cell_type": "code",
   "execution_count": 14,
   "id": "b4722513-2d45-4525-b422-8f5c9c8b8440",
   "metadata": {},
   "outputs": [
    {
     "data": {
      "text/plain": [
       "False"
      ]
     },
     "execution_count": 14,
     "metadata": {},
     "output_type": "execute_result"
    }
   ],
   "source": [
    "False"
   ]
  },
  {
   "cell_type": "code",
   "execution_count": 15,
   "id": "78fccb5b-4c7b-44c0-b369-abeaf058ed6e",
   "metadata": {},
   "outputs": [],
   "source": [
    "None"
   ]
  },
  {
   "cell_type": "code",
   "execution_count": 16,
   "id": "c9b7f3d1-5af5-4ab2-805e-7678e26ae730",
   "metadata": {},
   "outputs": [
    {
     "name": "stdout",
     "output_type": "stream",
     "text": [
      "True\n"
     ]
    }
   ],
   "source": [
    "a = True\n",
    "print(a)"
   ]
  },
  {
   "cell_type": "markdown",
   "id": "267a8c0e-a85e-4086-a62c-2cfd07c875c0",
   "metadata": {},
   "source": [
    "#### **Comparison Operators**\n",
    "\n",
    "Booleans can also be represented by comparison operator expressions, basically consisting on the comparison of different objects to assess whether an assessment is True or False. For instance:"
   ]
  },
  {
   "cell_type": "code",
   "execution_count": 19,
   "id": "49af36bd-4610-4cfb-a6c4-ee9d4dd24df8",
   "metadata": {},
   "outputs": [
    {
     "name": "stdout",
     "output_type": "stream",
     "text": [
      "False\n"
     ]
    }
   ],
   "source": [
    "# It's clear that 3 is not greater to 2. We obtain a False statement. Therefore, as a matter of fact, the expression '3 < 2' is a Boolean, as it acts as a false.\n",
    "print(3 < 2)"
   ]
  },
  {
   "cell_type": "markdown",
   "id": "208a509d-cd9d-4eba-8d7a-c9ca10d866c3",
   "metadata": {},
   "source": [
    "Main Comparison Operators to review in Python:\n",
    "\n",
    " - ==: Equals to\n",
    " - !=: Different than\n",
    " - Either >; <: Greater; Lower than\n",
    " - Either >=; <=: Greater or equal than; Lower or equal than\n",
    "\n",
    "Let's review them:"
   ]
  },
  {
   "cell_type": "code",
   "execution_count": 39,
   "id": "cd8c4fda-ffc0-49c3-9c42-8be6bc6a4946",
   "metadata": {},
   "outputs": [
    {
     "data": {
      "text/plain": [
       "False"
      ]
     },
     "execution_count": 39,
     "metadata": {},
     "output_type": "execute_result"
    }
   ],
   "source": [
    "3 == 2"
   ]
  },
  {
   "cell_type": "code",
   "execution_count": 22,
   "id": "d0d75f98-0531-4481-a91b-c26f0c5cc4c2",
   "metadata": {},
   "outputs": [
    {
     "data": {
      "text/plain": [
       "True"
      ]
     },
     "execution_count": 22,
     "metadata": {},
     "output_type": "execute_result"
    }
   ],
   "source": [
    "3 != 2"
   ]
  },
  {
   "cell_type": "code",
   "execution_count": 26,
   "id": "cd040cec-bdf5-48a6-9ace-0dc97918ae80",
   "metadata": {},
   "outputs": [
    {
     "data": {
      "text/plain": [
       "False"
      ]
     },
     "execution_count": 26,
     "metadata": {},
     "output_type": "execute_result"
    }
   ],
   "source": [
    "3 < 2"
   ]
  },
  {
   "cell_type": "code",
   "execution_count": 27,
   "id": "c1def44e-4be3-43dc-9f2d-439cabb8fbf1",
   "metadata": {},
   "outputs": [
    {
     "data": {
      "text/plain": [
       "True"
      ]
     },
     "execution_count": 27,
     "metadata": {},
     "output_type": "execute_result"
    }
   ],
   "source": [
    "2 >= 2"
   ]
  },
  {
   "cell_type": "markdown",
   "id": "f353d79f-dec7-4cc0-bddb-4864f3e55d86",
   "metadata": {},
   "source": [
    "#### **Multiple Conditions**\n",
    "\n",
    "If we want to test the veracity of multiple statements at a time, we can either chain them if applicable, or use the **and** or **or** statements:"
   ]
  },
  {
   "cell_type": "code",
   "execution_count": 28,
   "id": "bb559682-474d-4af0-ac7b-e57bcdb08736",
   "metadata": {},
   "outputs": [
    {
     "data": {
      "text/plain": [
       "True"
      ]
     },
     "execution_count": 28,
     "metadata": {},
     "output_type": "execute_result"
    }
   ],
   "source": [
    "10 < 50 < 100"
   ]
  },
  {
   "cell_type": "code",
   "execution_count": 30,
   "id": "8e613d86-a990-47ad-8742-08b50752d46e",
   "metadata": {},
   "outputs": [
    {
     "data": {
      "text/plain": [
       "False"
      ]
     },
     "execution_count": 30,
     "metadata": {},
     "output_type": "execute_result"
    }
   ],
   "source": [
    "(1+5) > 3 and 2*3 > 10"
   ]
  },
  {
   "cell_type": "code",
   "execution_count": 31,
   "id": "308648d3-989a-4621-acfa-0dee62583cf1",
   "metadata": {},
   "outputs": [
    {
     "data": {
      "text/plain": [
       "True"
      ]
     },
     "execution_count": 31,
     "metadata": {},
     "output_type": "execute_result"
    }
   ],
   "source": [
    "(1+5) > 3 or 2*3 > 10"
   ]
  },
  {
   "cell_type": "markdown",
   "id": "152fd070-5af5-4200-a7cf-5e17d25b4333",
   "metadata": {},
   "source": [
    "To see it more clearly:"
   ]
  },
  {
   "cell_type": "code",
   "execution_count": 33,
   "id": "e1a23708-7fbb-43b8-b669-e7a4b22df5b8",
   "metadata": {},
   "outputs": [
    {
     "data": {
      "text/plain": [
       "False"
      ]
     },
     "execution_count": 33,
     "metadata": {},
     "output_type": "execute_result"
    }
   ],
   "source": [
    "True and False"
   ]
  },
  {
   "cell_type": "code",
   "execution_count": 35,
   "id": "1def49f3-63d3-4f53-910a-339c50a73231",
   "metadata": {},
   "outputs": [
    {
     "data": {
      "text/plain": [
       "True"
      ]
     },
     "execution_count": 35,
     "metadata": {},
     "output_type": "execute_result"
    }
   ],
   "source": [
    "False or True"
   ]
  },
  {
   "cell_type": "markdown",
   "id": "bbe50016-746d-4823-bf5a-89abe7125d02",
   "metadata": {},
   "source": [
    "### **01.3.3. <font color=#f2cc38> Strings </font> in Python**\n",
    "\n",
    "A String is a representation of text information e.g., words or sentences.\n",
    "\n",
    "Despite seeing them as that, strings can also be considered a **sequence of elements** i.e., a sequence of individual characters, that we can access independently by means of **indexing and slicing** strings."
   ]
  },
  {
   "cell_type": "code",
   "execution_count": 37,
   "id": "b39cef71-3a9c-49c2-a926-c86007ef3337",
   "metadata": {},
   "outputs": [
    {
     "name": "stdout",
     "output_type": "stream",
     "text": [
      "this is string1\n",
      "this is string1 again\n"
     ]
    }
   ],
   "source": [
    "# Strings can either be defined with single quotation marks:\n",
    "\n",
    "print('this is string1')\n",
    "\n",
    "# as well as double quotation marks, both are the same\n",
    "print(\"this is string1 again\")\n"
   ]
  },
  {
   "cell_type": "markdown",
   "id": "3a460e6e-5d0b-41f3-b5d7-3e05f9931a74",
   "metadata": {},
   "source": [
    "#### **Indexing and Slicing Strings**"
   ]
  },
  {
   "cell_type": "markdown",
   "id": "b37e442f-755e-4ea0-b36d-fff0b7d8ba30",
   "metadata": {},
   "source": [
    "Let's first check that strings are actually a sequence of infividual characters. We can do that via the use of the **len()** function, which states the amount of elements included in an object:"
   ]
  },
  {
   "cell_type": "code",
   "execution_count": 38,
   "id": "58314fa2-a474-4eec-8365-e11905a9604c",
   "metadata": {},
   "outputs": [
    {
     "data": {
      "text/plain": [
       "5"
      ]
     },
     "execution_count": 38,
     "metadata": {},
     "output_type": "execute_result"
    }
   ],
   "source": [
    "len('hello')"
   ]
  },
  {
   "cell_type": "markdown",
   "id": "2b1b7c4b-c414-49a5-9015-4c0bbedf4f6c",
   "metadata": {},
   "source": [
    "As we can see, there are many individual components in a string. What if we want to extract just some of them? Let's **Index**"
   ]
  },
  {
   "cell_type": "code",
   "execution_count": 43,
   "id": "e7e75ff2-f81f-4519-a542-80e423d2727f",
   "metadata": {},
   "outputs": [],
   "source": [
    "x = 'hello'"
   ]
  },
  {
   "cell_type": "code",
   "execution_count": 43,
   "id": "9eec6d17-2568-434e-8f85-16ffcae898ba",
   "metadata": {},
   "outputs": [
    {
     "name": "stdout",
     "output_type": "stream",
     "text": [
      "h\n",
      "---\n",
      "e\n",
      "---\n",
      "l\n",
      "---\n",
      "l\n",
      "---\n",
      "o\n"
     ]
    }
   ],
   "source": [
    "# The first element is represented by a 0, the second a 1, etc.\n",
    "\n",
    "print(x[0])\n",
    "print('---')\n",
    "print(x[1])\n",
    "print('---')\n",
    "print(x[2])\n",
    "print('---')\n",
    "print(x[3])\n",
    "print('---')\n",
    "print(x[4])"
   ]
  },
  {
   "cell_type": "code",
   "execution_count": 46,
   "id": "2f61bbab-e013-4e6f-89c1-3c89708f315f",
   "metadata": {},
   "outputs": [
    {
     "name": "stdout",
     "output_type": "stream",
     "text": [
      "o\n",
      "---\n",
      "l\n",
      "---\n",
      "l\n",
      "---\n",
      "e\n",
      "---\n",
      "h\n"
     ]
    }
   ],
   "source": [
    "# If we want to start by the ending, we can use negative indexes:\n",
    "\n",
    "print(x[-1])\n",
    "print('---')\n",
    "print(x[-2])\n",
    "print('---')\n",
    "print(x[-3])\n",
    "print('---')\n",
    "print(x[-4])\n",
    "print('---')\n",
    "print(x[-5])"
   ]
  },
  {
   "cell_type": "markdown",
   "id": "6e12157d-7a7a-40d7-9c96-85125582497c",
   "metadata": {},
   "source": [
    "**Sequencing** aids in extracting multiple chunks of text:"
   ]
  },
  {
   "cell_type": "code",
   "execution_count": 48,
   "id": "dca92ab2-3dc3-460b-b82b-457a1aadba9e",
   "metadata": {},
   "outputs": [],
   "source": [
    "x = 'hello world'"
   ]
  },
  {
   "cell_type": "code",
   "execution_count": 50,
   "id": "ac250a69-4af6-4b14-b7cb-2b8ef07c972a",
   "metadata": {},
   "outputs": [
    {
     "data": {
      "text/plain": [
       "'hello'"
      ]
     },
     "execution_count": 50,
     "metadata": {},
     "output_type": "execute_result"
    }
   ],
   "source": [
    "x[:5]"
   ]
  },
  {
   "cell_type": "code",
   "execution_count": 51,
   "id": "be035e88-0b81-4f33-9ed3-88b83f770291",
   "metadata": {},
   "outputs": [
    {
     "data": {
      "text/plain": [
       "'world'"
      ]
     },
     "execution_count": 51,
     "metadata": {},
     "output_type": "execute_result"
    }
   ],
   "source": [
    "x[6:]"
   ]
  },
  {
   "cell_type": "code",
   "execution_count": 52,
   "id": "7f319096-c6ae-4a8a-affa-2c8aef91e864",
   "metadata": {},
   "outputs": [
    {
     "data": {
      "text/plain": [
       "'hello worl'"
      ]
     },
     "execution_count": 52,
     "metadata": {},
     "output_type": "execute_result"
    }
   ],
   "source": [
    "x[:-1]"
   ]
  },
  {
   "cell_type": "markdown",
   "id": "27a3307a-7b6c-432f-b306-9d2536fda693",
   "metadata": {},
   "source": [
    "**Quick Exercise**"
   ]
  },
  {
   "cell_type": "markdown",
   "id": "076c1917-f860-4056-9f26-f88e9696e148",
   "metadata": {},
   "source": [
    "Obtain in three different variables the name of both presidents and of the discussed country"
   ]
  },
  {
   "cell_type": "code",
   "execution_count": 1,
   "id": "3ceea1c3-7d54-45f5-aff1-a2a5ab8a831e",
   "metadata": {},
   "outputs": [],
   "source": [
    "s = \"Mr. Kim and Mr. Putin are expected to discuss military cooperation between their countries, including the possibility of North Korea supplying ...\""
   ]
  },
  {
   "cell_type": "code",
   "execution_count": 50,
   "id": "27520008-4c03-4031-b236-7f2b5d0941a1",
   "metadata": {},
   "outputs": [],
   "source": [
    "k = s[4:7]\n",
    "p = s[16:21]\n",
    "nk = s[-25:-14]"
   ]
  },
  {
   "cell_type": "markdown",
   "id": "c5a45ce2-9afd-4936-bcff-f33e0b2a88d4",
   "metadata": {},
   "source": [
    "#### **Operating with Strings**\n",
    "\n",
    "We can sum and multiply a string to obtain diferent values:"
   ]
  },
  {
   "cell_type": "code",
   "execution_count": 65,
   "id": "21683bf1-594a-4021-ae8d-0dd6821185de",
   "metadata": {},
   "outputs": [
    {
     "data": {
      "text/plain": [
       "'hello world'"
      ]
     },
     "execution_count": 65,
     "metadata": {},
     "output_type": "execute_result"
    }
   ],
   "source": [
    "'hello' + ' ' + 'world'"
   ]
  },
  {
   "cell_type": "code",
   "execution_count": 66,
   "id": "1e98d3b1-1ed5-479a-92fb-7b35ee5f8a60",
   "metadata": {},
   "outputs": [
    {
     "data": {
      "text/plain": [
       "'hello hello hello hello '"
      ]
     },
     "execution_count": 66,
     "metadata": {},
     "output_type": "execute_result"
    }
   ],
   "source": [
    "'hello '*4"
   ]
  },
  {
   "cell_type": "markdown",
   "id": "01908bdc-f9b7-4c1b-803d-9e5b72eafdbb",
   "metadata": {},
   "source": [
    "#### **Print Formatting**\n",
    "\n",
    "What if we want to prepare a print statement that showcases a result of the code? We use print formatting. This is most useful when **debugging** code, beacuse this way we can get what are the results of individual parts of code that are written.\n",
    "\n",
    "Let's see how to do that:"
   ]
  },
  {
   "cell_type": "code",
   "execution_count": 55,
   "id": "de2a09fe-92cd-464d-a6ab-7a68d0a9486b",
   "metadata": {},
   "outputs": [
    {
     "data": {
      "text/plain": [
       "True"
      ]
     },
     "execution_count": 55,
     "metadata": {},
     "output_type": "execute_result"
    }
   ],
   "source": [
    "'THE' == \"THE\""
   ]
  },
  {
   "cell_type": "code",
   "execution_count": 1,
   "id": "0f43d651-d1ae-4865-b46c-acfce6e76477",
   "metadata": {},
   "outputs": [
    {
     "name": "stdout",
     "output_type": "stream",
     "text": [
      "My name is Batman\n"
     ]
    }
   ],
   "source": [
    "name = 'Batman'\n",
    "print(f\"My name is {name}\")"
   ]
  },
  {
   "cell_type": "markdown",
   "id": "f1747011-854a-4677-99e8-afd0a3efbfec",
   "metadata": {},
   "source": [
    "This cannot only be done with string variables, but with whatever type of object value:"
   ]
  },
  {
   "cell_type": "code",
   "execution_count": 54,
   "id": "0a750495-795d-40a0-afe9-0d1a5f9126c7",
   "metadata": {},
   "outputs": [
    {
     "name": "stdout",
     "output_type": "stream",
     "text": [
      "Today's temperature is 27ºC\n"
     ]
    }
   ],
   "source": [
    "temperature = 27\n",
    "print(f\"Today's temperature is {temperature}ºC\")"
   ]
  },
  {
   "cell_type": "markdown",
   "id": "acb5ae55-8c21-461a-9006-71eb68a8e387",
   "metadata": {},
   "source": [
    "#### **Introduction to Functions and Methods**\n",
    "\n",
    "In Python, we find a couple of characteristics worth mentioning that are related to performing actions. These are **functions** and **methods**. \n",
    "\n",
    "A **function** is an isolated piece of code that is called to perform an action. A function can be applied over an object or it can act independently of any, depending on the arguments it requires. The idea, however, is that it's an **external element** to the object that is applied over it. Think of the **print()** or **len()** functions. Both of them are called an applied over an object to perform different actions. We will see that better during the following lecture.\n",
    "\n",
    "A **method** is a specific coded action that is always **related to an object class**. That means that the action itself is always the same no matter what what the object is, as long as it belongs to the same class. Let me present an example. Strings, just because of being strings, have specific functionalities such as, for instance, the **.lower()** method, just renders any string lowercase. Over this lecture, we will be overseeing a couple of main important method for some of the most basic Python object types, like strings and lists. Concerning methods, we will not be diving deeply on how to code ad-hoc any of them. However, we will have a short introduction on Object Oriented Programming some modules later, just to have a better grasp on Python's Object oriented Programming."
   ]
  },
  {
   "cell_type": "markdown",
   "id": "35ff71ef-8734-4613-bf13-cea31947eb0e",
   "metadata": {},
   "source": [
    "#### **Useful String Methods**"
   ]
  },
  {
   "cell_type": "markdown",
   "id": "b296df13-5a33-4b7b-9772-b95dc8d2de42",
   "metadata": {},
   "source": [
    "**.upper(), .lower(), .capitalize()**\n",
    "\n",
    "They are used to render a string uppercase, or lowercase, or capitalized, respectively."
   ]
  },
  {
   "cell_type": "code",
   "execution_count": 64,
   "id": "2e0f20c8-02cf-4ca8-aed4-e9d652ab9bf4",
   "metadata": {},
   "outputs": [
    {
     "data": {
      "text/plain": [
       "'HELLO WORLD'"
      ]
     },
     "execution_count": 64,
     "metadata": {},
     "output_type": "execute_result"
    }
   ],
   "source": [
    "x = 'hello world'\n",
    "x.upper()"
   ]
  },
  {
   "cell_type": "code",
   "execution_count": 65,
   "id": "dd2d1226-02f9-4678-9b97-715fb203513f",
   "metadata": {},
   "outputs": [
    {
     "data": {
      "text/plain": [
       "'hello world'"
      ]
     },
     "execution_count": 65,
     "metadata": {},
     "output_type": "execute_result"
    }
   ],
   "source": [
    "# However, beware that this does not effect a permanent change onto the object, something that other methods (like some related to lists) do.\n",
    "x"
   ]
  },
  {
   "cell_type": "code",
   "execution_count": 10,
   "id": "ad0a72f7-825e-40c8-8a8e-4aa998406aa3",
   "metadata": {},
   "outputs": [
    {
     "name": "stdout",
     "output_type": "stream",
     "text": [
      "hello world\n"
     ]
    }
   ],
   "source": [
    "x = 'HELLO WORLD'\n",
    "x = x.lower()\n",
    "print(x)"
   ]
  },
  {
   "cell_type": "code",
   "execution_count": 11,
   "id": "b731479c-6927-40d4-a0c3-d4e0513f57c8",
   "metadata": {},
   "outputs": [
    {
     "data": {
      "text/plain": [
       "'Hello world'"
      ]
     },
     "execution_count": 11,
     "metadata": {},
     "output_type": "execute_result"
    }
   ],
   "source": [
    "x.capitalize()"
   ]
  },
  {
   "cell_type": "markdown",
   "id": "73c66eea-734f-4b07-a6a5-497db57d32aa",
   "metadata": {},
   "source": [
    "**.split()**\n",
    "\n",
    ".split() separates a string according to a specified delimiter. By default, the related delimiter is a white space, ' '. It returns a list of strings, with the related resulting substrings."
   ]
  },
  {
   "cell_type": "code",
   "execution_count": 5,
   "id": "208dca43-e86a-46d2-93d3-cc87261350b6",
   "metadata": {},
   "outputs": [
    {
     "data": {
      "text/plain": [
       "['today', 'is', 'a', 'very', 'good', 'day']"
      ]
     },
     "execution_count": 5,
     "metadata": {},
     "output_type": "execute_result"
    }
   ],
   "source": [
    "x = 'today is a very good day'\n",
    "x.split()"
   ]
  },
  {
   "cell_type": "code",
   "execution_count": 67,
   "id": "d0c8fafe-106e-4258-b103-8e88bc0f359c",
   "metadata": {},
   "outputs": [
    {
     "data": {
      "text/plain": [
       "['I like bananas', ' apples', ' figues', ' oranges and grapes']"
      ]
     },
     "execution_count": 67,
     "metadata": {},
     "output_type": "execute_result"
    }
   ],
   "source": [
    "# specifying the related delimiter:\n",
    "\n",
    "x = 'I like bananas, apples, figues, oranges and grapes'\n",
    "x.split(',')\n"
   ]
  },
  {
   "cell_type": "markdown",
   "id": "cf221816-1d57-4ec8-9635-1867f5454918",
   "metadata": {},
   "source": [
    "**.strip()**\n",
    "\n",
    "Notice how, in the previous example, we have left some substrings with initial or final white spaces. Many times, when trying to match strings, this is going to imply a problem, as two strings like 'apple' and 'apple ' are not equal.\n",
    "\n",
    "We use .strip() to trim all initial or final white spaces."
   ]
  },
  {
   "cell_type": "code",
   "execution_count": 8,
   "id": "d98c7eaa-b2f4-444d-bffe-e1fcd7de3f9b",
   "metadata": {},
   "outputs": [
    {
     "name": "stdout",
     "output_type": "stream",
     "text": [
      "False\n",
      "----\n",
      "True\n"
     ]
    }
   ],
   "source": [
    "x1 = 'apple  '\n",
    "x2 = ' apple'\n",
    "x3 = 'apple'\n",
    "\n",
    "print(x1 == x2 == x3)\n",
    "print('----')\n",
    "print(x1.strip() == x2.strip() == x3)\n"
   ]
  },
  {
   "cell_type": "markdown",
   "id": "0de7b062-b42b-439b-8aa7-b417f6b7c7b4",
   "metadata": {},
   "source": [
    "**.partition()**\n",
    "\n",
    ".split() erases the specified delimiter. .partition() avoids that, by keeping it in the obtained result. Moreover, the result is obtained as a tuple, instead of a list."
   ]
  },
  {
   "cell_type": "code",
   "execution_count": 12,
   "id": "b9dabd6f-e05b-4b6a-8b1f-62488a4e6d32",
   "metadata": {},
   "outputs": [
    {
     "name": "stdout",
     "output_type": "stream",
     "text": [
      "['he', '', 'o wor', 'd']\n",
      "('he', 'l', 'lo world')\n"
     ]
    }
   ],
   "source": [
    "x = 'hello world'\n",
    "print(x.split('l'))\n",
    "print(x.partition('l'))"
   ]
  },
  {
   "cell_type": "markdown",
   "id": "53faff5b-e45b-4185-a112-a704b6e2fdcb",
   "metadata": {},
   "source": [
    "**.isdigit()**\n",
    "\n",
    "tells whether a string consists exclusively of digits. There are other related methods, like .isalnum() for alphanumeric characters, .isalpha() for alphabetic ones, .islower(), .isupper(), .isspace(), .."
   ]
  },
  {
   "cell_type": "code",
   "execution_count": 13,
   "id": "445d2159-15d4-4250-8d81-47eecd6e7397",
   "metadata": {},
   "outputs": [
    {
     "data": {
      "text/plain": [
       "True"
      ]
     },
     "execution_count": 13,
     "metadata": {},
     "output_type": "execute_result"
    }
   ],
   "source": [
    "'3'.isdigit()"
   ]
  },
  {
   "cell_type": "markdown",
   "id": "b0f89f79-6816-48df-b432-2a055c6da926",
   "metadata": {},
   "source": [
    "**.find()**\n",
    "\n",
    ".find() retrives the starting index of a specific substring in a string. If the substring is repeated, it returns the result for the first occurrence."
   ]
  },
  {
   "cell_type": "code",
   "execution_count": 15,
   "id": "b0777ea4-5c48-49b0-bbdb-0f95652a93e8",
   "metadata": {},
   "outputs": [
    {
     "data": {
      "text/plain": [
       "4"
      ]
     },
     "execution_count": 15,
     "metadata": {},
     "output_type": "execute_result"
    }
   ],
   "source": [
    "'hello world'.find('o')"
   ]
  },
  {
   "cell_type": "code",
   "execution_count": 71,
   "id": "6e091e6f-faba-4cf5-a4cb-d94e22cbc073",
   "metadata": {},
   "outputs": [],
   "source": [
    "s = \"Mr. Kim and Mr. Putin are expected to discuss military cooperation between their countries, including the possibility of North Korea supplying ...\""
   ]
  },
  {
   "cell_type": "code",
   "execution_count": 72,
   "id": "c70069f4-413f-4d02-9348-de3f72908b9c",
   "metadata": {},
   "outputs": [
    {
     "data": {
      "text/plain": [
       "16"
      ]
     },
     "execution_count": 72,
     "metadata": {},
     "output_type": "execute_result"
    }
   ],
   "source": [
    "s.find('Putin')"
   ]
  },
  {
   "cell_type": "code",
   "execution_count": 75,
   "id": "0652758a-3590-4f7c-be96-bc854b36fc46",
   "metadata": {},
   "outputs": [
    {
     "data": {
      "text/plain": [
       "'Putin'"
      ]
     },
     "execution_count": 75,
     "metadata": {},
     "output_type": "execute_result"
    }
   ],
   "source": [
    "s[s.find('Putin'):s.find('Putin') + len('Putin')]"
   ]
  },
  {
   "cell_type": "markdown",
   "id": "ae5a2d5d-9fd7-4a48-a649-ee7d928981cb",
   "metadata": {},
   "source": [
    "**.count()**\n",
    "\n",
    "retrieves the number of occurrences of a specific substring in a given string."
   ]
  },
  {
   "cell_type": "code",
   "execution_count": 16,
   "id": "a4385613-c570-43a7-9df4-98337b6ff467",
   "metadata": {},
   "outputs": [
    {
     "data": {
      "text/plain": [
       "3"
      ]
     },
     "execution_count": 16,
     "metadata": {},
     "output_type": "execute_result"
    }
   ],
   "source": [
    "x = 'I like oranges, and apples, and oranges, and figues, and oranges, and bananas'\n",
    "x.count('oranges')"
   ]
  },
  {
   "cell_type": "markdown",
   "id": "0dbbe416-fae4-4c78-8526-03c6dec1b113",
   "metadata": {},
   "source": [
    "**Quick Exercise**\n",
    "\n",
    "Turn this text considering the list of presidents of the US into a list."
   ]
  },
  {
   "cell_type": "code",
   "execution_count": 3,
   "id": "2c5be8cd-0142-4954-9638-ebbe1824f045",
   "metadata": {},
   "outputs": [],
   "source": [
    "txt = \"Some Presidents of the US consider obama, bush, clinton, reagan, fdr, kennedy.\""
   ]
  },
  {
   "cell_type": "code",
   "execution_count": 80,
   "id": "ba4a8494-1d3b-4cde-9486-7248b4b83bdb",
   "metadata": {},
   "outputs": [],
   "source": [
    "index = txt.find('obama')\n",
    "presidents = txt[index:]\n",
    "presidents = presidents.split(', ')"
   ]
  },
  {
   "cell_type": "code",
   "execution_count": 81,
   "id": "57733c12-e8a6-4b96-bba9-089c798a6d9e",
   "metadata": {},
   "outputs": [
    {
     "data": {
      "text/plain": [
       "['obama', 'bush', 'clinton', 'reagan', 'fdr', 'kennedy.']"
      ]
     },
     "execution_count": 81,
     "metadata": {},
     "output_type": "execute_result"
    }
   ],
   "source": [
    "presidents"
   ]
  },
  {
   "cell_type": "markdown",
   "id": "6f015ab8-feb3-4562-ae2c-5dafe1ade397",
   "metadata": {},
   "source": [
    "### **01.3.4. <font color=#f2cc38> Lists and Sets </font> in Python**\n",
    "\n",
    "Lists are **sequences of elements** in Python, comprising other objects, be it numerical, strings, other lists, booleans, etc.\n",
    "\n",
    "As such, they can also be indexed and sliced. By doing so, we can **also alter other elements in the list**, modifying its integral components, which is the functionality that distinguishes them from tuples.\n",
    "\n",
    "Also, lists can have **multiple repeated elements**, which is what differences them from sets.\n",
    "\n",
    "#### **Lists**\n",
    "\n",
    "Let's see more about lists, and how to declare them:"
   ]
  },
  {
   "cell_type": "code",
   "execution_count": 57,
   "id": "86702536-9998-4973-8800-9d465af435d5",
   "metadata": {},
   "outputs": [
    {
     "name": "stdout",
     "output_type": "stream",
     "text": [
      "[4, 'hello', False]\n"
     ]
    }
   ],
   "source": [
    "my_list = [4, 'hello', False]\n",
    "\n",
    "print(my_list)"
   ]
  },
  {
   "cell_type": "code",
   "execution_count": 59,
   "id": "bd5c3cf4-3572-4285-972b-13f832360202",
   "metadata": {},
   "outputs": [
    {
     "name": "stdout",
     "output_type": "stream",
     "text": [
      "[4, 'hello', False, [1, 2, 3]]\n"
     ]
    }
   ],
   "source": [
    "# They can also be comprised of other lists:\n",
    "my_list = [4, 'hello', False, [1, 2, 3]]\n",
    "\n",
    "print(my_list)"
   ]
  },
  {
   "cell_type": "markdown",
   "id": "2da0f293-34a4-4194-9a6a-f3628a35c5dd",
   "metadata": {},
   "source": [
    "We can **index** elements in a list to select them:"
   ]
  },
  {
   "cell_type": "code",
   "execution_count": 61,
   "id": "85d53537-2b8b-4abd-806a-b6d1c69ca2c9",
   "metadata": {},
   "outputs": [
    {
     "name": "stdout",
     "output_type": "stream",
     "text": [
      "1\n",
      "---\n",
      "3\n"
     ]
    }
   ],
   "source": [
    "my_list = [1, 2, 3]\n",
    "print(my_list[0])\n",
    "print('---')\n",
    "print(my_list[-1])"
   ]
  },
  {
   "cell_type": "code",
   "execution_count": 84,
   "id": "77c3d148-eb1b-4057-8257-f4a325678f7d",
   "metadata": {},
   "outputs": [
    {
     "name": "stdout",
     "output_type": "stream",
     "text": [
      "h\n"
     ]
    }
   ],
   "source": [
    "x = ['hello', 1, 2]\n",
    "y = x[0]\n",
    "print(y[0])"
   ]
  },
  {
   "cell_type": "markdown",
   "id": "07e034c1-d15d-47ea-9be5-70a9226e27fb",
   "metadata": {},
   "source": [
    "We can also reassign values for an element in a list:"
   ]
  },
  {
   "cell_type": "code",
   "execution_count": 62,
   "id": "7a9a05a9-5886-4e3b-be80-015b3a7fea1c",
   "metadata": {},
   "outputs": [],
   "source": [
    "my_list[2] = 30"
   ]
  },
  {
   "cell_type": "code",
   "execution_count": 63,
   "id": "d012ef58-b635-4f6e-b8f7-73d12f1a6074",
   "metadata": {},
   "outputs": [
    {
     "name": "stdout",
     "output_type": "stream",
     "text": [
      "[1, 2, 30]\n"
     ]
    }
   ],
   "source": [
    "print(my_list)"
   ]
  },
  {
   "cell_type": "markdown",
   "id": "e7823011-bd15-4271-8dee-7dba123ae18b",
   "metadata": {},
   "source": [
    "And also select subsets of a same list:"
   ]
  },
  {
   "cell_type": "code",
   "execution_count": 64,
   "id": "fda3c8ee-c62a-4755-adbf-a0e723d035d7",
   "metadata": {},
   "outputs": [
    {
     "data": {
      "text/plain": [
       "[1, 2]"
      ]
     },
     "execution_count": 64,
     "metadata": {},
     "output_type": "execute_result"
    }
   ],
   "source": [
    "my_list[:-1]"
   ]
  },
  {
   "cell_type": "markdown",
   "id": "4c92cdc4-5972-4a14-857c-c63eefeaddb2",
   "metadata": {},
   "source": [
    "To add new items in a list:"
   ]
  },
  {
   "cell_type": "code",
   "execution_count": 86,
   "id": "e33b199e-026c-4395-bb29-02b61826e225",
   "metadata": {},
   "outputs": [
    {
     "data": {
      "text/plain": [
       "[1, 2, 3, 'hello']"
      ]
     },
     "execution_count": 86,
     "metadata": {},
     "output_type": "execute_result"
    }
   ],
   "source": [
    "[1, 2, 3] + ['hello']"
   ]
  },
  {
   "cell_type": "code",
   "execution_count": 69,
   "id": "5ca8f11d-e284-4208-9e66-0ab4274e4fd7",
   "metadata": {},
   "outputs": [
    {
     "data": {
      "text/plain": [
       "[1, 2, 3, 'hello', 4, 5]"
      ]
     },
     "execution_count": 69,
     "metadata": {},
     "output_type": "execute_result"
    }
   ],
   "source": [
    "[1, 2, 3] + ['hello', 4, 5]"
   ]
  },
  {
   "cell_type": "markdown",
   "id": "c4ba1de3-6fd0-42bf-8a88-c6b311205711",
   "metadata": {},
   "source": [
    "To reassing their values:"
   ]
  },
  {
   "cell_type": "code",
   "execution_count": 71,
   "id": "3dace015-7a5b-4f2f-b22a-c1b1de262f50",
   "metadata": {},
   "outputs": [
    {
     "name": "stdout",
     "output_type": "stream",
     "text": [
      "[1, 2, 3, 4, 5]\n"
     ]
    }
   ],
   "source": [
    "my_list = [1, 2, 3]\n",
    "my_list += [4, 5]\n",
    "print(my_list)"
   ]
  },
  {
   "cell_type": "markdown",
   "id": "ff230341-fb78-448e-b445-c90af2c94296",
   "metadata": {},
   "source": [
    "#### **Sets**\n",
    "\n",
    "Sets are collections of unique elements. As such, if we try to add already present elements in a set, we will obtain an error:"
   ]
  },
  {
   "cell_type": "code",
   "execution_count": 7,
   "id": "fe974879-9512-4ade-ae82-4e519111cd1e",
   "metadata": {},
   "outputs": [],
   "source": [
    "# Declare a new set this way\n",
    "x = set()"
   ]
  },
  {
   "cell_type": "code",
   "execution_count": 8,
   "id": "f1f77d23-16bd-4a75-bff2-a576dbeb5d96",
   "metadata": {},
   "outputs": [
    {
     "name": "stdout",
     "output_type": "stream",
     "text": [
      "{1, 'a'}\n"
     ]
    }
   ],
   "source": [
    "# Add objects to it\n",
    "x.add('a')\n",
    "x.add(1)\n",
    "print(x)"
   ]
  },
  {
   "cell_type": "code",
   "execution_count": 9,
   "id": "7ffe704e-4113-4fb8-861b-53b1749677f3",
   "metadata": {},
   "outputs": [
    {
     "name": "stdout",
     "output_type": "stream",
     "text": [
      "{1, 'a'}\n"
     ]
    }
   ],
   "source": [
    "# Now let's try to add the same object yet again. The result is the same!\n",
    "x.add('a')\n",
    "print(x)"
   ]
  },
  {
   "cell_type": "markdown",
   "id": "e3ad4bf7-3651-4396-a7f7-12ff0548f898",
   "metadata": {},
   "source": [
    "Sets **main use** is to obtain the **unique elements** of a list:"
   ]
  },
  {
   "cell_type": "code",
   "execution_count": 96,
   "id": "1b39c3ec-ef6c-43f3-bc4a-ffb3b8ac9965",
   "metadata": {},
   "outputs": [],
   "source": [
    "my_list = [1, 2, 3, 1, 2, 3, 1, 2, 3, 4, 5, 6]"
   ]
  },
  {
   "cell_type": "code",
   "execution_count": 97,
   "id": "a607ddc0-3be7-4a24-bb80-5d0da0edc917",
   "metadata": {},
   "outputs": [],
   "source": [
    "# We use the set() function to turn my_list into a set - this obliterates all repeated values\n",
    "# Afterwards, we use the list() function to return the set into being a list\n",
    "list_unique = list(set(my_list))"
   ]
  },
  {
   "cell_type": "code",
   "execution_count": 98,
   "id": "22071bc6-a084-4e64-833e-261288249a26",
   "metadata": {},
   "outputs": [
    {
     "name": "stdout",
     "output_type": "stream",
     "text": [
      "[1, 2, 3, 4, 5, 6]\n"
     ]
    }
   ],
   "source": [
    "print(list_unique)"
   ]
  },
  {
   "cell_type": "markdown",
   "id": "af2e0863-bb78-4c40-b844-d4f1b6382766",
   "metadata": {},
   "source": [
    "#### **Useful List Methods**\n",
    "\n",
    "As with strings, lists have many important methods to be reviewed. Many scripts that you will prepare on Python will depend on the use of lists, so it's a good idea to learn them by heart. It may not seem so, but knowing about them will ease your workflows down the line."
   ]
  },
  {
   "cell_type": "markdown",
   "id": "966c033d-8fc5-47d6-ba6c-1c5079a188b8",
   "metadata": {},
   "source": [
    "**append**\n",
    "\n",
    "append is used to add an item to the list."
   ]
  },
  {
   "cell_type": "code",
   "execution_count": 18,
   "id": "39366603-0589-4881-8a95-7ad026a7e154",
   "metadata": {},
   "outputs": [
    {
     "name": "stdout",
     "output_type": "stream",
     "text": [
      "[1, 2, 3, 4]\n"
     ]
    }
   ],
   "source": [
    "# Notice that the method does not return a variable! it adds it to the list permanently.\n",
    "my_list = [1, 2, 3]\n",
    "my_list.append(4)\n",
    "print(my_list)"
   ]
  },
  {
   "cell_type": "markdown",
   "id": "7e919898-0008-4560-b144-700cd64ba93c",
   "metadata": {},
   "source": [
    "**pop**\n",
    "\n",
    "pop is used to eliminate an element from a list. If no index is specifiied, it eliminates the last element from a list."
   ]
  },
  {
   "cell_type": "code",
   "execution_count": 19,
   "id": "180a1efe-06d1-4c03-922a-6583611cee15",
   "metadata": {},
   "outputs": [
    {
     "name": "stdout",
     "output_type": "stream",
     "text": [
      "[1, 2, 3, 4]\n",
      "[1, 2, 3]\n",
      "4\n"
     ]
    }
   ],
   "source": [
    "print(my_list)\n",
    "popped_element = my_list.pop()\n",
    "print(my_list)\n",
    "print(popped_element)"
   ]
  },
  {
   "cell_type": "markdown",
   "id": "91fb9d4f-b5fd-4e71-8ac5-e6701e17ae30",
   "metadata": {},
   "source": [
    "**sort**\n",
    "\n",
    "sort is used to order the values in a list, be them strings or numbers."
   ]
  },
  {
   "cell_type": "code",
   "execution_count": 23,
   "id": "edd4d282-6b5b-4977-a7ad-5fcbcc5409f8",
   "metadata": {},
   "outputs": [
    {
     "name": "stdout",
     "output_type": "stream",
     "text": [
      "[0.2, 1, 2, 3, 4, 4, 5, 6, 89]\n"
     ]
    }
   ],
   "source": [
    "my_list = [1, 5,6, 3, 4, 89, 2, 0.2, 4]\n",
    "my_list.sort()\n",
    "print(my_list)"
   ]
  },
  {
   "cell_type": "code",
   "execution_count": 24,
   "id": "2059226f-d79f-4cdc-b740-3d24d3f8e305",
   "metadata": {},
   "outputs": [
    {
     "name": "stdout",
     "output_type": "stream",
     "text": [
      "['a', 'b', 'm', 'p', 'z']\n"
     ]
    }
   ],
   "source": [
    "my_list = ['a', 'z', 'm', 'p', 'b']\n",
    "my_list.sort()\n",
    "print(my_list)"
   ]
  },
  {
   "cell_type": "markdown",
   "id": "171946e6-629a-43aa-80d9-b49dcfd2cc7e",
   "metadata": {},
   "source": [
    "We can also reverse the order of the list by means of using the **reverse** method:"
   ]
  },
  {
   "cell_type": "code",
   "execution_count": 25,
   "id": "80f2a75f-6178-4468-b25b-6c054349d195",
   "metadata": {},
   "outputs": [
    {
     "name": "stdout",
     "output_type": "stream",
     "text": [
      "['z', 'p', 'm', 'b', 'a']\n"
     ]
    }
   ],
   "source": [
    "my_list.reverse()\n",
    "print(my_list)"
   ]
  },
  {
   "cell_type": "markdown",
   "id": "f3162d14-ea9c-4fc6-a1ea-f9f8ae1796d0",
   "metadata": {},
   "source": [
    "**count**\n",
    "\n",
    "count counts the number of occurrences of an element in a list"
   ]
  },
  {
   "cell_type": "code",
   "execution_count": 26,
   "id": "05fcf7e6-e8e6-4e4c-b702-5aa931fd076b",
   "metadata": {},
   "outputs": [
    {
     "data": {
      "text/plain": [
       "2"
      ]
     },
     "execution_count": 26,
     "metadata": {},
     "output_type": "execute_result"
    }
   ],
   "source": [
    "my_list = ['james', 'martha', 'clark', 'anna', 'peter', 'anna', 'zoe']\n",
    "my_list.count('anna')"
   ]
  },
  {
   "cell_type": "markdown",
   "id": "9783dcc7-763a-4bd4-a638-8a30c26924a0",
   "metadata": {},
   "source": [
    "**extend**\n",
    "\n",
    "extend works like append, but fusing the elements of an added iterable with the original list. Let's compare both:"
   ]
  },
  {
   "cell_type": "code",
   "execution_count": 31,
   "id": "396b5f16-6cb4-4c60-85f4-01299306c13d",
   "metadata": {},
   "outputs": [
    {
     "name": "stdout",
     "output_type": "stream",
     "text": [
      "Append effect: [1, 2, 3, [4, 5, 6]]\n",
      "Extend effect: [1, 2, 3, 4, 5, 6]\n"
     ]
    }
   ],
   "source": [
    "list1 = [1, 2, 3]\n",
    "list2 = [4, 5, 6]\n",
    "\n",
    "mylist = list1\n",
    "mylist.append(list2)\n",
    "\n",
    "print(f\"Append effect: {mylist}\")\n",
    "\n",
    "list1 = [1, 2, 3]\n",
    "list2 = [4, 5, 6]\n",
    "\n",
    "mylist = list1\n",
    "mylist.extend(list2)\n",
    "\n",
    "print(f\"Extend effect: {mylist}\")"
   ]
  },
  {
   "cell_type": "markdown",
   "id": "7b739362-df8b-451b-bd65-eab7e16bb936",
   "metadata": {},
   "source": [
    "**index**\n",
    "\n",
    "index returns the index of where an element is placed. This is useful to extract or remove that very same element form the list!"
   ]
  },
  {
   "cell_type": "code",
   "execution_count": 34,
   "id": "ae10734b-603e-4ee2-be5d-865429725b48",
   "metadata": {},
   "outputs": [
    {
     "name": "stdout",
     "output_type": "stream",
     "text": [
      "2\n"
     ]
    }
   ],
   "source": [
    "my_list = ['james', 'martha', 'clark', 'anna', 'peter', 'anna', 'zoe']\n",
    "\n",
    "print(my_list.index('clark'))"
   ]
  },
  {
   "cell_type": "code",
   "execution_count": 35,
   "id": "0a182d05-2dac-41eb-acec-1332adabb1d7",
   "metadata": {},
   "outputs": [
    {
     "name": "stdout",
     "output_type": "stream",
     "text": [
      "3\n"
     ]
    }
   ],
   "source": [
    "# for repeated values, it returns the first coincidence\n",
    "\n",
    "print(my_list.index('anna'))"
   ]
  },
  {
   "cell_type": "markdown",
   "id": "0d3a12a1-6876-41b4-af17-51fd632b1500",
   "metadata": {},
   "source": [
    "**Quick Exercise**\n",
    "\n",
    "Turning the list of Presidents into an Uppercase list. Also, add the name of the current president Biden to it."
   ]
  },
  {
   "cell_type": "code",
   "execution_count": 8,
   "id": "36ca2e42-3a02-4234-a46c-e358ed1655a6",
   "metadata": {},
   "outputs": [],
   "source": [
    "txt = \"Some Presidents of the US consider obama, bush, clinton, reagan, fdr, kennedy.\""
   ]
  },
  {
   "cell_type": "code",
   "execution_count": 108,
   "id": "173924ed-93a5-4202-af8a-73a652c541d6",
   "metadata": {},
   "outputs": [
    {
     "data": {
      "text/plain": [
       "['obama', 'bush', 'clinton', 'reagan', 'fdr', 'kennedy']"
      ]
     },
     "execution_count": 108,
     "metadata": {},
     "output_type": "execute_result"
    }
   ],
   "source": [
    "name_lst = txt[txt.find('obama'):-1].split(', ')\n",
    "name_lst"
   ]
  },
  {
   "cell_type": "code",
   "execution_count": 109,
   "id": "6c57dd68-1101-43e4-b356-5ae286d3b7b9",
   "metadata": {},
   "outputs": [],
   "source": [
    "name_lst.append('Biden')"
   ]
  },
  {
   "cell_type": "code",
   "execution_count": 110,
   "id": "0f14470f-8980-445f-930e-c6da3420000a",
   "metadata": {},
   "outputs": [
    {
     "data": {
      "text/plain": [
       "['obama', 'bush', 'clinton', 'reagan', 'fdr', 'kennedy', 'Biden']"
      ]
     },
     "execution_count": 110,
     "metadata": {},
     "output_type": "execute_result"
    }
   ],
   "source": [
    "name_lst"
   ]
  },
  {
   "cell_type": "code",
   "execution_count": 112,
   "id": "61fa8136-b3a9-4133-8074-b0f3f1560d57",
   "metadata": {},
   "outputs": [
    {
     "data": {
      "text/plain": [
       "['Obama', 'Bush', 'Clinton', 'Reagan', 'Fdr', 'Kennedy', 'Biden']"
      ]
     },
     "execution_count": 112,
     "metadata": {},
     "output_type": "execute_result"
    }
   ],
   "source": [
    "[i.capitalize() for i in name_lst]"
   ]
  },
  {
   "cell_type": "markdown",
   "id": "e982146a-f1e5-4fcc-8299-e657b2c3c5f8",
   "metadata": {},
   "source": [
    "### **01.3.5. <font color=#f2cc38> Tuples </font> in Python**\n",
    "\n",
    "Tuples are like lists, but immutable. Meaning, their individual elements therein cannot be changed.\n",
    "\n",
    "Despite it's useful to know about them, in many cases you will not find it essential to use tuples over lists. Immutability of their individual components is not that much of a deal in the day to day work of an analyst."
   ]
  },
  {
   "cell_type": "code",
   "execution_count": 55,
   "id": "bf609017-5cc4-4ef2-bedb-ad81db223a7d",
   "metadata": {},
   "outputs": [],
   "source": [
    "t = (2, 'hi', False)"
   ]
  },
  {
   "cell_type": "code",
   "execution_count": 56,
   "id": "8798d5c6-68ba-4eee-aba8-2a6fcae92f70",
   "metadata": {},
   "outputs": [
    {
     "name": "stdout",
     "output_type": "stream",
     "text": [
      "(2, 'hi', False)\n"
     ]
    }
   ],
   "source": [
    "print(t)"
   ]
  },
  {
   "cell_type": "code",
   "execution_count": 57,
   "id": "e8301afa-727c-4f1b-ac27-79187197b8f5",
   "metadata": {},
   "outputs": [
    {
     "data": {
      "text/plain": [
       "2"
      ]
     },
     "execution_count": 57,
     "metadata": {},
     "output_type": "execute_result"
    }
   ],
   "source": [
    "t[0]"
   ]
  },
  {
   "cell_type": "code",
   "execution_count": 58,
   "id": "5ca48bc7-3e37-449b-bbdb-52f0c0849d9e",
   "metadata": {},
   "outputs": [
    {
     "ename": "TypeError",
     "evalue": "'tuple' object does not support item assignment",
     "output_type": "error",
     "traceback": [
      "\u001b[0;31m---------------------------------------------------------------------------\u001b[0m",
      "\u001b[0;31mTypeError\u001b[0m                                 Traceback (most recent call last)",
      "Input \u001b[0;32mIn [58]\u001b[0m, in \u001b[0;36m<cell line: 2>\u001b[0;34m()\u001b[0m\n\u001b[1;32m      1\u001b[0m \u001b[38;5;66;03m# We cannot change a tuple! If we try to do so, we'll trigger an error!\u001b[39;00m\n\u001b[0;32m----> 2\u001b[0m t[\u001b[38;5;241m0\u001b[39m] \u001b[38;5;241m=\u001b[39m \u001b[38;5;241m4\u001b[39m\n",
      "\u001b[0;31mTypeError\u001b[0m: 'tuple' object does not support item assignment"
     ]
    }
   ],
   "source": [
    "# We cannot change a tuple! If we try to do so, we'll trigger an error!\n",
    "t[0] = 4"
   ]
  },
  {
   "cell_type": "code",
   "execution_count": 59,
   "id": "fb1491f9-7847-466b-94d3-03f1192506f6",
   "metadata": {},
   "outputs": [
    {
     "name": "stdout",
     "output_type": "stream",
     "text": [
      "(2, 'hi', False, 2, 4)\n"
     ]
    }
   ],
   "source": [
    "# We can, however, add other elements to it\n",
    "t = t + (2, 4)\n",
    "print(t)"
   ]
  },
  {
   "cell_type": "markdown",
   "id": "90d8737c-73fb-4cb1-8dda-72edc8fa05fc",
   "metadata": {},
   "source": [
    "#### **Tuple and List Unpacking**"
   ]
  },
  {
   "cell_type": "markdown",
   "id": "9dc5425f-500a-43be-8cd0-28e3ca57ee0c",
   "metadata": {},
   "source": [
    "Tuples are important to be known about because they can also be defined without parentheses. A sequence of objects separated by commas is by default a tuple and not a list:"
   ]
  },
  {
   "cell_type": "code",
   "execution_count": 61,
   "id": "f0b75f3c-8489-4770-815d-c433c56ffc07",
   "metadata": {},
   "outputs": [
    {
     "data": {
      "text/plain": [
       "tuple"
      ]
     },
     "execution_count": 61,
     "metadata": {},
     "output_type": "execute_result"
    }
   ],
   "source": [
    "a = 1, 2, 3\n",
    "type(a)"
   ]
  },
  {
   "cell_type": "markdown",
   "id": "70edd6e9-c0f4-422e-af3d-08d6b20bf59d",
   "metadata": {},
   "source": [
    "What is tuple or list **unpacking**? We can declare several variables at a time based on the results of a single list or tuple of values. For instance"
   ]
  },
  {
   "cell_type": "code",
   "execution_count": 63,
   "id": "0fd9876a-5d24-4a16-a342-c1e5bcc78213",
   "metadata": {},
   "outputs": [
    {
     "name": "stdout",
     "output_type": "stream",
     "text": [
      "1\n",
      "2\n",
      "3\n"
     ]
    }
   ],
   "source": [
    "t = 1, 2, 3\n",
    "x, y, z = t\n",
    "print(x)\n",
    "print(y)\n",
    "print(z)"
   ]
  },
  {
   "cell_type": "markdown",
   "id": "ac19cc9d-50db-4024-a0a5-9b07d4c1966b",
   "metadata": {},
   "source": [
    "This is a useful tool when dealing with functions, which we will be seeing in the following few content modules."
   ]
  },
  {
   "cell_type": "markdown",
   "id": "a111d3ec-3fe0-4d43-85fa-b8ca8bb79661",
   "metadata": {},
   "source": [
    "### **01.3.6. <font color=#f2cc38> Dictionaries </font> in Python**\n",
    "\n",
    "Finally, dictionaries are Python objects that represent a mapping of information. As such, ditionaries rely on a set of **key**-**value** pairs i.e., to each key, a value (or a set of values) is assigned.\n",
    "\n",
    "Let's see an example of it - how to construct a Python dictionary?\n",
    "\n",
    "\n",
    "To see the usefulness of dictionaries, let's assume that we are a **new Glovo employee**, and that we have to fill out some information of our own."
   ]
  },
  {
   "cell_type": "code",
   "execution_count": 65,
   "id": "2d472646-c394-4734-9df6-f43a40a26439",
   "metadata": {},
   "outputs": [],
   "source": [
    "new_employee_data = {'name': 'John', 'surname':'Smith', 'age': 27, 'companies_worked_for': ['PwC', 'Meta', 'Amazon', 'AuChamp'] } "
   ]
  },
  {
   "cell_type": "code",
   "execution_count": 66,
   "id": "964c909c-b4a7-4b00-a9cc-3d52c2014b56",
   "metadata": {},
   "outputs": [
    {
     "name": "stdout",
     "output_type": "stream",
     "text": [
      "{'name': 'John', 'surname': 'Smith', 'age': 27, 'companies_worked_for': ['PwC', 'Meta', 'Amazon', 'AuChamp']}\n"
     ]
    }
   ],
   "source": [
    "# let's see it\n",
    "print(new_employee_data)"
   ]
  },
  {
   "cell_type": "markdown",
   "id": "9180ff07-cb1d-4da1-b697-9366c398395e",
   "metadata": {},
   "source": [
    "Now, the people manager can **easily access all fields** of information relevant to him by **indexing according to the key**:"
   ]
  },
  {
   "cell_type": "code",
   "execution_count": 67,
   "id": "9a8f5b45-5f1b-479d-9fd8-712e3bd738b2",
   "metadata": {},
   "outputs": [
    {
     "data": {
      "text/plain": [
       "'John'"
      ]
     },
     "execution_count": 67,
     "metadata": {},
     "output_type": "execute_result"
    }
   ],
   "source": [
    "new_employee_data['name']"
   ]
  },
  {
   "cell_type": "markdown",
   "id": "8b65e207-aa8e-41d3-8897-6dfa1eeb76b5",
   "metadata": {},
   "source": [
    "If the name is wrong, we can **change** it, because a dictionary is mutable:"
   ]
  },
  {
   "cell_type": "code",
   "execution_count": 70,
   "id": "7e2a3cfd-8db2-46cb-bc20-4a2030cde498",
   "metadata": {},
   "outputs": [
    {
     "name": "stdout",
     "output_type": "stream",
     "text": [
      "{'name': 'James', 'surname': 'Smith', 'age': 27, 'companies_worked_for': ['PwC', 'Meta', 'Amazon', 'AuChamp']}\n"
     ]
    }
   ],
   "source": [
    "new_employee_data['name'] = 'James'\n",
    "\n",
    "print(new_employee_data)"
   ]
  },
  {
   "cell_type": "markdown",
   "id": "5ff7b82f-96cc-422f-97d2-5531d4bdf946",
   "metadata": {},
   "source": [
    "And we can even add more keys, with information attached:"
   ]
  },
  {
   "cell_type": "code",
   "execution_count": 72,
   "id": "60913ac6-154f-4616-852d-b2eaba757e56",
   "metadata": {},
   "outputs": [
    {
     "name": "stdout",
     "output_type": "stream",
     "text": [
      "{'name': 'James', 'surname': 'Smith', 'age': 27, 'companies_worked_for': ['PwC', 'Meta', 'Amazon', 'AuChamp'], 'address': 'C/ Àvila, 54'}\n"
     ]
    }
   ],
   "source": [
    "new_employee_data['address'] = 'C/ Àvila, 54'\n",
    "\n",
    "print(new_employee_data)"
   ]
  },
  {
   "cell_type": "markdown",
   "id": "f9684d02-17d1-4506-ad35-69c5f37246a2",
   "metadata": {},
   "source": [
    "#### **Nesting Dictionaries**\n",
    "\n",
    "We can nest several dictionaries together, so as to better index:"
   ]
  },
  {
   "cell_type": "code",
   "execution_count": 75,
   "id": "e03d6930-5a4c-4fee-b350-85b76b65a257",
   "metadata": {},
   "outputs": [],
   "source": [
    "# We could easily build up a huge mapping of all departments with this structure\n",
    "employees_at_glovo = {'growth':{'ID00001':{'name': 'John', 'surname':'Smith', 'age': 27, 'companies_worked_for': ['PwC', 'Meta', 'Amazon', 'AuChamp'] }}}"
   ]
  },
  {
   "cell_type": "markdown",
   "id": "0186cd29-8930-48dc-a4c0-4ccf2395cdde",
   "metadata": {},
   "source": [
    "#### **Relevant Dictionary Methods**\n",
    "\n",
    "We are going to overview how to extract all keys and values, as well as all key-value pairs as a list of tuples."
   ]
  },
  {
   "cell_type": "code",
   "execution_count": 77,
   "id": "436d65cd-5c11-4970-8e54-74f3344c6ff4",
   "metadata": {},
   "outputs": [
    {
     "data": {
      "text/plain": [
       "dict_keys(['name', 'surname', 'age', 'companies_worked_for', 'address'])"
      ]
     },
     "execution_count": 77,
     "metadata": {},
     "output_type": "execute_result"
    }
   ],
   "source": [
    "# this way, we can see all of our dictionary's 'main categories'\n",
    "new_employee_data.keys()"
   ]
  },
  {
   "cell_type": "code",
   "execution_count": 78,
   "id": "336b75ab-5d51-4d67-9bca-86a09f80c3a3",
   "metadata": {},
   "outputs": [
    {
     "data": {
      "text/plain": [
       "dict_values(['James', 'Smith', 27, ['PwC', 'Meta', 'Amazon', 'AuChamp'], 'C/ Àvila, 54'])"
      ]
     },
     "execution_count": 78,
     "metadata": {},
     "output_type": "execute_result"
    }
   ],
   "source": [
    "new_employee_data.values()"
   ]
  },
  {
   "cell_type": "code",
   "execution_count": 79,
   "id": "9c245917-0201-4df8-b5cb-b638de05585f",
   "metadata": {},
   "outputs": [
    {
     "data": {
      "text/plain": [
       "dict_items([('name', 'James'), ('surname', 'Smith'), ('age', 27), ('companies_worked_for', ['PwC', 'Meta', 'Amazon', 'AuChamp']), ('address', 'C/ Àvila, 54')])"
      ]
     },
     "execution_count": 79,
     "metadata": {},
     "output_type": "execute_result"
    }
   ],
   "source": [
    "# returns each key-value pair as a tuple\n",
    "new_employee_data.items()"
   ]
  }
 ],
 "metadata": {
  "kernelspec": {
   "display_name": "Python 3 (ipykernel)",
   "language": "python",
   "name": "python3"
  },
  "language_info": {
   "codemirror_mode": {
    "name": "ipython",
    "version": 3
   },
   "file_extension": ".py",
   "mimetype": "text/x-python",
   "name": "python",
   "nbconvert_exporter": "python",
   "pygments_lexer": "ipython3",
   "version": "3.11.7"
  }
 },
 "nbformat": 4,
 "nbformat_minor": 5
}
