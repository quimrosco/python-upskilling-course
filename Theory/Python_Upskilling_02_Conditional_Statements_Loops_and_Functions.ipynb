{
 "cells": [
  {
   "cell_type": "markdown",
   "id": "106d454f-55d0-4231-8f08-689aebeb8d23",
   "metadata": {},
   "source": [
    "# **02. Conditional Statements, Loops and Functions**"
   ]
  },
  {
   "cell_type": "markdown",
   "id": "46a5b20a-bbc1-4ae3-a0fa-c350b241c662",
   "metadata": {},
   "source": [
    "Welcome to our <font color=#f2cc38>**Second Content Block**</font> In the Python Introduction Module! \n",
    "\n",
    "Today we will be covering three incredibly important Python functionalities to revolutionalize your Python code: **Conditional Statements**, **Loops** and **Functions**."
   ]
  },
  {
   "cell_type": "markdown",
   "id": "9a660837-1182-467e-8353-3d9560ac5157",
   "metadata": {},
   "source": [
    "## **02.0. Python vs SQL: A really important difference**"
   ]
  },
  {
   "cell_type": "markdown",
   "id": "baa5998e-ded1-4d54-9386-69275e5de421",
   "metadata": {},
   "source": [
    "There are many differences between SQL and Python that this session will be emphasising. All the same, there are also some similarities, such as the fundamentals of Conditional Statements. \n",
    "\n",
    "However, one main difference is **key** throughout all three characteristics we will be covering i.e., both applicable to Conditional Statements, Loops and Functions, and that is **Identation**.\n",
    "\n",
    "All three Python statements **depend critically on identation** and that is a critical difference with SQL - while in this second language identation is just a mere aesthetic component, and the code will run anyway, it isnot the same case in **Python** - a lack of identation or small errors in it, etc., will trigger **errors** in the code, which will not yield a final result.\n",
    "\n",
    "How to apply identation? For clarity purposes, and to avoid errors, it's best recommended to use the **tab** key instead of the spaces from now on.\n",
    "\n",
    "We will be seeing plenty of examples in the course of the following section."
   ]
  },
  {
   "cell_type": "markdown",
   "id": "7a4805d0-6f33-4e18-9036-6f141b67ef5f",
   "metadata": {},
   "source": [
    "## **02.1. Conditional Statements in Python**"
   ]
  },
  {
   "cell_type": "markdown",
   "id": "49528bfd-f5c4-45b4-8448-67c4840fa18a",
   "metadata": {},
   "source": [
    "Conditional statements in Python are quite akin to their analogue in SQL i.e., CASE WHENs; meaning that their coding logic will relatively be the same.\n",
    "\n",
    "Instead of specifying several conditions with the **WHEN** clause, plus an **ELSE** clause, Python rather relies on three staetements: **if**, **elif**, and **else**.\n",
    "\n",
    "Also, in Python there's no equivalent statement to the **THEN** clause, and the language relies rather on **indents** for this functionality.\n",
    "\n",
    "Let's see a most basic example:\n"
   ]
  },
  {
   "cell_type": "code",
   "execution_count": 4,
   "id": "e327c959-109d-4d96-8d63-ce4dfd53992c",
   "metadata": {},
   "outputs": [
    {
     "name": "stdout",
     "output_type": "stream",
     "text": [
      "this is a true statement\n"
     ]
    }
   ],
   "source": [
    "# see how the resulting action is expressed via an indent, rather than with a THEN clause\n",
    "if True:\n",
    "    print('this is a true statement')"
   ]
  },
  {
   "cell_type": "markdown",
   "id": "a89f8f6d-53e5-44ee-bef1-3b4e23b03c31",
   "metadata": {},
   "source": [
    "Let's see now a conditional statement with two options.\n",
    "\n",
    "Be mindful that we will be using a **comparison operator** this time to express a condition to be meet, to represent a True / False boolean."
   ]
  },
  {
   "cell_type": "code",
   "execution_count": 6,
   "id": "26cc3ed6-8c03-4a8a-80c8-4221f8a69ac8",
   "metadata": {},
   "outputs": [
    {
     "name": "stdout",
     "output_type": "stream",
     "text": [
      "this is a false statement\n"
     ]
    }
   ],
   "source": [
    "# Regard the identation structure inside the if/else statement!\n",
    "\n",
    "i = False\n",
    "\n",
    "if i == True:\n",
    "    print('this is a true statement')\n",
    "else:\n",
    "    print('this is a false statement')"
   ]
  },
  {
   "cell_type": "code",
   "execution_count": 7,
   "id": "fb32ceb4-f015-477b-9fc3-674711ded7f6",
   "metadata": {},
   "outputs": [
    {
     "name": "stdout",
     "output_type": "stream",
     "text": [
      "this is a false statement\n"
     ]
    }
   ],
   "source": [
    "# The previous code is equivalent to this one. When wanting to see if a variable is true, we just have to specify it\n",
    "\n",
    "i = False\n",
    "\n",
    "if i:\n",
    "    print('this is a true statement')\n",
    "else:\n",
    "    print('this is a false statement')"
   ]
  },
  {
   "cell_type": "markdown",
   "id": "ce268e56-9f89-477c-89c2-5793544670ac",
   "metadata": {},
   "source": [
    "### **elif statement**\n",
    "\n",
    "For expressing more than two conditions altogether, we will rely on the usage of the elif statement."
   ]
  },
  {
   "cell_type": "code",
   "execution_count": 10,
   "id": "661068a0-29fd-40ec-ac5c-ac9e56ea6e9d",
   "metadata": {},
   "outputs": [
    {
     "name": "stdout",
     "output_type": "stream",
     "text": [
      "4, or between 4 and 10\n"
     ]
    }
   ],
   "source": [
    "# Not indents, but we can include as many spaces as wanted between the lines!\n",
    "\n",
    "i = 4\n",
    "\n",
    "if i<=0:\n",
    "    print('negative number or 0')\n",
    "    \n",
    "elif i>0 and i<4:\n",
    "    print('between 0 and 4')\n",
    "\n",
    "elif i>=4 and i <10:\n",
    "    print('4, or between 4 and 10')\n",
    "\n",
    "else:\n",
    "    print('10 or greater')"
   ]
  },
  {
   "cell_type": "markdown",
   "id": "25dd90a1-682a-469e-91fe-28c498c7f19d",
   "metadata": {},
   "source": [
    "### **Gaining Complexity**\n",
    "\n",
    "Conditional statements are a super useful tool in Python coding, and their use will be widespread.\n",
    "\n",
    "You will be using them many times, combined with loops, functions, pandas functionalities etc. Let's see a couple of examples of potential applications."
   ]
  },
  {
   "cell_type": "markdown",
   "id": "940347e2-ad7d-4018-800c-81a8de9b389b",
   "metadata": {},
   "source": [
    " - Example 1:\n",
    "\n",
    "Let's remember the exercise of the list of Presidents we did. FDR needs to be written all uppercase, while all other presidents need only be written with the first capital letter. \n",
    "\n",
    "We can use a **conditional statement** to filter that out:"
   ]
  },
  {
   "cell_type": "code",
   "execution_count": 23,
   "id": "0e8567af-1880-4df0-b7b7-5955d808fc2f",
   "metadata": {},
   "outputs": [],
   "source": [
    "presidents = ['Biden', 'Obama', 'Bush', 'Clinton', 'Reagan', 'Fdr', 'Kennedy']"
   ]
  },
  {
   "cell_type": "markdown",
   "id": "d682ee40-cf3f-41a4-a628-dd9e7dded801",
   "metadata": {},
   "source": [
    "One possible solution could be:"
   ]
  },
  {
   "cell_type": "code",
   "execution_count": 24,
   "id": "e91a1bdd-a31d-47ca-8e73-0bcbcba2f53e",
   "metadata": {},
   "outputs": [
    {
     "data": {
      "text/plain": [
       "['Biden', 'Obama', 'Bush', 'Clinton', 'Reagan', 'FDR', 'Kennedy']"
      ]
     },
     "execution_count": 24,
     "metadata": {},
     "output_type": "execute_result"
    }
   ],
   "source": [
    "fdr = presidents[presidents.index('Fdr')]\n",
    "\n",
    "if fdr == 'Fdr':\n",
    "    presidents[presidents.index('Fdr')] = fdr.upper()\n",
    "else:\n",
    "    pass\n",
    "\n",
    "presidents"
   ]
  },
  {
   "cell_type": "markdown",
   "id": "98665515-79f7-4efb-ad12-3a667cf9fdd5",
   "metadata": {},
   "source": [
    "The **pass** statement can be used **not to take any action** for a specific condition in a given conditional statement - like saying: **do nothing**."
   ]
  },
  {
   "cell_type": "markdown",
   "id": "96f7eb09-b5b8-4651-84be-04d76c542d83",
   "metadata": {},
   "source": [
    " - Example 2\n",
    " \n",
    " Let's see a second example, more complicated, of the potential of conditional statements in Python for dealing with D&A assignments. All functionalities are too advanced for now, it's just for demonstration purposes, but we'll get to this point!"
   ]
  },
  {
   "cell_type": "code",
   "execution_count": 30,
   "id": "3dc909a0-6339-40ed-bd32-3f840f0fb354",
   "metadata": {},
   "outputs": [],
   "source": [
    "import pandas as pd\n",
    "from sklearn.datasets import load_wine"
   ]
  },
  {
   "cell_type": "code",
   "execution_count": 38,
   "id": "c8889d86-0ae0-4800-b70d-e4f0dee24dda",
   "metadata": {},
   "outputs": [],
   "source": [
    "# get a toy dataframe from sklearn's colection\n",
    "data = load_wine()\n",
    "df = pd.DataFrame(data.data, columns = data.feature_names)"
   ]
  },
  {
   "cell_type": "code",
   "execution_count": 37,
   "id": "0e187a1f-bbf5-4f16-8fe6-fb1079946883",
   "metadata": {},
   "outputs": [
    {
     "data": {
      "text/html": [
       "<div>\n",
       "<style scoped>\n",
       "    .dataframe tbody tr th:only-of-type {\n",
       "        vertical-align: middle;\n",
       "    }\n",
       "\n",
       "    .dataframe tbody tr th {\n",
       "        vertical-align: top;\n",
       "    }\n",
       "\n",
       "    .dataframe thead th {\n",
       "        text-align: right;\n",
       "    }\n",
       "</style>\n",
       "<table border=\"1\" class=\"dataframe\">\n",
       "  <thead>\n",
       "    <tr style=\"text-align: right;\">\n",
       "      <th></th>\n",
       "      <th>alcohol</th>\n",
       "      <th>malic_acid</th>\n",
       "      <th>ash</th>\n",
       "      <th>alcalinity_of_ash</th>\n",
       "      <th>magnesium</th>\n",
       "      <th>total_phenols</th>\n",
       "      <th>flavanoids</th>\n",
       "      <th>nonflavanoid_phenols</th>\n",
       "      <th>proanthocyanins</th>\n",
       "      <th>color_intensity</th>\n",
       "      <th>hue</th>\n",
       "      <th>od280/od315_of_diluted_wines</th>\n",
       "      <th>proline</th>\n",
       "    </tr>\n",
       "  </thead>\n",
       "  <tbody>\n",
       "    <tr>\n",
       "      <th>0</th>\n",
       "      <td>14.23</td>\n",
       "      <td>1.71</td>\n",
       "      <td>2.43</td>\n",
       "      <td>15.6</td>\n",
       "      <td>127.0</td>\n",
       "      <td>2.80</td>\n",
       "      <td>3.06</td>\n",
       "      <td>0.28</td>\n",
       "      <td>2.29</td>\n",
       "      <td>5.64</td>\n",
       "      <td>1.04</td>\n",
       "      <td>3.92</td>\n",
       "      <td>1065.0</td>\n",
       "    </tr>\n",
       "    <tr>\n",
       "      <th>1</th>\n",
       "      <td>13.20</td>\n",
       "      <td>1.78</td>\n",
       "      <td>2.14</td>\n",
       "      <td>11.2</td>\n",
       "      <td>100.0</td>\n",
       "      <td>2.65</td>\n",
       "      <td>2.76</td>\n",
       "      <td>0.26</td>\n",
       "      <td>1.28</td>\n",
       "      <td>4.38</td>\n",
       "      <td>1.05</td>\n",
       "      <td>3.40</td>\n",
       "      <td>1050.0</td>\n",
       "    </tr>\n",
       "    <tr>\n",
       "      <th>2</th>\n",
       "      <td>13.16</td>\n",
       "      <td>2.36</td>\n",
       "      <td>2.67</td>\n",
       "      <td>18.6</td>\n",
       "      <td>101.0</td>\n",
       "      <td>2.80</td>\n",
       "      <td>3.24</td>\n",
       "      <td>0.30</td>\n",
       "      <td>2.81</td>\n",
       "      <td>5.68</td>\n",
       "      <td>1.03</td>\n",
       "      <td>3.17</td>\n",
       "      <td>1185.0</td>\n",
       "    </tr>\n",
       "    <tr>\n",
       "      <th>3</th>\n",
       "      <td>14.37</td>\n",
       "      <td>1.95</td>\n",
       "      <td>2.50</td>\n",
       "      <td>16.8</td>\n",
       "      <td>113.0</td>\n",
       "      <td>3.85</td>\n",
       "      <td>3.49</td>\n",
       "      <td>0.24</td>\n",
       "      <td>2.18</td>\n",
       "      <td>7.80</td>\n",
       "      <td>0.86</td>\n",
       "      <td>3.45</td>\n",
       "      <td>1480.0</td>\n",
       "    </tr>\n",
       "    <tr>\n",
       "      <th>4</th>\n",
       "      <td>13.24</td>\n",
       "      <td>2.59</td>\n",
       "      <td>2.87</td>\n",
       "      <td>21.0</td>\n",
       "      <td>118.0</td>\n",
       "      <td>2.80</td>\n",
       "      <td>2.69</td>\n",
       "      <td>0.39</td>\n",
       "      <td>1.82</td>\n",
       "      <td>4.32</td>\n",
       "      <td>1.04</td>\n",
       "      <td>2.93</td>\n",
       "      <td>735.0</td>\n",
       "    </tr>\n",
       "  </tbody>\n",
       "</table>\n",
       "</div>"
      ],
      "text/plain": [
       "   alcohol  malic_acid   ash  alcalinity_of_ash  magnesium  total_phenols  \\\n",
       "0    14.23        1.71  2.43               15.6      127.0           2.80   \n",
       "1    13.20        1.78  2.14               11.2      100.0           2.65   \n",
       "2    13.16        2.36  2.67               18.6      101.0           2.80   \n",
       "3    14.37        1.95  2.50               16.8      113.0           3.85   \n",
       "4    13.24        2.59  2.87               21.0      118.0           2.80   \n",
       "\n",
       "   flavanoids  nonflavanoid_phenols  proanthocyanins  color_intensity   hue  \\\n",
       "0        3.06                  0.28             2.29             5.64  1.04   \n",
       "1        2.76                  0.26             1.28             4.38  1.05   \n",
       "2        3.24                  0.30             2.81             5.68  1.03   \n",
       "3        3.49                  0.24             2.18             7.80  0.86   \n",
       "4        2.69                  0.39             1.82             4.32  1.04   \n",
       "\n",
       "   od280/od315_of_diluted_wines  proline  \n",
       "0                          3.92   1065.0  \n",
       "1                          3.40   1050.0  \n",
       "2                          3.17   1185.0  \n",
       "3                          3.45   1480.0  \n",
       "4                          2.93    735.0  "
      ]
     },
     "execution_count": 37,
     "metadata": {},
     "output_type": "execute_result"
    }
   ],
   "source": [
    "df.head()"
   ]
  },
  {
   "cell_type": "markdown",
   "id": "b2ad6ef9-c79a-45a1-9a40-040ac623f9b0",
   "metadata": {},
   "source": [
    "Imagine we want to do some Feature Engineering, and create a categorical variable describing our wine alcohol content in three main categories to feed it to our model. We'd be using a conditional statement."
   ]
  },
  {
   "cell_type": "code",
   "execution_count": 41,
   "id": "1b8ec21d-be69-4045-902b-e0f777119581",
   "metadata": {},
   "outputs": [
    {
     "data": {
      "text/plain": [
       "<AxesSubplot:>"
      ]
     },
     "execution_count": 41,
     "metadata": {},
     "output_type": "execute_result"
    },
    {
     "data": {
      "image/png": "[encoded data removed]",
      "text/plain": [
       "<Figure size 640x480 with 1 Axes>"
      ]
     },
     "metadata": {},
     "output_type": "display_data"
    }
   ],
   "source": [
    "df.alcohol.hist()"
   ]
  },
  {
   "cell_type": "code",
   "execution_count": 55,
   "id": "7da547ca-2b0a-4c0d-8768-1e36db79843f",
   "metadata": {},
   "outputs": [],
   "source": [
    "# Here, we're using a combination of a dataframe.apply to apply a function, + a ad-hoc function defined with a lambda function, plus a conditional statement included therein. We will be seeing all of this, by parts, in the coming content blocks.\n",
    "df['wine_strength'] = df.alcohol.apply(lambda x: 'Low' if x<= 12 else 'Strong' if x>= 14 else 'Mid')"
   ]
  },
  {
   "cell_type": "code",
   "execution_count": 56,
   "id": "88643771-f2d1-4f02-ab3e-91732a5456a5",
   "metadata": {},
   "outputs": [
    {
     "data": {
      "text/html": [
       "<div>\n",
       "<style scoped>\n",
       "    .dataframe tbody tr th:only-of-type {\n",
       "        vertical-align: middle;\n",
       "    }\n",
       "\n",
       "    .dataframe tbody tr th {\n",
       "        vertical-align: top;\n",
       "    }\n",
       "\n",
       "    .dataframe thead th {\n",
       "        text-align: right;\n",
       "    }\n",
       "</style>\n",
       "<table border=\"1\" class=\"dataframe\">\n",
       "  <thead>\n",
       "    <tr style=\"text-align: right;\">\n",
       "      <th></th>\n",
       "      <th>alcohol</th>\n",
       "      <th>malic_acid</th>\n",
       "      <th>ash</th>\n",
       "      <th>alcalinity_of_ash</th>\n",
       "      <th>magnesium</th>\n",
       "      <th>total_phenols</th>\n",
       "      <th>flavanoids</th>\n",
       "      <th>nonflavanoid_phenols</th>\n",
       "      <th>proanthocyanins</th>\n",
       "      <th>color_intensity</th>\n",
       "      <th>hue</th>\n",
       "      <th>od280/od315_of_diluted_wines</th>\n",
       "      <th>proline</th>\n",
       "      <th>wine_strength</th>\n",
       "    </tr>\n",
       "  </thead>\n",
       "  <tbody>\n",
       "    <tr>\n",
       "      <th>0</th>\n",
       "      <td>14.23</td>\n",
       "      <td>1.71</td>\n",
       "      <td>2.43</td>\n",
       "      <td>15.6</td>\n",
       "      <td>127.0</td>\n",
       "      <td>2.80</td>\n",
       "      <td>3.06</td>\n",
       "      <td>0.28</td>\n",
       "      <td>2.29</td>\n",
       "      <td>5.64</td>\n",
       "      <td>1.04</td>\n",
       "      <td>3.92</td>\n",
       "      <td>1065.0</td>\n",
       "      <td>Strong</td>\n",
       "    </tr>\n",
       "    <tr>\n",
       "      <th>1</th>\n",
       "      <td>13.20</td>\n",
       "      <td>1.78</td>\n",
       "      <td>2.14</td>\n",
       "      <td>11.2</td>\n",
       "      <td>100.0</td>\n",
       "      <td>2.65</td>\n",
       "      <td>2.76</td>\n",
       "      <td>0.26</td>\n",
       "      <td>1.28</td>\n",
       "      <td>4.38</td>\n",
       "      <td>1.05</td>\n",
       "      <td>3.40</td>\n",
       "      <td>1050.0</td>\n",
       "      <td>Mid</td>\n",
       "    </tr>\n",
       "    <tr>\n",
       "      <th>2</th>\n",
       "      <td>13.16</td>\n",
       "      <td>2.36</td>\n",
       "      <td>2.67</td>\n",
       "      <td>18.6</td>\n",
       "      <td>101.0</td>\n",
       "      <td>2.80</td>\n",
       "      <td>3.24</td>\n",
       "      <td>0.30</td>\n",
       "      <td>2.81</td>\n",
       "      <td>5.68</td>\n",
       "      <td>1.03</td>\n",
       "      <td>3.17</td>\n",
       "      <td>1185.0</td>\n",
       "      <td>Mid</td>\n",
       "    </tr>\n",
       "    <tr>\n",
       "      <th>3</th>\n",
       "      <td>14.37</td>\n",
       "      <td>1.95</td>\n",
       "      <td>2.50</td>\n",
       "      <td>16.8</td>\n",
       "      <td>113.0</td>\n",
       "      <td>3.85</td>\n",
       "      <td>3.49</td>\n",
       "      <td>0.24</td>\n",
       "      <td>2.18</td>\n",
       "      <td>7.80</td>\n",
       "      <td>0.86</td>\n",
       "      <td>3.45</td>\n",
       "      <td>1480.0</td>\n",
       "      <td>Strong</td>\n",
       "    </tr>\n",
       "    <tr>\n",
       "      <th>4</th>\n",
       "      <td>13.24</td>\n",
       "      <td>2.59</td>\n",
       "      <td>2.87</td>\n",
       "      <td>21.0</td>\n",
       "      <td>118.0</td>\n",
       "      <td>2.80</td>\n",
       "      <td>2.69</td>\n",
       "      <td>0.39</td>\n",
       "      <td>1.82</td>\n",
       "      <td>4.32</td>\n",
       "      <td>1.04</td>\n",
       "      <td>2.93</td>\n",
       "      <td>735.0</td>\n",
       "      <td>Mid</td>\n",
       "    </tr>\n",
       "  </tbody>\n",
       "</table>\n",
       "</div>"
      ],
      "text/plain": [
       "   alcohol  malic_acid   ash  alcalinity_of_ash  magnesium  total_phenols  \\\n",
       "0    14.23        1.71  2.43               15.6      127.0           2.80   \n",
       "1    13.20        1.78  2.14               11.2      100.0           2.65   \n",
       "2    13.16        2.36  2.67               18.6      101.0           2.80   \n",
       "3    14.37        1.95  2.50               16.8      113.0           3.85   \n",
       "4    13.24        2.59  2.87               21.0      118.0           2.80   \n",
       "\n",
       "   flavanoids  nonflavanoid_phenols  proanthocyanins  color_intensity   hue  \\\n",
       "0        3.06                  0.28             2.29             5.64  1.04   \n",
       "1        2.76                  0.26             1.28             4.38  1.05   \n",
       "2        3.24                  0.30             2.81             5.68  1.03   \n",
       "3        3.49                  0.24             2.18             7.80  0.86   \n",
       "4        2.69                  0.39             1.82             4.32  1.04   \n",
       "\n",
       "   od280/od315_of_diluted_wines  proline wine_strength  \n",
       "0                          3.92   1065.0        Strong  \n",
       "1                          3.40   1050.0           Mid  \n",
       "2                          3.17   1185.0           Mid  \n",
       "3                          3.45   1480.0        Strong  \n",
       "4                          2.93    735.0           Mid  "
      ]
     },
     "execution_count": 56,
     "metadata": {},
     "output_type": "execute_result"
    }
   ],
   "source": [
    "df.head()"
   ]
  },
  {
   "cell_type": "markdown",
   "id": "6b101018-30b9-485f-b3b9-0495eeb75a0a",
   "metadata": {},
   "source": [
    "### **Quick Exercise**\n",
    "\n",
    "Imagine a list of car brands. Code a Conditional Statement to apply the following conditions to whatever of the car brands that pass through it:\n",
    "\n",
    " - if the car brand starts with Te, replace it with the text 'Name of a famous Scientist'\n",
    " - if the car brand starts with A or V, replace it with 'German Brand'\n",
    " - if the car brand starts with To, replace it with 'Reference of Business Management'\n",
    " - else, do nothing"
   ]
  },
  {
   "cell_type": "code",
   "execution_count": 3,
   "id": "e703fcde-ae39-461a-83c6-1979825284ab",
   "metadata": {},
   "outputs": [],
   "source": [
    "car_preferences = ' Some brands that I like include Tesla, Toyota, Audi, VolksWagen, RollsRoyce. They are from many different countries!'"
   ]
  },
  {
   "cell_type": "markdown",
   "id": "5147dc5b-711d-49bb-9166-526a9a80c7da",
   "metadata": {},
   "source": [
    "**Solution**"
   ]
  },
  {
   "cell_type": "code",
   "execution_count": null,
   "id": "094db970-9126-4ad7-8f8b-cae66d10da03",
   "metadata": {},
   "outputs": [],
   "source": []
  },
  {
   "cell_type": "markdown",
   "id": "00ae88c2-11d5-4e68-a424-bacf29d8f27b",
   "metadata": {},
   "source": [
    "## **02.2. for Loops**\n",
    "\n",
    "As we discussed, **Loops are what allows in Python for the continued or reiterative execution of code**.\n",
    "\n",
    "Specifically, there are to types of reiterative code execution that we can think of.\n",
    "\n",
    "The first one considers the execution of a piece of code over all **alll individual elements of an Iterable**.\n",
    "\n",
    "An iterable in Python may be any object composed of individual elements that you can iterate through. Think about **lists, or tuples**, but also **strings**!\n",
    "\n",
    "Let's see an example of it:"
   ]
  },
  {
   "cell_type": "code",
   "execution_count": 3,
   "id": "f3566058-cac5-40da-aca7-0494f10323ce",
   "metadata": {},
   "outputs": [
    {
     "name": "stdout",
     "output_type": "stream",
     "text": [
      "h\n",
      "e\n",
      "l\n",
      "l\n",
      "o\n",
      " \n",
      "w\n",
      "o\n",
      "r\n",
      "l\n",
      "d\n"
     ]
    }
   ],
   "source": [
    "# As you can see, Identation is yet again key in the formulation!\n",
    "\n",
    "for i in 'hello world':\n",
    "    print(i)"
   ]
  },
  {
   "cell_type": "code",
   "execution_count": 5,
   "id": "0f36c433-8cc6-4653-abb2-d2be2203fb61",
   "metadata": {},
   "outputs": [
    {
     "name": "stdout",
     "output_type": "stream",
     "text": [
      "1\n",
      "4\n",
      "Hello!\n",
      "True\n",
      "[1, 2, 3]\n"
     ]
    }
   ],
   "source": [
    "# Now for a list\n",
    "\n",
    "my_list = [1, 4, 'Hello!', True, [1, 2, 3]]\n",
    "\n",
    "for i in my_list:\n",
    "    print(i)"
   ]
  },
  {
   "cell_type": "markdown",
   "id": "854a3bb7-bc20-4564-a793-c0e702716d76",
   "metadata": {},
   "source": [
    "### **for Loops to enact modifications**\n",
    "\n",
    "Iterating through objects can be used to enact modifications on the original object, or for creating new variables"
   ]
  },
  {
   "cell_type": "code",
   "execution_count": 3,
   "id": "2e48c05e-2351-4505-b2cd-89a4153d0c73",
   "metadata": {},
   "outputs": [
    {
     "name": "stdout",
     "output_type": "stream",
     "text": [
      "France\n",
      "Japan\n",
      "Spain\n",
      "Poland\n",
      "Taiwan\n",
      "Sri lanka\n",
      "Ukraine\n"
     ]
    }
   ],
   "source": [
    "lst = ['france', 'japan', 'spain', 'poland', 'taiwan', 'sri lanka', 'ukraine']\n",
    "\n",
    "# We can use for loops to apply changes to individual variables\n",
    "\n",
    "for i in lst:\n",
    "    \n",
    "    print(i.capitalize())"
   ]
  },
  {
   "cell_type": "markdown",
   "id": "ce4d1a9b-7959-41f7-a56e-0101d045eb0d",
   "metadata": {},
   "source": [
    "However, our changes were not stored in any single variable! How would we do it?\n",
    "\n",
    " - One first possibility is to create a **new variable** from the modified parts:"
   ]
  },
  {
   "cell_type": "code",
   "execution_count": 5,
   "id": "06c88f3f-5ecd-433b-8fc5-2042f130f76f",
   "metadata": {},
   "outputs": [
    {
     "name": "stdout",
     "output_type": "stream",
     "text": [
      "['France', 'Japan', 'Spain', 'Poland', 'Taiwan', 'Sri lanka', 'Ukraine']\n"
     ]
    }
   ],
   "source": [
    "# By introducing a first empty list, and then appending elements into it, we manage to store all modified objects into a new list.\n",
    "# it's like obtaining the original list, but with modifications!\n",
    "\n",
    "new_lst = []\n",
    "for i in lst:\n",
    "    new_lst.append(i.capitalize())\n",
    "\n",
    "print(new_lst)"
   ]
  },
  {
   "cell_type": "markdown",
   "id": "8f987595-47aa-4753-9d4d-d5b236c5c4eb",
   "metadata": {},
   "source": [
    " - A second possibility concerns **modifying the original iterable**. That can be done with lists or strings, though not with tuples! Let's see baout that:"
   ]
  },
  {
   "cell_type": "code",
   "execution_count": 7,
   "id": "fedac957-12ed-429c-ae32-4eb9bbb4887d",
   "metadata": {},
   "outputs": [
    {
     "name": "stdout",
     "output_type": "stream",
     "text": [
      "['France', 'Japan', 'Spain', 'Poland', 'Taiwan', 'Sri lanka', 'Ukraine']\n"
     ]
    }
   ],
   "source": [
    "lst = ['france', 'japan', 'spain', 'poland', 'taiwan', 'sri lanka', 'ukraine']\n",
    "# To do that, we point to the relevant index to make the substitution:\n",
    "\n",
    "for i in lst:\n",
    "    index = lst.index(i)\n",
    "    lst[index] = i.capitalize()\n",
    "\n",
    "print(lst)\n"
   ]
  },
  {
   "cell_type": "code",
   "execution_count": 10,
   "id": "a9966914-1683-4c16-a5f1-267d873d41fb",
   "metadata": {},
   "outputs": [
    {
     "name": "stdout",
     "output_type": "stream",
     "text": [
      "['France', 'Japan', 'Spain', 'Poland', 'Taiwan', 'Sri lanka', 'Ukraine']\n"
     ]
    }
   ],
   "source": [
    "# We can also do that by means of using a Counter:\n",
    "\n",
    "lst = ['france', 'japan', 'spain', 'poland', 'taiwan', 'sri lanka', 'ukraine']\n",
    "\n",
    "index = 0\n",
    "for i in lst:\n",
    "    lst[index] = i.capitalize()\n",
    "    index += 1\n",
    "\n",
    "print(lst)\n"
   ]
  },
  {
   "cell_type": "markdown",
   "id": "096a5f55-9c2d-4eab-a3ae-2d6b39d5e05b",
   "metadata": {},
   "source": [
    "However, the last option is a clear indicator that you're a Python **newbie**! You'd much better use the **eEumerate** function:"
   ]
  },
  {
   "cell_type": "code",
   "execution_count": 11,
   "id": "029c08e5-5ae7-47ed-b343-5357a237500f",
   "metadata": {},
   "outputs": [
    {
     "name": "stdout",
     "output_type": "stream",
     "text": [
      "['France', 'Japan', 'Spain', 'Poland', 'Taiwan', 'Sri lanka', 'Ukraine']\n"
     ]
    }
   ],
   "source": [
    "lst = ['france', 'japan', 'spain', 'poland', 'taiwan', 'sri lanka', 'ukraine']\n",
    "\n",
    "for index, i in enumerate(lst):\n",
    "    lst[index] = i.capitalize()\n",
    "    index += 1\n",
    "\n",
    "print(lst)"
   ]
  },
  {
   "cell_type": "markdown",
   "id": "2da97208-8cea-47f4-8db5-46542482aab6",
   "metadata": {},
   "source": [
    "The **enumerate** function makes se of **tuple unpacking**. We will see that in a bit!"
   ]
  },
  {
   "cell_type": "markdown",
   "id": "2b874742-0794-40f7-9f0c-e81d06a08afa",
   "metadata": {},
   "source": [
    "### **Nesting Loops and Conditional Statements**\n",
    "\n",
    "We can **nest** loops and conditional statements, one inside the other, or loops among themselves (as well as conditional statements among themselves).\n",
    "\n",
    "Let's take a look at how to do that:"
   ]
  },
  {
   "cell_type": "code",
   "execution_count": 13,
   "id": "795f39e6-ab2b-4202-88bf-b72ef2a55072",
   "metadata": {},
   "outputs": [
    {
     "name": "stdout",
     "output_type": "stream",
     "text": [
      " France\n",
      " Japan\n",
      " Spain\n",
      " Poland\n",
      " Taiwan\n",
      " Sri Lanka\n",
      " Ukraine\n"
     ]
    }
   ],
   "source": [
    "# A first issue we found in previous exercises was that we lacked the ability to uppercase both words in Sri Lanka. That can be sorted out using two nested loops:\n",
    "\n",
    "lst = ['france', 'japan', 'spain', 'poland', 'taiwan', 'sri lanka', 'ukraine']\n",
    "\n",
    "for i in lst:\n",
    "    x = i.split()\n",
    "    s = ''\n",
    "    for e in x:\n",
    "        s+=' '+e.capitalize()\n",
    "    \n",
    "    print(s)"
   ]
  },
  {
   "cell_type": "code",
   "execution_count": 19,
   "id": "4f03f38e-e0c2-416b-8409-d27d80f2a953",
   "metadata": {},
   "outputs": [
    {
     "name": "stdout",
     "output_type": "stream",
     "text": [
      "France\n",
      "Japan\n",
      "Spain\n",
      "Poland\n",
      "Taiwan\n",
      "Sri Lanka\n",
      "Ukraine\n"
     ]
    }
   ],
   "source": [
    "# Another way to do so effectively concerns having a combination of a loop and a conditional statement. Let's see about that:\n",
    "\n",
    "lst = ['france', 'japan', 'spain', 'poland', 'taiwan', 'sri lanka', 'ukraine']\n",
    "\n",
    "for i in lst:\n",
    "    if len(i.split()) >1:\n",
    "        print(\" \".join([x.capitalize() for x in i.split()]))\n",
    "    else:\n",
    "        print(i.capitalize())\n",
    "    \n"
   ]
  },
  {
   "cell_type": "markdown",
   "id": "5b6f4bb0-c0c4-4d71-a992-1944a3745084",
   "metadata": {},
   "source": [
    "Combining conditional statements and for loops has many potential applications. Let's see a more complicated example of that:"
   ]
  },
  {
   "cell_type": "code",
   "execution_count": 23,
   "id": "2d31c281-8cdb-417b-a049-7a085573553c",
   "metadata": {},
   "outputs": [
    {
     "data": {
      "text/plain": [
       "['Biden', 'Obama', 'Bush', 'Clinton', 'Reagan', 'FDR', 'Kennedy']"
      ]
     },
     "execution_count": 23,
     "metadata": {},
     "output_type": "execute_result"
    }
   ],
   "source": [
    "# Let's turn all the list of those presidents that are not in \"capitalize\" into capitalize and, in case we are dealing with an acronym (let's say, for example, a name with a length below 4 letters), let's bring it all to capital letters:\n",
    "\n",
    "presidents = ['biden', 'obama', 'Bush', 'Clinton', 'reagan', 'fdr', 'kennedy']\n",
    "\n",
    "result = []\n",
    "for i in presidents:\n",
    "    if i[0].islower():\n",
    "        if len(i) < 4:\n",
    "            result.append(i.upper())\n",
    "        else:\n",
    "            result.append(i.capitalize())\n",
    "    else:\n",
    "        result.append(i)\n",
    "\n",
    "result"
   ]
  },
  {
   "cell_type": "markdown",
   "id": "11f62ae0-ef9d-4add-a509-0201e3d734e9",
   "metadata": {},
   "source": [
    "#### **Loops: Quick Exercise 1**\n",
    "\n",
    "Now, we can reuse the previous example from conditional statements, and apply the resulting changes to all the list at a time!\n",
    "\n",
    "Create, and modify the car brand list, so that (bear in mind, the conditions are not exactly the same as in the previous exercise):\n",
    "\n",
    " - if the car brand starts with Te, replace it with the text 'Belonging to X'\n",
    " - if the car brand starts with A, replace it with 'German Brand'\n",
    " - if the car brand starts with V, replace it with \"Former tank manufacturer\"\n",
    " - if the car brand starts with To, replace it with 'Reference of Business Management'\n",
    " - else, do nothing\n"
   ]
  },
  {
   "cell_type": "code",
   "execution_count": 15,
   "id": "9ef3bb14-461d-4a4f-840a-909f286aef8d",
   "metadata": {},
   "outputs": [],
   "source": [
    "car_preferences = ' Some brands that I like include Tesla, Toyota, Audi, VolksWagen, RollsRoyce. They are from many different countries!'"
   ]
  },
  {
   "cell_type": "markdown",
   "id": "b1383d9f-7a80-41cc-8a7f-60b2b8c36db7",
   "metadata": {},
   "source": [
    "**Solution**"
   ]
  },
  {
   "cell_type": "code",
   "execution_count": null,
   "id": "26e4f64a-e135-4a64-96e2-092da9baa726",
   "metadata": {},
   "outputs": [],
   "source": []
  },
  {
   "cell_type": "markdown",
   "id": "3e91ea1b-e19e-4b34-addc-1f1b4c364310",
   "metadata": {},
   "source": [
    "#### **for Loops, and keeping track of occurrences**\n",
    "\n",
    "for Loops can also be combined with conditional statements in order to find out the number of occurrences of a particular scenario. For instance, counting the amount of numbers above a certain threshold, the number of strings beginning with capital letters, etc.\n",
    "\n",
    "Let's see how to do that:"
   ]
  },
  {
   "cell_type": "code",
   "execution_count": 29,
   "id": "e5e678b0-a27c-4385-94e6-d5420ed4b308",
   "metadata": {},
   "outputs": [
    {
     "name": "stdout",
     "output_type": "stream",
     "text": [
      "Total numbers above 10 in my list: 9\n"
     ]
    }
   ],
   "source": [
    "# Let's evaluate how many numbers above 10 we've got\n",
    "my_list = [6, 5, 10, 24, 7, 1, 3, 45, 9, 5, 30, 24, 77, 89, 367, 2, 3, 2, 45, 67, 0, 4]\n",
    "\n",
    "counter = 0\n",
    "for i in my_list:\n",
    "    if i > 10:\n",
    "        counter += 1\n",
    "    else:\n",
    "        pass\n",
    "\n",
    "print(f'Total numbers above 10 in my list: {counter}')"
   ]
  },
  {
   "cell_type": "markdown",
   "id": "cee7b6a6-bcda-479b-bcd4-8e3aa43f5286",
   "metadata": {},
   "source": [
    "#### **Loops Quick Exercise 2**\n",
    "\n",
    "Without using pass and creating a new list, modify the **existing 'watches' list** so that, if a watch brand is a swiss brand, 'Swiss Watch' is shown."
   ]
  },
  {
   "cell_type": "code",
   "execution_count": 18,
   "id": "be6005f5-474a-411a-8c67-d7492f5d5031",
   "metadata": {},
   "outputs": [],
   "source": [
    "watches = ['Tissot', 'Bulova', 'Seiko', 'Hamilton', 'Omega', 'Citizen', 'Orient']\n",
    "\n",
    "swiss_watches = 'Swiss watch brands include Omega, Tissot, Rolex, Chopard, AP, Hamilton, Swatch'"
   ]
  },
  {
   "cell_type": "markdown",
   "id": "7f08c910-b221-4c84-ad6c-5d77d589574e",
   "metadata": {},
   "source": [
    "**Solution**"
   ]
  },
  {
   "cell_type": "code",
   "execution_count": null,
   "id": "c13c9e1d-1749-44bb-bead-98cf78154872",
   "metadata": {},
   "outputs": [],
   "source": []
  },
  {
   "cell_type": "markdown",
   "id": "0e2b1391-5702-4047-a5db-a755cc9f3874",
   "metadata": {},
   "source": [
    "### **Tuple Unpacking**\n",
    "\n",
    "**Tuple Unpacking** is a way to iterate though returning sets of values that come in pairs, trios, etc; to obtain directly in the for loop the **different elements of the tuple** in different **variables**.\n",
    "\n",
    "Let's see that in action:"
   ]
  },
  {
   "cell_type": "code",
   "execution_count": null,
   "id": "6260d2f6-87ad-4d40-bf76-6847646c587e",
   "metadata": {},
   "outputs": [
    {
     "name": "stdout",
     "output_type": "stream",
     "text": [
      "The capital of Spain is the city of Madrid\n",
      "The capital of France is the city of Paris\n",
      "The capital of Japan is the city of Tokyo\n",
      "The capital of Ukraine is the city of Kiev\n",
      "The capital of Romania is the city of Bucarest\n",
      "The capital of Kazahstan is the city of Astana\n"
     ]
    }
   ],
   "source": [
    "# Our base example is having a list of tuples:\n",
    "\n",
    "lst_tuples = [('Spain', 'Madrid'), ('France', 'Paris'), ('Japan', 'Tokyo'), ('Ukraine', 'Kiev'), ('Romania', 'Bucarest'), ('Kazahstan', 'Astana')]\n",
    "\n",
    "for country, capital in lst_tuples:\n",
    "    print(f\"The capital of {country} is the city of {capital}\")"
   ]
  },
  {
   "cell_type": "markdown",
   "id": "53b87694-3728-42b2-ad50-dc28627f560b",
   "metadata": {},
   "source": [
    "That's useful for many applications. You may want to codify yourself the reutrn of several values in tuples or lists. \n",
    "\n",
    "Or else, you can obtain values from **predefined python functions** that have several values into tuples. **Enumerate** is a clear example of that. When we use it, we are tuple-unpacking!"
   ]
  },
  {
   "cell_type": "code",
   "execution_count": 33,
   "id": "7a2cf3c2-0297-4f11-ac8e-fd58d53da45a",
   "metadata": {},
   "outputs": [
    {
     "name": "stdout",
     "output_type": "stream",
     "text": [
      "On index 0, it's the city of Madrid\n",
      "On index 1, it's the city of Paris\n",
      "On index 2, it's the city of Tokyo\n",
      "On index 3, it's the city of Kiev\n",
      "On index 4, it's the city of Bucarest\n",
      "On index 5, it's the city of Astana\n"
     ]
    }
   ],
   "source": [
    "lst_cities = [i[1] for i in lst_tuples]\n",
    "\n",
    "for index, i in enumerate(lst_cities):\n",
    "    print(f\"On index {index}, it's the city of {i}\")"
   ]
  },
  {
   "cell_type": "markdown",
   "id": "880daa99-67cd-45d4-8d3c-9ab886ab87c8",
   "metadata": {},
   "source": [
    "### **Iterating through Dictionaries**\n",
    "\n",
    "Dictionaries can also be iterated through.\n",
    "\n",
    "To iterate through dictionaries we will be focusing primarily on the set of three methods we discussed during the previous lesson.\n",
    "\n",
    "Let's see how to do that:"
   ]
  },
  {
   "cell_type": "code",
   "execution_count": 38,
   "id": "601d4df1-4973-48ce-afaf-1cb9f5bb2724",
   "metadata": {},
   "outputs": [],
   "source": [
    "d = {'name': 'John', 'surname':'Smith', 'age': 27, 'companies_worked_for': ['PwC', 'Meta', 'Amazon', 'AuChamp'] } "
   ]
  },
  {
   "cell_type": "code",
   "execution_count": 43,
   "id": "6c3b2299-c765-4c8d-a721-63f750d8cd1e",
   "metadata": {},
   "outputs": [
    {
     "name": "stdout",
     "output_type": "stream",
     "text": [
      "Key: name, Value: John\n",
      "Key: surname, Value: Smith\n",
      "Key: age, Value: 27\n",
      "Key: companies_worked_for, Value: ['PwC', 'Meta', 'Amazon', 'AuChamp']\n"
     ]
    }
   ],
   "source": [
    "# One way to do that is iterating through Key-Value pairs with d.items()\n",
    "\n",
    "for k, v in d.items():\n",
    "    print(f\"Key: {k}, Value: {v}\")"
   ]
  },
  {
   "cell_type": "markdown",
   "id": "93964261-7687-4ccf-a88f-2866e7c6b33b",
   "metadata": {},
   "source": [
    "Also, we can iterate through the keys or values of a dictionary, independently:"
   ]
  },
  {
   "cell_type": "code",
   "execution_count": 44,
   "id": "f5bf8a16-023c-46f1-bfcf-9349090dcc17",
   "metadata": {},
   "outputs": [
    {
     "name": "stdout",
     "output_type": "stream",
     "text": [
      "name\n",
      "surname\n",
      "age\n",
      "companies_worked_for\n"
     ]
    }
   ],
   "source": [
    "for k in d.keys():\n",
    "    print(k)"
   ]
  },
  {
   "cell_type": "code",
   "execution_count": 45,
   "id": "18fbc9f9-682e-461b-9de9-55cf6420fe93",
   "metadata": {},
   "outputs": [
    {
     "name": "stdout",
     "output_type": "stream",
     "text": [
      "John\n",
      "Smith\n",
      "27\n",
      "['PwC', 'Meta', 'Amazon', 'AuChamp']\n"
     ]
    }
   ],
   "source": [
    "for v in d.values():\n",
    "    print(v)"
   ]
  },
  {
   "cell_type": "markdown",
   "id": "8626a4c1-3eed-4f75-8933-ae2f83f3425b",
   "metadata": {},
   "source": [
    "## **02.3. while Loops**\n",
    "\n",
    "while loops are the other important kind of loops that, unlike the for loop, it is not based on iterating through all the instance of an iterable, but rather is based on **continuousñy running a code over and over until a condition is met**.\n",
    "\n",
    "Let's see some instances of it:"
   ]
  },
  {
   "cell_type": "code",
   "execution_count": 47,
   "id": "95a8955d-b9f4-4b2f-8bb8-64bbd18a50d6",
   "metadata": {},
   "outputs": [
    {
     "name": "stdout",
     "output_type": "stream",
     "text": [
      "0\n",
      "1\n",
      "2\n",
      "3\n",
      "4\n",
      "5\n",
      "6\n"
     ]
    }
   ],
   "source": [
    "# Important! Beware of ALWAYS adding 1 to x, else the lop will never stop running\n",
    "x = 0\n",
    "\n",
    "while x < 7:\n",
    "    print(x)\n",
    "    x+=1"
   ]
  },
  {
   "cell_type": "markdown",
   "id": "5a905776-d86d-4988-b623-f2ffeef31ee9",
   "metadata": {},
   "source": [
    "We may use the **break**, **continue** and **pass** statements, most of all when the while loop is coded in combination with **conditional statements**, in order to **alter the loop itself**:\n",
    "\n",
    " - **break**: breaks from the loop altogether\n",
    " - **continue**: breaks from the current loop iteration, and jumps straightly to the following one\n",
    " - **pass**: just indicates that there is no code to execute there, but doesn't modify the loop per se\n",
    " \n",
    "Let's see them in action:"
   ]
  },
  {
   "cell_type": "code",
   "execution_count": 2,
   "id": "b2a53975-c2ec-4a8d-8444-4288de3fe3d5",
   "metadata": {},
   "outputs": [
    {
     "name": "stdout",
     "output_type": "stream",
     "text": [
      "1\n",
      "---\n",
      "2\n",
      "---\n",
      "---\n",
      "4\n",
      "---\n",
      "6\n",
      "---\n"
     ]
    }
   ],
   "source": [
    "# Pay attention on what every statement is doing! \n",
    "x = 0\n",
    "while x<=10:\n",
    "    x +=1 \n",
    "    if x == 3:\n",
    "        pass\n",
    "    elif x == 7:\n",
    "        break\n",
    "    elif x == 5:\n",
    "        continue\n",
    "    else:\n",
    "        print(x)\n",
    "    print('---')"
   ]
  },
  {
   "cell_type": "markdown",
   "id": "747ce80d-81f7-4335-b60d-16c60da162a0",
   "metadata": {},
   "source": [
    "### **while Loops can be used also to iterate between objects**"
   ]
  },
  {
   "cell_type": "code",
   "execution_count": 3,
   "id": "76225f5e-ad06-4171-b713-57b54bfc9c0f",
   "metadata": {},
   "outputs": [],
   "source": [
    "lst = ['france', 'japan', 'spain', 'poland', 'taiwan', 'uganda', 'ukraine']"
   ]
  },
  {
   "cell_type": "code",
   "execution_count": 5,
   "id": "7496ebba-9540-4c48-b7a7-3bb809930fb6",
   "metadata": {},
   "outputs": [
    {
     "name": "stdout",
     "output_type": "stream",
     "text": [
      "['France', 'Japan', 'Spain', 'Poland', 'Taiwan', 'Uganda', 'Ukraine']\n"
     ]
    }
   ],
   "source": [
    "new_lst = []\n",
    "x = 0\n",
    "while True:\n",
    "    i = lst[x]\n",
    "    new_lst.append(i.capitalize())\n",
    "    \n",
    "    if x == len(lst)-1:\n",
    "        break\n",
    "    else:\n",
    "        x+=1\n",
    "\n",
    "print(new_lst)"
   ]
  },
  {
   "cell_type": "markdown",
   "id": "5422ab69-9365-4de3-b063-d8090119d34d",
   "metadata": {},
   "source": [
    "### **<font color=#f46669>DO NOT</font> run this code**\n",
    "\n",
    "Think that you do not want to run a **Loop that never ends**! So watch out when you run an **infinite loop**, as you are going to crash all the notebook!"
   ]
  },
  {
   "cell_type": "code",
   "execution_count": null,
   "id": "5f2f5e7b-2444-48d9-90bd-691f07fdb1ed",
   "metadata": {},
   "outputs": [],
   "source": [
    "# This is one of this iiiinfinite loops:\n",
    "\n",
    "while True:\n",
    "    print(\"heeey I'm hacking youuur PC\")"
   ]
  },
  {
   "cell_type": "markdown",
   "id": "581705ad-4760-41b0-8b00-dec9cae3e6f2",
   "metadata": {},
   "source": [
    "Seriously, **do not** run it!\n",
    "\n",
    "OK.. I know you want to..."
   ]
  },
  {
   "cell_type": "markdown",
   "id": "9e327bfe-e693-48d4-bd62-16622450f363",
   "metadata": {},
   "source": [
    "## **02.4. Functions**\n",
    "\n",
    "Functions are a most useful characteristic of Python. **Functions are related to the reusability of code**. That means, we create a function when we believe the same code can be used multiple times for certain executions.\n",
    "\n",
    "We can see that with base, default Python functions like **print()** or **len()**, we're not writing them over and over again, we just use them.\n",
    "\n",
    "Apart from that, coding functions is also related to **best practices at the time of structuring** code - code looks much tidier with them, it makes code easier to debug, more understandable for other developers, analysts, etc.\n",
    "\n",
    "**How can we create functions**? Let's see that now, though the **def** keyword plays a big role into it:"
   ]
  },
  {
   "cell_type": "code",
   "execution_count": 7,
   "id": "e574fa0c-5e9d-4db5-a6d5-c8927fc85c17",
   "metadata": {},
   "outputs": [],
   "source": [
    "# We are creating a function with the def statement\n",
    "# It is accepting just one argument, x\n",
    "# it returns a result:\n",
    "\n",
    "def sum_one(x):\n",
    "    y = x+1\n",
    "    return y"
   ]
  },
  {
   "cell_type": "markdown",
   "id": "15704d75-c253-4b7e-8b93-65eaff8787a3",
   "metadata": {},
   "source": [
    "In the definition of the previous function, we get an idea of **four main components** of a function:\n",
    "  - The **def** keyword states the beginning of the definition of a function.\n",
    "  - The function has **one, multiple or no arguments** passed into it. An argument is the input of the function, on which or based on which we may perform some action.\n",
    "  - The **return** keyword precedes the result that wants to be returned (the object in question). However, it's not compulsory to be used! That's just in case we want to **retrieve our modified object out** of the function. Else, we can just e.g., print() a result and that's it.\n",
    "  - A key element of defining functions, like with if/else statements and loops, is the inherent **Identation** needed.\n",
    "\n",
    "Still, in the previous cell we did not obtain any result. That's because we just **defined** the function. To obtain a given result, we need to **call** it i.e., to **execute it**. Let's see how to do it:"
   ]
  },
  {
   "cell_type": "code",
   "execution_count": 10,
   "id": "840a106d-8a92-4a5e-9624-2f1ca60a9f9b",
   "metadata": {},
   "outputs": [
    {
     "name": "stdout",
     "output_type": "stream",
     "text": [
      "2\n",
      "31\n"
     ]
    }
   ],
   "source": [
    "# We can reuse the same function over and over again\n",
    "\n",
    "y = sum_one(1)\n",
    "print(y)\n",
    "\n",
    "z = sum_one(30)\n",
    "print(z)"
   ]
  },
  {
   "cell_type": "markdown",
   "id": "8bfec35b-deca-4663-982c-1db96dabc481",
   "metadata": {},
   "source": [
    "### **Using several, or no arguments**\n",
    "\n",
    "A function need not only take one argument, but several, or none of them. Let's see examples of that:"
   ]
  },
  {
   "cell_type": "markdown",
   "id": "ed037e4e-3f44-44e5-bbaf-096b76eadf92",
   "metadata": {},
   "source": [
    "**Several arguments**"
   ]
  },
  {
   "cell_type": "code",
   "execution_count": 13,
   "id": "f46f9a45-ec41-4c89-8a87-28be10741662",
   "metadata": {},
   "outputs": [
    {
     "name": "stdout",
     "output_type": "stream",
     "text": [
      "10\n"
     ]
    }
   ],
   "source": [
    "# let's code a function that inputs a number, and adds whatever second number we want to add\n",
    "# Have a look at it, we are not returning the value, we are just printing it outside of the console. We will see moreabout that in a subsequent section.\n",
    "\n",
    "def add_any_number(target_num, num_to_add):\n",
    "    print(target_num + num_to_add)\n",
    "\n",
    "add_any_number(4, 6)"
   ]
  },
  {
   "cell_type": "markdown",
   "id": "872c5312-c66b-4f74-9559-ab5b6b9ffc3a",
   "metadata": {},
   "source": [
    "**No arguments**"
   ]
  },
  {
   "cell_type": "code",
   "execution_count": 14,
   "id": "34d5c06e-811f-4b91-abc0-da34992e7fc9",
   "metadata": {},
   "outputs": [],
   "source": [
    "# Let's just print a super nice function that just greets us all the time:\n",
    "\n",
    "def happy_function():\n",
    "    print('helloooo')"
   ]
  },
  {
   "cell_type": "code",
   "execution_count": 15,
   "id": "771bfbad-29d3-420d-9465-caa75555037a",
   "metadata": {},
   "outputs": [
    {
     "name": "stdout",
     "output_type": "stream",
     "text": [
      "helloooo\n"
     ]
    }
   ],
   "source": [
    "# Once we call it, we must use parentheses independently of it not having any arguments!\n",
    "happy_function()"
   ]
  },
  {
   "cell_type": "code",
   "execution_count": 17,
   "id": "85097bd8-42fb-434c-a0a8-80132435573c",
   "metadata": {},
   "outputs": [
    {
     "data": {
      "text/plain": [
       "<function __main__.happy_function()>"
      ]
     },
     "execution_count": 17,
     "metadata": {},
     "output_type": "execute_result"
    }
   ],
   "source": [
    "# Else, we just get a quick oerview on the \"function object\" we just created\n",
    "happy_function"
   ]
  },
  {
   "cell_type": "markdown",
   "id": "06716f10-5c08-424a-9ebd-69f156cf4281",
   "metadata": {},
   "source": [
    "### **returning vs printing**\n",
    "\n",
    "The **difference between return and print** is key! Let's emphasize it one more time: print() just displays an obtained result, but it does not let it access it outside of the function in question. Instead, **return** is explicitly prepared to let us reuse the function's result outside of the given function.\n",
    "\n",
    "Let's see it clearly:"
   ]
  },
  {
   "cell_type": "code",
   "execution_count": 20,
   "id": "72c289b1-bb08-4ba1-bca0-4354c13d92d3",
   "metadata": {},
   "outputs": [],
   "source": [
    "def myfunc1(name, surname):\n",
    "    resulting_name = name.capitalize() + \" \" + surname.capitalize()\n",
    "    print(resulting_name)\n",
    "    \n",
    "def myfunc2(name, surname):\n",
    "    resulting_name = name.capitalize() + \" \" + surname.capitalize()\n",
    "    return resulting_name"
   ]
  },
  {
   "cell_type": "code",
   "execution_count": 22,
   "id": "bdd78e1d-3249-4a28-8325-2db4f149dda7",
   "metadata": {},
   "outputs": [
    {
     "name": "stdout",
     "output_type": "stream",
     "text": [
      "Barack Obama\n"
     ]
    }
   ],
   "source": [
    "myfunc1(name = 'Barack', surname = 'Obama')"
   ]
  },
  {
   "cell_type": "code",
   "execution_count": 23,
   "id": "220eed7d-f4e5-4ad4-8008-7b7e3fa678a3",
   "metadata": {},
   "outputs": [
    {
     "ename": "NameError",
     "evalue": "name 'resulting_name' is not defined",
     "output_type": "error",
     "traceback": [
      "\u001b[0;31m---------------------------------------------------------------------------\u001b[0m",
      "\u001b[0;31mNameError\u001b[0m                                 Traceback (most recent call last)",
      "Input \u001b[0;32mIn [23]\u001b[0m, in \u001b[0;36m<cell line: 1>\u001b[0;34m()\u001b[0m\n\u001b[0;32m----> 1\u001b[0m \u001b[38;5;28mprint\u001b[39m(resulting_name)\n",
      "\u001b[0;31mNameError\u001b[0m: name 'resulting_name' is not defined"
     ]
    }
   ],
   "source": [
    "print(resulting_name)"
   ]
  },
  {
   "cell_type": "markdown",
   "id": "4ac40565-2351-456a-a48c-0a3f04986241",
   "metadata": {},
   "source": [
    "We get an error because a variable called **resulting_name** has not been defined! We cannot access 'Barack Obama'. Instead, when using _myfunc2_ we do:"
   ]
  },
  {
   "cell_type": "code",
   "execution_count": 24,
   "id": "b08b966f-ef77-42f6-afac-1b0d5cd7a4a4",
   "metadata": {},
   "outputs": [],
   "source": [
    "baracksname = myfunc2('Barack', 'Obama')"
   ]
  },
  {
   "cell_type": "code",
   "execution_count": 25,
   "id": "3c145692-46c0-4ef6-b6a2-24523e377bab",
   "metadata": {},
   "outputs": [
    {
     "name": "stdout",
     "output_type": "stream",
     "text": [
      "Barack Obama\n"
     ]
    }
   ],
   "source": [
    "print(baracksname)"
   ]
  },
  {
   "cell_type": "code",
   "execution_count": 26,
   "id": "1b312d28-047d-4dfd-9372-ed0feb0b8214",
   "metadata": {},
   "outputs": [
    {
     "ename": "NameError",
     "evalue": "name 'resulting_name' is not defined",
     "output_type": "error",
     "traceback": [
      "\u001b[0;31m---------------------------------------------------------------------------\u001b[0m",
      "\u001b[0;31mNameError\u001b[0m                                 Traceback (most recent call last)",
      "Input \u001b[0;32mIn [26]\u001b[0m, in \u001b[0;36m<cell line: 1>\u001b[0;34m()\u001b[0m\n\u001b[0;32m----> 1\u001b[0m \u001b[38;5;28mprint\u001b[39m(resulting_name)\n",
      "\u001b[0;31mNameError\u001b[0m: name 'resulting_name' is not defined"
     ]
    }
   ],
   "source": [
    "print(resulting_name)"
   ]
  },
  {
   "cell_type": "markdown",
   "id": "f334fbff-789e-40e9-b677-b26fd236d3a9",
   "metadata": {},
   "source": [
    "We have been able to retrieve the result of the function with the new variable we assigned to it. That's perfect, just what we wanted! However, we can't just yet access the variable inside of the function? Why's that so?\n",
    "\n",
    "It has to do with **local and global** variables. That's more of an advanced, fun fact topic, we'll be seeing that just in a bit."
   ]
  },
  {
   "cell_type": "markdown",
   "id": "23c67ef9-f45a-4262-9e17-b5b71c77bd36",
   "metadata": {},
   "source": [
    "### **Tuple Unpacking in Functions**\n",
    "\n",
    "Remember Tuple Unpacking? Now we can use that to our advantage!\n",
    "\n",
    "Tuple Unpacking allows us to return several different variables outcoming from a function, and to obtain them as individual ones outside the function itself.\n",
    "\n",
    "Let's see that in action:"
   ]
  },
  {
   "cell_type": "code",
   "execution_count": 30,
   "id": "27448f59-7607-4e94-9aad-592d65b99fa4",
   "metadata": {},
   "outputs": [],
   "source": [
    "# Let's create a function that receives a set of cities and their population, and that returns the biggest city:\n",
    "\n",
    "def biggest_city(lst_of_cities):\n",
    "    biggest_city = ''\n",
    "    biggest_population = 0\n",
    "    for name, pop in lst_of_cities:\n",
    "        if pop > biggest_population:\n",
    "            biggest_city = name\n",
    "            biggest_population = pop\n",
    "    \n",
    "    return biggest_city, biggest_population"
   ]
  },
  {
   "cell_type": "code",
   "execution_count": 31,
   "id": "23de75a0-1ed7-4dd2-ba8b-94c2af8f2ae6",
   "metadata": {},
   "outputs": [],
   "source": [
    "lst = [('Madrid', 3.2), ('Paris', 2.2), ('Barcelona', 1.6), ('Sao Paulo', 22.6), ('Beijing', 21.8), ('Tokyo', 37.2)]"
   ]
  },
  {
   "cell_type": "code",
   "execution_count": 34,
   "id": "a5aa43a0-b115-46fe-b6fc-a3aad185423f",
   "metadata": {},
   "outputs": [
    {
     "name": "stdout",
     "output_type": "stream",
     "text": [
      "The biggest city of all is Tokyo, with a total population of 37.2\n"
     ]
    }
   ],
   "source": [
    "# We are capturing the values of our function in two individual variables:\n",
    "top_city, top_pop = biggest_city(lst)\n",
    "print(f\"The biggest city of all is {top_city}, with a total population of {top_pop}\")"
   ]
  },
  {
   "cell_type": "markdown",
   "id": "a9003ccf-d486-411e-8537-a9eb9b1b3f2a",
   "metadata": {},
   "source": [
    "#### **Functions: Quick Exercise 1**\n",
    "Create: \n",
    "\n",
    "    1. A function that intakes a couple of string objects, and returns their concatenation with a comma, capitalized. E.g., ingesting 'orange' and 'apple' would return 'Orange, Apple'.\n",
    "    2. A function that intakes a couple of numbers and which returns its sum, its multiplication, and the first number to the power of the second. Unpack the result and sum all three numbers."
   ]
  },
  {
   "cell_type": "markdown",
   "id": "2a06d710-5c95-480d-860a-6348d8659fca",
   "metadata": {},
   "source": [
    "**Solution**"
   ]
  },
  {
   "cell_type": "code",
   "execution_count": null,
   "id": "94de4f7a-411b-4fea-b6a0-4a843c9dd08e",
   "metadata": {},
   "outputs": [],
   "source": []
  },
  {
   "cell_type": "markdown",
   "id": "719fcc49-475a-4c26-a679-b224a70677f2",
   "metadata": {},
   "source": [
    "## **02.5. Combining if/else statements, for loops and functions**\n",
    "\n",
    "All of them can be combined in a same function, so as to increase the reusability of code.\n",
    "\n",
    "Let's see how to do that by means of analysing a problem we just faced in the beginning of the session.\n",
    "\n",
    " - Let's start by facing the problem of putting in caps the names of several presidentsin US history:"
   ]
  },
  {
   "cell_type": "code",
   "execution_count": 77,
   "id": "9cee08e1-1c17-4003-b3ed-a3eec7a07506",
   "metadata": {},
   "outputs": [],
   "source": [
    "us_presidents = ['barack obama', 'george w. bush', 'bill clinton', 'ronald reagan', 'richard nixon', 'gerald ford', 'joe biden', 'fdr', 'john f. kennedy']"
   ]
  },
  {
   "cell_type": "code",
   "execution_count": 61,
   "id": "824ab595-ec12-4645-945b-fc67e49deb17",
   "metadata": {},
   "outputs": [],
   "source": [
    "# this time, when defining the function, we use the multi-comment enable by triple double commas so as to input a definition of the function. this way, when we press SHIFT + TAB after a function's calling statement.\n",
    "\n",
    "def capitalize_president(x):\n",
    "    \"\"\"\n",
    "    The present function gets an incoming string considering a name and a surname separated by a space, splits it, and returns both elements capitalized.\n",
    "    \n",
    "    In case the element it encounters has just one word in it, we will assume it's an acronym, and we will turn it all caps.\n",
    "    \"\"\"\n",
    "    \n",
    "    if len(x.split()) > 1:\n",
    "        new_name = \"\"\n",
    "        for i in x.split():\n",
    "            new_name += \" \" + i.capitalize()\n",
    "        return new_name.strip()\n",
    "    else:\n",
    "        return x.upper()"
   ]
  },
  {
   "cell_type": "code",
   "execution_count": 62,
   "id": "732e7b7e-1e9c-499d-b4b2-ea19785d31c9",
   "metadata": {},
   "outputs": [
    {
     "name": "stdout",
     "output_type": "stream",
     "text": [
      "['Barack Obama', 'George W. Bush', 'Bill Clinton', 'Ronald Reagan', 'Richard Nixon', 'Gerald Ford', 'Joe Biden', 'FDR', 'John F. Kennedy']\n"
     ]
    }
   ],
   "source": [
    "# Now let's call it for every element in the list:\n",
    "\n",
    "new_names = []\n",
    "for i in us_presidents:\n",
    "    new_name = capitalize_president(i)\n",
    "    new_names.append(new_name)\n",
    "\n",
    "print(new_names)"
   ]
  },
  {
   "cell_type": "markdown",
   "id": "fb1a9af5-fc7f-4a22-85fb-b508c2fb0425",
   "metadata": {},
   "source": [
    "Now, we may reuse this last block of code we have prepared into another function, so as to meet the requirements of many lists of presidents from diferent countries:"
   ]
  },
  {
   "cell_type": "code",
   "execution_count": 63,
   "id": "b2fbc7aa-f38d-45db-87a3-11796fcc36ae",
   "metadata": {},
   "outputs": [],
   "source": [
    "def multiple_caps(lst):\n",
    "    new_names = []\n",
    "    for i in lst:\n",
    "        new_name = capitalize_president(i)\n",
    "        new_names.append(new_name)\n",
    "\n",
    "    print(new_names)"
   ]
  },
  {
   "cell_type": "code",
   "execution_count": 70,
   "id": "be167db3-83d9-4ef9-a5e8-a5912f8d7d4b",
   "metadata": {},
   "outputs": [],
   "source": [
    "france_presidents = ['emmanuel macron', 'jacques chirac', 'charles de gaulle', 'françois hollande']\n",
    "uk_presidents = ['boris johnson', 'rishi sunak', 'gordon brown', 'tony blair', 'margaret thatcher', 'winston churchill']\n",
    "japan_presidents = ['kishida fumio', 'abe shinzo', 'suga yoshihide']"
   ]
  },
  {
   "cell_type": "code",
   "execution_count": 65,
   "id": "f148660c-ae8c-4288-aaa3-a16087e99e06",
   "metadata": {},
   "outputs": [
    {
     "name": "stdout",
     "output_type": "stream",
     "text": [
      "['Boris Johnson', 'Rishi Sunak', 'Gordon Brown', 'Tony Blair', 'Margaret Thatcher', 'Winston Churchill']\n"
     ]
    }
   ],
   "source": [
    "multiple_caps(uk_presidents)"
   ]
  },
  {
   "cell_type": "markdown",
   "id": "d7b8fd92-f580-4c97-b70a-33b7a81866b6",
   "metadata": {},
   "source": [
    "We can also prepare a function so that a list of lists is inputed, and returned, and so on... that's how you get to structure code in Python and several transformations:"
   ]
  },
  {
   "cell_type": "code",
   "execution_count": 66,
   "id": "0ad9d200-7c15-4d25-ae9c-fc77c822bb23",
   "metadata": {},
   "outputs": [],
   "source": [
    "def multiple_caps(lst_of_lsts):\n",
    "    new_lst_of_lsts = []\n",
    "    for lst in lst_of_lsts:\n",
    "        new_names = []\n",
    "        for i in lst:\n",
    "            new_name = capitalize_president(i)\n",
    "            new_names.append(new_name)\n",
    "\n",
    "        new_lst_of_lsts.append(new_names)\n",
    "    \n",
    "    return new_lst_of_lsts"
   ]
  },
  {
   "cell_type": "code",
   "execution_count": 67,
   "id": "cda238bb-1238-402e-8a6e-f9049d2404ff",
   "metadata": {},
   "outputs": [],
   "source": [
    "all_countries = [us_presidents, france_presidents, uk_presidents, japan_presidents]"
   ]
  },
  {
   "cell_type": "code",
   "execution_count": 68,
   "id": "2e0e7018-2364-4524-8fc5-9efa41300c39",
   "metadata": {},
   "outputs": [],
   "source": [
    "final_lst = multiple_caps(all_countries)"
   ]
  },
  {
   "cell_type": "code",
   "execution_count": 69,
   "id": "9ae903a7-47fc-472d-bf1f-613f83aa2048",
   "metadata": {},
   "outputs": [
    {
     "data": {
      "text/plain": [
       "[['Barack Obama',\n",
       "  'George W. Bush',\n",
       "  'Bill Clinton',\n",
       "  'Ronald Reagan',\n",
       "  'Richard Nixon',\n",
       "  'Gerald Ford',\n",
       "  'Joe Biden',\n",
       "  'FDR',\n",
       "  'John F. Kennedy'],\n",
       " ['Emmanuel Macron',\n",
       "  'Jacques Chirac',\n",
       "  'Charles De Gaulle',\n",
       "  'François Hollande'],\n",
       " ['Boris Johnson',\n",
       "  'Rishi Sunak',\n",
       "  'Gordon Brown',\n",
       "  'Tony Blair',\n",
       "  'Margaret Thatcher',\n",
       "  'Winston Churchill'],\n",
       " ['Kishida Fumio', 'Abe Shinzo', 'Suga Yoshihide']]"
      ]
     },
     "execution_count": 69,
     "metadata": {},
     "output_type": "execute_result"
    }
   ],
   "source": [
    "final_lst"
   ]
  },
  {
   "cell_type": "markdown",
   "id": "93e1b887-6f87-4db2-af0b-b99d1be8a617",
   "metadata": {},
   "source": [
    "We could also have done tuple unpacking to retrieve individual lists per country!"
   ]
  },
  {
   "cell_type": "markdown",
   "id": "2f0f7650-1646-4a84-ad1a-2daf58530bdd",
   "metadata": {},
   "source": [
    "#### **Functions with Loops and Conditional Statements: Quick Exercise 1**\n",
    "\n",
    "Define a function that intakes a list of presidents from any country, that in case they are presented with name and surname just get the name of them, and that it capitalizes its name.\n",
    "\n",
    "Apply the function to all the existing lists of presidents given."
   ]
  },
  {
   "cell_type": "code",
   "execution_count": 1,
   "id": "38ecccaf-0f2c-41ef-a730-023dca9d4dfc",
   "metadata": {},
   "outputs": [],
   "source": [
    "presidents_us = ['bush', 'gerald ford', 'biden', 'trump', 'barack obama']\n",
    "presidents_uk = ['sunak', 'boris johnson', 'margaret thatcher', 'brown', 'truss']"
   ]
  },
  {
   "cell_type": "code",
   "execution_count": null,
   "id": "3257fe12-5959-4b8b-acc5-562754a0e149",
   "metadata": {},
   "outputs": [],
   "source": []
  },
  {
   "cell_type": "markdown",
   "id": "932b2c02-72d9-4a47-a39c-ac57a372c8b0",
   "metadata": {},
   "source": [
    "**Solution**"
   ]
  },
  {
   "cell_type": "code",
   "execution_count": 30,
   "id": "93309edd-8f82-4c3c-8f10-92515809c0d3",
   "metadata": {},
   "outputs": [],
   "source": [
    "def capitalize_president_surnames(lst):\n",
    "    for c, i in enumerate(lst):\n",
    "        if len(i.split()) > 1:\n",
    "            lst[c] = i.split()[1].capitalize()\n",
    "        else:\n",
    "            lst[c] = i.capitalize()\n",
    "    \n",
    "    # Check where I'm placing the indent! Returning the resulting list goes outside of the for loop! Else, i'll obtain an incorrect result!\n",
    "    return lst"
   ]
  },
  {
   "cell_type": "code",
   "execution_count": 32,
   "id": "a57798f0-6fa9-4212-b174-61e7b77b850b",
   "metadata": {},
   "outputs": [
    {
     "data": {
      "text/plain": [
       "['Sunak', 'Johnson', 'Thatcher', 'Brown', 'Truss']"
      ]
     },
     "execution_count": 32,
     "metadata": {},
     "output_type": "execute_result"
    }
   ],
   "source": [
    "capitalize_president_surnames(presidents_uk)"
   ]
  },
  {
   "cell_type": "markdown",
   "id": "b9f18f20-c7e9-4ce9-ae76-76b516c64b64",
   "metadata": {},
   "source": [
    "## **Extra 01: Map, Lambda Expressions and Filter**\n",
    "\n",
    "There's an added functionality related to functions, namely **map** and **filter** on the one hand, and **lambda expressions**, a super useful tool, on the other:\n",
    "\n",
    " - **map** is a predefined function in Python that enables us to apply a specific defined funciton across all elements of a iterable, and obtain their resulting transformation.\n",
    " - A **lambda expression** is what we use to refer to a **function that is defined without a name, in a one-liner**. Namely, a lambda expression does not relate to something needing a lot of lines of code, but purely a statement.\n",
    " - the **filter** function, also predefined in Python, filters out all occurrences of an iterable not fulfilling a condition.\n",
    " "
   ]
  },
  {
   "cell_type": "markdown",
   "id": "ff3e53d9-ab35-440e-9c5d-3a26c3cb2bff",
   "metadata": {},
   "source": [
    "### **map**\n",
    "\n",
    "Let's regard the previous example of the presidents. it'd have been much more easy to use the map function, rather than creating a pre-defined function to iterating over all their names:"
   ]
  },
  {
   "cell_type": "code",
   "execution_count": 71,
   "id": "bbafe72e-f485-4ff4-8df3-692632128d67",
   "metadata": {},
   "outputs": [],
   "source": [
    "# let's define again the same function\n",
    "\n",
    "def capitalize_president(x):\n",
    "    \"\"\"\n",
    "    The present function gets an incoming string considering a name and a surname separated by a space, splits it, and returns both elements capitalized.\n",
    "    \n",
    "    In case the element it encounters has just one word in it, we will assume it's an acronym, and we will turn it all caps.\n",
    "    \"\"\"\n",
    "    \n",
    "    if len(x.split()) > 1:\n",
    "        new_name = \"\"\n",
    "        for i in x.split():\n",
    "            new_name += \" \" + i.capitalize()\n",
    "        return new_name.strip()\n",
    "    else:\n",
    "        return x.upper()"
   ]
  },
  {
   "cell_type": "code",
   "execution_count": 72,
   "id": "e0fc9d9a-6663-416a-8dd7-ba225698475d",
   "metadata": {},
   "outputs": [],
   "source": [
    "uk_presidents = ['boris johnson', 'rishi sunak', 'gordon brown', 'tony blair', 'margaret thatcher', 'winston churchill']"
   ]
  },
  {
   "cell_type": "code",
   "execution_count": 75,
   "id": "c2a74d69-b417-47a0-a8e1-6f0480e2c5c5",
   "metadata": {},
   "outputs": [
    {
     "data": {
      "text/plain": [
       "['Boris Johnson',\n",
       " 'Rishi Sunak',\n",
       " 'Gordon Brown',\n",
       " 'Tony Blair',\n",
       " 'Margaret Thatcher',\n",
       " 'Winston Churchill']"
      ]
     },
     "execution_count": 75,
     "metadata": {},
     "output_type": "execute_result"
    }
   ],
   "source": [
    "# To get results from it, we have to either iterate through map with a for loop, or convert map into a list\n",
    "list(map(capitalize_president, uk_presidents))"
   ]
  },
  {
   "cell_type": "markdown",
   "id": "b4566695-4a45-4357-932b-17edfca5a7e8",
   "metadata": {},
   "source": [
    "### **filter**\n",
    "\n",
    "Filter allows for filtering an iterable based on a specific function **ending with a conditional statement**.\n",
    "\n",
    "For instance, let's see how we can filter US presidents without a name:"
   ]
  },
  {
   "cell_type": "code",
   "execution_count": 76,
   "id": "0f041943-0c64-401c-bda2-b4a188fdba13",
   "metadata": {},
   "outputs": [],
   "source": [
    "def filter_us_presidents(x):\n",
    "    return len(x.split()) > 1"
   ]
  },
  {
   "cell_type": "code",
   "execution_count": 80,
   "id": "91e1cd96-3c40-4cc7-9fb6-d9befd78abf6",
   "metadata": {},
   "outputs": [
    {
     "data": {
      "text/plain": [
       "['barack obama',\n",
       " 'george w. bush',\n",
       " 'bill clinton',\n",
       " 'ronald reagan',\n",
       " 'richard nixon',\n",
       " 'gerald ford',\n",
       " 'joe biden']"
      ]
     },
     "execution_count": 80,
     "metadata": {},
     "output_type": "execute_result"
    }
   ],
   "source": [
    "us_presidents = ['barack obama', 'george w. bush', 'bill clinton', 'ronald reagan', 'richard nixon', 'gerald ford', 'joe biden', 'fdr', 'jfk']\n",
    "list(filter(filter_us_presidents, us_presidents))"
   ]
  },
  {
   "cell_type": "markdown",
   "id": "f7b6945a-fb27-42e2-9978-2bc0286b1ccd",
   "metadata": {},
   "source": [
    "### **lambda functions**\n",
    "\n",
    "lambda functions are an **incredibly useful tool**, though not used much by beginners, centred in **defining single functions in a one liner**. Basically, it's an incredibly simple way to define simple functions. Let's see that in action:"
   ]
  },
  {
   "cell_type": "code",
   "execution_count": 81,
   "id": "dbc1aaab-beaa-4176-a8bd-7c55781ddaea",
   "metadata": {},
   "outputs": [],
   "source": [
    "func = lambda x: x**2"
   ]
  },
  {
   "cell_type": "code",
   "execution_count": 82,
   "id": "1bae26dc-c217-40c7-881b-2e0c5b709752",
   "metadata": {},
   "outputs": [
    {
     "data": {
      "text/plain": [
       "16"
      ]
     },
     "execution_count": 82,
     "metadata": {},
     "output_type": "execute_result"
    }
   ],
   "source": [
    "func(4)"
   ]
  },
  {
   "cell_type": "code",
   "execution_count": 84,
   "id": "c50d4050-70fe-42df-9216-0c0cb9220946",
   "metadata": {},
   "outputs": [
    {
     "data": {
      "text/plain": [
       "9"
      ]
     },
     "execution_count": 84,
     "metadata": {},
     "output_type": "execute_result"
    }
   ],
   "source": [
    "# look at the alternative:\n",
    "\n",
    "def func(x):\n",
    "    return x**2\n",
    "\n",
    "func(3)"
   ]
  },
  {
   "cell_type": "markdown",
   "id": "641f2754-3564-41bd-9b01-5dc216106d0e",
   "metadata": {},
   "source": [
    "**Why would you want to do an extra effort to memorise this?**\n",
    "\n",
    "Lambda functions are **crazy useful** when using **map**, **filter* or, the pandas equivalent, **APPLY**. It's super useful because lambda expressions allow you to code **if/else statements** in them.\n",
    "\n",
    "Plus, you can combine them with **list comprehensions** to combine them with for loops for nested list objects.\n",
    "\n",
    "Let's centre in if/else statements, map and filter.\n",
    "\n",
    "Imagine we want to replicate the function used above:"
   ]
  },
  {
   "cell_type": "code",
   "execution_count": 86,
   "id": "f72875c0-e7b1-4494-9f5d-d0add6f6b8ea",
   "metadata": {},
   "outputs": [
    {
     "data": {
      "text/plain": [
       "['barack obama',\n",
       " 'george w. bush',\n",
       " 'bill clinton',\n",
       " 'ronald reagan',\n",
       " 'richard nixon',\n",
       " 'gerald ford',\n",
       " 'joe biden']"
      ]
     },
     "execution_count": 86,
     "metadata": {},
     "output_type": "execute_result"
    }
   ],
   "source": [
    "# Super simple, vs 3 lines before!!!\n",
    "list(filter(lambda x: len(x.split())>1, us_presidents))"
   ]
  },
  {
   "cell_type": "markdown",
   "id": "93ec6820-3571-46e8-ac93-4683fb78ad54",
   "metadata": {},
   "source": [
    "Let's see it for an if/else statement. Let's create a function that, if the number is below 10, it returns the number squared, if it's below 35, it does nothing, else returns the number + 10."
   ]
  },
  {
   "cell_type": "code",
   "execution_count": 87,
   "id": "683fd21d-cda9-441b-a224-16bac511b4cb",
   "metadata": {},
   "outputs": [],
   "source": [
    "lst = [4, 7, 9, 10, 34, 5, 3, 65, 7, 9, 3, 42]"
   ]
  },
  {
   "cell_type": "code",
   "execution_count": 90,
   "id": "b5e36076-a7d5-4e83-b72c-0402217dd8e9",
   "metadata": {},
   "outputs": [
    {
     "data": {
      "text/plain": [
       "[16, 49, 81, 10, 34, 25, 9, 75, 49, 81, 9, 52]"
      ]
     },
     "execution_count": 90,
     "metadata": {},
     "output_type": "execute_result"
    }
   ],
   "source": [
    "# Crazy simple vs what it would have required!\n",
    "# Notice that, despite we have three different conditions, in lambda functions we do't use the elif statement, but rather 'nested if/else' statements!\n",
    "list(map(lambda x: x**2 if x<10 else x if x<35 else x+10, lst))"
   ]
  },
  {
   "cell_type": "markdown",
   "id": "319ae542-5fe2-4488-9602-c9d1c6c2ed5a",
   "metadata": {},
   "source": [
    "#### **Quick Exercise**\n",
    "\n",
    "Apply the same logic as we did before in the previous exercise, but now with a function that is applied element per element, and apply it to both our lists."
   ]
  },
  {
   "cell_type": "markdown",
   "id": "b78392be-2c40-4ca8-9df7-2761cb8c6a2e",
   "metadata": {},
   "source": [
    "**Solution**"
   ]
  },
  {
   "cell_type": "code",
   "execution_count": null,
   "id": "535f521f-c435-48a3-b817-3adf0073fbac",
   "metadata": {},
   "outputs": [],
   "source": []
  },
  {
   "cell_type": "markdown",
   "id": "cfe37daf-86de-4f1b-b0b9-9938260a8c91",
   "metadata": {},
   "source": [
    "## **Extra 02: Global and Local Variables in Functions**\n",
    "\n",
    "Variables defined inside and outside of functions do not have the same 'usability' in a global Python script. Let's see that in more detail:"
   ]
  },
  {
   "cell_type": "code",
   "execution_count": 94,
   "id": "9559ebe8-2774-49ae-ad8c-ea12a9a5f594",
   "metadata": {},
   "outputs": [],
   "source": [
    "book = 'Hamlet'\n",
    "\n",
    "def my_func(x):\n",
    "    print(f'Local Value: {x}')\n",
    "    x = 'The sound and the fury'\n",
    "    print(f'Local Value After Change: {x}')\n",
    "    "
   ]
  },
  {
   "cell_type": "code",
   "execution_count": 95,
   "id": "de4fc134-f9e2-4a47-9ce2-ef7a48074513",
   "metadata": {},
   "outputs": [
    {
     "name": "stdout",
     "output_type": "stream",
     "text": [
      "Hamlet\n",
      "American Pastoral\n",
      "Local Value: American Pastoral\n",
      "Local Value After Change: The sound and the fury\n",
      "American Pastoral\n"
     ]
    }
   ],
   "source": [
    "print(book)\n",
    "book = 'American Pastoral'\n",
    "print(book)\n",
    "my_func(book)\n",
    "print(book)"
   ]
  },
  {
   "cell_type": "markdown",
   "id": "2aa26e3e-22d2-4a60-9829-dfa032b978fa",
   "metadata": {},
   "source": [
    "What if we try to make a change into the outside variable, book, inside the function?"
   ]
  },
  {
   "cell_type": "code",
   "execution_count": 96,
   "id": "cdf2d5c9-1456-4796-a86f-b16c241f1ff2",
   "metadata": {},
   "outputs": [],
   "source": [
    "def my_func(x):\n",
    "    book = x\n",
    "    print(f'Local Value: {book}')\n",
    "    book = 'The sound and the fury'\n",
    "    print(f'Local Value After Change: {book}')"
   ]
  },
  {
   "cell_type": "code",
   "execution_count": 97,
   "id": "8c590a1e-4468-43b5-a85a-1c530a74ae50",
   "metadata": {},
   "outputs": [
    {
     "name": "stdout",
     "output_type": "stream",
     "text": [
      "Gravity's Rainbow\n",
      "American Pastoral\n",
      "Local Value: American Pastoral\n",
      "Local Value After Change: The sound and the fury\n",
      "American Pastoral\n"
     ]
    }
   ],
   "source": [
    "book = \"Gravity's Rainbow\"\n",
    "print(book)\n",
    "book = 'American Pastoral'\n",
    "print(book)\n",
    "my_func(book)\n",
    "print(book)"
   ]
  },
  {
   "cell_type": "markdown",
   "id": "b2d08f12-f94c-46ab-97cf-87b8c405dd77",
   "metadata": {},
   "source": [
    "Still, it **does not change**!\n",
    "\n",
    "That's because a **variable defined, or worked on, inside of a function is a LOCAL variable**, which doesn't permeate changes outside of the function itself!\n",
    "\n",
    "However, if we have different nested functions it does have a variation in value!\n",
    "\n",
    "There is a way, however, of modifying the **local quality of a function into a global one**. Let's see the use of the **global** keyword:"
   ]
  },
  {
   "cell_type": "code",
   "execution_count": 99,
   "id": "a9fbac25-33c9-401f-94b4-bf625ae9f955",
   "metadata": {},
   "outputs": [],
   "source": [
    "def my_func():\n",
    "    global book\n",
    "    print(f'Local Value: {book}')\n",
    "    book = 'The sound and the fury'\n",
    "    print(f'Local Value After Change: {book}')"
   ]
  },
  {
   "cell_type": "code",
   "execution_count": 101,
   "id": "7781f1cf-46c3-40a3-a0dd-7ea847d3251c",
   "metadata": {},
   "outputs": [
    {
     "name": "stdout",
     "output_type": "stream",
     "text": [
      "Macbeth\n",
      "American Pastoral\n",
      "Local Value: American Pastoral\n",
      "Local Value After Change: The sound and the fury\n",
      "The sound and the fury\n"
     ]
    }
   ],
   "source": [
    "book = 'Macbeth'\n",
    "print(book)\n",
    "book = 'American Pastoral'\n",
    "print(book)\n",
    "my_func()\n",
    "print(book)"
   ]
  },
  {
   "cell_type": "markdown",
   "id": "1f5dca87-ff19-4dc4-90a0-9bfeab6e13c1",
   "metadata": {},
   "source": [
    "**Now it has changed into the defined value inside the function!**"
   ]
  }
 ],
 "metadata": {
  "kernelspec": {
   "display_name": "Python 3 (ipykernel)",
   "language": "python",
   "name": "python3"
  },
  "language_info": {
   "codemirror_mode": {
    "name": "ipython",
    "version": 3
   },
   "file_extension": ".py",
   "mimetype": "text/x-python",
   "name": "python",
   "nbconvert_exporter": "python",
   "pygments_lexer": "ipython3",
   "version": "3.10.6"
  }
 },
 "nbformat": 4,
 "nbformat_minor": 5
}
