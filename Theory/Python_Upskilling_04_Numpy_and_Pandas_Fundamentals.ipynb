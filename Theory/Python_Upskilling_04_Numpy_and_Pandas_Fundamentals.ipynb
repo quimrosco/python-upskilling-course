{
 "cells": [
  {
   "cell_type": "markdown",
   "id": "2d0257d4-214e-4b58-8a5f-619a4adc04b9",
   "metadata": {},
   "source": [
    "# **04. Python Numpy and Pandas Fundamentals**"
   ]
  },
  {
   "cell_type": "markdown",
   "id": "2e411a37-c6e7-4e53-8b81-d9ff3225e161",
   "metadata": {},
   "source": [
    "Welcome to our <font color=#f2cc38>**Fourth Content Block**</font> in the Python Course! \n",
    "\n",
    "We are leaving Python Fundamentals behind and starting specifically with **Python for Data & Analytics**!\n",
    "\n",
    "As such, during the following weeks we'll take a look at Numpy, Pandas and some visualization libraries to up our game at the time of doing data analysis in Python, to later transition into more **advanced analytics** modules.\n",
    "\n",
    "Today, we will be reviewing:\n",
    "\n",
    " - Numpy, what is it, and basic functionalities.\n",
    " - Pandas Series.\n",
    " - Pandas DataFrames.\n",
    " - Uploading and exporting data to Pandas\n",
    " - Additional Pandas Functions to evaluate our dataframes.\n",
    " - Operating with Pandas DFs.\n",
    " - Indexing and Slicing DFs.\n",
    " - Filtering DFs.\n",
    " - Dealing with null values.\n",
    " \n",
    "In the next module, we will finish with Pandas, covering other essentials, as well as many additional advanced functionalities like joining, grouping, the equivalent of window functions, multiindexing, dataframe mutability, and more !"
   ]
  },
  {
   "cell_type": "markdown",
   "id": "35c984fd-2502-433f-a3cc-6e5f16c87128",
   "metadata": {},
   "source": [
    "## **01. Numpy**\n",
    "\n",
    "So, what is Nupy and why would we be interested in learning about it?\n",
    "\n",
    "Numpy is a fundamental package for scientific computing in Python. Its core functionality lays namely in allowing for **computing on vector and matrix-like** objects; and to do so really **fast**.\n",
    "\n",
    "You'd like to learn about Numpy because most relevant libraries for Data Analytics and Data Science in Python **are built on top of Numpy**, like Pandas or sci-kit learn. Therefore, just to have a basic notion of numpy and to be familiar with some of its core concepts, we'll be reviewing some of its main functionalities."
   ]
  },
  {
   "cell_type": "code",
   "execution_count": 2,
   "id": "53df43c2-aec1-4c0b-b667-a937c4e454c3",
   "metadata": {},
   "outputs": [],
   "source": [
    "# we always need to import numpy and we do so as np\n",
    "# in other environments not in JupyterLab, it might be possible numpy is not installed. Do so via pip or conda!\n",
    "\n",
    "import numpy as np"
   ]
  },
  {
   "cell_type": "markdown",
   "id": "b9010d2c-03c2-4686-85f7-d30afce3713c",
   "metadata": {},
   "source": [
    "Numpy is fundamented on the use of the **ndarray** object, which represents both 1D vectors, as well as other n-dimensional matrices.\n",
    "\n",
    "Let's review three different ways to **create np arrays**:"
   ]
  },
  {
   "cell_type": "markdown",
   "id": "57ca0f4a-0ac9-433e-882d-063282047cc7",
   "metadata": {},
   "source": [
    "### **Creating np arrays from lists**\n",
    "\n",
    "We create arrays from lists when we want to create a numpy array from some predefined values we already know of."
   ]
  },
  {
   "cell_type": "code",
   "execution_count": 5,
   "id": "29752aef-1092-46bc-85b4-0bbdc8ce5d56",
   "metadata": {},
   "outputs": [],
   "source": [
    "#  note that the way of creating n>1 n-dimensional matrices in numpy is by inputing different levels of lists of lists!\n",
    "v = [1, 2, 3, 4, 5]\n",
    "m =[[1, 2, 3, 4, 5], [6, 7, 8, 9, 10]]"
   ]
  },
  {
   "cell_type": "code",
   "execution_count": 7,
   "id": "9fa916ba-e3fc-4a65-a216-ce17570bd672",
   "metadata": {},
   "outputs": [
    {
     "data": {
      "text/plain": [
       "array([1, 2, 3, 4, 5])"
      ]
     },
     "execution_count": 7,
     "metadata": {},
     "output_type": "execute_result"
    }
   ],
   "source": [
    "arr = np.array(v)\n",
    "arr"
   ]
  },
  {
   "cell_type": "code",
   "execution_count": 8,
   "id": "e314f1ee-4fc6-41d0-b3a5-c6c0162097f9",
   "metadata": {},
   "outputs": [
    {
     "data": {
      "text/plain": [
       "array([[ 1,  2,  3,  4,  5],\n",
       "       [ 6,  7,  8,  9, 10]])"
      ]
     },
     "execution_count": 8,
     "metadata": {},
     "output_type": "execute_result"
    }
   ],
   "source": [
    "arr2D = np.array(m)\n",
    "arr2D"
   ]
  },
  {
   "cell_type": "markdown",
   "id": "db3bb8c2-d8a9-4437-8287-0393faae8351",
   "metadata": {},
   "source": [
    "### **Create np arrays from a range of numbers**\n",
    "\n",
    "In this case, we'll be creating our numpy arrays from a range of numbers. To do so, we'll be using **np.arange**, the built-in **version of the range** function we know of core Python."
   ]
  },
  {
   "cell_type": "code",
   "execution_count": 10,
   "id": "be2e6a4e-2673-4ffc-84af-9529b6a79970",
   "metadata": {},
   "outputs": [
    {
     "data": {
      "text/plain": [
       "array([0, 1, 2, 3, 4, 5, 6, 7, 8, 9])"
      ]
     },
     "execution_count": 10,
     "metadata": {},
     "output_type": "execute_result"
    }
   ],
   "source": [
    "# the syntax is equal to that of the range function!\n",
    "\n",
    "arr = np.arange(0, 10)\n",
    "arr"
   ]
  },
  {
   "cell_type": "code",
   "execution_count": 11,
   "id": "e5c83a1f-605a-4145-b014-c1125b0d14ea",
   "metadata": {},
   "outputs": [
    {
     "data": {
      "text/plain": [
       "array([ 0,  2,  4,  6,  8, 10, 12, 14, 16, 18])"
      ]
     },
     "execution_count": 11,
     "metadata": {},
     "output_type": "execute_result"
    }
   ],
   "source": [
    "arr = np.arange(0, 20, 2) # now with differences of 2 among the numbers\n",
    "arr"
   ]
  },
  {
   "cell_type": "code",
   "execution_count": 15,
   "id": "327e4e86-a1c1-4bf4-805d-a212b50312a0",
   "metadata": {},
   "outputs": [
    {
     "data": {
      "text/plain": [
       "[0, 2, 4, 6, 8, 10, 12, 14, 16, 18]"
      ]
     },
     "execution_count": 15,
     "metadata": {},
     "output_type": "execute_result"
    }
   ],
   "source": [
    "# compare with range\n",
    "[i for i in range(0, 20, 2)]"
   ]
  },
  {
   "cell_type": "markdown",
   "id": "325647c5-853a-4cc4-9ac3-698ade053625",
   "metadata": {},
   "source": [
    "### **Create np arrays from a random subset of numbers**\n",
    "\n",
    "In this case, we are using the **built-in random functionalities of numpy**, which mirror those of the core Python **random** library."
   ]
  },
  {
   "cell_type": "code",
   "execution_count": 24,
   "id": "5e075cca-833f-4fd9-a9cd-d0a76042252a",
   "metadata": {},
   "outputs": [
    {
     "data": {
      "text/plain": [
       "6"
      ]
     },
     "execution_count": 24,
     "metadata": {},
     "output_type": "execute_result"
    }
   ],
   "source": [
    "# it can be used to obtain random numbers inside a given range\n",
    "np.random.randint(4, 8)"
   ]
  },
  {
   "cell_type": "code",
   "execution_count": 27,
   "id": "d001b9ac-3afe-4429-b918-b68d9366950d",
   "metadata": {},
   "outputs": [
    {
     "data": {
      "text/plain": [
       "array([ 0.84639465,  0.98068776, -0.41102971])"
      ]
     },
     "execution_count": 27,
     "metadata": {},
     "output_type": "execute_result"
    }
   ],
   "source": [
    "# we can also use randn to get a random array!\n",
    "np.random.randn(3)"
   ]
  },
  {
   "cell_type": "code",
   "execution_count": 28,
   "id": "8f4f63ab-7cdc-478f-ae0e-a11031c84f9d",
   "metadata": {},
   "outputs": [
    {
     "data": {
      "text/plain": [
       "array([[ 0.37628572, -0.37630117,  2.72834178,  0.75235542, -0.42904962],\n",
       "       [-0.55136763, -0.50769516, -0.35066422, -1.87097899,  0.14748977],\n",
       "       [-1.8799745 ,  1.30465706, -0.19703582,  0.24084835, -0.54426253],\n",
       "       [ 1.19421275, -1.23030942, -0.79312524,  0.75561386, -0.20153632],\n",
       "       [-0.29333949, -0.37352236,  0.4467631 , -0.44517391,  1.27968115]])"
      ]
     },
     "execution_count": 28,
     "metadata": {},
     "output_type": "execute_result"
    }
   ],
   "source": [
    "np.random.randn(5, 5)"
   ]
  },
  {
   "cell_type": "code",
   "execution_count": 29,
   "id": "4dd63c50-ca5b-43a3-a1c2-a3778ae13471",
   "metadata": {},
   "outputs": [
    {
     "data": {
      "text/plain": [
       "array([[[-1.21946535, -0.04875407],\n",
       "        [ 0.4231142 ,  0.35199397],\n",
       "        [ 0.99304695,  0.44362341]],\n",
       "\n",
       "       [[ 1.23887341,  0.91022505],\n",
       "        [ 0.58252507,  1.4204216 ],\n",
       "        [ 0.79874272, -0.83569678]]])"
      ]
     },
     "execution_count": 29,
     "metadata": {},
     "output_type": "execute_result"
    }
   ],
   "source": [
    "np.random.randn(2, 3, 2)"
   ]
  },
  {
   "cell_type": "markdown",
   "id": "e0a4f073-8f63-43ac-a8b0-214bd311cdf2",
   "metadata": {},
   "source": [
    "The syntax of **random.randn** implies that for each comma, we specify the length in items we want that dimension to have. Therefore, by using random.randn(2, 3, 2) we are obtaining a 3D-matrix."
   ]
  },
  {
   "cell_type": "markdown",
   "id": "4261503a-da7e-406a-9df9-1b2aff386f65",
   "metadata": {},
   "source": [
    "### **Interesting array attributes and methods, and operations**\n",
    "\n",
    "Numpy arrays have some specific attributes and methods of interest:"
   ]
  },
  {
   "cell_type": "markdown",
   "id": "64970342-03b8-4bd9-b0bc-4d359eb36931",
   "metadata": {},
   "source": [
    "**Shape**"
   ]
  },
  {
   "cell_type": "code",
   "execution_count": 5,
   "id": "470bf62c-9182-436e-98b2-3c43f353abe3",
   "metadata": {},
   "outputs": [
    {
     "data": {
      "text/plain": [
       "array([[-1.30179962, -0.57340667],\n",
       "       [ 0.35768934,  0.85536508],\n",
       "       [ 1.80429399,  0.57329268]])"
      ]
     },
     "execution_count": 5,
     "metadata": {},
     "output_type": "execute_result"
    }
   ],
   "source": [
    "arr = np.random.randn(3, 2)\n",
    "arr"
   ]
  },
  {
   "cell_type": "code",
   "execution_count": 7,
   "id": "6a5f2ad6-c576-4e24-a139-546cd8b87b40",
   "metadata": {},
   "outputs": [
    {
     "data": {
      "text/plain": [
       "(3, 2)"
      ]
     },
     "execution_count": 7,
     "metadata": {},
     "output_type": "execute_result"
    }
   ],
   "source": [
    "# the attribute shape is super useful to find the dimensionality of a given matrix.\n",
    "arr.shape"
   ]
  },
  {
   "cell_type": "code",
   "execution_count": 8,
   "id": "259bffef-b731-45e0-bad0-98875e55cadd",
   "metadata": {},
   "outputs": [
    {
     "data": {
      "text/plain": [
       "(6,)"
      ]
     },
     "execution_count": 8,
     "metadata": {},
     "output_type": "execute_result"
    }
   ],
   "source": [
    "np.array([1, 2, 3, 4, 5, 6]).shape"
   ]
  },
  {
   "cell_type": "markdown",
   "id": "badc18d9-6ec1-4646-b4a6-8998c8f3a965",
   "metadata": {},
   "source": [
    "**dtype**\n",
    "\n",
    "dtype retrieves the data type of elements in the array"
   ]
  },
  {
   "cell_type": "code",
   "execution_count": 10,
   "id": "efe51bab-4e48-4771-8a43-9eb971d21874",
   "metadata": {},
   "outputs": [
    {
     "data": {
      "text/plain": [
       "dtype('int64')"
      ]
     },
     "execution_count": 10,
     "metadata": {},
     "output_type": "execute_result"
    }
   ],
   "source": [
    "np.array([1, 2, 3, 4, 5]).dtype"
   ]
  },
  {
   "cell_type": "code",
   "execution_count": 11,
   "id": "72249e4c-5484-4cd6-bda4-c2de9a171d16",
   "metadata": {},
   "outputs": [
    {
     "data": {
      "text/plain": [
       "dtype('<U5')"
      ]
     },
     "execution_count": 11,
     "metadata": {},
     "output_type": "execute_result"
    }
   ],
   "source": [
    "np.array('Bush Biden Obama Trump'.split()).dtype"
   ]
  },
  {
   "cell_type": "markdown",
   "id": "fdca784c-9f62-490e-b08f-71ddfb2a97d0",
   "metadata": {},
   "source": [
    "**numerical methods**\n",
    "\n",
    "Numpy arrays have also inherent methods to obtain cetain numerical elements."
   ]
  },
  {
   "cell_type": "code",
   "execution_count": 16,
   "id": "38c2b5af-a3c1-419d-88b3-bc5a24b69832",
   "metadata": {},
   "outputs": [],
   "source": [
    "arr = np.random.randn(7)"
   ]
  },
  {
   "cell_type": "code",
   "execution_count": 20,
   "id": "5ba60612-843c-4561-8dfa-36bf56bfd239",
   "metadata": {},
   "outputs": [
    {
     "data": {
      "text/plain": [
       "array([ 0.44362737,  0.71728122, -0.00329377, -0.44492896,  0.51752225,\n",
       "       -0.75822619,  0.56168343])"
      ]
     },
     "execution_count": 20,
     "metadata": {},
     "output_type": "execute_result"
    }
   ],
   "source": [
    "arr"
   ]
  },
  {
   "cell_type": "code",
   "execution_count": 22,
   "id": "95e1cee9-c9b8-42b9-b2a2-d687322918d7",
   "metadata": {},
   "outputs": [
    {
     "name": "stdout",
     "output_type": "stream",
     "text": [
      "0.7172812233744162\n",
      "-0.7582261855082955\n"
     ]
    }
   ],
   "source": [
    "print(arr.max())\n",
    "print(arr.min())"
   ]
  },
  {
   "cell_type": "markdown",
   "id": "ef2be68e-a98f-4a00-9582-f810f0013474",
   "metadata": {},
   "source": [
    "**numerical operations with ndarrays**"
   ]
  },
  {
   "cell_type": "code",
   "execution_count": 23,
   "id": "436c6521-0765-4cc7-b801-b81e103adca7",
   "metadata": {},
   "outputs": [],
   "source": [
    "arr1 = np.random.randn(5)\n",
    "arr2 = np.random.randn(5)"
   ]
  },
  {
   "cell_type": "code",
   "execution_count": 24,
   "id": "ab517b6a-0a62-4c8c-83cd-bea86f1222e7",
   "metadata": {},
   "outputs": [
    {
     "data": {
      "text/plain": [
       "array([-0.8438144 ,  0.4759829 , -2.00186412,  0.44948046, -1.40840587])"
      ]
     },
     "execution_count": 24,
     "metadata": {},
     "output_type": "execute_result"
    }
   ],
   "source": [
    "arr1"
   ]
  },
  {
   "cell_type": "code",
   "execution_count": 25,
   "id": "6b9a2782-f5c0-49ff-8373-252a5c0af2a5",
   "metadata": {},
   "outputs": [
    {
     "data": {
      "text/plain": [
       "array([-0.73140612,  0.96380376,  1.61519382,  0.00820699, -0.63131384])"
      ]
     },
     "execution_count": 25,
     "metadata": {},
     "output_type": "execute_result"
    }
   ],
   "source": [
    "arr2"
   ]
  },
  {
   "cell_type": "code",
   "execution_count": 26,
   "id": "f3116d66-330d-415c-a1e2-364bd395d4a4",
   "metadata": {},
   "outputs": [
    {
     "data": {
      "text/plain": [
       "array([-1.57522053,  1.43978666, -0.3866703 ,  0.45768744, -2.03971971])"
      ]
     },
     "execution_count": 26,
     "metadata": {},
     "output_type": "execute_result"
    }
   ],
   "source": [
    "arr1+arr2"
   ]
  },
  {
   "cell_type": "code",
   "execution_count": 27,
   "id": "5c106f3e-4465-4eea-a705-3f86b3a052b2",
   "metadata": {},
   "outputs": [
    {
     "data": {
      "text/plain": [
       "array([-0.11240828, -0.48782086, -3.61705793,  0.44127347, -0.77709203])"
      ]
     },
     "execution_count": 27,
     "metadata": {},
     "output_type": "execute_result"
    }
   ],
   "source": [
    "arr1-arr2"
   ]
  },
  {
   "cell_type": "code",
   "execution_count": 28,
   "id": "77cd8c10-83b1-4dcb-90dd-06ad991296e1",
   "metadata": {},
   "outputs": [
    {
     "data": {
      "text/plain": [
       "array([ 0.61717102,  0.45875411, -3.23339854,  0.00368888,  0.88914612])"
      ]
     },
     "execution_count": 28,
     "metadata": {},
     "output_type": "execute_result"
    }
   ],
   "source": [
    "arr1*arr2"
   ]
  },
  {
   "cell_type": "code",
   "execution_count": 29,
   "id": "9a372e74-8ea2-4e2d-96ae-3a7e1923d990",
   "metadata": {},
   "outputs": [
    {
     "name": "stderr",
     "output_type": "stream",
     "text": [
      "/tmp/ipykernel_274/3138642972.py:1: RuntimeWarning: divide by zero encountered in true_divide\n",
      "  arr1/np.array([0, 0, 0, 0, 0])\n"
     ]
    },
    {
     "data": {
      "text/plain": [
       "array([-inf,  inf, -inf,  inf, -inf])"
      ]
     },
     "execution_count": 29,
     "metadata": {},
     "output_type": "execute_result"
    }
   ],
   "source": [
    "# while diving, a division by 0 des not trigger an error\n",
    "arr1/np.array([0, 0, 0, 0, 0])"
   ]
  },
  {
   "cell_type": "code",
   "execution_count": 30,
   "id": "0537f9b5-519e-454e-99d5-161949d9e30b",
   "metadata": {},
   "outputs": [
    {
     "data": {
      "text/plain": [
       "array([-0.60081505,  0.10783855, -8.02239027,  0.09080974, -2.79372389])"
      ]
     },
     "execution_count": 30,
     "metadata": {},
     "output_type": "execute_result"
    }
   ],
   "source": [
    "arr1**3"
   ]
  },
  {
   "cell_type": "code",
   "execution_count": 33,
   "id": "d4bb5437-78fb-4237-9c05-ee84dfe24dd7",
   "metadata": {},
   "outputs": [
    {
     "data": {
      "text/plain": [
       "array([-0.8438144 ,  0.4759829 , -2.00186412,  0.44948046, -1.40840587])"
      ]
     },
     "execution_count": 33,
     "metadata": {},
     "output_type": "execute_result"
    }
   ],
   "source": [
    "arr1"
   ]
  },
  {
   "cell_type": "code",
   "execution_count": 34,
   "id": "c6f13914-8e7a-45ca-a494-0a2878fc95f1",
   "metadata": {},
   "outputs": [
    {
     "name": "stderr",
     "output_type": "stream",
     "text": [
      "/tmp/ipykernel_274/837702461.py:2: RuntimeWarning: invalid value encountered in sqrt\n",
      "  np.sqrt(arr1)\n"
     ]
    },
    {
     "data": {
      "text/plain": [
       "array([       nan, 0.68991514,        nan, 0.67043304,        nan])"
      ]
     },
     "execution_count": 34,
     "metadata": {},
     "output_type": "execute_result"
    }
   ],
   "source": [
    "# sqrt of <0 number is an i number!\n",
    "np.sqrt(arr1)"
   ]
  },
  {
   "cell_type": "markdown",
   "id": "fdb8d176-8653-4870-81a5-6a75b2ea7cc2",
   "metadata": {},
   "source": [
    "### **Indexing and Slicing Numpy Arrays**\n",
    "\n",
    "Indexing and slicing work mostly the same as indexing and slicing lists in Python:"
   ]
  },
  {
   "cell_type": "code",
   "execution_count": 36,
   "id": "e3b433ec-631f-419a-ae87-adc0cab2e632",
   "metadata": {},
   "outputs": [
    {
     "data": {
      "text/plain": [
       "array([0, 1, 2, 3, 4, 5, 6, 7, 8, 9])"
      ]
     },
     "execution_count": 36,
     "metadata": {},
     "output_type": "execute_result"
    }
   ],
   "source": [
    "arr = np.arange(0, 10)\n",
    "arr"
   ]
  },
  {
   "cell_type": "code",
   "execution_count": 39,
   "id": "1542b544-24f5-4984-a808-40593c8f1fe7",
   "metadata": {},
   "outputs": [
    {
     "data": {
      "text/plain": [
       "9"
      ]
     },
     "execution_count": 39,
     "metadata": {},
     "output_type": "execute_result"
    }
   ],
   "source": [
    "arr[-1]"
   ]
  },
  {
   "cell_type": "code",
   "execution_count": 38,
   "id": "52ec6e30-97d5-49ad-b950-f4ab4ab3e286",
   "metadata": {},
   "outputs": [
    {
     "data": {
      "text/plain": [
       "array([1, 2, 3, 4, 5, 6])"
      ]
     },
     "execution_count": 38,
     "metadata": {},
     "output_type": "execute_result"
    }
   ],
   "source": [
    "arr[1:7]"
   ]
  },
  {
   "cell_type": "markdown",
   "id": "3596c727-d6b3-468a-b5eb-efbc8519b29a",
   "metadata": {},
   "source": [
    "**For a matrix**"
   ]
  },
  {
   "cell_type": "code",
   "execution_count": 53,
   "id": "e88940b6-d771-4702-8c83-f50e51fae9c5",
   "metadata": {},
   "outputs": [
    {
     "data": {
      "text/plain": [
       "array([[ 1.26126487, -0.27231635, -0.62504674],\n",
       "       [-0.79080837, -0.94777988, -0.40747824],\n",
       "       [ 0.68090298, -1.2340281 ,  1.02716358]])"
      ]
     },
     "execution_count": 53,
     "metadata": {},
     "output_type": "execute_result"
    }
   ],
   "source": [
    "m = np.random.randn(3, 3)\n",
    "m"
   ]
  },
  {
   "cell_type": "code",
   "execution_count": 57,
   "id": "37d5295f-4395-447c-88ed-47debeba5704",
   "metadata": {},
   "outputs": [
    {
     "data": {
      "text/plain": [
       "array([ 1.26126487, -0.27231635, -0.62504674])"
      ]
     },
     "execution_count": 57,
     "metadata": {},
     "output_type": "execute_result"
    }
   ],
   "source": [
    "# fetching the first row\n",
    "m[0]"
   ]
  },
  {
   "cell_type": "code",
   "execution_count": 58,
   "id": "c1475f4c-8d92-4039-8719-27a25d46ddf8",
   "metadata": {},
   "outputs": [
    {
     "data": {
      "text/plain": [
       "array([ 1.26126487, -0.79080837,  0.68090298])"
      ]
     },
     "execution_count": 58,
     "metadata": {},
     "output_type": "execute_result"
    }
   ],
   "source": [
    "# fetching the first column\n",
    "m[:,0]"
   ]
  },
  {
   "cell_type": "code",
   "execution_count": 59,
   "id": "26b908bd-1890-4e39-9aab-c9cfe4c375f9",
   "metadata": {},
   "outputs": [
    {
     "data": {
      "text/plain": [
       "-0.2723163479547421"
      ]
     },
     "execution_count": 59,
     "metadata": {},
     "output_type": "execute_result"
    }
   ],
   "source": [
    "# for a specific value\n",
    "m[0][1]"
   ]
  },
  {
   "cell_type": "code",
   "execution_count": 60,
   "id": "b38d54ec-ff56-467f-83fc-1c1e16521385",
   "metadata": {},
   "outputs": [
    {
     "data": {
      "text/plain": [
       "-0.2723163479547421"
      ]
     },
     "execution_count": 60,
     "metadata": {},
     "output_type": "execute_result"
    }
   ],
   "source": [
    "m[0, 1]"
   ]
  },
  {
   "cell_type": "markdown",
   "id": "a74e9b99-75f7-4823-bb02-fc41babb4480",
   "metadata": {},
   "source": [
    "**Broadcasting**\n",
    "\n",
    "Broadcasting refers to the possibility of **\"vectorizing\"** some operations accross a numpy array. One we want to take a close look at is the possibility of **reassigning values for a subarray in the array**, something we could not do in lists!"
   ]
  },
  {
   "cell_type": "code",
   "execution_count": 40,
   "id": "1652fc4f-e253-4ca1-aa45-505a074a4090",
   "metadata": {},
   "outputs": [
    {
     "data": {
      "text/plain": [
       "[4, 2, 3, 4, 5]"
      ]
     },
     "execution_count": 40,
     "metadata": {},
     "output_type": "execute_result"
    }
   ],
   "source": [
    "mylist = [1, 2, 3, 4, 5]\n",
    "mylist[0] = 4\n",
    "mylist"
   ]
  },
  {
   "cell_type": "code",
   "execution_count": 41,
   "id": "27769109-c1d9-4961-b937-0fb01f3a750a",
   "metadata": {},
   "outputs": [
    {
     "ename": "TypeError",
     "evalue": "can only assign an iterable",
     "output_type": "error",
     "traceback": [
      "\u001b[0;31m---------------------------------------------------------------------------\u001b[0m",
      "\u001b[0;31mTypeError\u001b[0m                                 Traceback (most recent call last)",
      "Input \u001b[0;32mIn [41]\u001b[0m, in \u001b[0;36m<cell line: 1>\u001b[0;34m()\u001b[0m\n\u001b[0;32m----> 1\u001b[0m mylist[:\u001b[38;5;241m3\u001b[39m] \u001b[38;5;241m=\u001b[39m \u001b[38;5;241m5\u001b[39m\n",
      "\u001b[0;31mTypeError\u001b[0m: can only assign an iterable"
     ]
    }
   ],
   "source": [
    "mylist[:3] = 5"
   ]
  },
  {
   "cell_type": "code",
   "execution_count": 42,
   "id": "beb55153-9fc2-4da9-b074-93038d078745",
   "metadata": {},
   "outputs": [
    {
     "data": {
      "text/plain": [
       "array([0, 1, 2, 3, 4, 5, 6, 7, 8, 9])"
      ]
     },
     "execution_count": 42,
     "metadata": {},
     "output_type": "execute_result"
    }
   ],
   "source": [
    "# instead, for numpy:\n",
    "arr = np.arange(0, 10)\n",
    "arr"
   ]
  },
  {
   "cell_type": "code",
   "execution_count": 43,
   "id": "ed157fe0-cb83-4e8b-aa81-d4cfec37e138",
   "metadata": {},
   "outputs": [
    {
     "data": {
      "text/plain": [
       "array([4, 4, 4, 4, 4, 5, 6, 7, 8, 9])"
      ]
     },
     "execution_count": 43,
     "metadata": {},
     "output_type": "execute_result"
    }
   ],
   "source": [
    "arr[:4] = 4\n",
    "arr"
   ]
  },
  {
   "cell_type": "code",
   "execution_count": 45,
   "id": "aef249b7-0c59-4239-afa6-ce2d6915921e",
   "metadata": {},
   "outputs": [
    {
     "data": {
      "text/plain": [
       "array([4, 4, 4, 4, 4, 4, 4, 4, 4, 4])"
      ]
     },
     "execution_count": 45,
     "metadata": {},
     "output_type": "execute_result"
    }
   ],
   "source": [
    "# we can do it for the whole array as well!\n",
    "arr[:] = 4\n",
    "arr"
   ]
  },
  {
   "cell_type": "markdown",
   "id": "31fc5dec-b5d0-4393-ad95-7b9430a520ef",
   "metadata": {},
   "source": [
    "### **Filtering  Numpy Arrays**\n",
    "\n",
    "In the process of filtering a Numpy array, we:\n",
    " 1. First set a condition on a numpy array, and get whether it's True or False\n",
    " 2. We pass it onto the original array, and numpy filters True occurrences"
   ]
  },
  {
   "cell_type": "code",
   "execution_count": 63,
   "id": "90774864-c2db-4237-be0c-d38bd07ffa57",
   "metadata": {},
   "outputs": [
    {
     "data": {
      "text/plain": [
       "array([0, 1, 2, 3, 4, 5, 6, 7, 8, 9])"
      ]
     },
     "execution_count": 63,
     "metadata": {},
     "output_type": "execute_result"
    }
   ],
   "source": [
    "arr = np.arange(0, 10)\n",
    "arr"
   ]
  },
  {
   "cell_type": "code",
   "execution_count": 64,
   "id": "e256f450-d7e6-4f21-b169-63efbf9f9bd1",
   "metadata": {},
   "outputs": [
    {
     "data": {
      "text/plain": [
       "array([False, False, False, False, False,  True,  True,  True,  True,\n",
       "        True])"
      ]
     },
     "execution_count": 64,
     "metadata": {},
     "output_type": "execute_result"
    }
   ],
   "source": [
    "arr>4"
   ]
  },
  {
   "cell_type": "code",
   "execution_count": 65,
   "id": "1cae9c80-88eb-4ef9-9ab6-f207eb49c531",
   "metadata": {},
   "outputs": [
    {
     "data": {
      "text/plain": [
       "array([5, 6, 7, 8, 9])"
      ]
     },
     "execution_count": 65,
     "metadata": {},
     "output_type": "execute_result"
    }
   ],
   "source": [
    "arr[arr>4]"
   ]
  },
  {
   "cell_type": "markdown",
   "id": "c22e9fbd-6723-44bc-9bac-8e7db4f32326",
   "metadata": {},
   "source": [
    "We will see something very similar on **pandas**!"
   ]
  },
  {
   "cell_type": "markdown",
   "id": "48425fd3-32ce-4aa7-899c-65bfc6e37041",
   "metadata": {},
   "source": [
    "## **02. Pandas Series and DataFrames**\n",
    "\n",
    "Pandas is the default library for dealing with data in Python, which is built on top of Numpy.\n",
    "\n",
    "Pandas count on **Series** and **DataFrames**. Series would be the equivalent of a table's \"column\", and a DataFrame would be the equivalent of a data table."
   ]
  },
  {
   "cell_type": "markdown",
   "id": "0aea3675-427a-47b0-bf52-f8fca4068edf",
   "metadata": {},
   "source": [
    "### **02.1. Pandas Series**\n",
    "\n",
    "Pandas Series are built on top of numpy arrays. Because of that, they are super similar to numpy 1D arrays. \n",
    "\n",
    "However, unlike Numpy arrays, they can be **indexed by a label**.\n",
    "\n",
    "#### **How to create a Pandas Series**"
   ]
  },
  {
   "cell_type": "code",
   "execution_count": 1,
   "id": "26d5c226-775e-4536-b703-53ad0eb0ff5c",
   "metadata": {},
   "outputs": [],
   "source": [
    "# first always import pandas as pd\n",
    "import numpy as np\n",
    "import pandas as pd"
   ]
  },
  {
   "cell_type": "code",
   "execution_count": 67,
   "id": "5c6f0570-c317-4104-94cb-78c0399233de",
   "metadata": {},
   "outputs": [
    {
     "data": {
      "text/plain": [
       "0    1\n",
       "1    2\n",
       "2    3\n",
       "3    4\n",
       "4    5\n",
       "dtype: int64"
      ]
     },
     "execution_count": 67,
     "metadata": {},
     "output_type": "execute_result"
    }
   ],
   "source": [
    "pd.Series([1, 2, 3, 4, 5])"
   ]
  },
  {
   "cell_type": "code",
   "execution_count": 69,
   "id": "9989c67c-df47-4092-98f3-54d2bfbe076f",
   "metadata": {},
   "outputs": [
    {
     "data": {
      "text/plain": [
       "a    1\n",
       "b    2\n",
       "c    3\n",
       "d    4\n",
       "e    5\n",
       "dtype: int64"
      ]
     },
     "execution_count": 69,
     "metadata": {},
     "output_type": "execute_result"
    }
   ],
   "source": [
    "# we can see indexes have values!\n",
    "pd.Series([1, 2, 3, 4, 5], index = 'a b c d e'.split())"
   ]
  },
  {
   "cell_type": "markdown",
   "id": "25c348e2-df72-4129-bcd0-821e31be7d84",
   "metadata": {},
   "source": [
    " - From a dictionary:"
   ]
  },
  {
   "cell_type": "code",
   "execution_count": 70,
   "id": "fc204772-889b-4c12-9502-11fc301ecf1c",
   "metadata": {},
   "outputs": [
    {
     "data": {
      "text/plain": [
       "a    1\n",
       "b    2\n",
       "c    3\n",
       "d    4\n",
       "e    5\n",
       "dtype: int64"
      ]
     },
     "execution_count": 70,
     "metadata": {},
     "output_type": "execute_result"
    }
   ],
   "source": [
    "# we can create a Series from a dictionary\n",
    "mydict = {'a':1, 'b':2, 'c':3, 'd':4, 'e':5}\n",
    "pd.Series(mydict)"
   ]
  },
  {
   "cell_type": "markdown",
   "id": "a1c48d02-4f5a-4a4b-bb5c-448120ac1a49",
   "metadata": {},
   "source": [
    " - From numpy arrays also:"
   ]
  },
  {
   "cell_type": "code",
   "execution_count": 71,
   "id": "6bb59afc-8c55-4a35-9e73-758ef112d924",
   "metadata": {},
   "outputs": [
    {
     "data": {
      "text/plain": [
       "0   -0.079530\n",
       "1   -0.725589\n",
       "2    0.771851\n",
       "3   -0.166389\n",
       "4   -0.681069\n",
       "5    0.049136\n",
       "dtype: float64"
      ]
     },
     "execution_count": 71,
     "metadata": {},
     "output_type": "execute_result"
    }
   ],
   "source": [
    "pd.Series(np.random.randn(6))"
   ]
  },
  {
   "cell_type": "markdown",
   "id": "ab1a4e2e-4d69-4513-ad09-16d4e09b0d06",
   "metadata": {},
   "source": [
    "#### **Indexing with Pandas Series**\n",
    "\n",
    "Both default numeric, and custom non-numeric indexes can be used to index pandas Series:"
   ]
  },
  {
   "cell_type": "code",
   "execution_count": 78,
   "id": "8f60bac2-3935-4747-a910-75747ed3daab",
   "metadata": {},
   "outputs": [
    {
     "data": {
      "text/plain": [
       "0    10\n",
       "1    11\n",
       "2    12\n",
       "3    13\n",
       "4    14\n",
       "dtype: int64"
      ]
     },
     "execution_count": 78,
     "metadata": {},
     "output_type": "execute_result"
    }
   ],
   "source": [
    "s = pd.Series(list(range(10, 15)))\n",
    "s"
   ]
  },
  {
   "cell_type": "code",
   "execution_count": 79,
   "id": "e2d20b98-11c5-4b98-ac03-eb2b18f60402",
   "metadata": {},
   "outputs": [
    {
     "data": {
      "text/plain": [
       "10"
      ]
     },
     "execution_count": 79,
     "metadata": {},
     "output_type": "execute_result"
    }
   ],
   "source": [
    "s[0]"
   ]
  },
  {
   "cell_type": "code",
   "execution_count": 80,
   "id": "1b9b9158-8566-4d32-a3bc-69fd3eee5777",
   "metadata": {},
   "outputs": [
    {
     "data": {
      "text/plain": [
       "0    10\n",
       "1    11\n",
       "2    12\n",
       "3    13\n",
       "dtype: int64"
      ]
     },
     "execution_count": 80,
     "metadata": {},
     "output_type": "execute_result"
    }
   ],
   "source": [
    "s[:4]"
   ]
  },
  {
   "cell_type": "code",
   "execution_count": 81,
   "id": "d0a796be-1705-4cc2-8a0b-20b3b033bf6f",
   "metadata": {},
   "outputs": [],
   "source": [
    "s.index = ['USA', 'Japan', 'France', 'Canada', 'Spain']"
   ]
  },
  {
   "cell_type": "code",
   "execution_count": 82,
   "id": "5abc9b29-4ad5-449c-9e9c-2e3398a91085",
   "metadata": {},
   "outputs": [
    {
     "data": {
      "text/plain": [
       "USA       10\n",
       "Japan     11\n",
       "France    12\n",
       "Canada    13\n",
       "Spain     14\n",
       "dtype: int64"
      ]
     },
     "execution_count": 82,
     "metadata": {},
     "output_type": "execute_result"
    }
   ],
   "source": [
    "s"
   ]
  },
  {
   "cell_type": "code",
   "execution_count": 84,
   "id": "32d7f69f-9144-48ee-bbbe-22eb11f64776",
   "metadata": {},
   "outputs": [
    {
     "data": {
      "text/plain": [
       "10"
      ]
     },
     "execution_count": 84,
     "metadata": {},
     "output_type": "execute_result"
    }
   ],
   "source": [
    "s['USA']"
   ]
  },
  {
   "cell_type": "code",
   "execution_count": 85,
   "id": "5c7b0f89-0088-436f-867d-af145cd9d6bd",
   "metadata": {},
   "outputs": [
    {
     "data": {
      "text/plain": [
       "10"
      ]
     },
     "execution_count": 85,
     "metadata": {},
     "output_type": "execute_result"
    }
   ],
   "source": [
    "# However, default indexes still work!\n",
    "s[0]"
   ]
  },
  {
   "cell_type": "markdown",
   "id": "7df42d92-cbde-459d-be41-bc3bae1f0a78",
   "metadata": {},
   "source": [
    "**Operations** among pandas Series  work according to the **index**!"
   ]
  },
  {
   "cell_type": "code",
   "execution_count": 89,
   "id": "229b59b8-e49d-49f4-a4c0-f53a5cd6643d",
   "metadata": {},
   "outputs": [],
   "source": [
    "s2 = pd.Series(np.arange(30, 35))\n",
    "s2.index = ['USA', 'Italy', 'NZ', 'Japan', 'France']"
   ]
  },
  {
   "cell_type": "code",
   "execution_count": 93,
   "id": "f2a629aa-1929-4c3c-821f-74de103964f3",
   "metadata": {},
   "outputs": [
    {
     "data": {
      "text/plain": [
       "USA       10\n",
       "Japan     11\n",
       "France    12\n",
       "Canada    13\n",
       "Spain     14\n",
       "dtype: int64"
      ]
     },
     "execution_count": 93,
     "metadata": {},
     "output_type": "execute_result"
    }
   ],
   "source": [
    "s"
   ]
  },
  {
   "cell_type": "code",
   "execution_count": 94,
   "id": "e1aade17-6530-4814-bb74-19a166616c40",
   "metadata": {},
   "outputs": [
    {
     "data": {
      "text/plain": [
       "USA       30\n",
       "Italy     31\n",
       "NZ        32\n",
       "Japan     33\n",
       "France    34\n",
       "dtype: int64"
      ]
     },
     "execution_count": 94,
     "metadata": {},
     "output_type": "execute_result"
    }
   ],
   "source": [
    "s2"
   ]
  },
  {
   "cell_type": "code",
   "execution_count": 96,
   "id": "9a9892c6-cddc-4f60-a105-b7686a44c45d",
   "metadata": {},
   "outputs": [
    {
     "data": {
      "text/plain": [
       "Canada     NaN\n",
       "France    46.0\n",
       "Italy      NaN\n",
       "Japan     44.0\n",
       "NZ         NaN\n",
       "Spain      NaN\n",
       "USA       40.0\n",
       "dtype: float64"
      ]
     },
     "execution_count": 96,
     "metadata": {},
     "output_type": "execute_result"
    }
   ],
   "source": [
    "# those not having an equivalent do not produce a result! it's not done according to row positioning!\n",
    "s+s2"
   ]
  },
  {
   "cell_type": "markdown",
   "id": "6d82955b-71c7-4ea3-96bc-5fce76c0a771",
   "metadata": {},
   "source": [
    "#### **Quick Exercise**\n",
    "\n",
    "Create a Pandas Series from a made-up sequence of numbers that indicates the (fake) rating of some Films. Include the films in the index."
   ]
  },
  {
   "cell_type": "code",
   "execution_count": 1,
   "id": "5e596364-e442-42af-a985-a071656451fb",
   "metadata": {},
   "outputs": [],
   "source": [
    "films = ['Fargo', 'Star Wars', 'Django', 'Whiplash', 'Goodfellas']"
   ]
  },
  {
   "cell_type": "code",
   "execution_count": 6,
   "id": "6c7eca82-5052-4b52-a0a8-20b8ee62c6c4",
   "metadata": {},
   "outputs": [],
   "source": [
    "s = pd.Series(np.random.randn(len(films)), index = films)"
   ]
  },
  {
   "cell_type": "code",
   "execution_count": 7,
   "id": "536e02c2-c8cb-4272-9f39-64f4e8c49a30",
   "metadata": {},
   "outputs": [
    {
     "data": {
      "text/plain": [
       "Fargo         0.078233\n",
       "Star Wars     0.970172\n",
       "Django        0.264525\n",
       "Whiplash     -0.872376\n",
       "Goodfellas    0.102661\n",
       "dtype: float64"
      ]
     },
     "execution_count": 7,
     "metadata": {},
     "output_type": "execute_result"
    }
   ],
   "source": [
    "s"
   ]
  },
  {
   "cell_type": "markdown",
   "id": "f2857c58-2e0b-457b-bd6d-e6a4488da5f6",
   "metadata": {},
   "source": [
    "### **02.2. Pandas DataFrames**\n",
    "\n",
    "DataFrames are the quivalent of **data tables** in pandas. As Series are the equivalent of columns, think about DFs as a combination of series that share a common index!"
   ]
  },
  {
   "cell_type": "markdown",
   "id": "0c17137a-6d1e-4fdd-81a3-d18fcf85bfe0",
   "metadata": {},
   "source": [
    "#### **Creating DFs**"
   ]
  },
  {
   "cell_type": "code",
   "execution_count": 9,
   "id": "7bd82e8a-6007-48e0-8de9-5fc69b468b8e",
   "metadata": {},
   "outputs": [
    {
     "data": {
      "text/html": [
       "<div>\n",
       "<style scoped>\n",
       "    .dataframe tbody tr th:only-of-type {\n",
       "        vertical-align: middle;\n",
       "    }\n",
       "\n",
       "    .dataframe tbody tr th {\n",
       "        vertical-align: top;\n",
       "    }\n",
       "\n",
       "    .dataframe thead th {\n",
       "        text-align: right;\n",
       "    }\n",
       "</style>\n",
       "<table border=\"1\" class=\"dataframe\">\n",
       "  <thead>\n",
       "    <tr style=\"text-align: right;\">\n",
       "      <th></th>\n",
       "      <th>population</th>\n",
       "      <th>gdp</th>\n",
       "      <th>median_age</th>\n",
       "    </tr>\n",
       "  </thead>\n",
       "  <tbody>\n",
       "    <tr>\n",
       "      <th>USA</th>\n",
       "      <td>-0.066816</td>\n",
       "      <td>-0.180745</td>\n",
       "      <td>1.263791</td>\n",
       "    </tr>\n",
       "    <tr>\n",
       "      <th>Japan</th>\n",
       "      <td>-0.426420</td>\n",
       "      <td>-0.417508</td>\n",
       "      <td>-1.054292</td>\n",
       "    </tr>\n",
       "    <tr>\n",
       "      <th>France</th>\n",
       "      <td>0.521824</td>\n",
       "      <td>1.076600</td>\n",
       "      <td>-0.463071</td>\n",
       "    </tr>\n",
       "    <tr>\n",
       "      <th>Egypt</th>\n",
       "      <td>1.584942</td>\n",
       "      <td>-0.049625</td>\n",
       "      <td>-0.071315</td>\n",
       "    </tr>\n",
       "    <tr>\n",
       "      <th>Poland</th>\n",
       "      <td>-0.513212</td>\n",
       "      <td>2.628185</td>\n",
       "      <td>-0.258796</td>\n",
       "    </tr>\n",
       "    <tr>\n",
       "      <th>SK</th>\n",
       "      <td>0.180745</td>\n",
       "      <td>-1.371016</td>\n",
       "      <td>1.345896</td>\n",
       "    </tr>\n",
       "    <tr>\n",
       "      <th>Argentina</th>\n",
       "      <td>2.806639</td>\n",
       "      <td>0.527447</td>\n",
       "      <td>0.224193</td>\n",
       "    </tr>\n",
       "    <tr>\n",
       "      <th>Cuba</th>\n",
       "      <td>-1.380013</td>\n",
       "      <td>-0.436359</td>\n",
       "      <td>0.118715</td>\n",
       "    </tr>\n",
       "  </tbody>\n",
       "</table>\n",
       "</div>"
      ],
      "text/plain": [
       "           population       gdp  median_age\n",
       "USA         -0.066816 -0.180745    1.263791\n",
       "Japan       -0.426420 -0.417508   -1.054292\n",
       "France       0.521824  1.076600   -0.463071\n",
       "Egypt        1.584942 -0.049625   -0.071315\n",
       "Poland      -0.513212  2.628185   -0.258796\n",
       "SK           0.180745 -1.371016    1.345896\n",
       "Argentina    2.806639  0.527447    0.224193\n",
       "Cuba        -1.380013 -0.436359    0.118715"
      ]
     },
     "execution_count": 9,
     "metadata": {},
     "output_type": "execute_result"
    }
   ],
   "source": [
    "df = pd.DataFrame(np.random.randn(8, 3), index = 'USA Japan France Egypt Poland SK Argentina Cuba'.split(), columns = 'population gdp median_age'.split())\n",
    "df"
   ]
  },
  {
   "cell_type": "markdown",
   "id": "979d08ce-cfc5-40e9-8f3a-317266df5a23",
   "metadata": {},
   "source": [
    "We can also create DFs via **dictionaries** (similar to how we did it before with Series), or, for instance, import some external data to generate them. We'll see that a bit later."
   ]
  },
  {
   "cell_type": "markdown",
   "id": "5fe66cdb-9808-40ee-b374-7658aff41a9b",
   "metadata": {},
   "source": [
    "#### **df.head()**\n",
    "\n",
    "When first obtaining a dataset in a df, it's useful to get a sense of its underlying information and structure. We will introduce some additional functions later, but df.head() is a good one for getting a sense of our initial data.\n",
    "\n",
    "By default, it fetches the **first 5 rows** of the dataframe. When specifying a number inside it, it shows other number of rows."
   ]
  },
  {
   "cell_type": "code",
   "execution_count": 133,
   "id": "1997fa4c-56df-4b90-8d65-af1d49f18fcb",
   "metadata": {},
   "outputs": [
    {
     "data": {
      "text/html": [
       "<div>\n",
       "<style scoped>\n",
       "    .dataframe tbody tr th:only-of-type {\n",
       "        vertical-align: middle;\n",
       "    }\n",
       "\n",
       "    .dataframe tbody tr th {\n",
       "        vertical-align: top;\n",
       "    }\n",
       "\n",
       "    .dataframe thead th {\n",
       "        text-align: right;\n",
       "    }\n",
       "</style>\n",
       "<table border=\"1\" class=\"dataframe\">\n",
       "  <thead>\n",
       "    <tr style=\"text-align: right;\">\n",
       "      <th></th>\n",
       "      <th>population</th>\n",
       "      <th>gdp</th>\n",
       "      <th>median_age</th>\n",
       "    </tr>\n",
       "  </thead>\n",
       "  <tbody>\n",
       "    <tr>\n",
       "      <th>USA</th>\n",
       "      <td>-0.727674</td>\n",
       "      <td>0.628572</td>\n",
       "      <td>1.101631</td>\n",
       "    </tr>\n",
       "    <tr>\n",
       "      <th>Japan</th>\n",
       "      <td>0.637028</td>\n",
       "      <td>-1.338933</td>\n",
       "      <td>0.478187</td>\n",
       "    </tr>\n",
       "    <tr>\n",
       "      <th>France</th>\n",
       "      <td>-1.323539</td>\n",
       "      <td>-1.988056</td>\n",
       "      <td>0.177701</td>\n",
       "    </tr>\n",
       "    <tr>\n",
       "      <th>Egypt</th>\n",
       "      <td>2.257902</td>\n",
       "      <td>0.165790</td>\n",
       "      <td>0.021995</td>\n",
       "    </tr>\n",
       "  </tbody>\n",
       "</table>\n",
       "</div>"
      ],
      "text/plain": [
       "        population       gdp  median_age\n",
       "USA      -0.727674  0.628572    1.101631\n",
       "Japan     0.637028 -1.338933    0.478187\n",
       "France   -1.323539 -1.988056    0.177701\n",
       "Egypt     2.257902  0.165790    0.021995"
      ]
     },
     "execution_count": 133,
     "metadata": {},
     "output_type": "execute_result"
    }
   ],
   "source": [
    "df.head(4)"
   ]
  },
  {
   "cell_type": "markdown",
   "id": "17e62ea1-eb23-4ace-9b14-9448010475a0",
   "metadata": {},
   "source": [
    "#### **Selecting and Indexing DFs**\n",
    "\n",
    "We will see how to select:\n",
    " - Individual columns\n",
    " - Individual rows\n",
    " - Groups of these"
   ]
  },
  {
   "cell_type": "markdown",
   "id": "9b9473d4-904a-41f3-a693-ca2c2926587b",
   "metadata": {},
   "source": [
    "**Columns**"
   ]
  },
  {
   "cell_type": "markdown",
   "id": "da5ff903-dcfe-4f05-ae75-dcc000eb956e",
   "metadata": {},
   "source": [
    "Columns can be selected like:"
   ]
  },
  {
   "cell_type": "code",
   "execution_count": 134,
   "id": "931e96f9-f3c7-4940-adcc-9ef3806a7e43",
   "metadata": {},
   "outputs": [
    {
     "data": {
      "text/plain": [
       "USA         -0.727674\n",
       "Japan        0.637028\n",
       "France      -1.323539\n",
       "Egypt        2.257902\n",
       "Poland       0.826227\n",
       "SK          -0.922904\n",
       "Argentina   -0.215233\n",
       "Cuba         0.310247\n",
       "Name: population, dtype: float64"
      ]
     },
     "execution_count": 134,
     "metadata": {},
     "output_type": "execute_result"
    }
   ],
   "source": [
    "# we obtain the resulting series\n",
    "df[\"population\"]"
   ]
  },
  {
   "cell_type": "code",
   "execution_count": 135,
   "id": "75c8cbba-6f68-4300-96c5-11a715cdd2cd",
   "metadata": {},
   "outputs": [
    {
     "data": {
      "text/plain": [
       "USA         -0.727674\n",
       "Japan        0.637028\n",
       "France      -1.323539\n",
       "Egypt        2.257902\n",
       "Poland       0.826227\n",
       "SK          -0.922904\n",
       "Argentina   -0.215233\n",
       "Cuba         0.310247\n",
       "Name: population, dtype: float64"
      ]
     },
     "execution_count": 135,
     "metadata": {},
     "output_type": "execute_result"
    }
   ],
   "source": [
    "# as well as if it was an attribute\n",
    "df.population"
   ]
  },
  {
   "cell_type": "code",
   "execution_count": 136,
   "id": "c9e6390c-37f5-40b5-a6b5-12b0f193c382",
   "metadata": {},
   "outputs": [
    {
     "data": {
      "text/plain": [
       "pandas.core.series.Series"
      ]
     },
     "execution_count": 136,
     "metadata": {},
     "output_type": "execute_result"
    }
   ],
   "source": [
    "type(df.population)"
   ]
  },
  {
   "cell_type": "markdown",
   "id": "33c6e9aa-d04f-406e-9812-0f27e769300b",
   "metadata": {},
   "source": [
    "And groups of columns like:"
   ]
  },
  {
   "cell_type": "code",
   "execution_count": 137,
   "id": "465af51a-96b5-4832-af95-6be2bebb7ac5",
   "metadata": {},
   "outputs": [
    {
     "data": {
      "text/html": [
       "<div>\n",
       "<style scoped>\n",
       "    .dataframe tbody tr th:only-of-type {\n",
       "        vertical-align: middle;\n",
       "    }\n",
       "\n",
       "    .dataframe tbody tr th {\n",
       "        vertical-align: top;\n",
       "    }\n",
       "\n",
       "    .dataframe thead th {\n",
       "        text-align: right;\n",
       "    }\n",
       "</style>\n",
       "<table border=\"1\" class=\"dataframe\">\n",
       "  <thead>\n",
       "    <tr style=\"text-align: right;\">\n",
       "      <th></th>\n",
       "      <th>population</th>\n",
       "      <th>gdp</th>\n",
       "    </tr>\n",
       "  </thead>\n",
       "  <tbody>\n",
       "    <tr>\n",
       "      <th>USA</th>\n",
       "      <td>-0.727674</td>\n",
       "      <td>0.628572</td>\n",
       "    </tr>\n",
       "    <tr>\n",
       "      <th>Japan</th>\n",
       "      <td>0.637028</td>\n",
       "      <td>-1.338933</td>\n",
       "    </tr>\n",
       "    <tr>\n",
       "      <th>France</th>\n",
       "      <td>-1.323539</td>\n",
       "      <td>-1.988056</td>\n",
       "    </tr>\n",
       "    <tr>\n",
       "      <th>Egypt</th>\n",
       "      <td>2.257902</td>\n",
       "      <td>0.165790</td>\n",
       "    </tr>\n",
       "    <tr>\n",
       "      <th>Poland</th>\n",
       "      <td>0.826227</td>\n",
       "      <td>1.182786</td>\n",
       "    </tr>\n",
       "    <tr>\n",
       "      <th>SK</th>\n",
       "      <td>-0.922904</td>\n",
       "      <td>0.806727</td>\n",
       "    </tr>\n",
       "    <tr>\n",
       "      <th>Argentina</th>\n",
       "      <td>-0.215233</td>\n",
       "      <td>1.762746</td>\n",
       "    </tr>\n",
       "    <tr>\n",
       "      <th>Cuba</th>\n",
       "      <td>0.310247</td>\n",
       "      <td>-0.135100</td>\n",
       "    </tr>\n",
       "  </tbody>\n",
       "</table>\n",
       "</div>"
      ],
      "text/plain": [
       "           population       gdp\n",
       "USA         -0.727674  0.628572\n",
       "Japan        0.637028 -1.338933\n",
       "France      -1.323539 -1.988056\n",
       "Egypt        2.257902  0.165790\n",
       "Poland       0.826227  1.182786\n",
       "SK          -0.922904  0.806727\n",
       "Argentina   -0.215233  1.762746\n",
       "Cuba         0.310247 -0.135100"
      ]
     },
     "execution_count": 137,
     "metadata": {},
     "output_type": "execute_result"
    }
   ],
   "source": [
    "df[['population', 'gdp']]"
   ]
  },
  {
   "cell_type": "markdown",
   "id": "82b29541-7c2f-4ed8-b7a4-691e9eca7986",
   "metadata": {},
   "source": [
    "**Rows**\n",
    "\n",
    "Rows can be indexed as if it was a list, or by using native pandas methods."
   ]
  },
  {
   "cell_type": "code",
   "execution_count": 138,
   "id": "3c985d0c-f6b7-4036-8ee9-830df2591b7a",
   "metadata": {},
   "outputs": [
    {
     "data": {
      "text/plain": [
       "8"
      ]
     },
     "execution_count": 138,
     "metadata": {},
     "output_type": "execute_result"
    }
   ],
   "source": [
    "len(df)"
   ]
  },
  {
   "cell_type": "code",
   "execution_count": 139,
   "id": "afb06154-65e5-4052-a7ee-9c381b21d0a2",
   "metadata": {},
   "outputs": [
    {
     "data": {
      "text/html": [
       "<div>\n",
       "<style scoped>\n",
       "    .dataframe tbody tr th:only-of-type {\n",
       "        vertical-align: middle;\n",
       "    }\n",
       "\n",
       "    .dataframe tbody tr th {\n",
       "        vertical-align: top;\n",
       "    }\n",
       "\n",
       "    .dataframe thead th {\n",
       "        text-align: right;\n",
       "    }\n",
       "</style>\n",
       "<table border=\"1\" class=\"dataframe\">\n",
       "  <thead>\n",
       "    <tr style=\"text-align: right;\">\n",
       "      <th></th>\n",
       "      <th>population</th>\n",
       "      <th>gdp</th>\n",
       "      <th>median_age</th>\n",
       "    </tr>\n",
       "  </thead>\n",
       "  <tbody>\n",
       "    <tr>\n",
       "      <th>France</th>\n",
       "      <td>-1.323539</td>\n",
       "      <td>-1.988056</td>\n",
       "      <td>0.177701</td>\n",
       "    </tr>\n",
       "    <tr>\n",
       "      <th>Egypt</th>\n",
       "      <td>2.257902</td>\n",
       "      <td>0.165790</td>\n",
       "      <td>0.021995</td>\n",
       "    </tr>\n",
       "    <tr>\n",
       "      <th>Poland</th>\n",
       "      <td>0.826227</td>\n",
       "      <td>1.182786</td>\n",
       "      <td>-0.357212</td>\n",
       "    </tr>\n",
       "    <tr>\n",
       "      <th>SK</th>\n",
       "      <td>-0.922904</td>\n",
       "      <td>0.806727</td>\n",
       "      <td>0.729014</td>\n",
       "    </tr>\n",
       "    <tr>\n",
       "      <th>Argentina</th>\n",
       "      <td>-0.215233</td>\n",
       "      <td>1.762746</td>\n",
       "      <td>0.607078</td>\n",
       "    </tr>\n",
       "  </tbody>\n",
       "</table>\n",
       "</div>"
      ],
      "text/plain": [
       "           population       gdp  median_age\n",
       "France      -1.323539 -1.988056    0.177701\n",
       "Egypt        2.257902  0.165790    0.021995\n",
       "Poland       0.826227  1.182786   -0.357212\n",
       "SK          -0.922904  0.806727    0.729014\n",
       "Argentina   -0.215233  1.762746    0.607078"
      ]
     },
     "execution_count": 139,
     "metadata": {},
     "output_type": "execute_result"
    }
   ],
   "source": [
    "df[2:7]"
   ]
  },
  {
   "cell_type": "markdown",
   "id": "03f9efae-b29f-41f5-a1ca-c78a0c144abb",
   "metadata": {},
   "source": [
    "The native pandas methods to do so are **.loc** and **.iloc**.\n",
    "\n",
    " - **.loc** is used for indexing according to the name of the index/column.\n",
    " - **.iloc** is used for indexing according to its default numerical position.\n",
    " \n",
    "Let's see an example of this:"
   ]
  },
  {
   "cell_type": "code",
   "execution_count": 140,
   "id": "1a41ad39-5fdf-4688-96d8-b3fb67813695",
   "metadata": {},
   "outputs": [
    {
     "data": {
      "text/plain": [
       "population   -1.323539\n",
       "gdp          -1.988056\n",
       "median_age    0.177701\n",
       "Name: France, dtype: float64"
      ]
     },
     "execution_count": 140,
     "metadata": {},
     "output_type": "execute_result"
    }
   ],
   "source": [
    "df.loc['France']"
   ]
  },
  {
   "cell_type": "code",
   "execution_count": 141,
   "id": "6d1ae83d-9a63-495b-838c-b5a09377ddc6",
   "metadata": {},
   "outputs": [
    {
     "data": {
      "text/html": [
       "<div>\n",
       "<style scoped>\n",
       "    .dataframe tbody tr th:only-of-type {\n",
       "        vertical-align: middle;\n",
       "    }\n",
       "\n",
       "    .dataframe tbody tr th {\n",
       "        vertical-align: top;\n",
       "    }\n",
       "\n",
       "    .dataframe thead th {\n",
       "        text-align: right;\n",
       "    }\n",
       "</style>\n",
       "<table border=\"1\" class=\"dataframe\">\n",
       "  <thead>\n",
       "    <tr style=\"text-align: right;\">\n",
       "      <th></th>\n",
       "      <th>population</th>\n",
       "      <th>gdp</th>\n",
       "      <th>median_age</th>\n",
       "    </tr>\n",
       "  </thead>\n",
       "  <tbody>\n",
       "    <tr>\n",
       "      <th>France</th>\n",
       "      <td>-1.323539</td>\n",
       "      <td>-1.988056</td>\n",
       "      <td>0.177701</td>\n",
       "    </tr>\n",
       "    <tr>\n",
       "      <th>Egypt</th>\n",
       "      <td>2.257902</td>\n",
       "      <td>0.165790</td>\n",
       "      <td>0.021995</td>\n",
       "    </tr>\n",
       "    <tr>\n",
       "      <th>Poland</th>\n",
       "      <td>0.826227</td>\n",
       "      <td>1.182786</td>\n",
       "      <td>-0.357212</td>\n",
       "    </tr>\n",
       "    <tr>\n",
       "      <th>SK</th>\n",
       "      <td>-0.922904</td>\n",
       "      <td>0.806727</td>\n",
       "      <td>0.729014</td>\n",
       "    </tr>\n",
       "    <tr>\n",
       "      <th>Argentina</th>\n",
       "      <td>-0.215233</td>\n",
       "      <td>1.762746</td>\n",
       "      <td>0.607078</td>\n",
       "    </tr>\n",
       "  </tbody>\n",
       "</table>\n",
       "</div>"
      ],
      "text/plain": [
       "           population       gdp  median_age\n",
       "France      -1.323539 -1.988056    0.177701\n",
       "Egypt        2.257902  0.165790    0.021995\n",
       "Poland       0.826227  1.182786   -0.357212\n",
       "SK          -0.922904  0.806727    0.729014\n",
       "Argentina   -0.215233  1.762746    0.607078"
      ]
     },
     "execution_count": 141,
     "metadata": {},
     "output_type": "execute_result"
    }
   ],
   "source": [
    "df.loc['France':'Argentina']"
   ]
  },
  {
   "cell_type": "code",
   "execution_count": 142,
   "id": "5eae26f7-0740-4cb7-9245-f34c6051f2cc",
   "metadata": {},
   "outputs": [
    {
     "data": {
      "text/html": [
       "<div>\n",
       "<style scoped>\n",
       "    .dataframe tbody tr th:only-of-type {\n",
       "        vertical-align: middle;\n",
       "    }\n",
       "\n",
       "    .dataframe tbody tr th {\n",
       "        vertical-align: top;\n",
       "    }\n",
       "\n",
       "    .dataframe thead th {\n",
       "        text-align: right;\n",
       "    }\n",
       "</style>\n",
       "<table border=\"1\" class=\"dataframe\">\n",
       "  <thead>\n",
       "    <tr style=\"text-align: right;\">\n",
       "      <th></th>\n",
       "      <th>population</th>\n",
       "      <th>gdp</th>\n",
       "      <th>median_age</th>\n",
       "    </tr>\n",
       "  </thead>\n",
       "  <tbody>\n",
       "    <tr>\n",
       "      <th>France</th>\n",
       "      <td>-1.323539</td>\n",
       "      <td>-1.988056</td>\n",
       "      <td>0.177701</td>\n",
       "    </tr>\n",
       "    <tr>\n",
       "      <th>Argentina</th>\n",
       "      <td>-0.215233</td>\n",
       "      <td>1.762746</td>\n",
       "      <td>0.607078</td>\n",
       "    </tr>\n",
       "    <tr>\n",
       "      <th>Japan</th>\n",
       "      <td>0.637028</td>\n",
       "      <td>-1.338933</td>\n",
       "      <td>0.478187</td>\n",
       "    </tr>\n",
       "  </tbody>\n",
       "</table>\n",
       "</div>"
      ],
      "text/plain": [
       "           population       gdp  median_age\n",
       "France      -1.323539 -1.988056    0.177701\n",
       "Argentina   -0.215233  1.762746    0.607078\n",
       "Japan        0.637028 -1.338933    0.478187"
      ]
     },
     "execution_count": 142,
     "metadata": {},
     "output_type": "execute_result"
    }
   ],
   "source": [
    "df.loc[['France', 'Argentina', 'Japan']]"
   ]
  },
  {
   "cell_type": "markdown",
   "id": "dcfd2ea9-4a59-4167-afe7-929c37d96754",
   "metadata": {},
   "source": [
    "Look how using it we have **changed the order** of appearance of the rows!\n",
    "\n",
    "Now, as for iloc, they work the same:"
   ]
  },
  {
   "cell_type": "code",
   "execution_count": 143,
   "id": "1e8cfb11-4525-42f1-a0c6-67724d4bb3c7",
   "metadata": {},
   "outputs": [
    {
     "data": {
      "text/plain": [
       "population   -0.727674\n",
       "gdp           0.628572\n",
       "median_age    1.101631\n",
       "Name: USA, dtype: float64"
      ]
     },
     "execution_count": 143,
     "metadata": {},
     "output_type": "execute_result"
    }
   ],
   "source": [
    "df.iloc[0]"
   ]
  },
  {
   "cell_type": "code",
   "execution_count": 144,
   "id": "4f6c14d6-4335-42f2-9982-bc49d43e4344",
   "metadata": {},
   "outputs": [
    {
     "data": {
      "text/html": [
       "<div>\n",
       "<style scoped>\n",
       "    .dataframe tbody tr th:only-of-type {\n",
       "        vertical-align: middle;\n",
       "    }\n",
       "\n",
       "    .dataframe tbody tr th {\n",
       "        vertical-align: top;\n",
       "    }\n",
       "\n",
       "    .dataframe thead th {\n",
       "        text-align: right;\n",
       "    }\n",
       "</style>\n",
       "<table border=\"1\" class=\"dataframe\">\n",
       "  <thead>\n",
       "    <tr style=\"text-align: right;\">\n",
       "      <th></th>\n",
       "      <th>population</th>\n",
       "      <th>gdp</th>\n",
       "      <th>median_age</th>\n",
       "    </tr>\n",
       "  </thead>\n",
       "  <tbody>\n",
       "    <tr>\n",
       "      <th>USA</th>\n",
       "      <td>-0.727674</td>\n",
       "      <td>0.628572</td>\n",
       "      <td>1.101631</td>\n",
       "    </tr>\n",
       "    <tr>\n",
       "      <th>Japan</th>\n",
       "      <td>0.637028</td>\n",
       "      <td>-1.338933</td>\n",
       "      <td>0.478187</td>\n",
       "    </tr>\n",
       "    <tr>\n",
       "      <th>France</th>\n",
       "      <td>-1.323539</td>\n",
       "      <td>-1.988056</td>\n",
       "      <td>0.177701</td>\n",
       "    </tr>\n",
       "    <tr>\n",
       "      <th>Egypt</th>\n",
       "      <td>2.257902</td>\n",
       "      <td>0.165790</td>\n",
       "      <td>0.021995</td>\n",
       "    </tr>\n",
       "  </tbody>\n",
       "</table>\n",
       "</div>"
      ],
      "text/plain": [
       "        population       gdp  median_age\n",
       "USA      -0.727674  0.628572    1.101631\n",
       "Japan     0.637028 -1.338933    0.478187\n",
       "France   -1.323539 -1.988056    0.177701\n",
       "Egypt     2.257902  0.165790    0.021995"
      ]
     },
     "execution_count": 144,
     "metadata": {},
     "output_type": "execute_result"
    }
   ],
   "source": [
    "df.iloc[0:4]"
   ]
  },
  {
   "cell_type": "markdown",
   "id": "1e430ea9-23b4-466f-9428-d0ebcf71f36d",
   "metadata": {},
   "source": [
    "We can use them also to **subscript both rows and columns at a time**:"
   ]
  },
  {
   "cell_type": "code",
   "execution_count": 145,
   "id": "abd32631-b8b8-4f41-bcac-2f5933c1114f",
   "metadata": {},
   "outputs": [
    {
     "data": {
      "text/plain": [
       "population   -1.323539\n",
       "gdp          -1.988056\n",
       "Name: France, dtype: float64"
      ]
     },
     "execution_count": 145,
     "metadata": {},
     "output_type": "execute_result"
    }
   ],
   "source": [
    "df.loc['France', ['population', 'gdp']]"
   ]
  },
  {
   "cell_type": "code",
   "execution_count": 146,
   "id": "39026d0f-7a73-480c-bafe-9456f1b73ecd",
   "metadata": {},
   "outputs": [
    {
     "data": {
      "text/html": [
       "<div>\n",
       "<style scoped>\n",
       "    .dataframe tbody tr th:only-of-type {\n",
       "        vertical-align: middle;\n",
       "    }\n",
       "\n",
       "    .dataframe tbody tr th {\n",
       "        vertical-align: top;\n",
       "    }\n",
       "\n",
       "    .dataframe thead th {\n",
       "        text-align: right;\n",
       "    }\n",
       "</style>\n",
       "<table border=\"1\" class=\"dataframe\">\n",
       "  <thead>\n",
       "    <tr style=\"text-align: right;\">\n",
       "      <th></th>\n",
       "      <th>population</th>\n",
       "      <th>gdp</th>\n",
       "    </tr>\n",
       "  </thead>\n",
       "  <tbody>\n",
       "    <tr>\n",
       "      <th>USA</th>\n",
       "      <td>-0.727674</td>\n",
       "      <td>0.628572</td>\n",
       "    </tr>\n",
       "    <tr>\n",
       "      <th>Japan</th>\n",
       "      <td>0.637028</td>\n",
       "      <td>-1.338933</td>\n",
       "    </tr>\n",
       "    <tr>\n",
       "      <th>France</th>\n",
       "      <td>-1.323539</td>\n",
       "      <td>-1.988056</td>\n",
       "    </tr>\n",
       "    <tr>\n",
       "      <th>Egypt</th>\n",
       "      <td>2.257902</td>\n",
       "      <td>0.165790</td>\n",
       "    </tr>\n",
       "    <tr>\n",
       "      <th>Poland</th>\n",
       "      <td>0.826227</td>\n",
       "      <td>1.182786</td>\n",
       "    </tr>\n",
       "  </tbody>\n",
       "</table>\n",
       "</div>"
      ],
      "text/plain": [
       "        population       gdp\n",
       "USA      -0.727674  0.628572\n",
       "Japan     0.637028 -1.338933\n",
       "France   -1.323539 -1.988056\n",
       "Egypt     2.257902  0.165790\n",
       "Poland    0.826227  1.182786"
      ]
     },
     "execution_count": 146,
     "metadata": {},
     "output_type": "execute_result"
    }
   ],
   "source": [
    "df.iloc[0:5, 0:2]"
   ]
  },
  {
   "cell_type": "markdown",
   "id": "54eebf77-5c51-4d25-a0bf-b07e4c4cd950",
   "metadata": {},
   "source": [
    "#### **Quick Exercise**\n",
    "\n",
    "Create a pandas dataframe with made-up numbers that presents the total population, number of neighbourhoods and average housing price columns for the cities in the list.\n",
    "\n",
    "Then, slice it just to get the total population and average housing price columns, for the first 3 cities in the dataframe."
   ]
  },
  {
   "cell_type": "code",
   "execution_count": 2,
   "id": "7ba37a33-c36e-4e83-a654-63b95f586d44",
   "metadata": {},
   "outputs": [],
   "source": [
    "cities = ['BCN', 'MAD', 'BUC', 'NYC', 'WAW', 'LIS']"
   ]
  },
  {
   "cell_type": "markdown",
   "id": "7bc8b21c-3170-45cc-bfbd-9b79a632dd18",
   "metadata": {},
   "source": [
    "**Solution**"
   ]
  },
  {
   "cell_type": "code",
   "execution_count": 8,
   "id": "594f21a5-d059-40d9-8408-9f231ff8e60b",
   "metadata": {},
   "outputs": [
    {
     "data": {
      "text/html": [
       "<div>\n",
       "<style scoped>\n",
       "    .dataframe tbody tr th:only-of-type {\n",
       "        vertical-align: middle;\n",
       "    }\n",
       "\n",
       "    .dataframe tbody tr th {\n",
       "        vertical-align: top;\n",
       "    }\n",
       "\n",
       "    .dataframe thead th {\n",
       "        text-align: right;\n",
       "    }\n",
       "</style>\n",
       "<table border=\"1\" class=\"dataframe\">\n",
       "  <thead>\n",
       "    <tr style=\"text-align: right;\">\n",
       "      <th></th>\n",
       "      <th>total_population</th>\n",
       "      <th>avg_house_price</th>\n",
       "    </tr>\n",
       "  </thead>\n",
       "  <tbody>\n",
       "    <tr>\n",
       "      <th>BCN</th>\n",
       "      <td>0.871374</td>\n",
       "      <td>0.35224</td>\n",
       "    </tr>\n",
       "    <tr>\n",
       "      <th>MAD</th>\n",
       "      <td>1.289137</td>\n",
       "      <td>-0.86112</td>\n",
       "    </tr>\n",
       "    <tr>\n",
       "      <th>BUC</th>\n",
       "      <td>0.105161</td>\n",
       "      <td>-1.15951</td>\n",
       "    </tr>\n",
       "  </tbody>\n",
       "</table>\n",
       "</div>"
      ],
      "text/plain": [
       "     total_population  avg_house_price\n",
       "BCN          0.871374          0.35224\n",
       "MAD          1.289137         -0.86112\n",
       "BUC          0.105161         -1.15951"
      ]
     },
     "execution_count": 8,
     "metadata": {},
     "output_type": "execute_result"
    }
   ],
   "source": [
    "df = pd.DataFrame(np.random.randn(6,3),index = cities, columns = 'total_population n_neighbourhoods avg_house_price'.split())\n",
    "df.iloc[0:3,[0,2]]"
   ]
  },
  {
   "cell_type": "markdown",
   "id": "5815873b-a2a3-488a-b700-13c784934151",
   "metadata": {},
   "source": [
    "#### **How do I create a new column in a pandas DF?**\n",
    "\n",
    "Creating new columns is crazy simple in pandas:"
   ]
  },
  {
   "cell_type": "code",
   "execution_count": 10,
   "id": "8910fe26-f7c4-48f8-bbad-c31309789bf9",
   "metadata": {},
   "outputs": [],
   "source": [
    "df['gdp_pp'] = df.gdp / df.population"
   ]
  },
  {
   "cell_type": "code",
   "execution_count": 11,
   "id": "d11ab781-6e09-41c7-9bd6-fc19de1290e8",
   "metadata": {},
   "outputs": [
    {
     "data": {
      "text/html": [
       "<div>\n",
       "<style scoped>\n",
       "    .dataframe tbody tr th:only-of-type {\n",
       "        vertical-align: middle;\n",
       "    }\n",
       "\n",
       "    .dataframe tbody tr th {\n",
       "        vertical-align: top;\n",
       "    }\n",
       "\n",
       "    .dataframe thead th {\n",
       "        text-align: right;\n",
       "    }\n",
       "</style>\n",
       "<table border=\"1\" class=\"dataframe\">\n",
       "  <thead>\n",
       "    <tr style=\"text-align: right;\">\n",
       "      <th></th>\n",
       "      <th>population</th>\n",
       "      <th>gdp</th>\n",
       "      <th>median_age</th>\n",
       "      <th>gdp_pp</th>\n",
       "    </tr>\n",
       "  </thead>\n",
       "  <tbody>\n",
       "    <tr>\n",
       "      <th>USA</th>\n",
       "      <td>-0.066816</td>\n",
       "      <td>-0.180745</td>\n",
       "      <td>1.263791</td>\n",
       "      <td>2.705107</td>\n",
       "    </tr>\n",
       "    <tr>\n",
       "      <th>Japan</th>\n",
       "      <td>-0.426420</td>\n",
       "      <td>-0.417508</td>\n",
       "      <td>-1.054292</td>\n",
       "      <td>0.979099</td>\n",
       "    </tr>\n",
       "    <tr>\n",
       "      <th>France</th>\n",
       "      <td>0.521824</td>\n",
       "      <td>1.076600</td>\n",
       "      <td>-0.463071</td>\n",
       "      <td>2.063145</td>\n",
       "    </tr>\n",
       "    <tr>\n",
       "      <th>Egypt</th>\n",
       "      <td>1.584942</td>\n",
       "      <td>-0.049625</td>\n",
       "      <td>-0.071315</td>\n",
       "      <td>-0.031310</td>\n",
       "    </tr>\n",
       "    <tr>\n",
       "      <th>Poland</th>\n",
       "      <td>-0.513212</td>\n",
       "      <td>2.628185</td>\n",
       "      <td>-0.258796</td>\n",
       "      <td>-5.121055</td>\n",
       "    </tr>\n",
       "    <tr>\n",
       "      <th>SK</th>\n",
       "      <td>0.180745</td>\n",
       "      <td>-1.371016</td>\n",
       "      <td>1.345896</td>\n",
       "      <td>-7.585354</td>\n",
       "    </tr>\n",
       "    <tr>\n",
       "      <th>Argentina</th>\n",
       "      <td>2.806639</td>\n",
       "      <td>0.527447</td>\n",
       "      <td>0.224193</td>\n",
       "      <td>0.187928</td>\n",
       "    </tr>\n",
       "    <tr>\n",
       "      <th>Cuba</th>\n",
       "      <td>-1.380013</td>\n",
       "      <td>-0.436359</td>\n",
       "      <td>0.118715</td>\n",
       "      <td>0.316199</td>\n",
       "    </tr>\n",
       "  </tbody>\n",
       "</table>\n",
       "</div>"
      ],
      "text/plain": [
       "           population       gdp  median_age    gdp_pp\n",
       "USA         -0.066816 -0.180745    1.263791  2.705107\n",
       "Japan       -0.426420 -0.417508   -1.054292  0.979099\n",
       "France       0.521824  1.076600   -0.463071  2.063145\n",
       "Egypt        1.584942 -0.049625   -0.071315 -0.031310\n",
       "Poland      -0.513212  2.628185   -0.258796 -5.121055\n",
       "SK           0.180745 -1.371016    1.345896 -7.585354\n",
       "Argentina    2.806639  0.527447    0.224193  0.187928\n",
       "Cuba        -1.380013 -0.436359    0.118715  0.316199"
      ]
     },
     "execution_count": 11,
     "metadata": {},
     "output_type": "execute_result"
    }
   ],
   "source": [
    "df"
   ]
  },
  {
   "cell_type": "markdown",
   "id": "cdb65b81-1044-4ad4-98a9-11ed68eac6aa",
   "metadata": {},
   "source": [
    "#### **.drop() for column removal**\n",
    "\n",
    "If we want to get rid of a column, instead of subindexing it, we can directly supress it via **.drop()**.\n",
    "\n",
    "**!Watch Out!**: axis = 0 (default) is for rows, and axis = 1 is for columns!"
   ]
  },
  {
   "cell_type": "code",
   "execution_count": 12,
   "id": "2e916391-e124-4e6d-a9e8-73bf7fccdcbc",
   "metadata": {},
   "outputs": [
    {
     "data": {
      "text/html": [
       "<div>\n",
       "<style scoped>\n",
       "    .dataframe tbody tr th:only-of-type {\n",
       "        vertical-align: middle;\n",
       "    }\n",
       "\n",
       "    .dataframe tbody tr th {\n",
       "        vertical-align: top;\n",
       "    }\n",
       "\n",
       "    .dataframe thead th {\n",
       "        text-align: right;\n",
       "    }\n",
       "</style>\n",
       "<table border=\"1\" class=\"dataframe\">\n",
       "  <thead>\n",
       "    <tr style=\"text-align: right;\">\n",
       "      <th></th>\n",
       "      <th>population</th>\n",
       "      <th>gdp</th>\n",
       "      <th>median_age</th>\n",
       "      <th>gdp_pp</th>\n",
       "    </tr>\n",
       "  </thead>\n",
       "  <tbody>\n",
       "    <tr>\n",
       "      <th>USA</th>\n",
       "      <td>-0.066816</td>\n",
       "      <td>-0.180745</td>\n",
       "      <td>1.263791</td>\n",
       "      <td>2.705107</td>\n",
       "    </tr>\n",
       "    <tr>\n",
       "      <th>Japan</th>\n",
       "      <td>-0.426420</td>\n",
       "      <td>-0.417508</td>\n",
       "      <td>-1.054292</td>\n",
       "      <td>0.979099</td>\n",
       "    </tr>\n",
       "    <tr>\n",
       "      <th>France</th>\n",
       "      <td>0.521824</td>\n",
       "      <td>1.076600</td>\n",
       "      <td>-0.463071</td>\n",
       "      <td>2.063145</td>\n",
       "    </tr>\n",
       "  </tbody>\n",
       "</table>\n",
       "</div>"
      ],
      "text/plain": [
       "        population       gdp  median_age    gdp_pp\n",
       "USA      -0.066816 -0.180745    1.263791  2.705107\n",
       "Japan    -0.426420 -0.417508   -1.054292  0.979099\n",
       "France    0.521824  1.076600   -0.463071  2.063145"
      ]
     },
     "execution_count": 12,
     "metadata": {},
     "output_type": "execute_result"
    }
   ],
   "source": [
    "df.head(3)"
   ]
  },
  {
   "cell_type": "code",
   "execution_count": 14,
   "id": "40e091a6-b078-4b9d-b2ac-e1126e5be864",
   "metadata": {},
   "outputs": [
    {
     "data": {
      "text/html": [
       "<div>\n",
       "<style scoped>\n",
       "    .dataframe tbody tr th:only-of-type {\n",
       "        vertical-align: middle;\n",
       "    }\n",
       "\n",
       "    .dataframe tbody tr th {\n",
       "        vertical-align: top;\n",
       "    }\n",
       "\n",
       "    .dataframe thead th {\n",
       "        text-align: right;\n",
       "    }\n",
       "</style>\n",
       "<table border=\"1\" class=\"dataframe\">\n",
       "  <thead>\n",
       "    <tr style=\"text-align: right;\">\n",
       "      <th></th>\n",
       "      <th>population</th>\n",
       "      <th>gdp</th>\n",
       "      <th>median_age</th>\n",
       "    </tr>\n",
       "  </thead>\n",
       "  <tbody>\n",
       "    <tr>\n",
       "      <th>USA</th>\n",
       "      <td>-0.066816</td>\n",
       "      <td>-0.180745</td>\n",
       "      <td>1.263791</td>\n",
       "    </tr>\n",
       "    <tr>\n",
       "      <th>Japan</th>\n",
       "      <td>-0.426420</td>\n",
       "      <td>-0.417508</td>\n",
       "      <td>-1.054292</td>\n",
       "    </tr>\n",
       "    <tr>\n",
       "      <th>France</th>\n",
       "      <td>0.521824</td>\n",
       "      <td>1.076600</td>\n",
       "      <td>-0.463071</td>\n",
       "    </tr>\n",
       "    <tr>\n",
       "      <th>Egypt</th>\n",
       "      <td>1.584942</td>\n",
       "      <td>-0.049625</td>\n",
       "      <td>-0.071315</td>\n",
       "    </tr>\n",
       "    <tr>\n",
       "      <th>Poland</th>\n",
       "      <td>-0.513212</td>\n",
       "      <td>2.628185</td>\n",
       "      <td>-0.258796</td>\n",
       "    </tr>\n",
       "    <tr>\n",
       "      <th>SK</th>\n",
       "      <td>0.180745</td>\n",
       "      <td>-1.371016</td>\n",
       "      <td>1.345896</td>\n",
       "    </tr>\n",
       "    <tr>\n",
       "      <th>Argentina</th>\n",
       "      <td>2.806639</td>\n",
       "      <td>0.527447</td>\n",
       "      <td>0.224193</td>\n",
       "    </tr>\n",
       "    <tr>\n",
       "      <th>Cuba</th>\n",
       "      <td>-1.380013</td>\n",
       "      <td>-0.436359</td>\n",
       "      <td>0.118715</td>\n",
       "    </tr>\n",
       "  </tbody>\n",
       "</table>\n",
       "</div>"
      ],
      "text/plain": [
       "           population       gdp  median_age\n",
       "USA         -0.066816 -0.180745    1.263791\n",
       "Japan       -0.426420 -0.417508   -1.054292\n",
       "France       0.521824  1.076600   -0.463071\n",
       "Egypt        1.584942 -0.049625   -0.071315\n",
       "Poland      -0.513212  2.628185   -0.258796\n",
       "SK           0.180745 -1.371016    1.345896\n",
       "Argentina    2.806639  0.527447    0.224193\n",
       "Cuba        -1.380013 -0.436359    0.118715"
      ]
     },
     "execution_count": 14,
     "metadata": {},
     "output_type": "execute_result"
    }
   ],
   "source": [
    "df.drop('gdp_pp', axis = 1)"
   ]
  },
  {
   "cell_type": "code",
   "execution_count": 153,
   "id": "e89e88c7-beed-49c0-a6cd-5e704e86fe81",
   "metadata": {},
   "outputs": [
    {
     "data": {
      "text/html": [
       "<div>\n",
       "<style scoped>\n",
       "    .dataframe tbody tr th:only-of-type {\n",
       "        vertical-align: middle;\n",
       "    }\n",
       "\n",
       "    .dataframe tbody tr th {\n",
       "        vertical-align: top;\n",
       "    }\n",
       "\n",
       "    .dataframe thead th {\n",
       "        text-align: right;\n",
       "    }\n",
       "</style>\n",
       "<table border=\"1\" class=\"dataframe\">\n",
       "  <thead>\n",
       "    <tr style=\"text-align: right;\">\n",
       "      <th></th>\n",
       "      <th>population</th>\n",
       "      <th>gdp</th>\n",
       "      <th>median_age</th>\n",
       "      <th>gdp_pp</th>\n",
       "    </tr>\n",
       "  </thead>\n",
       "  <tbody>\n",
       "    <tr>\n",
       "      <th>USA</th>\n",
       "      <td>-0.727674</td>\n",
       "      <td>0.628572</td>\n",
       "      <td>1.101631</td>\n",
       "      <td>-0.863809</td>\n",
       "    </tr>\n",
       "  </tbody>\n",
       "</table>\n",
       "</div>"
      ],
      "text/plain": [
       "     population       gdp  median_age    gdp_pp\n",
       "USA   -0.727674  0.628572    1.101631 -0.863809"
      ]
     },
     "execution_count": 153,
     "metadata": {},
     "output_type": "execute_result"
    }
   ],
   "source": [
    "# in this method, the change is not permanent! we need to make use of inplace!!\n",
    "df.head(1)"
   ]
  },
  {
   "cell_type": "code",
   "execution_count": 154,
   "id": "36b4e491-3493-4b4e-aaad-08337b84c3ec",
   "metadata": {},
   "outputs": [],
   "source": [
    "df.drop('gdp_pp', axis = 1, inplace = True)"
   ]
  },
  {
   "cell_type": "code",
   "execution_count": 155,
   "id": "2493652d-f7c4-4f19-955f-4ed71c3e13dc",
   "metadata": {},
   "outputs": [
    {
     "data": {
      "text/html": [
       "<div>\n",
       "<style scoped>\n",
       "    .dataframe tbody tr th:only-of-type {\n",
       "        vertical-align: middle;\n",
       "    }\n",
       "\n",
       "    .dataframe tbody tr th {\n",
       "        vertical-align: top;\n",
       "    }\n",
       "\n",
       "    .dataframe thead th {\n",
       "        text-align: right;\n",
       "    }\n",
       "</style>\n",
       "<table border=\"1\" class=\"dataframe\">\n",
       "  <thead>\n",
       "    <tr style=\"text-align: right;\">\n",
       "      <th></th>\n",
       "      <th>population</th>\n",
       "      <th>gdp</th>\n",
       "      <th>median_age</th>\n",
       "    </tr>\n",
       "  </thead>\n",
       "  <tbody>\n",
       "    <tr>\n",
       "      <th>USA</th>\n",
       "      <td>-0.727674</td>\n",
       "      <td>0.628572</td>\n",
       "      <td>1.101631</td>\n",
       "    </tr>\n",
       "  </tbody>\n",
       "</table>\n",
       "</div>"
      ],
      "text/plain": [
       "     population       gdp  median_age\n",
       "USA   -0.727674  0.628572    1.101631"
      ]
     },
     "execution_count": 155,
     "metadata": {},
     "output_type": "execute_result"
    }
   ],
   "source": [
    "df.head(1)"
   ]
  },
  {
   "cell_type": "markdown",
   "id": "fde630ce-1269-4cd4-893d-1594b2178e6d",
   "metadata": {},
   "source": [
    "Several pandas methods use the **inplace** argument, so be sure to specify it when necessary or, when debugging, to know it comes from there!"
   ]
  },
  {
   "cell_type": "markdown",
   "id": "57940c04-7727-4ca5-837c-ba8be7cd5c68",
   "metadata": {},
   "source": [
    "## **03. Importing and Exporting Data with Pandas**\n",
    "\n",
    "We are going to overview how to import plane files like .csv or .xlsx, or to also use starburst to get data."
   ]
  },
  {
   "cell_type": "code",
   "execution_count": 21,
   "id": "23c8c7d2-8548-4087-a862-a3c63fadb1fc",
   "metadata": {},
   "outputs": [],
   "source": [
    "df = pd.read_csv('../winemag-data_first150k.csv')"
   ]
  },
  {
   "cell_type": "code",
   "execution_count": 22,
   "id": "d9f0c38c-5d45-4ffa-91d8-248a7de96765",
   "metadata": {},
   "outputs": [
    {
     "data": {
      "text/html": [
       "<div>\n",
       "<style scoped>\n",
       "    .dataframe tbody tr th:only-of-type {\n",
       "        vertical-align: middle;\n",
       "    }\n",
       "\n",
       "    .dataframe tbody tr th {\n",
       "        vertical-align: top;\n",
       "    }\n",
       "\n",
       "    .dataframe thead th {\n",
       "        text-align: right;\n",
       "    }\n",
       "</style>\n",
       "<table border=\"1\" class=\"dataframe\">\n",
       "  <thead>\n",
       "    <tr style=\"text-align: right;\">\n",
       "      <th></th>\n",
       "      <th>Unnamed: 0</th>\n",
       "      <th>country</th>\n",
       "      <th>description</th>\n",
       "      <th>designation</th>\n",
       "      <th>points</th>\n",
       "      <th>price</th>\n",
       "      <th>province</th>\n",
       "      <th>region_1</th>\n",
       "      <th>region_2</th>\n",
       "      <th>variety</th>\n",
       "      <th>winery</th>\n",
       "    </tr>\n",
       "  </thead>\n",
       "  <tbody>\n",
       "    <tr>\n",
       "      <th>0</th>\n",
       "      <td>0</td>\n",
       "      <td>US</td>\n",
       "      <td>This tremendous 100% varietal wine hails from ...</td>\n",
       "      <td>Martha's Vineyard</td>\n",
       "      <td>96</td>\n",
       "      <td>235.0</td>\n",
       "      <td>California</td>\n",
       "      <td>Napa Valley</td>\n",
       "      <td>Napa</td>\n",
       "      <td>Cabernet Sauvignon</td>\n",
       "      <td>Heitz</td>\n",
       "    </tr>\n",
       "    <tr>\n",
       "      <th>1</th>\n",
       "      <td>1</td>\n",
       "      <td>Spain</td>\n",
       "      <td>Ripe aromas of fig, blackberry and cassis are ...</td>\n",
       "      <td>Carodorum Selección Especial Reserva</td>\n",
       "      <td>96</td>\n",
       "      <td>110.0</td>\n",
       "      <td>Northern Spain</td>\n",
       "      <td>Toro</td>\n",
       "      <td>NaN</td>\n",
       "      <td>Tinta de Toro</td>\n",
       "      <td>Bodega Carmen Rodríguez</td>\n",
       "    </tr>\n",
       "  </tbody>\n",
       "</table>\n",
       "</div>"
      ],
      "text/plain": [
       "   Unnamed: 0 country                                        description  \\\n",
       "0           0      US  This tremendous 100% varietal wine hails from ...   \n",
       "1           1   Spain  Ripe aromas of fig, blackberry and cassis are ...   \n",
       "\n",
       "                            designation  points  price        province  \\\n",
       "0                     Martha's Vineyard      96  235.0      California   \n",
       "1  Carodorum Selección Especial Reserva      96  110.0  Northern Spain   \n",
       "\n",
       "      region_1 region_2             variety                   winery  \n",
       "0  Napa Valley     Napa  Cabernet Sauvignon                    Heitz  \n",
       "1         Toro      NaN       Tinta de Toro  Bodega Carmen Rodríguez  "
      ]
     },
     "execution_count": 22,
     "metadata": {},
     "output_type": "execute_result"
    }
   ],
   "source": [
    "# problem! We imported it with a weird unnamed column! How do we get rid of this?\n",
    "df.head(2)"
   ]
  },
  {
   "cell_type": "code",
   "execution_count": 163,
   "id": "1f7206a9-cbbe-47a1-b082-9f6226ea03d1",
   "metadata": {},
   "outputs": [],
   "source": [
    "df = pd.read_csv('../winemag-data_first150k.csv', index_col = 0)"
   ]
  },
  {
   "cell_type": "markdown",
   "id": "4c594248-65fb-499d-873e-0e85e7f387cc",
   "metadata": {},
   "source": [
    "We also have the equivalent **pd.read_excel** for xlsx files. However, bear in mind that you may trigger an error, and need to install **openpyxl** via pip to make that work."
   ]
  },
  {
   "cell_type": "markdown",
   "id": "0e37657f-84e0-498a-af81-5c8beb828643",
   "metadata": {},
   "source": [
    "**Reading data from starburst**\n",
    "\n",
    "A great option is connecting directly to starburst to retrieve data:"
   ]
  },
  {
   "cell_type": "code",
   "execution_count": 2,
   "id": "258534ab-0b32-4611-bb7b-967eda04018a",
   "metadata": {},
   "outputs": [],
   "source": [
    "%load_ext starburst"
   ]
  },
  {
   "cell_type": "code",
   "execution_count": 3,
   "id": "d475592a-d3b5-40a4-962b-5dd591f1448b",
   "metadata": {},
   "outputs": [
    {
     "name": "stdout",
     "output_type": "stream",
     "text": [
      "Open the following URL in browser for the external authentication:\n",
      "https://starburst.g8s-data-platform-prod.glovoint.com/oauth2/token/initiate/4f04dfd738db918a4e8743a4eea8a835a5ac10eebd7987836e6d4232c0944b11\n",
      "Done.\n"
     ]
    },
    {
     "data": {
      "text/html": [
       "<table>\n",
       "    <thead>\n",
       "        <tr>\n",
       "            <th>_col0</th>\n",
       "        </tr>\n",
       "    </thead>\n",
       "    <tbody>\n",
       "        <tr>\n",
       "            <td>1</td>\n",
       "        </tr>\n",
       "    </tbody>\n",
       "</table>"
      ],
      "text/plain": [
       "[(1,)]"
      ]
     },
     "execution_count": 3,
     "metadata": {},
     "output_type": "execute_result"
    }
   ],
   "source": [
    "%starburst SELECT 1"
   ]
  },
  {
   "cell_type": "code",
   "execution_count": 25,
   "id": "b5f65061-a76e-4f69-87bb-8c833e89e1cb",
   "metadata": {},
   "outputs": [
    {
     "name": "stdout",
     "output_type": "stream",
     "text": [
      "Done.\n",
      "Returning data to local variable query1\n"
     ]
    }
   ],
   "source": [
    "%%starburst query1 <<\n",
    "    select\n",
    "        date(date_trunc('month', order_activated_local_at)) as month,\n",
    "        order_country_code as country,\n",
    "        count(distinct case when order_is_first_delivered_order then customer_id end) as ncs,\n",
    "        count(distinct customer_id) as mau,\n",
    "        count(distinct order_id) as orders\n",
    "    from delta.central_order_descriptors_odp.order_descriptors_v2\n",
    "    where year(order_activated_local_at) = 2023\n",
    "    group by 1, 2\n",
    "    order by 1 desc, 2"
   ]
  },
  {
   "cell_type": "code",
   "execution_count": 26,
   "id": "36245288-e760-4789-a077-220640b21ba2",
   "metadata": {},
   "outputs": [],
   "source": [
    "df = pd.DataFrame(query1)"
   ]
  },
  {
   "cell_type": "code",
   "execution_count": 27,
   "id": "12cdf1a2-c19b-42ea-bd65-00ec1feeb2b9",
   "metadata": {},
   "outputs": [
    {
     "data": {
      "text/html": [
       "<div>\n",
       "<style scoped>\n",
       "    .dataframe tbody tr th:only-of-type {\n",
       "        vertical-align: middle;\n",
       "    }\n",
       "\n",
       "    .dataframe tbody tr th {\n",
       "        vertical-align: top;\n",
       "    }\n",
       "\n",
       "    .dataframe thead th {\n",
       "        text-align: right;\n",
       "    }\n",
       "</style>\n",
       "<table border=\"1\" class=\"dataframe\">\n",
       "  <thead>\n",
       "    <tr style=\"text-align: right;\">\n",
       "      <th></th>\n",
       "      <th>month</th>\n",
       "      <th>country</th>\n",
       "      <th>ncs</th>\n",
       "      <th>mau</th>\n",
       "      <th>orders</th>\n",
       "    </tr>\n",
       "  </thead>\n",
       "  <tbody>\n",
       "    <tr>\n",
       "      <th>0</th>\n",
       "      <td>2023-10-01</td>\n",
       "      <td>AD</td>\n",
       "      <td>159</td>\n",
       "      <td>1732</td>\n",
       "      <td>3350</td>\n",
       "    </tr>\n",
       "    <tr>\n",
       "      <th>1</th>\n",
       "      <td>2023-10-01</td>\n",
       "      <td>AM</td>\n",
       "      <td>3648</td>\n",
       "      <td>19375</td>\n",
       "      <td>58952</td>\n",
       "    </tr>\n",
       "    <tr>\n",
       "      <th>2</th>\n",
       "      <td>2023-10-01</td>\n",
       "      <td>BA</td>\n",
       "      <td>4309</td>\n",
       "      <td>30035</td>\n",
       "      <td>75717</td>\n",
       "    </tr>\n",
       "    <tr>\n",
       "      <th>3</th>\n",
       "      <td>2023-10-01</td>\n",
       "      <td>BG</td>\n",
       "      <td>12395</td>\n",
       "      <td>110180</td>\n",
       "      <td>301769</td>\n",
       "    </tr>\n",
       "    <tr>\n",
       "      <th>4</th>\n",
       "      <td>2023-10-01</td>\n",
       "      <td>CI</td>\n",
       "      <td>7870</td>\n",
       "      <td>50529</td>\n",
       "      <td>172437</td>\n",
       "    </tr>\n",
       "  </tbody>\n",
       "</table>\n",
       "</div>"
      ],
      "text/plain": [
       "        month country    ncs     mau  orders\n",
       "0  2023-10-01      AD    159    1732    3350\n",
       "1  2023-10-01      AM   3648   19375   58952\n",
       "2  2023-10-01      BA   4309   30035   75717\n",
       "3  2023-10-01      BG  12395  110180  301769\n",
       "4  2023-10-01      CI   7870   50529  172437"
      ]
     },
     "execution_count": 27,
     "metadata": {},
     "output_type": "execute_result"
    }
   ],
   "source": [
    "df.head()"
   ]
  },
  {
   "cell_type": "markdown",
   "id": "e18df595-9941-466a-891a-b4e0474601e7",
   "metadata": {},
   "source": [
    "Now, let's see how to **export** it:"
   ]
  },
  {
   "cell_type": "code",
   "execution_count": 28,
   "id": "955a01bd-e2b2-4842-8679-9a4444106d32",
   "metadata": {},
   "outputs": [],
   "source": [
    "df.to_csv('data/first_df_without_index.csv')"
   ]
  },
  {
   "cell_type": "markdown",
   "id": "3e2d51da-1ec4-492b-a9d9-32a76c021fdd",
   "metadata": {},
   "source": [
    "If we read it again..."
   ]
  },
  {
   "cell_type": "code",
   "execution_count": 29,
   "id": "598afd68-f42d-4e1e-9178-84dc9dac05f4",
   "metadata": {},
   "outputs": [
    {
     "data": {
      "text/html": [
       "<div>\n",
       "<style scoped>\n",
       "    .dataframe tbody tr th:only-of-type {\n",
       "        vertical-align: middle;\n",
       "    }\n",
       "\n",
       "    .dataframe tbody tr th {\n",
       "        vertical-align: top;\n",
       "    }\n",
       "\n",
       "    .dataframe thead th {\n",
       "        text-align: right;\n",
       "    }\n",
       "</style>\n",
       "<table border=\"1\" class=\"dataframe\">\n",
       "  <thead>\n",
       "    <tr style=\"text-align: right;\">\n",
       "      <th></th>\n",
       "      <th>Unnamed: 0</th>\n",
       "      <th>month</th>\n",
       "      <th>country</th>\n",
       "      <th>ncs</th>\n",
       "      <th>mau</th>\n",
       "      <th>orders</th>\n",
       "    </tr>\n",
       "  </thead>\n",
       "  <tbody>\n",
       "    <tr>\n",
       "      <th>0</th>\n",
       "      <td>0</td>\n",
       "      <td>2023-10-01</td>\n",
       "      <td>AD</td>\n",
       "      <td>159</td>\n",
       "      <td>1732</td>\n",
       "      <td>3350</td>\n",
       "    </tr>\n",
       "    <tr>\n",
       "      <th>1</th>\n",
       "      <td>1</td>\n",
       "      <td>2023-10-01</td>\n",
       "      <td>AM</td>\n",
       "      <td>3648</td>\n",
       "      <td>19375</td>\n",
       "      <td>58952</td>\n",
       "    </tr>\n",
       "    <tr>\n",
       "      <th>2</th>\n",
       "      <td>2</td>\n",
       "      <td>2023-10-01</td>\n",
       "      <td>BA</td>\n",
       "      <td>4309</td>\n",
       "      <td>30035</td>\n",
       "      <td>75717</td>\n",
       "    </tr>\n",
       "    <tr>\n",
       "      <th>3</th>\n",
       "      <td>3</td>\n",
       "      <td>2023-10-01</td>\n",
       "      <td>BG</td>\n",
       "      <td>12395</td>\n",
       "      <td>110180</td>\n",
       "      <td>301769</td>\n",
       "    </tr>\n",
       "    <tr>\n",
       "      <th>4</th>\n",
       "      <td>4</td>\n",
       "      <td>2023-10-01</td>\n",
       "      <td>CI</td>\n",
       "      <td>7870</td>\n",
       "      <td>50529</td>\n",
       "      <td>172437</td>\n",
       "    </tr>\n",
       "  </tbody>\n",
       "</table>\n",
       "</div>"
      ],
      "text/plain": [
       "   Unnamed: 0       month country    ncs     mau  orders\n",
       "0           0  2023-10-01      AD    159    1732    3350\n",
       "1           1  2023-10-01      AM   3648   19375   58952\n",
       "2           2  2023-10-01      BA   4309   30035   75717\n",
       "3           3  2023-10-01      BG  12395  110180  301769\n",
       "4           4  2023-10-01      CI   7870   50529  172437"
      ]
     },
     "execution_count": 29,
     "metadata": {},
     "output_type": "execute_result"
    }
   ],
   "source": [
    "# We see an unnamed column!\n",
    "pd.read_csv('data/first_df_without_index.csv').head()"
   ]
  },
  {
   "cell_type": "markdown",
   "id": "0c6b8170-bbdc-49ea-beb8-73655cf179e1",
   "metadata": {},
   "source": [
    "By default, pandas stores our index. As our index is not identified with anything, it's just a numeric value, beware of using **index = False** when storing it!"
   ]
  },
  {
   "cell_type": "code",
   "execution_count": 183,
   "id": "13f55cd5-d57c-47e5-aa71-0d9d79922d95",
   "metadata": {},
   "outputs": [],
   "source": [
    "# let's overwrite the file...\n",
    "df.to_csv('data/first_df_without_index.csv', index = False)"
   ]
  },
  {
   "cell_type": "code",
   "execution_count": 185,
   "id": "65d07d75-aaa6-4389-9562-6de55381a861",
   "metadata": {},
   "outputs": [
    {
     "data": {
      "text/html": [
       "<div>\n",
       "<style scoped>\n",
       "    .dataframe tbody tr th:only-of-type {\n",
       "        vertical-align: middle;\n",
       "    }\n",
       "\n",
       "    .dataframe tbody tr th {\n",
       "        vertical-align: top;\n",
       "    }\n",
       "\n",
       "    .dataframe thead th {\n",
       "        text-align: right;\n",
       "    }\n",
       "</style>\n",
       "<table border=\"1\" class=\"dataframe\">\n",
       "  <thead>\n",
       "    <tr style=\"text-align: right;\">\n",
       "      <th></th>\n",
       "      <th>month</th>\n",
       "      <th>country</th>\n",
       "      <th>ncs</th>\n",
       "      <th>mau</th>\n",
       "      <th>orders</th>\n",
       "    </tr>\n",
       "  </thead>\n",
       "  <tbody>\n",
       "    <tr>\n",
       "      <th>0</th>\n",
       "      <td>2023-10-01</td>\n",
       "      <td>AD</td>\n",
       "      <td>149</td>\n",
       "      <td>1648</td>\n",
       "      <td>3057</td>\n",
       "    </tr>\n",
       "    <tr>\n",
       "      <th>1</th>\n",
       "      <td>2023-10-01</td>\n",
       "      <td>AM</td>\n",
       "      <td>3230</td>\n",
       "      <td>18113</td>\n",
       "      <td>51793</td>\n",
       "    </tr>\n",
       "    <tr>\n",
       "      <th>2</th>\n",
       "      <td>2023-10-01</td>\n",
       "      <td>BA</td>\n",
       "      <td>3867</td>\n",
       "      <td>28162</td>\n",
       "      <td>66898</td>\n",
       "    </tr>\n",
       "    <tr>\n",
       "      <th>3</th>\n",
       "      <td>2023-10-01</td>\n",
       "      <td>BG</td>\n",
       "      <td>11098</td>\n",
       "      <td>103561</td>\n",
       "      <td>266716</td>\n",
       "    </tr>\n",
       "    <tr>\n",
       "      <th>4</th>\n",
       "      <td>2023-10-01</td>\n",
       "      <td>CI</td>\n",
       "      <td>6974</td>\n",
       "      <td>47386</td>\n",
       "      <td>152862</td>\n",
       "    </tr>\n",
       "  </tbody>\n",
       "</table>\n",
       "</div>"
      ],
      "text/plain": [
       "        month country    ncs     mau  orders\n",
       "0  2023-10-01      AD    149    1648    3057\n",
       "1  2023-10-01      AM   3230   18113   51793\n",
       "2  2023-10-01      BA   3867   28162   66898\n",
       "3  2023-10-01      BG  11098  103561  266716\n",
       "4  2023-10-01      CI   6974   47386  152862"
      ]
     },
     "execution_count": 185,
     "metadata": {},
     "output_type": "execute_result"
    }
   ],
   "source": [
    "# well done now!\n",
    "pd.read_csv('data/first_df_without_index.csv').head()"
   ]
  },
  {
   "cell_type": "markdown",
   "id": "085f5cc7-fa78-4480-8ee2-9dad6c657fd7",
   "metadata": {},
   "source": [
    "## **04. Methods and attributes to explore a pandas DF**\n",
    "\n",
    "Once we import a pandas df, we can start taking a look at some of its components values, attributes and so on via the use of **predefined methods**. Some relevant ones are:"
   ]
  },
  {
   "cell_type": "code",
   "execution_count": 186,
   "id": "42a45ea6-d304-4a4d-88bb-53b548935b0a",
   "metadata": {},
   "outputs": [],
   "source": [
    "df = pd.read_csv('data/first_df_without_index.csv')"
   ]
  },
  {
   "cell_type": "markdown",
   "id": "49562180-33b2-4581-80b4-7bafeca3189a",
   "metadata": {},
   "source": [
    "### **info()**\n",
    "\n",
    "info() provides a concise summary of the DataFrame, including information about the data types of each column, the number of non-null values, and memory usage."
   ]
  },
  {
   "cell_type": "code",
   "execution_count": 187,
   "id": "00e909fb-58c2-412e-b78b-2ce5054e6454",
   "metadata": {},
   "outputs": [
    {
     "name": "stdout",
     "output_type": "stream",
     "text": [
      "<class 'pandas.core.frame.DataFrame'>\n",
      "RangeIndex: 254 entries, 0 to 253\n",
      "Data columns (total 5 columns):\n",
      " #   Column   Non-Null Count  Dtype \n",
      "---  ------   --------------  ----- \n",
      " 0   month    254 non-null    object\n",
      " 1   country  254 non-null    object\n",
      " 2   ncs      254 non-null    int64 \n",
      " 3   mau      254 non-null    int64 \n",
      " 4   orders   254 non-null    int64 \n",
      "dtypes: int64(3), object(2)\n",
      "memory usage: 10.0+ KB\n"
     ]
    }
   ],
   "source": [
    "df.info()"
   ]
  },
  {
   "cell_type": "markdown",
   "id": "ac2c6984-b028-4ac8-b844-7d1ea43aa19e",
   "metadata": {},
   "source": [
    "### **describe()**\n",
    "describe() generates descriptive statistics of the numeric columns in the DataFrame, including count, mean, standard deviation, minimum, and maximum values."
   ]
  },
  {
   "cell_type": "code",
   "execution_count": 188,
   "id": "d34044f0-770c-4b72-9491-04fccd423be8",
   "metadata": {},
   "outputs": [
    {
     "data": {
      "text/html": [
       "<div>\n",
       "<style scoped>\n",
       "    .dataframe tbody tr th:only-of-type {\n",
       "        vertical-align: middle;\n",
       "    }\n",
       "\n",
       "    .dataframe tbody tr th {\n",
       "        vertical-align: top;\n",
       "    }\n",
       "\n",
       "    .dataframe thead th {\n",
       "        text-align: right;\n",
       "    }\n",
       "</style>\n",
       "<table border=\"1\" class=\"dataframe\">\n",
       "  <thead>\n",
       "    <tr style=\"text-align: right;\">\n",
       "      <th></th>\n",
       "      <th>ncs</th>\n",
       "      <th>mau</th>\n",
       "      <th>orders</th>\n",
       "    </tr>\n",
       "  </thead>\n",
       "  <tbody>\n",
       "    <tr>\n",
       "      <th>count</th>\n",
       "      <td>254.000000</td>\n",
       "      <td>2.540000e+02</td>\n",
       "      <td>2.540000e+02</td>\n",
       "    </tr>\n",
       "    <tr>\n",
       "      <th>mean</th>\n",
       "      <td>32502.059055</td>\n",
       "      <td>2.461847e+05</td>\n",
       "      <td>7.240644e+05</td>\n",
       "    </tr>\n",
       "    <tr>\n",
       "      <th>std</th>\n",
       "      <td>44186.652039</td>\n",
       "      <td>3.893202e+05</td>\n",
       "      <td>1.121350e+06</td>\n",
       "    </tr>\n",
       "    <tr>\n",
       "      <th>min</th>\n",
       "      <td>0.000000</td>\n",
       "      <td>1.000000e+00</td>\n",
       "      <td>1.000000e+00</td>\n",
       "    </tr>\n",
       "    <tr>\n",
       "      <th>25%</th>\n",
       "      <td>5317.750000</td>\n",
       "      <td>3.134975e+04</td>\n",
       "      <td>8.298300e+04</td>\n",
       "    </tr>\n",
       "    <tr>\n",
       "      <th>50%</th>\n",
       "      <td>13604.500000</td>\n",
       "      <td>6.408350e+04</td>\n",
       "      <td>2.065765e+05</td>\n",
       "    </tr>\n",
       "    <tr>\n",
       "      <th>75%</th>\n",
       "      <td>44485.250000</td>\n",
       "      <td>3.105678e+05</td>\n",
       "      <td>1.011996e+06</td>\n",
       "    </tr>\n",
       "    <tr>\n",
       "      <th>max</th>\n",
       "      <td>205204.000000</td>\n",
       "      <td>1.870862e+06</td>\n",
       "      <td>5.633105e+06</td>\n",
       "    </tr>\n",
       "  </tbody>\n",
       "</table>\n",
       "</div>"
      ],
      "text/plain": [
       "                 ncs           mau        orders\n",
       "count     254.000000  2.540000e+02  2.540000e+02\n",
       "mean    32502.059055  2.461847e+05  7.240644e+05\n",
       "std     44186.652039  3.893202e+05  1.121350e+06\n",
       "min         0.000000  1.000000e+00  1.000000e+00\n",
       "25%      5317.750000  3.134975e+04  8.298300e+04\n",
       "50%     13604.500000  6.408350e+04  2.065765e+05\n",
       "75%     44485.250000  3.105678e+05  1.011996e+06\n",
       "max    205204.000000  1.870862e+06  5.633105e+06"
      ]
     },
     "execution_count": 188,
     "metadata": {},
     "output_type": "execute_result"
    }
   ],
   "source": [
    "df.describe()"
   ]
  },
  {
   "cell_type": "markdown",
   "id": "3c2084a1-b787-475b-9b73-165773772c14",
   "metadata": {},
   "source": [
    "### **head() and tail()**\n",
    "\n",
    "They fetch the first n occurrences / last occurrences of the DF."
   ]
  },
  {
   "cell_type": "code",
   "execution_count": 190,
   "id": "f5867d02-c117-4498-9ac2-e65979d820eb",
   "metadata": {},
   "outputs": [
    {
     "data": {
      "text/html": [
       "<div>\n",
       "<style scoped>\n",
       "    .dataframe tbody tr th:only-of-type {\n",
       "        vertical-align: middle;\n",
       "    }\n",
       "\n",
       "    .dataframe tbody tr th {\n",
       "        vertical-align: top;\n",
       "    }\n",
       "\n",
       "    .dataframe thead th {\n",
       "        text-align: right;\n",
       "    }\n",
       "</style>\n",
       "<table border=\"1\" class=\"dataframe\">\n",
       "  <thead>\n",
       "    <tr style=\"text-align: right;\">\n",
       "      <th></th>\n",
       "      <th>month</th>\n",
       "      <th>country</th>\n",
       "      <th>ncs</th>\n",
       "      <th>mau</th>\n",
       "      <th>orders</th>\n",
       "    </tr>\n",
       "  </thead>\n",
       "  <tbody>\n",
       "    <tr>\n",
       "      <th>0</th>\n",
       "      <td>2023-10-01</td>\n",
       "      <td>AD</td>\n",
       "      <td>149</td>\n",
       "      <td>1648</td>\n",
       "      <td>3057</td>\n",
       "    </tr>\n",
       "    <tr>\n",
       "      <th>1</th>\n",
       "      <td>2023-10-01</td>\n",
       "      <td>AM</td>\n",
       "      <td>3230</td>\n",
       "      <td>18113</td>\n",
       "      <td>51793</td>\n",
       "    </tr>\n",
       "    <tr>\n",
       "      <th>2</th>\n",
       "      <td>2023-10-01</td>\n",
       "      <td>BA</td>\n",
       "      <td>3867</td>\n",
       "      <td>28162</td>\n",
       "      <td>66898</td>\n",
       "    </tr>\n",
       "  </tbody>\n",
       "</table>\n",
       "</div>"
      ],
      "text/plain": [
       "        month country   ncs    mau  orders\n",
       "0  2023-10-01      AD   149   1648    3057\n",
       "1  2023-10-01      AM  3230  18113   51793\n",
       "2  2023-10-01      BA  3867  28162   66898"
      ]
     },
     "execution_count": 190,
     "metadata": {},
     "output_type": "execute_result"
    }
   ],
   "source": [
    "df.head(3)"
   ]
  },
  {
   "cell_type": "code",
   "execution_count": 191,
   "id": "86fedd59-559a-4056-ab07-64c5032ea233",
   "metadata": {},
   "outputs": [
    {
     "data": {
      "text/html": [
       "<div>\n",
       "<style scoped>\n",
       "    .dataframe tbody tr th:only-of-type {\n",
       "        vertical-align: middle;\n",
       "    }\n",
       "\n",
       "    .dataframe tbody tr th {\n",
       "        vertical-align: top;\n",
       "    }\n",
       "\n",
       "    .dataframe thead th {\n",
       "        text-align: right;\n",
       "    }\n",
       "</style>\n",
       "<table border=\"1\" class=\"dataframe\">\n",
       "  <thead>\n",
       "    <tr style=\"text-align: right;\">\n",
       "      <th></th>\n",
       "      <th>month</th>\n",
       "      <th>country</th>\n",
       "      <th>ncs</th>\n",
       "      <th>mau</th>\n",
       "      <th>orders</th>\n",
       "    </tr>\n",
       "  </thead>\n",
       "  <tbody>\n",
       "    <tr>\n",
       "      <th>252</th>\n",
       "      <td>2023-01-01</td>\n",
       "      <td>UA</td>\n",
       "      <td>61192</td>\n",
       "      <td>389935</td>\n",
       "      <td>1203913</td>\n",
       "    </tr>\n",
       "    <tr>\n",
       "      <th>253</th>\n",
       "      <td>2023-01-01</td>\n",
       "      <td>UG</td>\n",
       "      <td>3391</td>\n",
       "      <td>13957</td>\n",
       "      <td>30187</td>\n",
       "    </tr>\n",
       "  </tbody>\n",
       "</table>\n",
       "</div>"
      ],
      "text/plain": [
       "          month country    ncs     mau   orders\n",
       "252  2023-01-01      UA  61192  389935  1203913\n",
       "253  2023-01-01      UG   3391   13957    30187"
      ]
     },
     "execution_count": 191,
     "metadata": {},
     "output_type": "execute_result"
    }
   ],
   "source": [
    "df.tail(2)"
   ]
  },
  {
   "cell_type": "markdown",
   "id": "f1ff63f5-11ed-4023-9971-0c99659161cd",
   "metadata": {},
   "source": [
    "### **Relevant Attributes**\n",
    "\n",
    "Like .columns to fetch all column names, index to fetch the index, or dtypes to check the data type."
   ]
  },
  {
   "cell_type": "code",
   "execution_count": 33,
   "id": "80d5aa0b-d521-4a97-ab3c-46f6fa68440c",
   "metadata": {},
   "outputs": [
    {
     "data": {
      "text/plain": [
       "Index(['month', 'country', 'ncs', 'mau', 'orders'], dtype='object')"
      ]
     },
     "execution_count": 33,
     "metadata": {},
     "output_type": "execute_result"
    }
   ],
   "source": [
    "df.columns"
   ]
  },
  {
   "cell_type": "code",
   "execution_count": 194,
   "id": "33590336-cfea-4fb3-9a79-2e6d77668483",
   "metadata": {},
   "outputs": [
    {
     "data": {
      "text/plain": [
       "RangeIndex(start=0, stop=254, step=1)"
      ]
     },
     "execution_count": 194,
     "metadata": {},
     "output_type": "execute_result"
    }
   ],
   "source": [
    "df.index"
   ]
  },
  {
   "cell_type": "code",
   "execution_count": 195,
   "id": "fc22f1b4-ee14-4320-a370-a0d623789676",
   "metadata": {},
   "outputs": [
    {
     "data": {
      "text/plain": [
       "(254, 5)"
      ]
     },
     "execution_count": 195,
     "metadata": {},
     "output_type": "execute_result"
    }
   ],
   "source": [
    "df.shape"
   ]
  },
  {
   "cell_type": "code",
   "execution_count": 196,
   "id": "e93140ea-269d-4c21-8efd-d6882c65d072",
   "metadata": {},
   "outputs": [
    {
     "data": {
      "text/plain": [
       "month      object\n",
       "country    object\n",
       "ncs         int64\n",
       "mau         int64\n",
       "orders      int64\n",
       "dtype: object"
      ]
     },
     "execution_count": 196,
     "metadata": {},
     "output_type": "execute_result"
    }
   ],
   "source": [
    "df.dtypes"
   ]
  },
  {
   "cell_type": "markdown",
   "id": "50b9db0a-b676-41bc-8865-965113b4c0e1",
   "metadata": {},
   "source": [
    "### **Numerical Methods**\n",
    "\n",
    "To obtain, separatedly from the describe() matrix, the max, min, mean, median or std."
   ]
  },
  {
   "cell_type": "code",
   "execution_count": 197,
   "id": "1334c336-efd2-42e2-b1f3-f80897244c16",
   "metadata": {},
   "outputs": [
    {
     "data": {
      "text/plain": [
       "month      2023-10-01\n",
       "country            UG\n",
       "ncs            205204\n",
       "mau           1870862\n",
       "orders        5633105\n",
       "dtype: object"
      ]
     },
     "execution_count": 197,
     "metadata": {},
     "output_type": "execute_result"
    }
   ],
   "source": [
    "df.max()"
   ]
  },
  {
   "cell_type": "code",
   "execution_count": 198,
   "id": "197effbd-8706-4774-a925-8b0305cb611f",
   "metadata": {},
   "outputs": [
    {
     "data": {
      "text/plain": [
       "month      2023-01-01\n",
       "country            AD\n",
       "ncs                 0\n",
       "mau                 1\n",
       "orders              1\n",
       "dtype: object"
      ]
     },
     "execution_count": 198,
     "metadata": {},
     "output_type": "execute_result"
    }
   ],
   "source": [
    "df.min()"
   ]
  },
  {
   "cell_type": "code",
   "execution_count": 35,
   "id": "16a474a8-a302-4d46-a2c5-196e98389920",
   "metadata": {},
   "outputs": [
    {
     "data": {
      "text/plain": [
       "ncs        32789.488189\n",
       "mau       247441.232283\n",
       "orders    730946.507874\n",
       "dtype: float64"
      ]
     },
     "execution_count": 35,
     "metadata": {},
     "output_type": "execute_result"
    }
   ],
   "source": [
    "df.mean(numeric_only = True)"
   ]
  },
  {
   "cell_type": "code",
   "execution_count": 201,
   "id": "f24f3672-31a7-43ac-931e-420383df388c",
   "metadata": {},
   "outputs": [
    {
     "data": {
      "text/plain": [
       "ncs       4.418665e+04\n",
       "mau       3.893202e+05\n",
       "orders    1.121350e+06\n",
       "dtype: float64"
      ]
     },
     "execution_count": 201,
     "metadata": {},
     "output_type": "execute_result"
    }
   ],
   "source": [
    "df.std(numeric_only = True)"
   ]
  },
  {
   "cell_type": "code",
   "execution_count": 202,
   "id": "7d29786f-fef7-47c4-9c3e-6ad32457ea8f",
   "metadata": {},
   "outputs": [
    {
     "data": {
      "text/plain": [
       "ncs        13604.5\n",
       "mau        64083.5\n",
       "orders    206576.5\n",
       "dtype: float64"
      ]
     },
     "execution_count": 202,
     "metadata": {},
     "output_type": "execute_result"
    }
   ],
   "source": [
    "df.median(numeric_only = True)"
   ]
  },
  {
   "cell_type": "markdown",
   "id": "e8b85762-8e37-45cf-a408-0dfcda67e467",
   "metadata": {},
   "source": [
    "### **value_counts()**\n",
    "\n",
    "Returns the number of times a same combination of values was repeated."
   ]
  },
  {
   "cell_type": "code",
   "execution_count": 204,
   "id": "6d50174b-ad48-4689-bb9e-e4f834a17c75",
   "metadata": {},
   "outputs": [
    {
     "data": {
      "text/plain": [
       "month       country  ncs     mau     orders \n",
       "2023-01-01  AD       415     2160    4171       1\n",
       "2023-07-01  RS       18802   158227  508649     1\n",
       "            GH       9443    38506   106267     1\n",
       "            HR       15164   143630  368340     1\n",
       "            IT       155503  965767  2299870    1\n",
       "                                               ..\n",
       "2023-04-01  KG       9590    42674   116633     1\n",
       "            KZ       27455   193073  557608     1\n",
       "            MA       46732   287427  1085214    1\n",
       "            MD       5037    27431   61758      1\n",
       "2023-10-01  UG       3999    17253   36165      1\n",
       "Length: 254, dtype: int64"
      ]
     },
     "execution_count": 204,
     "metadata": {},
     "output_type": "execute_result"
    }
   ],
   "source": [
    "df.value_counts()"
   ]
  },
  {
   "cell_type": "code",
   "execution_count": 205,
   "id": "ad1f0e5a-d531-4132-be7a-ca403c977e9b",
   "metadata": {},
   "outputs": [
    {
     "data": {
      "text/plain": [
       "AD    10\n",
       "AM    10\n",
       "UG    10\n",
       "UA    10\n",
       "TN    10\n",
       "SI    10\n",
       "RS    10\n",
       "RO    10\n",
       "PT    10\n",
       "PL    10\n",
       "NG    10\n",
       "ME    10\n",
       "MD    10\n",
       "MA    10\n",
       "KZ    10\n",
       "KG    10\n",
       "KE    10\n",
       "IT    10\n",
       "HR    10\n",
       "GH    10\n",
       "GE    10\n",
       "ES    10\n",
       "CI    10\n",
       "BG    10\n",
       "BA    10\n",
       "PR     4\n",
       "Name: country, dtype: int64"
      ]
     },
     "execution_count": 205,
     "metadata": {},
     "output_type": "execute_result"
    }
   ],
   "source": [
    "df.country.value_counts()"
   ]
  },
  {
   "cell_type": "markdown",
   "id": "e307afd8-940b-4b0f-b33f-523cc942b17e",
   "metadata": {},
   "source": [
    "### **nunique()**\n",
    "Counts the total amount of unique occurrences per column."
   ]
  },
  {
   "cell_type": "code",
   "execution_count": 208,
   "id": "4a4c8fc1-9a3b-4e0a-97c9-9f6c7f023e3c",
   "metadata": {},
   "outputs": [
    {
     "data": {
      "text/plain": [
       "month       10\n",
       "country     26\n",
       "ncs        249\n",
       "mau        253\n",
       "orders     254\n",
       "dtype: int64"
      ]
     },
     "execution_count": 208,
     "metadata": {},
     "output_type": "execute_result"
    }
   ],
   "source": [
    "df.nunique()"
   ]
  },
  {
   "cell_type": "markdown",
   "id": "d7cc0c68-d96f-4611-b93d-24bf4faeddfa",
   "metadata": {},
   "source": [
    "### **sample(n)**\n",
    "Returns a random sample of n rows from the DataFrame."
   ]
  },
  {
   "cell_type": "code",
   "execution_count": 209,
   "id": "a6017129-15ea-454b-a6f0-d4dfaeae1543",
   "metadata": {},
   "outputs": [
    {
     "data": {
      "text/html": [
       "<div>\n",
       "<style scoped>\n",
       "    .dataframe tbody tr th:only-of-type {\n",
       "        vertical-align: middle;\n",
       "    }\n",
       "\n",
       "    .dataframe tbody tr th {\n",
       "        vertical-align: top;\n",
       "    }\n",
       "\n",
       "    .dataframe thead th {\n",
       "        text-align: right;\n",
       "    }\n",
       "</style>\n",
       "<table border=\"1\" class=\"dataframe\">\n",
       "  <thead>\n",
       "    <tr style=\"text-align: right;\">\n",
       "      <th></th>\n",
       "      <th>month</th>\n",
       "      <th>country</th>\n",
       "      <th>ncs</th>\n",
       "      <th>mau</th>\n",
       "      <th>orders</th>\n",
       "    </tr>\n",
       "  </thead>\n",
       "  <tbody>\n",
       "    <tr>\n",
       "      <th>133</th>\n",
       "      <td>2023-05-01</td>\n",
       "      <td>HR</td>\n",
       "      <td>12745</td>\n",
       "      <td>149823</td>\n",
       "      <td>393470</td>\n",
       "    </tr>\n",
       "    <tr>\n",
       "      <th>33</th>\n",
       "      <td>2023-09-01</td>\n",
       "      <td>HR</td>\n",
       "      <td>13849</td>\n",
       "      <td>149285</td>\n",
       "      <td>393036</td>\n",
       "    </tr>\n",
       "    <tr>\n",
       "      <th>81</th>\n",
       "      <td>2023-07-01</td>\n",
       "      <td>GE</td>\n",
       "      <td>20531</td>\n",
       "      <td>166798</td>\n",
       "      <td>597129</td>\n",
       "    </tr>\n",
       "    <tr>\n",
       "      <th>113</th>\n",
       "      <td>2023-06-01</td>\n",
       "      <td>MA</td>\n",
       "      <td>51183</td>\n",
       "      <td>357672</td>\n",
       "      <td>1549366</td>\n",
       "    </tr>\n",
       "    <tr>\n",
       "      <th>118</th>\n",
       "      <td>2023-06-01</td>\n",
       "      <td>PT</td>\n",
       "      <td>37113</td>\n",
       "      <td>327292</td>\n",
       "      <td>1003512</td>\n",
       "    </tr>\n",
       "  </tbody>\n",
       "</table>\n",
       "</div>"
      ],
      "text/plain": [
       "          month country    ncs     mau   orders\n",
       "133  2023-05-01      HR  12745  149823   393470\n",
       "33   2023-09-01      HR  13849  149285   393036\n",
       "81   2023-07-01      GE  20531  166798   597129\n",
       "113  2023-06-01      MA  51183  357672  1549366\n",
       "118  2023-06-01      PT  37113  327292  1003512"
      ]
     },
     "execution_count": 209,
     "metadata": {},
     "output_type": "execute_result"
    }
   ],
   "source": [
    "df.sample(5)"
   ]
  },
  {
   "cell_type": "markdown",
   "id": "4de837bc-11e2-42c3-8049-f94ddd6059f0",
   "metadata": {},
   "source": [
    "## **Quick Exercise 3**\n",
    "\n",
    "From order descriptors, import, for Spain, 100 registers including the order_country_code, order_city_code, customer_id, order_id, order_subvertical, store_id and order_cancel_reason.\n",
    "\n",
    "Then, explore the dataframe with base exploratory methods. Which relevant information do you see?"
   ]
  },
  {
   "cell_type": "code",
   "execution_count": 4,
   "id": "8e939332-6c13-432a-ad5b-6cac17c49be4",
   "metadata": {},
   "outputs": [
    {
     "name": "stdout",
     "output_type": "stream",
     "text": [
      "Done.\n",
      "Returning data to local variable query2\n"
     ]
    }
   ],
   "source": [
    "%%starburst query2 <<\n",
    "    select\n",
    "        order_country_code as counntry,\n",
    "        order_city_code as city,\n",
    "        customer_id,\n",
    "        order_id,\n",
    "        order_subvertical,\n",
    "        store_id,\n",
    "        order_cancel_reason\n",
    "    from delta.central_order_descriptors_odp.order_descriptors_v2\n",
    "    limit 100"
   ]
  },
  {
   "cell_type": "code",
   "execution_count": 6,
   "id": "bfa8d049-1330-4921-9c7f-747def32ca86",
   "metadata": {},
   "outputs": [],
   "source": [
    "df = pd.DataFrame(query2)"
   ]
  },
  {
   "cell_type": "code",
   "execution_count": 7,
   "id": "5999a0cd-c0c9-4b8f-9260-eff6986c8b4d",
   "metadata": {},
   "outputs": [
    {
     "name": "stdout",
     "output_type": "stream",
     "text": [
      "<class 'pandas.core.frame.DataFrame'>\n",
      "RangeIndex: 100 entries, 0 to 99\n",
      "Data columns (total 7 columns):\n",
      " #   Column               Non-Null Count  Dtype  \n",
      "---  ------               --------------  -----  \n",
      " 0   counntry             100 non-null    object \n",
      " 1   city                 100 non-null    object \n",
      " 2   customer_id          100 non-null    int64  \n",
      " 3   order_id             100 non-null    int64  \n",
      " 4   order_subvertical    100 non-null    object \n",
      " 5   store_id             73 non-null     float64\n",
      " 6   order_cancel_reason  5 non-null      object \n",
      "dtypes: float64(1), int64(2), object(4)\n",
      "memory usage: 5.6+ KB\n"
     ]
    }
   ],
   "source": [
    "df.info()"
   ]
  },
  {
   "cell_type": "code",
   "execution_count": 9,
   "id": "1b9da79f-4ed8-4c68-8cce-512f23f5703b",
   "metadata": {},
   "outputs": [
    {
     "data": {
      "text/plain": [
       "counntry                 8\n",
       "city                    16\n",
       "customer_id            100\n",
       "order_id               100\n",
       "order_subvertical        5\n",
       "store_id                63\n",
       "order_cancel_reason      3\n",
       "dtype: int64"
      ]
     },
     "execution_count": 9,
     "metadata": {},
     "output_type": "execute_result"
    }
   ],
   "source": [
    "df.nunique()"
   ]
  },
  {
   "cell_type": "code",
   "execution_count": 11,
   "id": "e83cec42-4164-4d30-bfa9-16910c030609",
   "metadata": {},
   "outputs": [
    {
     "data": {
      "text/plain": [
       "ES    71\n",
       "PE     8\n",
       "IT     7\n",
       "FR     7\n",
       "AR     4\n",
       "CL     1\n",
       "BR     1\n",
       "PT     1\n",
       "Name: counntry, dtype: int64"
      ]
     },
     "execution_count": 11,
     "metadata": {},
     "output_type": "execute_result"
    }
   ],
   "source": [
    "df.counntry.value_counts()"
   ]
  },
  {
   "cell_type": "code",
   "execution_count": 13,
   "id": "d25a5978-1341-4602-bb78-dfe424a08c44",
   "metadata": {},
   "outputs": [
    {
     "data": {
      "text/plain": [
       "array(['ES', 'IT', 'PE', 'FR', 'CL', 'AR', 'BR', 'PT'], dtype=object)"
      ]
     },
     "execution_count": 13,
     "metadata": {},
     "output_type": "execute_result"
    }
   ],
   "source": [
    "df.counntry.unique()"
   ]
  },
  {
   "cell_type": "markdown",
   "id": "b604fd5c-e40f-49e9-ab2b-87f4979f3370",
   "metadata": {},
   "source": [
    "## **05. Filtering Pandas DFs**\n",
    "\n",
    "Let's overview the equivalent of **Where** clauses in pandas DFs."
   ]
  },
  {
   "cell_type": "code",
   "execution_count": 211,
   "id": "f50adaaf-add8-437c-8816-59c779ab0280",
   "metadata": {},
   "outputs": [
    {
     "data": {
      "text/html": [
       "<div>\n",
       "<style scoped>\n",
       "    .dataframe tbody tr th:only-of-type {\n",
       "        vertical-align: middle;\n",
       "    }\n",
       "\n",
       "    .dataframe tbody tr th {\n",
       "        vertical-align: top;\n",
       "    }\n",
       "\n",
       "    .dataframe thead th {\n",
       "        text-align: right;\n",
       "    }\n",
       "</style>\n",
       "<table border=\"1\" class=\"dataframe\">\n",
       "  <thead>\n",
       "    <tr style=\"text-align: right;\">\n",
       "      <th></th>\n",
       "      <th>month</th>\n",
       "      <th>country</th>\n",
       "      <th>ncs</th>\n",
       "      <th>mau</th>\n",
       "      <th>orders</th>\n",
       "    </tr>\n",
       "  </thead>\n",
       "  <tbody>\n",
       "    <tr>\n",
       "      <th>0</th>\n",
       "      <td>2023-10-01</td>\n",
       "      <td>AD</td>\n",
       "      <td>149</td>\n",
       "      <td>1648</td>\n",
       "      <td>3057</td>\n",
       "    </tr>\n",
       "    <tr>\n",
       "      <th>1</th>\n",
       "      <td>2023-10-01</td>\n",
       "      <td>AM</td>\n",
       "      <td>3230</td>\n",
       "      <td>18113</td>\n",
       "      <td>51793</td>\n",
       "    </tr>\n",
       "    <tr>\n",
       "      <th>2</th>\n",
       "      <td>2023-10-01</td>\n",
       "      <td>BA</td>\n",
       "      <td>3867</td>\n",
       "      <td>28162</td>\n",
       "      <td>66898</td>\n",
       "    </tr>\n",
       "    <tr>\n",
       "      <th>3</th>\n",
       "      <td>2023-10-01</td>\n",
       "      <td>BG</td>\n",
       "      <td>11098</td>\n",
       "      <td>103561</td>\n",
       "      <td>266716</td>\n",
       "    </tr>\n",
       "    <tr>\n",
       "      <th>4</th>\n",
       "      <td>2023-10-01</td>\n",
       "      <td>CI</td>\n",
       "      <td>6974</td>\n",
       "      <td>47386</td>\n",
       "      <td>152862</td>\n",
       "    </tr>\n",
       "  </tbody>\n",
       "</table>\n",
       "</div>"
      ],
      "text/plain": [
       "        month country    ncs     mau  orders\n",
       "0  2023-10-01      AD    149    1648    3057\n",
       "1  2023-10-01      AM   3230   18113   51793\n",
       "2  2023-10-01      BA   3867   28162   66898\n",
       "3  2023-10-01      BG  11098  103561  266716\n",
       "4  2023-10-01      CI   6974   47386  152862"
      ]
     },
     "execution_count": 211,
     "metadata": {},
     "output_type": "execute_result"
    }
   ],
   "source": [
    "df = pd.read_csv('data/first_df_without_index.csv')\n",
    "df.head()"
   ]
  },
  {
   "cell_type": "markdown",
   "id": "0d742644-e5ce-433e-93b5-490af0da39ac",
   "metadata": {},
   "source": [
    "Filtering in Pandas works similar to Numpy. Let's see why:"
   ]
  },
  {
   "cell_type": "code",
   "execution_count": 215,
   "id": "a5a1b3df-1d8b-47e6-8ebe-ec7827bfc6ef",
   "metadata": {},
   "outputs": [
    {
     "data": {
      "text/plain": [
       "0      False\n",
       "1       True\n",
       "2       True\n",
       "3       True\n",
       "4       True\n",
       "       ...  \n",
       "249     True\n",
       "250     True\n",
       "251     True\n",
       "252     True\n",
       "253     True\n",
       "Name: ncs, Length: 254, dtype: bool"
      ]
     },
     "execution_count": 215,
     "metadata": {},
     "output_type": "execute_result"
    }
   ],
   "source": [
    "# By just filtering, we're getting the eact same series, but with Boolean values, True/False according to whether the condition is met\n",
    "df['ncs'] > 1000"
   ]
  },
  {
   "cell_type": "markdown",
   "id": "13707aa1-9df6-4a4e-8b1d-2ac66142f4d1",
   "metadata": {},
   "source": [
    "We have to **Pass this condition onto the whole DF to filter out False values**:"
   ]
  },
  {
   "cell_type": "code",
   "execution_count": 217,
   "id": "b3a6797e-67f9-451d-86a2-535e35c9df88",
   "metadata": {},
   "outputs": [
    {
     "data": {
      "text/html": [
       "<div>\n",
       "<style scoped>\n",
       "    .dataframe tbody tr th:only-of-type {\n",
       "        vertical-align: middle;\n",
       "    }\n",
       "\n",
       "    .dataframe tbody tr th {\n",
       "        vertical-align: top;\n",
       "    }\n",
       "\n",
       "    .dataframe thead th {\n",
       "        text-align: right;\n",
       "    }\n",
       "</style>\n",
       "<table border=\"1\" class=\"dataframe\">\n",
       "  <thead>\n",
       "    <tr style=\"text-align: right;\">\n",
       "      <th></th>\n",
       "      <th>month</th>\n",
       "      <th>country</th>\n",
       "      <th>ncs</th>\n",
       "      <th>mau</th>\n",
       "      <th>orders</th>\n",
       "    </tr>\n",
       "  </thead>\n",
       "  <tbody>\n",
       "    <tr>\n",
       "      <th>1</th>\n",
       "      <td>2023-10-01</td>\n",
       "      <td>AM</td>\n",
       "      <td>3230</td>\n",
       "      <td>18113</td>\n",
       "      <td>51793</td>\n",
       "    </tr>\n",
       "    <tr>\n",
       "      <th>2</th>\n",
       "      <td>2023-10-01</td>\n",
       "      <td>BA</td>\n",
       "      <td>3867</td>\n",
       "      <td>28162</td>\n",
       "      <td>66898</td>\n",
       "    </tr>\n",
       "    <tr>\n",
       "      <th>3</th>\n",
       "      <td>2023-10-01</td>\n",
       "      <td>BG</td>\n",
       "      <td>11098</td>\n",
       "      <td>103561</td>\n",
       "      <td>266716</td>\n",
       "    </tr>\n",
       "    <tr>\n",
       "      <th>4</th>\n",
       "      <td>2023-10-01</td>\n",
       "      <td>CI</td>\n",
       "      <td>6974</td>\n",
       "      <td>47386</td>\n",
       "      <td>152862</td>\n",
       "    </tr>\n",
       "    <tr>\n",
       "      <th>5</th>\n",
       "      <td>2023-10-01</td>\n",
       "      <td>ES</td>\n",
       "      <td>147269</td>\n",
       "      <td>1635849</td>\n",
       "      <td>4216475</td>\n",
       "    </tr>\n",
       "  </tbody>\n",
       "</table>\n",
       "</div>"
      ],
      "text/plain": [
       "        month country     ncs      mau   orders\n",
       "1  2023-10-01      AM    3230    18113    51793\n",
       "2  2023-10-01      BA    3867    28162    66898\n",
       "3  2023-10-01      BG   11098   103561   266716\n",
       "4  2023-10-01      CI    6974    47386   152862\n",
       "5  2023-10-01      ES  147269  1635849  4216475"
      ]
     },
     "execution_count": 217,
     "metadata": {},
     "output_type": "execute_result"
    }
   ],
   "source": [
    "# See how AD is lost in the process!\n",
    "df[df['ncs'] > 1000].head()"
   ]
  },
  {
   "cell_type": "markdown",
   "id": "bb28e394-391a-4c9d-b0b8-8c2ad568b442",
   "metadata": {},
   "source": [
    "#### **Staying with \"False\" values**\n",
    "\n",
    "What if we want to keep those registers where the condition was not met?\n",
    "\n",
    "We use the **~ operator**\n",
    "\n",
    "Bear in mind **using parentheses** to encapsulate the whole condition to negate! It's essential!"
   ]
  },
  {
   "cell_type": "code",
   "execution_count": 224,
   "id": "c34846a7-1b25-4d48-b746-89fb2abb257a",
   "metadata": {},
   "outputs": [
    {
     "data": {
      "text/html": [
       "<div>\n",
       "<style scoped>\n",
       "    .dataframe tbody tr th:only-of-type {\n",
       "        vertical-align: middle;\n",
       "    }\n",
       "\n",
       "    .dataframe tbody tr th {\n",
       "        vertical-align: top;\n",
       "    }\n",
       "\n",
       "    .dataframe thead th {\n",
       "        text-align: right;\n",
       "    }\n",
       "</style>\n",
       "<table border=\"1\" class=\"dataframe\">\n",
       "  <thead>\n",
       "    <tr style=\"text-align: right;\">\n",
       "      <th></th>\n",
       "      <th>month</th>\n",
       "      <th>country</th>\n",
       "      <th>ncs</th>\n",
       "      <th>mau</th>\n",
       "      <th>orders</th>\n",
       "    </tr>\n",
       "  </thead>\n",
       "  <tbody>\n",
       "    <tr>\n",
       "      <th>0</th>\n",
       "      <td>2023-10-01</td>\n",
       "      <td>AD</td>\n",
       "      <td>149</td>\n",
       "      <td>1648</td>\n",
       "      <td>3057</td>\n",
       "    </tr>\n",
       "    <tr>\n",
       "      <th>25</th>\n",
       "      <td>2023-09-01</td>\n",
       "      <td>AD</td>\n",
       "      <td>278</td>\n",
       "      <td>2018</td>\n",
       "      <td>4013</td>\n",
       "    </tr>\n",
       "    <tr>\n",
       "      <th>50</th>\n",
       "      <td>2023-08-01</td>\n",
       "      <td>AD</td>\n",
       "      <td>285</td>\n",
       "      <td>2017</td>\n",
       "      <td>4142</td>\n",
       "    </tr>\n",
       "    <tr>\n",
       "      <th>75</th>\n",
       "      <td>2023-07-01</td>\n",
       "      <td>AD</td>\n",
       "      <td>236</td>\n",
       "      <td>2006</td>\n",
       "      <td>4279</td>\n",
       "    </tr>\n",
       "    <tr>\n",
       "      <th>100</th>\n",
       "      <td>2023-06-01</td>\n",
       "      <td>AD</td>\n",
       "      <td>298</td>\n",
       "      <td>2165</td>\n",
       "      <td>4597</td>\n",
       "    </tr>\n",
       "  </tbody>\n",
       "</table>\n",
       "</div>"
      ],
      "text/plain": [
       "          month country  ncs   mau  orders\n",
       "0    2023-10-01      AD  149  1648    3057\n",
       "25   2023-09-01      AD  278  2018    4013\n",
       "50   2023-08-01      AD  285  2017    4142\n",
       "75   2023-07-01      AD  236  2006    4279\n",
       "100  2023-06-01      AD  298  2165    4597"
      ]
     },
     "execution_count": 224,
     "metadata": {},
     "output_type": "execute_result"
    }
   ],
   "source": [
    "df[~(df['ncs'] > 1000)].head()"
   ]
  },
  {
   "cell_type": "markdown",
   "id": "ed7abbd0-e794-4850-b81c-8184209950d9",
   "metadata": {},
   "source": [
    "#### **Multiple Conditions at a time, AND, OR, IN, IS (NOT) NULL**\n",
    "\n",
    "We can use the **&** (AND) or **|** (OR) operator to combine several different conditions.\n",
    "\n",
    "Remember to **encapsulate each condition with a parenthesis**, or you'll trigger an error:"
   ]
  },
  {
   "cell_type": "code",
   "execution_count": 229,
   "id": "945b1b73-cd61-41b1-891f-175617f1f57f",
   "metadata": {},
   "outputs": [
    {
     "data": {
      "text/html": [
       "<div>\n",
       "<style scoped>\n",
       "    .dataframe tbody tr th:only-of-type {\n",
       "        vertical-align: middle;\n",
       "    }\n",
       "\n",
       "    .dataframe tbody tr th {\n",
       "        vertical-align: top;\n",
       "    }\n",
       "\n",
       "    .dataframe thead th {\n",
       "        text-align: right;\n",
       "    }\n",
       "</style>\n",
       "<table border=\"1\" class=\"dataframe\">\n",
       "  <thead>\n",
       "    <tr style=\"text-align: right;\">\n",
       "      <th></th>\n",
       "      <th>month</th>\n",
       "      <th>country</th>\n",
       "      <th>ncs</th>\n",
       "      <th>mau</th>\n",
       "      <th>orders</th>\n",
       "    </tr>\n",
       "  </thead>\n",
       "  <tbody>\n",
       "    <tr>\n",
       "      <th>168</th>\n",
       "      <td>2023-04-01</td>\n",
       "      <td>PR</td>\n",
       "      <td>0</td>\n",
       "      <td>5</td>\n",
       "      <td>9</td>\n",
       "    </tr>\n",
       "    <tr>\n",
       "      <th>194</th>\n",
       "      <td>2023-03-01</td>\n",
       "      <td>PR</td>\n",
       "      <td>0</td>\n",
       "      <td>1</td>\n",
       "      <td>1</td>\n",
       "    </tr>\n",
       "    <tr>\n",
       "      <th>220</th>\n",
       "      <td>2023-02-01</td>\n",
       "      <td>PR</td>\n",
       "      <td>0</td>\n",
       "      <td>6</td>\n",
       "      <td>11</td>\n",
       "    </tr>\n",
       "    <tr>\n",
       "      <th>246</th>\n",
       "      <td>2023-01-01</td>\n",
       "      <td>PR</td>\n",
       "      <td>0</td>\n",
       "      <td>1</td>\n",
       "      <td>2</td>\n",
       "    </tr>\n",
       "  </tbody>\n",
       "</table>\n",
       "</div>"
      ],
      "text/plain": [
       "          month country  ncs  mau  orders\n",
       "168  2023-04-01      PR    0    5       9\n",
       "194  2023-03-01      PR    0    1       1\n",
       "220  2023-02-01      PR    0    6      11\n",
       "246  2023-01-01      PR    0    1       2"
      ]
     },
     "execution_count": 229,
     "metadata": {},
     "output_type": "execute_result"
    }
   ],
   "source": [
    "# AND:\n",
    "df[(df.country != 'AD') & (df.ncs < 1000)]"
   ]
  },
  {
   "cell_type": "code",
   "execution_count": 231,
   "id": "0ad3f2a4-a3c3-41af-a584-cdc330f0b6d7",
   "metadata": {},
   "outputs": [
    {
     "data": {
      "text/html": [
       "<div>\n",
       "<style scoped>\n",
       "    .dataframe tbody tr th:only-of-type {\n",
       "        vertical-align: middle;\n",
       "    }\n",
       "\n",
       "    .dataframe tbody tr th {\n",
       "        vertical-align: top;\n",
       "    }\n",
       "\n",
       "    .dataframe thead th {\n",
       "        text-align: right;\n",
       "    }\n",
       "</style>\n",
       "<table border=\"1\" class=\"dataframe\">\n",
       "  <thead>\n",
       "    <tr style=\"text-align: right;\">\n",
       "      <th></th>\n",
       "      <th>month</th>\n",
       "      <th>country</th>\n",
       "      <th>ncs</th>\n",
       "      <th>mau</th>\n",
       "      <th>orders</th>\n",
       "    </tr>\n",
       "  </thead>\n",
       "  <tbody>\n",
       "    <tr>\n",
       "      <th>5</th>\n",
       "      <td>2023-10-01</td>\n",
       "      <td>ES</td>\n",
       "      <td>147269</td>\n",
       "      <td>1635849</td>\n",
       "      <td>4216475</td>\n",
       "    </tr>\n",
       "    <tr>\n",
       "      <th>9</th>\n",
       "      <td>2023-10-01</td>\n",
       "      <td>IT</td>\n",
       "      <td>117161</td>\n",
       "      <td>851600</td>\n",
       "      <td>1830553</td>\n",
       "    </tr>\n",
       "    <tr>\n",
       "      <th>30</th>\n",
       "      <td>2023-09-01</td>\n",
       "      <td>ES</td>\n",
       "      <td>198931</td>\n",
       "      <td>1859635</td>\n",
       "      <td>5451798</td>\n",
       "    </tr>\n",
       "    <tr>\n",
       "      <th>34</th>\n",
       "      <td>2023-09-01</td>\n",
       "      <td>IT</td>\n",
       "      <td>156159</td>\n",
       "      <td>1016988</td>\n",
       "      <td>2423674</td>\n",
       "    </tr>\n",
       "    <tr>\n",
       "      <th>55</th>\n",
       "      <td>2023-08-01</td>\n",
       "      <td>ES</td>\n",
       "      <td>202663</td>\n",
       "      <td>1762605</td>\n",
       "      <td>5011810</td>\n",
       "    </tr>\n",
       "  </tbody>\n",
       "</table>\n",
       "</div>"
      ],
      "text/plain": [
       "         month country     ncs      mau   orders\n",
       "5   2023-10-01      ES  147269  1635849  4216475\n",
       "9   2023-10-01      IT  117161   851600  1830553\n",
       "30  2023-09-01      ES  198931  1859635  5451798\n",
       "34  2023-09-01      IT  156159  1016988  2423674\n",
       "55  2023-08-01      ES  202663  1762605  5011810"
      ]
     },
     "execution_count": 231,
     "metadata": {},
     "output_type": "execute_result"
    }
   ],
   "source": [
    "# OR:\n",
    "df[(df.country == 'ES')|(df.country == 'IT')].head()"
   ]
  },
  {
   "cell_type": "markdown",
   "id": "4c7ac41d-5e55-454a-bfab-75d786bd446f",
   "metadata": {},
   "source": [
    "The **.isin()** operator can be used to replace the **in** keyword:"
   ]
  },
  {
   "cell_type": "code",
   "execution_count": 232,
   "id": "5902f897-7b9b-43e6-97a2-14c43da6baa1",
   "metadata": {},
   "outputs": [
    {
     "data": {
      "text/html": [
       "<div>\n",
       "<style scoped>\n",
       "    .dataframe tbody tr th:only-of-type {\n",
       "        vertical-align: middle;\n",
       "    }\n",
       "\n",
       "    .dataframe tbody tr th {\n",
       "        vertical-align: top;\n",
       "    }\n",
       "\n",
       "    .dataframe thead th {\n",
       "        text-align: right;\n",
       "    }\n",
       "</style>\n",
       "<table border=\"1\" class=\"dataframe\">\n",
       "  <thead>\n",
       "    <tr style=\"text-align: right;\">\n",
       "      <th></th>\n",
       "      <th>month</th>\n",
       "      <th>country</th>\n",
       "      <th>ncs</th>\n",
       "      <th>mau</th>\n",
       "      <th>orders</th>\n",
       "    </tr>\n",
       "  </thead>\n",
       "  <tbody>\n",
       "    <tr>\n",
       "      <th>0</th>\n",
       "      <td>2023-10-01</td>\n",
       "      <td>AD</td>\n",
       "      <td>149</td>\n",
       "      <td>1648</td>\n",
       "      <td>3057</td>\n",
       "    </tr>\n",
       "    <tr>\n",
       "      <th>10</th>\n",
       "      <td>2023-10-01</td>\n",
       "      <td>KE</td>\n",
       "      <td>9285</td>\n",
       "      <td>55840</td>\n",
       "      <td>165447</td>\n",
       "    </tr>\n",
       "    <tr>\n",
       "      <th>18</th>\n",
       "      <td>2023-10-01</td>\n",
       "      <td>PT</td>\n",
       "      <td>33092</td>\n",
       "      <td>287739</td>\n",
       "      <td>762316</td>\n",
       "    </tr>\n",
       "    <tr>\n",
       "      <th>25</th>\n",
       "      <td>2023-09-01</td>\n",
       "      <td>AD</td>\n",
       "      <td>278</td>\n",
       "      <td>2018</td>\n",
       "      <td>4013</td>\n",
       "    </tr>\n",
       "    <tr>\n",
       "      <th>35</th>\n",
       "      <td>2023-09-01</td>\n",
       "      <td>KE</td>\n",
       "      <td>13210</td>\n",
       "      <td>65932</td>\n",
       "      <td>219334</td>\n",
       "    </tr>\n",
       "  </tbody>\n",
       "</table>\n",
       "</div>"
      ],
      "text/plain": [
       "         month country    ncs     mau  orders\n",
       "0   2023-10-01      AD    149    1648    3057\n",
       "10  2023-10-01      KE   9285   55840  165447\n",
       "18  2023-10-01      PT  33092  287739  762316\n",
       "25  2023-09-01      AD    278    2018    4013\n",
       "35  2023-09-01      KE  13210   65932  219334"
      ]
     },
     "execution_count": 232,
     "metadata": {},
     "output_type": "execute_result"
    }
   ],
   "source": [
    "df[df.country.isin(['AD', 'PT', 'KE'])].head()"
   ]
  },
  {
   "cell_type": "code",
   "execution_count": 234,
   "id": "1dc52b1c-bea8-4287-9bfb-4a2ed26610db",
   "metadata": {},
   "outputs": [
    {
     "data": {
      "text/html": [
       "<div>\n",
       "<style scoped>\n",
       "    .dataframe tbody tr th:only-of-type {\n",
       "        vertical-align: middle;\n",
       "    }\n",
       "\n",
       "    .dataframe tbody tr th {\n",
       "        vertical-align: top;\n",
       "    }\n",
       "\n",
       "    .dataframe thead th {\n",
       "        text-align: right;\n",
       "    }\n",
       "</style>\n",
       "<table border=\"1\" class=\"dataframe\">\n",
       "  <thead>\n",
       "    <tr style=\"text-align: right;\">\n",
       "      <th></th>\n",
       "      <th>month</th>\n",
       "      <th>country</th>\n",
       "      <th>ncs</th>\n",
       "      <th>mau</th>\n",
       "      <th>orders</th>\n",
       "    </tr>\n",
       "  </thead>\n",
       "  <tbody>\n",
       "    <tr>\n",
       "      <th>1</th>\n",
       "      <td>2023-10-01</td>\n",
       "      <td>AM</td>\n",
       "      <td>3230</td>\n",
       "      <td>18113</td>\n",
       "      <td>51793</td>\n",
       "    </tr>\n",
       "    <tr>\n",
       "      <th>2</th>\n",
       "      <td>2023-10-01</td>\n",
       "      <td>BA</td>\n",
       "      <td>3867</td>\n",
       "      <td>28162</td>\n",
       "      <td>66898</td>\n",
       "    </tr>\n",
       "    <tr>\n",
       "      <th>3</th>\n",
       "      <td>2023-10-01</td>\n",
       "      <td>BG</td>\n",
       "      <td>11098</td>\n",
       "      <td>103561</td>\n",
       "      <td>266716</td>\n",
       "    </tr>\n",
       "    <tr>\n",
       "      <th>4</th>\n",
       "      <td>2023-10-01</td>\n",
       "      <td>CI</td>\n",
       "      <td>6974</td>\n",
       "      <td>47386</td>\n",
       "      <td>152862</td>\n",
       "    </tr>\n",
       "    <tr>\n",
       "      <th>5</th>\n",
       "      <td>2023-10-01</td>\n",
       "      <td>ES</td>\n",
       "      <td>147269</td>\n",
       "      <td>1635849</td>\n",
       "      <td>4216475</td>\n",
       "    </tr>\n",
       "  </tbody>\n",
       "</table>\n",
       "</div>"
      ],
      "text/plain": [
       "        month country     ncs      mau   orders\n",
       "1  2023-10-01      AM    3230    18113    51793\n",
       "2  2023-10-01      BA    3867    28162    66898\n",
       "3  2023-10-01      BG   11098   103561   266716\n",
       "4  2023-10-01      CI    6974    47386   152862\n",
       "5  2023-10-01      ES  147269  1635849  4216475"
      ]
     },
     "execution_count": 234,
     "metadata": {},
     "output_type": "execute_result"
    }
   ],
   "source": [
    "# For NOT IN, let's negate the .isin() condition:\n",
    "df[~(df.country.isin(['AD', 'KE', 'PR']))].head()"
   ]
  },
  {
   "cell_type": "markdown",
   "id": "5a0de520-241e-4909-8fbb-308e5ba178d5",
   "metadata": {},
   "source": [
    "For **nulls** and **not nulls** we use the **.isnull()** or **.notnull()** operators."
   ]
  },
  {
   "cell_type": "code",
   "execution_count": null,
   "id": "5784a176",
   "metadata": {},
   "outputs": [],
   "source": [
    "# filter nulls\n",
    "df[df.store_id.isnull()].head()"
   ]
  },
  {
   "cell_type": "code",
   "execution_count": null,
   "id": "f6b12d8f",
   "metadata": {},
   "outputs": [],
   "source": [
    "# filter not nulls\n",
    "df[df.store_id.notnull()].head()"
   ]
  },
  {
   "cell_type": "markdown",
   "id": "24fabef4-15fc-4ad9-873c-a97b4d78b61a",
   "metadata": {},
   "source": [
    "## **06. Handling Missing Data**\n",
    "\n",
    "It is well possible that our dataframe contains nul values (as we saw before) and that we want to handle them in one way or another. Let's see how to do it with some built-in pandas methods:"
   ]
  },
  {
   "cell_type": "markdown",
   "id": "f1340337-332e-47ee-937d-e92b7c413423",
   "metadata": {},
   "source": [
    "### **dropna()**\n",
    "\n",
    "dropna() is used to supress rows that have NaNs, or that have some NaNs. Let's see it:"
   ]
  },
  {
   "cell_type": "code",
   "execution_count": 242,
   "id": "afa8127d-b37e-4c47-bca7-9d863432fdf3",
   "metadata": {},
   "outputs": [],
   "source": [
    "df_filtered = df.dropna()"
   ]
  },
  {
   "cell_type": "code",
   "execution_count": null,
   "id": "ebe613e0",
   "metadata": {},
   "outputs": [],
   "source": [
    "# we can set a threshold of how many NaN values (i.e., in how many columns) we can tolerate\n",
    "\n",
    "df.dropna(thresh = 1).info()"
   ]
  },
  {
   "cell_type": "markdown",
   "id": "9db24db6-4dbe-4b92-9c1d-a52f001e7486",
   "metadata": {},
   "source": [
    "Also, be mindful to use **inplace** if you want to make the change permanent in the DataFrame that you're using!!"
   ]
  },
  {
   "cell_type": "markdown",
   "id": "8cb6fd24-35e9-4449-8680-3ea60ebb3bf6",
   "metadata": {},
   "source": [
    "### **fillna()**\n",
    "\n",
    "fillna() is used to replace null values. you can use it per column, and it can contain the mean value of that column:"
   ]
  },
  {
   "cell_type": "code",
   "execution_count": 258,
   "id": "a0459b96-d2a8-49c7-a7f0-16e47ebd1d1f",
   "metadata": {},
   "outputs": [],
   "source": [
    "# With a putative field called date:\n",
    "\n",
    "# df.date = df.date.fillna(value = 'Not accounted for')"
   ]
  },
  {
   "cell_type": "code",
   "execution_count": 261,
   "id": "562b7208-f648-4b87-b5db-58befef2c104",
   "metadata": {},
   "outputs": [],
   "source": [
    "# we can also use a relative value with regards to the column, like its mean or median\n",
    "# this is the way to go for some nueric columns in ML problems!\n",
    "\n",
    "# With a putative field called store:\n",
    "\n",
    "# df.store = df.store.fillna(value = df.store_id.mean())"
   ]
  },
  {
   "cell_type": "markdown",
   "id": "f0df29af-7d03-4732-b260-7e6387e6063f",
   "metadata": {},
   "source": [
    "We may also use fillna over the total dataset!"
   ]
  },
  {
   "cell_type": "code",
   "execution_count": null,
   "id": "b1f982b3",
   "metadata": {},
   "outputs": [],
   "source": [
    "df.fillna('not accounted for', inplace = True)"
   ]
  }
 ],
 "metadata": {
  "kernelspec": {
   "display_name": "Python 3 (ipykernel)",
   "language": "python",
   "name": "python3"
  },
  "language_info": {
   "codemirror_mode": {
    "name": "ipython",
    "version": 3
   },
   "file_extension": ".py",
   "mimetype": "text/x-python",
   "name": "python",
   "nbconvert_exporter": "python",
   "pygments_lexer": "ipython3",
   "version": "3.10.6"
  }
 },
 "nbformat": 4,
 "nbformat_minor": 5
}
