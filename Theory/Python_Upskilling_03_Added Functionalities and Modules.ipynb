{
 "cells": [
  {
   "cell_type": "markdown",
   "id": "b0cd07ef-08ed-4afd-858d-c3a02009f9cf",
   "metadata": {},
   "source": [
    "# **03. Python Added Functionalities and Modules**"
   ]
  },
  {
   "cell_type": "markdown",
   "id": "e23952e7-dd5b-412b-9132-652db2fa6913",
   "metadata": {},
   "source": [
    "Welcome to our <font color=#f2cc38>**Third Content Block**</font> In the Python Introduction Module! \n",
    "\n",
    "Today we will be reinforcing core important Python functionalities, **basic** to Python code: **Conditional Statements**, **Loops** and **Functions**, plus we will be introducing added funcitonalities.\n",
    "\n",
    "Specifically, these will be:\n",
    " - Added **useful operators**, like range, zip, min/max, in/not in.\n",
    " - We'll be introducing **Error and Exception handling** with **Try/Except**.\n",
    " - We'll be reviewing **List Comprehensions**.\n",
    " - We'll be reviewing added **Python Modules**:\n",
    "     - random\n",
    "     - datetime\n",
    "     - math\n",
    "     - regEx\n",
    "     - time\n",
    " - We'll be doing a small introduction to **Object Oriented Programming**\n",
    " "
   ]
  },
  {
   "cell_type": "markdown",
   "id": "82c90137-7aa4-4259-8e50-98f8baab663c",
   "metadata": {},
   "source": [
    "## **03.1 Useful Operators**\n",
    "\n",
    "We may have overseen several of them, but our main idea is to officially introduce them and review them yet again, while reinforcing core concepts."
   ]
  },
  {
   "cell_type": "markdown",
   "id": "26b7f2f8-31d9-4c98-bce2-1ce66cc421cb",
   "metadata": {},
   "source": [
    "### **range**\n",
    "Useful function to get integer numbers between a range of values:"
   ]
  },
  {
   "cell_type": "code",
   "execution_count": 2,
   "id": "f83bc73e-e8af-41bf-bad4-dd33480ef9c2",
   "metadata": {},
   "outputs": [
    {
     "name": "stdout",
     "output_type": "stream",
     "text": [
      "0\n",
      "1\n",
      "2\n",
      "3\n",
      "4\n"
     ]
    }
   ],
   "source": [
    "for i in range(5):\n",
    "    print(i)"
   ]
  },
  {
   "cell_type": "code",
   "execution_count": 6,
   "id": "147fbf20-6839-4065-8cff-61eff4d000b8",
   "metadata": {},
   "outputs": [
    {
     "name": "stdout",
     "output_type": "stream",
     "text": [
      "5\n",
      "6\n",
      "7\n",
      "8\n",
      "9\n"
     ]
    }
   ],
   "source": [
    "# For a specific interval\n",
    "for i in range(5, 10):\n",
    "    print(i)"
   ]
  },
  {
   "cell_type": "code",
   "execution_count": 7,
   "id": "7ca93dd2-7d25-4360-997a-95defc2d3384",
   "metadata": {},
   "outputs": [
    {
     "name": "stdout",
     "output_type": "stream",
     "text": [
      "3\n",
      "5\n",
      "7\n",
      "9\n",
      "11\n",
      "13\n",
      "15\n",
      "17\n",
      "19\n"
     ]
    }
   ],
   "source": [
    "# A third number, in case we want to add spaced occurrences\n",
    "for i in range(3, 20, 2):\n",
    "    print(i)"
   ]
  },
  {
   "cell_type": "markdown",
   "id": "00c85fd9-c4f7-4ec0-9a61-ae36ab68d397",
   "metadata": {},
   "source": [
    "### **zip**\n",
    "\n",
    "Useful functions to convert two, three, four list in a list of tuples."
   ]
  },
  {
   "cell_type": "code",
   "execution_count": 6,
   "id": "1929e866-0c25-4977-b76c-21b796f0f4e8",
   "metadata": {},
   "outputs": [],
   "source": [
    "names = ['Janet','John', 'Sarah', 'Kevin', 'Jean', 'Scott']\n",
    "ages = [45, 56, 7, 23, 4, 99]\n",
    "nationality = ['American', 'Australian', 'English', 'Scottish', 'Irish', 'Kiwi']"
   ]
  },
  {
   "cell_type": "code",
   "execution_count": 2,
   "id": "a9fb33ff-6830-4858-b1fc-62c229db2d53",
   "metadata": {},
   "outputs": [],
   "source": [
    "# As they are lists with values thta concern a same person, we use ZIP in order to relate all three values.\n",
    "people = list(zip(names, ages, nationality))"
   ]
  },
  {
   "cell_type": "code",
   "execution_count": 3,
   "id": "ea07e612-9c56-4e69-b7fb-e1ba07480142",
   "metadata": {},
   "outputs": [
    {
     "data": {
      "text/plain": [
       "[('Janet', 45, 'American'),\n",
       " ('John', 56, 'Australian'),\n",
       " ('Sarah', 7, 'English'),\n",
       " ('Kevin', 23, 'Scottish'),\n",
       " ('Jean', 4, 'Irish'),\n",
       " ('Scott', 99, 'Kiwi')]"
      ]
     },
     "execution_count": 3,
     "metadata": {},
     "output_type": "execute_result"
    }
   ],
   "source": [
    "people"
   ]
  },
  {
   "cell_type": "markdown",
   "id": "74f754f6-4bbc-4715-83bd-eb006384069f",
   "metadata": {},
   "source": [
    "zip works like map and filter - zip itself is purely an **iterable** object, like enumerate is, so we need to use **list()** or iterate via a **loop** to get its values!"
   ]
  },
  {
   "cell_type": "code",
   "execution_count": 4,
   "id": "d0d68e82-685a-4847-8369-052187a1c6f7",
   "metadata": {},
   "outputs": [
    {
     "data": {
      "text/plain": [
       "<zip at 0x7f5d210c7080>"
      ]
     },
     "execution_count": 4,
     "metadata": {},
     "output_type": "execute_result"
    }
   ],
   "source": [
    "# Else, we obtain nothing, and it's not subscriptable either!\n",
    "zip(names, ages, nationality)"
   ]
  },
  {
   "cell_type": "markdown",
   "id": "c3e4d784-8b99-4707-bf1b-7bc439278b16",
   "metadata": {},
   "source": [
    "When would we use it? Beneficial, for instance, in loops or **conditional statements** that have to do with other values than the ingested list:"
   ]
  },
  {
   "cell_type": "code",
   "execution_count": 11,
   "id": "2c1e563a-f0df-4161-add5-98cd67c0a328",
   "metadata": {},
   "outputs": [
    {
     "name": "stdout",
     "output_type": "stream",
     "text": [
      "['John', 'Scott']\n"
     ]
    }
   ],
   "source": [
    "people = list(zip(names, ages, nationality))\n",
    "\n",
    "# Easier than having to go back to the original lists by means of indexing them with a counter index via enumerate!\n",
    "new_list = []\n",
    "for n, a, nat in people:\n",
    "    if a > 45:\n",
    "        new_list.append(n)\n",
    "    else:\n",
    "        pass\n",
    "\n",
    "print(new_list)"
   ]
  },
  {
   "cell_type": "markdown",
   "id": "fe9cede0-a496-4c9a-8ac4-6941e5fbf719",
   "metadata": {},
   "source": [
    "### **in / not in**\n",
    "\n",
    "We have not yet formally introduced, though we've seen, the **in / not in** operators. They work as in SQL and can be used for strings, lists, whatever sort of sequence of objects."
   ]
  },
  {
   "cell_type": "code",
   "execution_count": 8,
   "id": "24c071bf-7d5d-44f3-b51c-68f86b1784db",
   "metadata": {},
   "outputs": [
    {
     "data": {
      "text/plain": [
       "True"
      ]
     },
     "execution_count": 8,
     "metadata": {},
     "output_type": "execute_result"
    }
   ],
   "source": [
    "'Sarah' in names"
   ]
  },
  {
   "cell_type": "code",
   "execution_count": 9,
   "id": "c40dfe59-41a5-4888-bc26-701827c18a83",
   "metadata": {},
   "outputs": [
    {
     "data": {
      "text/plain": [
       "True"
      ]
     },
     "execution_count": 9,
     "metadata": {},
     "output_type": "execute_result"
    }
   ],
   "source": [
    "'Fred' not in names"
   ]
  },
  {
   "cell_type": "code",
   "execution_count": 13,
   "id": "8bf550a3-56fe-479f-a012-01ee16fa7c13",
   "metadata": {},
   "outputs": [
    {
     "data": {
      "text/plain": [
       "True"
      ]
     },
     "execution_count": 13,
     "metadata": {},
     "output_type": "execute_result"
    }
   ],
   "source": [
    "'orange' in 'orange and pears and apples and I also love bananas'"
   ]
  },
  {
   "cell_type": "code",
   "execution_count": 14,
   "id": "194991a8-bb09-468b-b2e3-0786091ba728",
   "metadata": {},
   "outputs": [
    {
     "data": {
      "text/plain": [
       "True"
      ]
     },
     "execution_count": 14,
     "metadata": {},
     "output_type": "execute_result"
    }
   ],
   "source": [
    "# Watch out! It's case sensitive!\n",
    "'Orange' in 'orange and pears and apples and I also love bananas'"
   ]
  },
  {
   "cell_type": "markdown",
   "id": "17f1f533-5c5e-4882-b763-64fbd9a911f9",
   "metadata": {},
   "source": [
    "#### **Exercise 1**\n",
    "\n",
    "We have 2 lists, of books and their authors. They match index to index. Zip them. \n",
    "\n",
    "Then, write a function that iterates through them and capitalizes all the words in both names and book names. \n",
    "\n",
    "Plus, we will insert some Data Quality into it, if the book is in the list of \"corrected books\", we'll substitute it by a correct book of the author, inside the function itself."
   ]
  },
  {
   "cell_type": "code",
   "execution_count": 16,
   "id": "b6b9490b-595d-44f9-915d-efaca36e2f94",
   "metadata": {},
   "outputs": [],
   "source": [
    "authors = ['nabokov', 'turgenev', 'sartre', 'shakespeare', 'morrison', 'smith', 'murakami', 'mishima', 'garcía márquez']\n",
    "books = ['moby dick', 'fathers and sons', 'the nausea', 'the trial', 'beloved', 'to the lighthouse', \"a wild sheep's chase\", 'the golden pavilion', 'solaris']\n",
    "\n",
    "wronged_authors = ['nabokov', 'shakespeare', 'smith', 'garcía márquez']\n",
    "corrected_books = ['pale fire', 'the tempest', 'white teeth', '100 years of solitude']"
   ]
  },
  {
   "cell_type": "markdown",
   "id": "2c4ff1c1-fa18-41fb-93de-efea3f0e9540",
   "metadata": {},
   "source": [
    "**Solution**"
   ]
  },
  {
   "cell_type": "code",
   "execution_count": 20,
   "id": "0b494a37-86e1-48fe-ba75-7e0a198977e6",
   "metadata": {},
   "outputs": [],
   "source": [
    "mylist = list(zip(authors, books))"
   ]
  },
  {
   "cell_type": "code",
   "execution_count": 39,
   "id": "b655d92a-9007-41d4-a4d9-4fa16e1582f1",
   "metadata": {},
   "outputs": [],
   "source": [
    "def my_func(mylist):\n",
    "    new_list_authors = []\n",
    "    new_list_books = []\n",
    "    for a, b in mylist:\n",
    "        new_name = []\n",
    "        new_book = []\n",
    "        for x in a.split():\n",
    "            new_name.append(x.capitalize())\n",
    "        for x in b.split():\n",
    "            new_book.append(x.capitalize())\n",
    "        new_list_authors.append(\" \".join(new_name))\n",
    "        new_list_books.append(\" \".join(new_book))\n",
    "    \n",
    "    new_zip = list(zip(new_list_authors, new_list_books))\n",
    "    \n",
    "    for ind, i in enumerate(new_zip):\n",
    "        if i[0].lower() in wronged_authors:\n",
    "            new_zip[ind] = i[0], corrected_books[wronged_authors.index(i[0].lower())]\n",
    "        else:\n",
    "            pass\n",
    "    \n",
    "    return new_zip\n",
    "        "
   ]
  },
  {
   "cell_type": "code",
   "execution_count": 40,
   "id": "e3eacb72-b614-472a-b6e8-ee34a1608746",
   "metadata": {},
   "outputs": [
    {
     "data": {
      "text/plain": [
       "[('Nabokov', 'pale fire'),\n",
       " ('Turgenev', 'Fathers And Sons'),\n",
       " ('Sartre', 'The Nausea'),\n",
       " ('Shakespeare', 'the tempest'),\n",
       " ('Morrison', 'Beloved'),\n",
       " ('Smith', 'white teeth'),\n",
       " ('Murakami', \"A Wild Sheep's Chase\"),\n",
       " ('Mishima', 'The Golden Pavilion'),\n",
       " ('García Márquez', '100 years of solitude')]"
      ]
     },
     "execution_count": 40,
     "metadata": {},
     "output_type": "execute_result"
    }
   ],
   "source": [
    "my_func(mylist)"
   ]
  },
  {
   "cell_type": "markdown",
   "id": "b636cc12-c173-4e40-a000-ab904226ee16",
   "metadata": {},
   "source": [
    "### **min / max operators**\n",
    "\n",
    "They are useful operators used to obtain the **minimum or maximum value** out of a sequence.\n",
    "\n",
    "They can be used with numbers and strings, separatedly, **but not together**."
   ]
  },
  {
   "cell_type": "code",
   "execution_count": 41,
   "id": "807b5237-4e54-49e3-aa4b-c6680c3c9355",
   "metadata": {},
   "outputs": [
    {
     "name": "stdout",
     "output_type": "stream",
     "text": [
      "7\n",
      "xi\n"
     ]
    },
    {
     "ename": "TypeError",
     "evalue": "'>' not supported between instances of 'str' and 'int'",
     "output_type": "error",
     "traceback": [
      "\u001b[0;31m---------------------------------------------------------------------------\u001b[0m",
      "\u001b[0;31mTypeError\u001b[0m                                 Traceback (most recent call last)",
      "Input \u001b[0;32mIn [41]\u001b[0m, in \u001b[0;36m<cell line: 7>\u001b[0;34m()\u001b[0m\n\u001b[1;32m      5\u001b[0m \u001b[38;5;28mprint\u001b[39m(\u001b[38;5;28mmax\u001b[39m(list_n))\n\u001b[1;32m      6\u001b[0m \u001b[38;5;28mprint\u001b[39m(\u001b[38;5;28mmax\u001b[39m(list_s))\n\u001b[0;32m----> 7\u001b[0m \u001b[38;5;28mprint\u001b[39m(\u001b[38;5;28mmax\u001b[39m(list_h))\n",
      "\u001b[0;31mTypeError\u001b[0m: '>' not supported between instances of 'str' and 'int'"
     ]
    }
   ],
   "source": [
    "list_n = [1, 2, 3, 4, 5, 6, 7, 4, 5, 2]\n",
    "list_s = ['tom', 'fred', 'kara', 'xi', 'xavier', 'donald']\n",
    "list_h = [1, 2, 3, 4, 'a', 'b']\n",
    "\n",
    "print(max(list_n))\n",
    "print(max(list_s))\n",
    "print(max(list_h))"
   ]
  },
  {
   "cell_type": "markdown",
   "id": "ae99111c-1cfa-485f-88a8-1251105b7acd",
   "metadata": {},
   "source": [
    "For strings, watch out with **case sensitiveness**:"
   ]
  },
  {
   "cell_type": "code",
   "execution_count": 16,
   "id": "2696ec49-513f-46cc-a0ea-97c26cecd14c",
   "metadata": {},
   "outputs": [],
   "source": [
    "list_s = ['tom', 'fred', 'kara', 'xi', 'xavier', 'donald']\n",
    "list_s2 = ['Tom', 'fred', 'kara', 'Xi', 'xavier', 'donald']"
   ]
  },
  {
   "cell_type": "code",
   "execution_count": 18,
   "id": "fdfa7df9-dcb7-42ed-a975-0d9e3bd9f744",
   "metadata": {},
   "outputs": [
    {
     "name": "stdout",
     "output_type": "stream",
     "text": [
      "xi\n",
      "donald\n",
      "xavier\n",
      "Tom\n"
     ]
    }
   ],
   "source": [
    "# Uppercase letters come first than lowercase ones!\n",
    "print(max(list_s))\n",
    "print(min(list_s))\n",
    "print(max(list_s2))\n",
    "print(min(list_s2))"
   ]
  },
  {
   "cell_type": "markdown",
   "id": "bc7cb97e-52a4-4327-b324-8d4a5eebf459",
   "metadata": {},
   "source": [
    "## **03.2 Error and Exception Handling**\n",
    "\n",
    "So far in this course, and ever in your Python experience, you must have gotten dozens and dozens of errors.\n",
    "\n",
    "**Try/Except** are statements used to **avoid these errors**. It makes sense to use them if there are particular circumstances where an **error is expected**.\n",
    "\n",
    "Let's first see how to use them:"
   ]
  },
  {
   "cell_type": "code",
   "execution_count": 43,
   "id": "41a0d811-b467-4f35-887f-f13e00d6a6a1",
   "metadata": {},
   "outputs": [
    {
     "name": "stdout",
     "output_type": "stream",
     "text": [
      "['john', 'smith']\n",
      "['martha', 'stewart']\n",
      "['elon', 'musk']\n"
     ]
    },
    {
     "ename": "AttributeError",
     "evalue": "'int' object has no attribute 'split'",
     "output_type": "error",
     "traceback": [
      "\u001b[0;31m---------------------------------------------------------------------------\u001b[0m",
      "\u001b[0;31mAttributeError\u001b[0m                            Traceback (most recent call last)",
      "Input \u001b[0;32mIn [43]\u001b[0m, in \u001b[0;36m<cell line: 4>\u001b[0;34m()\u001b[0m\n\u001b[1;32m      2\u001b[0m l \u001b[38;5;241m=\u001b[39m [\u001b[38;5;124m'\u001b[39m\u001b[38;5;124mjohn smith\u001b[39m\u001b[38;5;124m'\u001b[39m, \u001b[38;5;124m'\u001b[39m\u001b[38;5;124mmartha stewart\u001b[39m\u001b[38;5;124m'\u001b[39m, \u001b[38;5;124m'\u001b[39m\u001b[38;5;124melon musk\u001b[39m\u001b[38;5;124m'\u001b[39m, \u001b[38;5;241m4\u001b[39m, \u001b[38;5;124m'\u001b[39m\u001b[38;5;124mjon rahm\u001b[39m\u001b[38;5;124m'\u001b[39m]\n\u001b[1;32m      4\u001b[0m \u001b[38;5;28;01mfor\u001b[39;00m i \u001b[38;5;129;01min\u001b[39;00m l:\n\u001b[0;32m----> 5\u001b[0m     \u001b[38;5;28mprint\u001b[39m(i\u001b[38;5;241m.\u001b[39msplit())\n",
      "\u001b[0;31mAttributeError\u001b[0m: 'int' object has no attribute 'split'"
     ]
    }
   ],
   "source": [
    "# it does not print anything else!\n",
    "l = ['john smith', 'martha stewart', 'elon musk', 4, 'jon rahm']\n",
    "\n",
    "for i in l:\n",
    "    print(i.split())"
   ]
  },
  {
   "cell_type": "code",
   "execution_count": 46,
   "id": "9ece6840-448a-4edf-b08f-2027d055332e",
   "metadata": {},
   "outputs": [
    {
     "name": "stdout",
     "output_type": "stream",
     "text": [
      "['john', 'smith']\n",
      "['martha', 'stewart']\n",
      "['elon', 'musk']\n",
      "This has triggered an error! 4\n",
      "['jon', 'rahm']\n"
     ]
    }
   ],
   "source": [
    "# it does not print anything else!\n",
    "l = ['john smith', 'martha stewart', 'elon musk', 4, 'jon rahm']\n",
    "\n",
    "for i in l:\n",
    "    try:\n",
    "        print(i.split())\n",
    "    except:\n",
    "        print(f\"This has triggered an error! {i}\")"
   ]
  },
  {
   "cell_type": "code",
   "execution_count": 45,
   "id": "31b76577-a9e2-43ac-956c-0e0a4c731661",
   "metadata": {},
   "outputs": [
    {
     "name": "stdout",
     "output_type": "stream",
     "text": [
      "['john', 'smith']\n",
      "['martha', 'stewart']\n",
      "['elon', 'musk']\n",
      "['jon', 'rahm']\n"
     ]
    }
   ],
   "source": [
    "# A workaround without try/except:\n",
    "l = ['john smith', 'martha stewart', 'elon musk', 4, 'jon rahm']\n",
    "\n",
    "for i in l:\n",
    "    if type(i) == str:\n",
    "        print(i.split())\n",
    "    else:\n",
    "        pass"
   ]
  },
  {
   "cell_type": "markdown",
   "id": "17da5667-002c-4c93-9bd5-e2aad12a6120",
   "metadata": {},
   "source": [
    "However, a good idea if you're obtaining an error **is to see why you're obtaining it, instead of just avoiding it**.\n",
    "\n",
    "That's because, when an expection gets triggered, it may be **more computationally expensive** to use ty/except rather than a corrected version of your code.\n",
    "\n",
    "Plus, it is well possible that you might be **missing important errors** in your code by the use of these functions.\n",
    "\n",
    "Try/except is for instance a good thing to use altogether with **input()**."
   ]
  },
  {
   "cell_type": "code",
   "execution_count": 47,
   "id": "597a422e-080b-456a-bf08-c55e7c87863c",
   "metadata": {},
   "outputs": [],
   "source": [
    "# let's define a function to multiply by 5 a number inputed by the user\n",
    "def func1():\n",
    "    while True:\n",
    "        x = input('Please enter an integer number')\n",
    "        try:\n",
    "            n = int(x)\n",
    "            print(f\"Multiplied by 5: {n*5}\")\n",
    "            break\n",
    "        except: \n",
    "            print('This is not an integer! Try again!!')"
   ]
  },
  {
   "cell_type": "code",
   "execution_count": 48,
   "id": "26c10b49-341e-46e1-9d6c-e7cb130658af",
   "metadata": {},
   "outputs": [
    {
     "name": "stdout",
     "output_type": "stream",
     "text": [
      "Please enter an integer number hello\n"
     ]
    },
    {
     "name": "stdout",
     "output_type": "stream",
     "text": [
      "This is not an integer! Try again!!\n"
     ]
    },
    {
     "name": "stdout",
     "output_type": "stream",
     "text": [
      "Please enter an integer number hello\n"
     ]
    },
    {
     "name": "stdout",
     "output_type": "stream",
     "text": [
      "This is not an integer! Try again!!\n"
     ]
    },
    {
     "name": "stdout",
     "output_type": "stream",
     "text": [
      "Please enter an integer number hello\n"
     ]
    },
    {
     "name": "stdout",
     "output_type": "stream",
     "text": [
      "This is not an integer! Try again!!\n"
     ]
    },
    {
     "name": "stdout",
     "output_type": "stream",
     "text": [
      "Please enter an integer number 1.5\n"
     ]
    },
    {
     "name": "stdout",
     "output_type": "stream",
     "text": [
      "This is not an integer! Try again!!\n"
     ]
    },
    {
     "name": "stdout",
     "output_type": "stream",
     "text": [
      "Please enter an integer number 3\n"
     ]
    },
    {
     "name": "stdout",
     "output_type": "stream",
     "text": [
      "Multiplied by 5: 15\n"
     ]
    }
   ],
   "source": [
    "func1()"
   ]
  },
  {
   "cell_type": "markdown",
   "id": "f4893b81-28d6-47f3-87d9-72ebca3d0459",
   "metadata": {},
   "source": [
    "#### **Exercise 2**\n",
    "\n",
    "Create a function that intakes the name of a particular Book author. Make it so that:\n",
    " - If the inputed value is not a string, the function prints: \"Not even a string! Do try again!!\"\n",
    " - If the inputed value is a string, but not in the author list we had before, it prints: \"Not a valid author!\"\n",
    "And it makes the person input an author of the previous list, and till then it does not stop.\n",
    "Once the author has been inputed, do return it capitalized. "
   ]
  },
  {
   "cell_type": "markdown",
   "id": "af54dad2-51b2-4f94-9b39-e62cdea994c2",
   "metadata": {},
   "source": [
    "**Solution**"
   ]
  },
  {
   "cell_type": "code",
   "execution_count": 54,
   "id": "dee6cde8-bca8-4ccc-bce3-92ac76b700fc",
   "metadata": {},
   "outputs": [],
   "source": [
    "def myfunc():\n",
    "    while True:\n",
    "        x = input(\"Enter author\")\n",
    "        if type(x) != str:\n",
    "            print(\"Not even a string! Do try again!!\")\n",
    "            continue\n",
    "        elif type(x) == str and x not in authors:\n",
    "            print(\"Not a valid author! Enter a value for the 'authors' list\")\n",
    "            continue\n",
    "        else:\n",
    "            return x.title()\n",
    "           "
   ]
  },
  {
   "cell_type": "code",
   "execution_count": 55,
   "id": "f74e2eb9-f671-417a-ad19-2aff4f91cd6d",
   "metadata": {},
   "outputs": [
    {
     "name": "stdout",
     "output_type": "stream",
     "text": [
      "Enter author 3\n"
     ]
    },
    {
     "name": "stdout",
     "output_type": "stream",
     "text": [
      "Not a valid author! Enter a value for the 'authors' list\n"
     ]
    },
    {
     "name": "stdout",
     "output_type": "stream",
     "text": [
      "Enter author a\n"
     ]
    },
    {
     "name": "stdout",
     "output_type": "stream",
     "text": [
      "Not a valid author! Enter a value for the 'authors' list\n"
     ]
    },
    {
     "name": "stdout",
     "output_type": "stream",
     "text": [
      "Enter author nabokov\n"
     ]
    },
    {
     "data": {
      "text/plain": [
       "'Nabokov'"
      ]
     },
     "execution_count": 55,
     "metadata": {},
     "output_type": "execute_result"
    }
   ],
   "source": [
    "myfunc()"
   ]
  },
  {
   "cell_type": "markdown",
   "id": "d3e3234e-9d33-4520-ba76-0b41d2ab6044",
   "metadata": {},
   "source": [
    "## **03.3. List Comprehensions**\n",
    "\n",
    "List comprehensions are an easy way to do an iteration of the elements of a list, if the transformation done is simple, in a **one liner**. Let's see an example of that:"
   ]
  },
  {
   "cell_type": "code",
   "execution_count": 13,
   "id": "5e84d3ce-1696-4998-a539-d23241509a63",
   "metadata": {},
   "outputs": [],
   "source": [
    "l = [1, 4, 6, 8, 12, 45, 6, 78, 0, 23]"
   ]
  },
  {
   "cell_type": "code",
   "execution_count": 14,
   "id": "a84fcf6b-bd19-4a22-80aa-d2c17a82f563",
   "metadata": {},
   "outputs": [
    {
     "data": {
      "text/plain": [
       "[1, 16, 36, 64, 144, 2025, 36, 6084, 0, 529]"
      ]
     },
     "execution_count": 14,
     "metadata": {},
     "output_type": "execute_result"
    }
   ],
   "source": [
    "[i**2 for i in l]"
   ]
  },
  {
   "cell_type": "markdown",
   "id": "c8f89da2-62d1-47f4-920a-1ac3b46e29b1",
   "metadata": {},
   "source": [
    "We can also introduce **if/elses** in it:"
   ]
  },
  {
   "cell_type": "code",
   "execution_count": 16,
   "id": "23d2b5bc-858d-42ed-bd74-aed4fa5c4ab7",
   "metadata": {},
   "outputs": [
    {
     "data": {
      "text/plain": [
       "['not allowed', 16, 36, 64, 144, 2025, 36, 6084, 'not allowed', 529]"
      ]
     },
     "execution_count": 16,
     "metadata": {},
     "output_type": "execute_result"
    }
   ],
   "source": [
    "[i**2 if i > 2 else 'not allowed' for i in l]"
   ]
  },
  {
   "cell_type": "markdown",
   "id": "518e984f-c0d5-48c0-a672-445ba3c6cffe",
   "metadata": {},
   "source": [
    "#### **Exercise 3**\n",
    "\n",
    "Use a list comprehension to obtain the squared value + 1 of each element in the list.\n",
    "\n",
    "This also could have been done in different ways! Replicate the result by using a traditional for loop, and by using the map function + a lambda function."
   ]
  },
  {
   "cell_type": "code",
   "execution_count": 57,
   "id": "f9147fc3-30e2-4457-a72d-0c798ecb1978",
   "metadata": {},
   "outputs": [],
   "source": [
    "list_num = [1, 2, 3, 4, 5, 6, 7, 8, 9]"
   ]
  },
  {
   "cell_type": "markdown",
   "id": "06032c10-5acd-4a78-b5ed-7d1783905bfa",
   "metadata": {},
   "source": [
    "**Solution**"
   ]
  },
  {
   "cell_type": "code",
   "execution_count": 58,
   "id": "2695974b-3ad9-4a54-b077-e143152f0a73",
   "metadata": {},
   "outputs": [
    {
     "data": {
      "text/plain": [
       "[2, 5, 10, 17, 26, 37, 50, 65, 82]"
      ]
     },
     "execution_count": 58,
     "metadata": {},
     "output_type": "execute_result"
    }
   ],
   "source": [
    "[i**2 + 1 for i in list_num]"
   ]
  },
  {
   "cell_type": "code",
   "execution_count": 59,
   "id": "2d9d24bf-2b44-4285-86b1-b4610df2b934",
   "metadata": {},
   "outputs": [
    {
     "data": {
      "text/plain": [
       "[2, 5, 10, 17, 26, 37, 50, 65, 82]"
      ]
     },
     "execution_count": 59,
     "metadata": {},
     "output_type": "execute_result"
    }
   ],
   "source": [
    "new_list = []\n",
    "for i in list_num:\n",
    "    new_list.append(i**2 + 1)\n",
    "\n",
    "new_list"
   ]
  },
  {
   "cell_type": "code",
   "execution_count": 60,
   "id": "d2182f2f-6cf6-4c84-b739-7168e32f94e5",
   "metadata": {},
   "outputs": [
    {
     "data": {
      "text/plain": [
       "[2, 5, 10, 17, 26, 37, 50, 65, 82]"
      ]
     },
     "execution_count": 60,
     "metadata": {},
     "output_type": "execute_result"
    }
   ],
   "source": [
    "list(map(lambda x: x**2 + 1, list_num))"
   ]
  },
  {
   "cell_type": "markdown",
   "id": "574c2309-bdfd-4e38-8e6b-442d15cc3b7a",
   "metadata": {},
   "source": [
    "## **03.4. Added Modules and Packages**\n",
    "\n",
    "In the present section, we will see some added Python **modules** i.e., additional code functionalities that need to be **imported** to be used on top of the base Python packages. All those that we willl be overviewing are quite basic, though they present interesting functionalities."
   ]
  },
  {
   "cell_type": "markdown",
   "id": "965c9b20-7582-41ab-bdb1-975f03c1e1fd",
   "metadata": {},
   "source": [
    "### **random**\n",
    "The random module allows us to create \"random\" numbers. At our level of understanding, they are indeed random numbers.\n",
    "\n",
    "The generation of a random number can be linked and restricted to what is called a **seed** to ensure the reproducibility of results. This is a pseudo-important concept at the time of dealing with Machine Learning problems.\n",
    "\n",
    "Let's see what we mean by random, seed, and how to use them:\n",
    "\n"
   ]
  },
  {
   "cell_type": "code",
   "execution_count": 17,
   "id": "717e6bd4-8860-48c5-ad99-50f0aaa5b83f",
   "metadata": {},
   "outputs": [],
   "source": [
    "# these are added modules, so we have to import them\n",
    "import random"
   ]
  },
  {
   "cell_type": "code",
   "execution_count": 69,
   "id": "1b27439a-9818-434d-9971-1434d07f9bde",
   "metadata": {},
   "outputs": [
    {
     "data": {
      "text/plain": [
       "160"
      ]
     },
     "execution_count": 69,
     "metadata": {},
     "output_type": "execute_result"
    }
   ],
   "source": [
    "# each time you execute it, a new number appears\n",
    "random.randint(30, 400)"
   ]
  },
  {
   "cell_type": "code",
   "execution_count": 66,
   "id": "4aa50a2f-f9ab-4edc-bb60-8a4a4deec576",
   "metadata": {},
   "outputs": [
    {
     "data": {
      "text/plain": [
       "185"
      ]
     },
     "execution_count": 66,
     "metadata": {},
     "output_type": "execute_result"
    }
   ],
   "source": [
    "random.randint(30, 400)"
   ]
  },
  {
   "cell_type": "markdown",
   "id": "94ff3c50-16fa-4215-9c2a-07f35ed71b4b",
   "metadata": {},
   "source": [
    "To get reproducible results, we can se a particular **seed** to it i.e., an **arbitrary number** that will ensure **reproducible** values in a same cycle of repetition."
   ]
  },
  {
   "cell_type": "code",
   "execution_count": 22,
   "id": "d70d8723-18cf-478f-90bb-cc40cf63f55b",
   "metadata": {},
   "outputs": [
    {
     "name": "stdout",
     "output_type": "stream",
     "text": [
      "81\n",
      "14\n",
      "3\n",
      "Let's reset the seed yet again, and you see how we obtain the same reslts as before\n",
      "81\n",
      "14\n",
      "3\n",
      "94\n"
     ]
    }
   ],
   "source": [
    "random.seed(42)\n",
    "print(random.randint(0, 100))\n",
    "print(random.randint(0, 100))\n",
    "print(random.randint(0, 100))\n",
    "print(\"Let's reset the seed yet again, and you see how we obtain the same reslts as before\")\n",
    "random.seed(42)\n",
    "print(random.randint(0, 100))\n",
    "print(random.randint(0, 100))\n",
    "print(random.randint(0, 100))\n",
    "print(random.randint(0, 100))"
   ]
  },
  {
   "cell_type": "markdown",
   "id": "5fff5d58-7bd0-48d6-9d88-9da044cc968a",
   "metadata": {},
   "source": [
    "random can also be used, altogether with **lists** to **get** values or **reorder** them."
   ]
  },
  {
   "cell_type": "code",
   "execution_count": 71,
   "id": "63773e75-93fc-4386-b377-e429b357f827",
   "metadata": {},
   "outputs": [],
   "source": [
    "fruits = ['apple', 'figue', 'grapefruit', 'grapes', 'pineapple', 'mango', 'blueberries']"
   ]
  },
  {
   "cell_type": "code",
   "execution_count": 75,
   "id": "1d18166d-7bda-4eb1-b858-e86f1b5df4aa",
   "metadata": {},
   "outputs": [
    {
     "data": {
      "text/plain": [
       "'grapes'"
      ]
     },
     "execution_count": 75,
     "metadata": {},
     "output_type": "execute_result"
    }
   ],
   "source": [
    "# What am I going to eat now?\n",
    "random.choice(fruits)"
   ]
  },
  {
   "cell_type": "code",
   "execution_count": 29,
   "id": "9fbda9aa-c580-4283-9c05-df85b54dfb63",
   "metadata": {},
   "outputs": [
    {
     "data": {
      "text/plain": [
       "['mango', 'figue', 'blueberries', 'grapes', 'apple', 'pineapple', 'grapefruit']"
      ]
     },
     "execution_count": 29,
     "metadata": {},
     "output_type": "execute_result"
    }
   ],
   "source": [
    "# we can also reorder them to get a different order than we had before:\n",
    "random.shuffle(fruits)\n",
    "fruits"
   ]
  },
  {
   "cell_type": "code",
   "execution_count": 30,
   "id": "39e7dc41-6ca1-4ef0-b416-dbcb3037c49e",
   "metadata": {},
   "outputs": [
    {
     "data": {
      "text/plain": [
       "['blueberries', 'figue', 'mango', 'grapes', 'apple', 'grapefruit', 'pineapple']"
      ]
     },
     "execution_count": 30,
     "metadata": {},
     "output_type": "execute_result"
    }
   ],
   "source": [
    "random.shuffle(fruits)\n",
    "fruits"
   ]
  },
  {
   "cell_type": "markdown",
   "id": "1218b98a-3cf4-4a0b-b047-46a91b6f0310",
   "metadata": {},
   "source": [
    "### **math**\n",
    "\n",
    "Math is the Python package used for most things amt that you will need. Let's see some of its functions. "
   ]
  },
  {
   "cell_type": "code",
   "execution_count": 35,
   "id": "67412026-3cea-435f-987a-389a478ac24a",
   "metadata": {},
   "outputs": [],
   "source": [
    "import math"
   ]
  },
  {
   "cell_type": "code",
   "execution_count": 39,
   "id": "e080fa07-0946-4523-b495-54b230f89148",
   "metadata": {},
   "outputs": [],
   "source": [
    "x = 22.34"
   ]
  },
  {
   "cell_type": "code",
   "execution_count": 40,
   "id": "ad4dd8df-5592-4c06-95fb-5d166097cd6f",
   "metadata": {},
   "outputs": [
    {
     "data": {
      "text/plain": [
       "22"
      ]
     },
     "execution_count": 40,
     "metadata": {},
     "output_type": "execute_result"
    }
   ],
   "source": [
    "# native to Py, not in math\n",
    "round(x)"
   ]
  },
  {
   "cell_type": "code",
   "execution_count": 42,
   "id": "cce66ff9-1f95-42be-b236-78b1d03bcaf7",
   "metadata": {},
   "outputs": [
    {
     "data": {
      "text/plain": [
       "22"
      ]
     },
     "execution_count": 42,
     "metadata": {},
     "output_type": "execute_result"
    }
   ],
   "source": [
    "math.floor(x)"
   ]
  },
  {
   "cell_type": "code",
   "execution_count": 43,
   "id": "2e38ca72-3158-4f6c-ae9f-e25f6a07e430",
   "metadata": {},
   "outputs": [
    {
     "data": {
      "text/plain": [
       "23"
      ]
     },
     "execution_count": 43,
     "metadata": {},
     "output_type": "execute_result"
    }
   ],
   "source": [
    "math.ceil(x)"
   ]
  },
  {
   "cell_type": "code",
   "execution_count": 44,
   "id": "ae2d5efe-b6a7-44c3-bf5f-36780c708b19",
   "metadata": {},
   "outputs": [
    {
     "data": {
      "text/plain": [
       "3.141592653589793"
      ]
     },
     "execution_count": 44,
     "metadata": {},
     "output_type": "execute_result"
    }
   ],
   "source": [
    "math.pi"
   ]
  },
  {
   "cell_type": "markdown",
   "id": "9f28350e-1a30-476e-9ace-76b6c671244b",
   "metadata": {},
   "source": [
    "Also other functions include **logarithms**, **sin, cos, tan**, degrees, radians and others."
   ]
  },
  {
   "cell_type": "markdown",
   "id": "c4b1036b-3aee-4063-98e7-e661686f33aa",
   "metadata": {},
   "source": [
    "### **datetime**\n",
    "\n",
    "The datetime module is your go-to module each time you have to deal with **timestamps**. Let's see some of its functions."
   ]
  },
  {
   "cell_type": "markdown",
   "id": "d9c9ef90-56d6-4c66-9460-40f48f0c49a3",
   "metadata": {},
   "source": [
    "With **times**:"
   ]
  },
  {
   "cell_type": "code",
   "execution_count": 76,
   "id": "ac84c486-a748-40d9-b027-5b307e2ffdd2",
   "metadata": {},
   "outputs": [],
   "source": [
    "from datetime import time"
   ]
  },
  {
   "cell_type": "code",
   "execution_count": 77,
   "id": "639454bf-d871-4574-bde2-5c7c43949a1a",
   "metadata": {},
   "outputs": [
    {
     "name": "stdout",
     "output_type": "stream",
     "text": [
      "16:30:15\n"
     ]
    }
   ],
   "source": [
    "t = time(16, 30, 15)\n",
    "print(t)"
   ]
  },
  {
   "cell_type": "code",
   "execution_count": 50,
   "id": "19a9f732-c95f-4137-8115-58a17bf45b82",
   "metadata": {},
   "outputs": [
    {
     "name": "stdout",
     "output_type": "stream",
     "text": [
      "<class 'datetime.time'>\n",
      "16\n",
      "30\n",
      "15\n"
     ]
    }
   ],
   "source": [
    "# let's break it down:\n",
    "print(type(t))\n",
    "print(t.hour)\n",
    "print(t.minute)\n",
    "print(t.second)"
   ]
  },
  {
   "cell_type": "markdown",
   "id": "11f780b6-a623-4d9f-aa8b-05c75f4be4b4",
   "metadata": {},
   "source": [
    "With **dates**:"
   ]
  },
  {
   "cell_type": "code",
   "execution_count": 78,
   "id": "b0829099-7486-4f9e-92d4-bd690e8e28ca",
   "metadata": {},
   "outputs": [],
   "source": [
    "from datetime import date"
   ]
  },
  {
   "cell_type": "code",
   "execution_count": 79,
   "id": "d59e77b3-f962-4fd7-914f-9a9dd3d55ae8",
   "metadata": {},
   "outputs": [
    {
     "name": "stdout",
     "output_type": "stream",
     "text": [
      "2023-10-11\n"
     ]
    }
   ],
   "source": [
    "today = date.today()\n",
    "print(today)"
   ]
  },
  {
   "cell_type": "code",
   "execution_count": 54,
   "id": "1be2af65-e0af-47cc-be81-5c74bf781f1b",
   "metadata": {},
   "outputs": [
    {
     "name": "stdout",
     "output_type": "stream",
     "text": [
      "Thu Oct  5 00:00:00 2023\n",
      "2023\n",
      "10\n",
      "5\n"
     ]
    }
   ],
   "source": [
    "print(today.ctime())\n",
    "print(today.year)\n",
    "print(today.month)\n",
    "print(today.day)"
   ]
  },
  {
   "cell_type": "code",
   "execution_count": 57,
   "id": "2708147f-1bba-4dd0-a9ee-254f979db2b5",
   "metadata": {},
   "outputs": [
    {
     "name": "stdout",
     "output_type": "stream",
     "text": [
      "2023-09-15\n"
     ]
    }
   ],
   "source": [
    "d = date(2023, 9, 15)\n",
    "print(d)"
   ]
  },
  {
   "cell_type": "code",
   "execution_count": 59,
   "id": "70918474-a15b-4d0b-b670-84376e55d06a",
   "metadata": {},
   "outputs": [
    {
     "name": "stdout",
     "output_type": "stream",
     "text": [
      "2021-09-24\n"
     ]
    }
   ],
   "source": [
    "d = d.replace(year = 2021, day = 24)\n",
    "print(d)"
   ]
  },
  {
   "cell_type": "markdown",
   "id": "e576a2fb-fd06-4d7c-ad21-10ed0d808244",
   "metadata": {},
   "source": [
    "With **datetimes**"
   ]
  },
  {
   "cell_type": "code",
   "execution_count": 80,
   "id": "47464f17-9353-4a41-97ec-132757ad42ef",
   "metadata": {},
   "outputs": [],
   "source": [
    "from datetime import datetime"
   ]
  },
  {
   "cell_type": "code",
   "execution_count": 81,
   "id": "114e2c88-86f5-4909-85fe-43e966eb88c5",
   "metadata": {},
   "outputs": [
    {
     "name": "stdout",
     "output_type": "stream",
     "text": [
      "2023-10-11 10:13:25.754426\n"
     ]
    }
   ],
   "source": [
    "d = datetime.today()\n",
    "print(d)"
   ]
  },
  {
   "cell_type": "code",
   "execution_count": 82,
   "id": "31c5cd0e-83e6-4e8b-aa69-cd22e7b121d4",
   "metadata": {},
   "outputs": [
    {
     "name": "stdout",
     "output_type": "stream",
     "text": [
      "2023\n",
      "11\n",
      "13\n"
     ]
    }
   ],
   "source": [
    "print(d.year)\n",
    "print(d.day)\n",
    "print(d.minute)"
   ]
  },
  {
   "cell_type": "markdown",
   "id": "ed486898-7780-404c-9c71-72f4a34693b6",
   "metadata": {},
   "source": [
    "Performing **timedeltas** with our dates and datetimes"
   ]
  },
  {
   "cell_type": "code",
   "execution_count": 83,
   "id": "6b4f3024-5906-4776-8be7-7d3ca7712457",
   "metadata": {},
   "outputs": [],
   "source": [
    "t1 = datetime(year = 1963, month = 4, day = 7, hour = 7, minute = 9, second = 10)\n",
    "t2 = datetime(year = 1970, month = 9, day = 10, hour = 4, minute = 55, second = 13)\n",
    "duration = t2-t1"
   ]
  },
  {
   "cell_type": "code",
   "execution_count": 86,
   "id": "27512b34-7f61-460b-9eba-e1a834a1d0ef",
   "metadata": {},
   "outputs": [
    {
     "data": {
      "text/plain": [
       "datetime.timedelta(days=2712, seconds=78363)"
      ]
     },
     "execution_count": 86,
     "metadata": {},
     "output_type": "execute_result"
    }
   ],
   "source": [
    "duration"
   ]
  },
  {
   "cell_type": "code",
   "execution_count": 70,
   "id": "d8353573-dc90-4e9a-b00f-1244757b8e03",
   "metadata": {},
   "outputs": [
    {
     "name": "stdout",
     "output_type": "stream",
     "text": [
      "2713 days, 0:00:00\n"
     ]
    }
   ],
   "source": [
    "t1 = datetime(year = 1963, month = 4, day = 7)\n",
    "t2 = datetime(year = 1970, month = 9, day = 10)\n",
    "print(t2-t1)"
   ]
  },
  {
   "cell_type": "markdown",
   "id": "65884382-1a08-43ed-bcc1-65f3e964b808",
   "metadata": {},
   "source": [
    "Both are **timedelta** objects, meaning we can teanslate their values into whatever kind of time unit:"
   ]
  },
  {
   "cell_type": "code",
   "execution_count": 73,
   "id": "bfb1b2f4-835e-4459-be68-25a64372f4f4",
   "metadata": {},
   "outputs": [
    {
     "data": {
      "text/plain": [
       "234395163.0"
      ]
     },
     "execution_count": 73,
     "metadata": {},
     "output_type": "execute_result"
    }
   ],
   "source": [
    "# we always get them in seconds\n",
    "duration.total_seconds()"
   ]
  },
  {
   "cell_type": "code",
   "execution_count": 88,
   "id": "bbca9059-f0d0-408a-a387-20c9f2b77875",
   "metadata": {},
   "outputs": [
    {
     "data": {
      "text/plain": [
       "2712.0"
      ]
     },
     "execution_count": 88,
     "metadata": {},
     "output_type": "execute_result"
    }
   ],
   "source": [
    "# from now, we can calculate whatever by means of diiding:\n",
    "duration.total_seconds()//(3600*24) # hours"
   ]
  },
  {
   "cell_type": "markdown",
   "id": "f7266aad-1092-42e8-80e3-a7407df1f46b",
   "metadata": {},
   "source": [
    "### **regEx**\n",
    "\n",
    "regex stands for Regular Expressions, and it's the Python way of being able to search a match of a string to a specific text pattern"
   ]
  },
  {
   "cell_type": "code",
   "execution_count": 89,
   "id": "2713ec8e-cd27-48fc-8999-806b6360cfd6",
   "metadata": {},
   "outputs": [],
   "source": [
    "import re"
   ]
  },
  {
   "cell_type": "code",
   "execution_count": 90,
   "id": "d193551c-5c57-4821-a434-cddf2d38b3da",
   "metadata": {},
   "outputs": [],
   "source": [
    "s = 'I like oranges and apples and figues and grapes'"
   ]
  },
  {
   "cell_type": "code",
   "execution_count": 91,
   "id": "c5c27e95-7380-4a9e-9862-083373fbb05e",
   "metadata": {},
   "outputs": [],
   "source": [
    "# let's define a pattern to find\n",
    "# so far we keep it as easy as that\n",
    "pattern = 'apple'"
   ]
  },
  {
   "cell_type": "code",
   "execution_count": 92,
   "id": "288b0735-fbee-44d5-9a05-5782e6398a0d",
   "metadata": {},
   "outputs": [
    {
     "data": {
      "text/plain": [
       "<re.Match object; span=(19, 24), match='apple'>"
      ]
     },
     "execution_count": 92,
     "metadata": {},
     "output_type": "execute_result"
    }
   ],
   "source": [
    "re.search(pattern, s)"
   ]
  },
  {
   "cell_type": "code",
   "execution_count": 85,
   "id": "992e0ec3-7543-4519-a30a-f0ef34cac152",
   "metadata": {},
   "outputs": [],
   "source": [
    "# no match obtained!\n",
    "re.search(pattern, 'I just like oranges')"
   ]
  },
  {
   "cell_type": "code",
   "execution_count": 87,
   "id": "cac071f0-5ceb-4621-94f9-ef5de2ba9239",
   "metadata": {},
   "outputs": [
    {
     "name": "stdout",
     "output_type": "stream",
     "text": [
      "None\n"
     ]
    }
   ],
   "source": [
    "# if captured in a variable, the absence of value, it will return a None\n",
    "x = re.search(pattern, 'I just like oranges')\n",
    "print(x)"
   ]
  },
  {
   "cell_type": "markdown",
   "id": "c15bd2fe-4d2d-4f50-903e-c1aea60ec823",
   "metadata": {},
   "source": [
    "Let's see how to obtain important information from our match:"
   ]
  },
  {
   "cell_type": "code",
   "execution_count": 88,
   "id": "2f723738-3808-499b-8670-db1931912343",
   "metadata": {},
   "outputs": [],
   "source": [
    "m = re.search(pattern, s)"
   ]
  },
  {
   "cell_type": "code",
   "execution_count": 89,
   "id": "7d3aa532-7429-4900-83cd-7dc38ba3aa31",
   "metadata": {},
   "outputs": [
    {
     "data": {
      "text/plain": [
       "19"
      ]
     },
     "execution_count": 89,
     "metadata": {},
     "output_type": "execute_result"
    }
   ],
   "source": [
    "m.start()"
   ]
  },
  {
   "cell_type": "code",
   "execution_count": 90,
   "id": "cf3d29e1-1fae-4da6-a67e-8d5915a072db",
   "metadata": {},
   "outputs": [
    {
     "data": {
      "text/plain": [
       "24"
      ]
     },
     "execution_count": 90,
     "metadata": {},
     "output_type": "execute_result"
    }
   ],
   "source": [
    "m.end()"
   ]
  },
  {
   "cell_type": "code",
   "execution_count": 91,
   "id": "4d567c71-5756-459c-b663-718163cbd28d",
   "metadata": {},
   "outputs": [
    {
     "data": {
      "text/plain": [
       "(19, 24)"
      ]
     },
     "execution_count": 91,
     "metadata": {},
     "output_type": "execute_result"
    }
   ],
   "source": [
    "m.span()"
   ]
  },
  {
   "cell_type": "markdown",
   "id": "43a190a1-f361-4fa9-8b1b-13e0e7a2d647",
   "metadata": {},
   "source": [
    "If we have **more than one** occurrence:"
   ]
  },
  {
   "cell_type": "code",
   "execution_count": 92,
   "id": "af5e1213-4fdd-48ad-81c5-a3516234b132",
   "metadata": {},
   "outputs": [],
   "source": [
    "s2 = 'I like apples and oranges and apples and figues and apples and bananas'"
   ]
  },
  {
   "cell_type": "code",
   "execution_count": 94,
   "id": "5aac3ecd-e7a2-465f-85ec-3014fa0e1da7",
   "metadata": {},
   "outputs": [
    {
     "data": {
      "text/plain": [
       "['apple', 'apple', 'apple']"
      ]
     },
     "execution_count": 94,
     "metadata": {},
     "output_type": "execute_result"
    }
   ],
   "source": [
    "# this just gets a list of the occurrences\n",
    "ms = re.findall(pattern, s2)\n",
    "ms"
   ]
  },
  {
   "cell_type": "code",
   "execution_count": 96,
   "id": "c749539b-58d8-4851-951f-ff76ccce2b93",
   "metadata": {},
   "outputs": [
    {
     "name": "stdout",
     "output_type": "stream",
     "text": [
      "<re.Match object; span=(7, 12), match='apple'>\n",
      "<re.Match object; span=(30, 35), match='apple'>\n",
      "<re.Match object; span=(52, 57), match='apple'>\n"
     ]
    }
   ],
   "source": [
    "# to get the exact matches, let's do an iteration of them:\n",
    "# we get whereall of them are located at\n",
    "for m in re.finditer(pattern, s2):\n",
    "    print(m)"
   ]
  },
  {
   "cell_type": "markdown",
   "id": "217682b6-2220-4464-a7c1-c5844db4ef12",
   "metadata": {},
   "source": [
    "#### **Using RegEx with Patterns**\n",
    "\n",
    "Not only specific strings like before, but broader patterns to **capture** more occurrences instances can also be considered. For instance:\n",
    " - \\d stands for digits\n",
    " - \\w stands for alphanumeric characters\n",
    " - \\s stands for white spaces\n",
    " - \\D for non-digits\n",
    " - \\W for non-alphanumeric\n",
    " - \\S for non-whitespaces\n",
    " - | is an or operator\n",
    " - . stands for whatever character\n",
    " - $ stands for end with\n",
    " - ^ stands for begins with\n",
    " - a plus sign (+) stands for occurs one or more times\n",
    " - {number} stands for occurs a specific number of times\n",
    " - {number,} stands for occurs a number, or more, of times\n",
    " - \\* stands for occurs zero or more times\n",
    " - ? stands for occurs once or none"
   ]
  },
  {
   "cell_type": "code",
   "execution_count": 98,
   "id": "808d64a5-ae1d-47b5-b312-4ad9990d63dd",
   "metadata": {},
   "outputs": [
    {
     "name": "stdout",
     "output_type": "stream",
     "text": [
      "<re.Match object; span=(7, 12), match='apple'>\n",
      "<re.Match object; span=(18, 24), match='orange'>\n",
      "<re.Match object; span=(30, 35), match='apple'>\n",
      "<re.Match object; span=(52, 57), match='apple'>\n"
     ]
    }
   ],
   "source": [
    "# important the inclusion of the r in front of the string!\n",
    "pattern = r'orange|apple'\n",
    "\n",
    "for m in re.finditer(pattern, s2):\n",
    "    print(m)"
   ]
  },
  {
   "cell_type": "code",
   "execution_count": 98,
   "id": "8781f7e6-93b9-4464-a869-8f37055cc7ec",
   "metadata": {},
   "outputs": [
    {
     "name": "stdout",
     "output_type": "stream",
     "text": [
      "<re.Match object; span=(7, 13), match='5 cars'>\n",
      "<re.Match object; span=(18, 26), match='6 houses'>\n",
      "<re.Match object; span=(31, 38), match='10 pens'>\n"
     ]
    }
   ],
   "source": [
    "# important the inclusion of the r in front of the string!\n",
    "s = 'I have 5 cars and 6 houses and 10 pens'\n",
    "\n",
    "pattern = r'\\d+\\s\\w+'\n",
    "\n",
    "for m in re.finditer(pattern, s):\n",
    "    print(m)"
   ]
  },
  {
   "cell_type": "markdown",
   "id": "9d6fb0fd-a62b-43ca-bac7-5a6cfc054bab",
   "metadata": {},
   "source": [
    "You can play around and see what sorts of matches you can make!"
   ]
  },
  {
   "cell_type": "markdown",
   "id": "05e1fadc-a7c6-42fa-a084-06ee7836ac75",
   "metadata": {},
   "source": [
    "## **03.5. Introduction to Object Oriented Programming (OOP)**\n",
    "\n",
    "In the beginning of the course, we covered how Python relied partly on objects, not only in functions, to allow for additional functionalities.\n",
    "\n",
    "We learnt about the difference among functions, and **methods** ans also the existence of attributes.\n",
    "\n",
    "Let's have a quick reminder of that:"
   ]
  },
  {
   "cell_type": "code",
   "execution_count": 2,
   "id": "112ba014-297f-4369-8f84-d854b93bce5a",
   "metadata": {},
   "outputs": [
    {
     "data": {
      "text/plain": [
       "11"
      ]
     },
     "execution_count": 2,
     "metadata": {},
     "output_type": "execute_result"
    }
   ],
   "source": [
    "# this is a function\n",
    "len('hello world')"
   ]
  },
  {
   "cell_type": "code",
   "execution_count": 4,
   "id": "a6fddc5c-d064-43b2-b0d2-032b86e6d552",
   "metadata": {},
   "outputs": [
    {
     "data": {
      "text/plain": [
       "['hello', 'world']"
      ]
     },
     "execution_count": 4,
     "metadata": {},
     "output_type": "execute_result"
    }
   ],
   "source": [
    "# this is a method\n",
    "'hello world'.split()"
   ]
  },
  {
   "cell_type": "markdown",
   "id": "204660b4-55fd-4a20-9f4d-ed5f9ea32dab",
   "metadata": {},
   "source": [
    "It's easy to see the difference among a **function** and an object's **method**: while a function is an action that exists independently of a variable, and intakes it as an argument, a method is an action that always exists **coupled** to the variable itself.\n",
    "\n",
    "The same way that Python presented natively-coded functions, like len or print, and also the ability to custom code them, it also provides the possibility of **coding our own objects**.\n",
    "\n",
    "That is what **Objected Oriented Programming** means, using custom-programmed objects as the core fundamental structure of our code, instead of just using a sequence of predefined functions and variables that are independent from each other, as it is done in **Procedural Coding**.\n",
    "\n",
    "What are the advantages of OOP? Because of the allowed coupling among actions and variables, it reduces the complexity of your overall code - for instance, as code becomes complex, we will not need to ingest several variables each time we have to run a function, we cna just simply call a method. Also, it allows for the inheritance of code through different objects - while using functions, we may have to reuse several instances of code that feel reusable and familiar. In OOP, we can just code a base Object, and create several more specific Objects from this one, without complicated structures, too much nesting, etc. Also, another of the advantages of OOP is that it reduces the impact of change in code. While using functions, a minor change to its structure can trigger errors in several points of the coding execution sequence. Instead, OOP tends to avert that better.\n",
    "\n",
    "**Let's see some examples of it**"
   ]
  },
  {
   "cell_type": "code",
   "execution_count": 6,
   "id": "f8161270-e454-4541-a186-dc2e604d47d8",
   "metadata": {},
   "outputs": [],
   "source": [
    "# class is the keyword used to declare an object, like \"def\" for functions\n",
    "class Fruit:\n",
    "    pass"
   ]
  },
  {
   "cell_type": "markdown",
   "id": "e4d94ea1-ab42-410f-94a3-fcdee441bdbd",
   "metadata": {},
   "source": [
    "Now, we have declared a particular class, but we have no intsances of it. Let's see how to declare one variable of the **class 'Fruit'**"
   ]
  },
  {
   "cell_type": "code",
   "execution_count": 7,
   "id": "47846386-b2b0-47ba-8581-1f6f026026a4",
   "metadata": {},
   "outputs": [],
   "source": [
    "x = Fruit()"
   ]
  },
  {
   "cell_type": "code",
   "execution_count": 8,
   "id": "bb08ce4c-ff7c-4a8d-b38a-7315e39cb600",
   "metadata": {},
   "outputs": [
    {
     "data": {
      "text/plain": [
       "__main__.Fruit"
      ]
     },
     "execution_count": 8,
     "metadata": {},
     "output_type": "execute_result"
    }
   ],
   "source": [
    "type(x)"
   ]
  },
  {
   "cell_type": "code",
   "execution_count": 9,
   "id": "2403d2f3-7ab4-4360-bf2e-1d888be25218",
   "metadata": {},
   "outputs": [
    {
     "data": {
      "text/plain": [
       "list"
      ]
     },
     "execution_count": 9,
     "metadata": {},
     "output_type": "execute_result"
    }
   ],
   "source": [
    "type([1, 2, 3])"
   ]
  },
  {
   "cell_type": "markdown",
   "id": "b8d95e88-4765-465d-bd59-fdd62bf68618",
   "metadata": {},
   "source": [
    "Our 'Fruit' class is completely empty. Let's input to it some **attributes and methods**"
   ]
  },
  {
   "cell_type": "markdown",
   "id": "a27e0aa4-b329-4fda-b85d-7a756565f6a8",
   "metadata": {},
   "source": [
    "#### **Attributes in Objects**"
   ]
  },
  {
   "cell_type": "code",
   "execution_count": 99,
   "id": "5fbb6b7a-828e-4285-a830-01d52b4f0ed3",
   "metadata": {},
   "outputs": [
    {
     "data": {
      "text/plain": [
       "'fruit: orange'"
      ]
     },
     "execution_count": 99,
     "metadata": {},
     "output_type": "execute_result"
    }
   ],
   "source": [
    "# Attributes can be specified as an input on the user's side\n",
    "class Fruit:\n",
    "    def __init__(self, name):\n",
    "        self.name = 'fruit: ' + name\n",
    "\n",
    "fruit1 = Fruit(name = 'orange')\n",
    "\n",
    "fruit1.name"
   ]
  },
  {
   "cell_type": "code",
   "execution_count": 100,
   "id": "8e376cc7-6493-46d0-b002-becc9a4dac54",
   "metadata": {},
   "outputs": [
    {
     "name": "stdout",
     "output_type": "stream",
     "text": [
      "lime\n",
      "citrus\n"
     ]
    }
   ],
   "source": [
    "# Attributes can be also coded to be a result from a value inputted from the user, not necessarily directly such a value\n",
    "class Fruit:\n",
    "    def __init__(self, name):\n",
    "        self.name = name\n",
    "        if name in ['orange', 'lemon', 'lime', 'kiwi']:\n",
    "            self.fruit_class = 'citrus' \n",
    "        else:\n",
    "            self.fruit_class = 'other'\n",
    "            \n",
    "fruit2 = Fruit(name = 'lime')\n",
    "print(fruit2.name)\n",
    "print(fruit2.fruit_class)"
   ]
  },
  {
   "cell_type": "code",
   "execution_count": 101,
   "id": "359d355e-1b30-481f-8c8c-bf07b1c29658",
   "metadata": {},
   "outputs": [
    {
     "name": "stdout",
     "output_type": "stream",
     "text": [
      "banana\n",
      "other\n",
      "delicious\n"
     ]
    }
   ],
   "source": [
    "# Attributes can also be fixed values defined by us\n",
    "class Fruit:\n",
    "    def __init__(self, name):\n",
    "        self.name = name\n",
    "        if name in ['orange', 'lemon', 'lime', 'kiwi']:\n",
    "            self.fruit_class = 'citrus' \n",
    "        elif 'berry' in name:\n",
    "            self.fruit_class = 'berry'\n",
    "        else:\n",
    "            self.fruit_class = 'other'\n",
    "        # Fruit is always going to be delicious\n",
    "        self.tastiness = 'delicious'\n",
    "            \n",
    "fruit2 = Fruit(name = 'banana')\n",
    "print(fruit2.name)\n",
    "print(fruit2.fruit_class)\n",
    "print(fruit2.tastiness)"
   ]
  },
  {
   "cell_type": "markdown",
   "id": "fc7ae55e-2999-4871-a5cd-2432864c468d",
   "metadata": {},
   "source": [
    "#### **Methods in Objects**"
   ]
  },
  {
   "cell_type": "code",
   "execution_count": 23,
   "id": "601861c3-b40a-489e-b913-8eb5caf8e082",
   "metadata": {},
   "outputs": [
    {
     "name": "stdout",
     "output_type": "stream",
     "text": [
      "strawberry\n",
      "berry\n",
      "delicious\n"
     ]
    }
   ],
   "source": [
    "# Attributes can also be fixed values defined by us\n",
    "class Fruit:\n",
    "    def __init__(self, name):\n",
    "        self.name = name\n",
    "        if name in ['orange', 'lemon', 'lime', 'kiwi']:\n",
    "            self.fruit_class = 'citrus' \n",
    "        elif 'berry' in name:\n",
    "            self.fruit_class = 'berry'\n",
    "        else:\n",
    "            self.fruit_class = 'other'\n",
    "        \n",
    "        self.tastiness = 'delicious'\n",
    "    \n",
    "    def capitalize_fruit(self):\n",
    "        return self.name.capitalize()\n",
    "    \n",
    "    def change_fruit(self, new_fruit):\n",
    "        org_fruit = self.name\n",
    "        self.name = new_fruit\n",
    "        return f'Fruit has been changed from {org_fruit} to {self.name}'\n",
    "            \n",
    "fruit2 = Fruit(name = 'strawberry')\n",
    "print(fruit2.name)\n",
    "print(fruit2.fruit_class)\n",
    "print(fruit2.tastiness)"
   ]
  },
  {
   "cell_type": "code",
   "execution_count": 24,
   "id": "16bdda27-52c7-4a43-8381-0e0fcc733ff1",
   "metadata": {},
   "outputs": [
    {
     "data": {
      "text/plain": [
       "'Strawberry'"
      ]
     },
     "execution_count": 24,
     "metadata": {},
     "output_type": "execute_result"
    }
   ],
   "source": [
    "fruit2.capitalize_fruit()"
   ]
  },
  {
   "cell_type": "code",
   "execution_count": 26,
   "id": "2ed97a6c-27a3-4ab3-885b-7590c3487d2f",
   "metadata": {},
   "outputs": [
    {
     "data": {
      "text/plain": [
       "'Fruit has been changed from strawberry to lime'"
      ]
     },
     "execution_count": 26,
     "metadata": {},
     "output_type": "execute_result"
    }
   ],
   "source": [
    "fruit2.change_fruit('lime')"
   ]
  },
  {
   "cell_type": "code",
   "execution_count": 28,
   "id": "ec0c22a4-8d7d-44dd-b92f-0dce6d2a1824",
   "metadata": {},
   "outputs": [
    {
     "name": "stdout",
     "output_type": "stream",
     "text": [
      "lime\n",
      "berry\n"
     ]
    }
   ],
   "source": [
    "print(fruit2.name)\n",
    "print(fruit2.fruit_class)"
   ]
  },
  {
   "cell_type": "markdown",
   "id": "a8229693-10a6-467b-a0f5-296e30f041c5",
   "metadata": {},
   "source": [
    "We are obtaining **berry**!!! Why? Because we defined the 'fruit_class' method wth name, not with self.name, and this hasn't changed!"
   ]
  },
  {
   "cell_type": "code",
   "execution_count": 49,
   "id": "2f2296c9-94ae-4552-a9e5-b3f66380db43",
   "metadata": {},
   "outputs": [],
   "source": [
    "# Attributes can also be fixed values defined by us\n",
    "class Fruit:\n",
    "    def __init__(self, name):\n",
    "        self.name = name\n",
    "        if self.name in ['orange', 'lemon', 'lime', 'kiwi']:\n",
    "            self.fruit_class = 'citrus' \n",
    "        elif 'berry' in self.name:\n",
    "            self.fruit_class = 'berry'\n",
    "        else:\n",
    "            self.fruit_class = 'other'\n",
    "        \n",
    "        self.tastiness = 'delicious'\n",
    "    \n",
    "    def capitalize_fruit(self):\n",
    "        return self.name.capitalize()\n",
    "    \n",
    "    def change_fruit(self, new_fruit):\n",
    "        org_fruit = self.name\n",
    "        self.name = new_fruit\n",
    "        return f'Fruit has been changed from {org_fruit} to {self.name}'"
   ]
  },
  {
   "cell_type": "code",
   "execution_count": 50,
   "id": "5e938926-3279-43c6-99ef-6a011a67dc29",
   "metadata": {},
   "outputs": [
    {
     "name": "stdout",
     "output_type": "stream",
     "text": [
      "blueberry berry\n"
     ]
    }
   ],
   "source": [
    "fruit = Fruit('blueberry')\n",
    "print(fruit.name, fruit.fruit_class)"
   ]
  },
  {
   "cell_type": "code",
   "execution_count": 51,
   "id": "f165e571-0bb7-4a6c-8b4e-b30aa992af1e",
   "metadata": {},
   "outputs": [
    {
     "data": {
      "text/plain": [
       "'Fruit has been changed from blueberry to banana'"
      ]
     },
     "execution_count": 51,
     "metadata": {},
     "output_type": "execute_result"
    }
   ],
   "source": [
    "fruit.change_fruit('banana')"
   ]
  },
  {
   "cell_type": "code",
   "execution_count": 52,
   "id": "09822baa-d24d-45df-8c16-98992ff68b53",
   "metadata": {},
   "outputs": [
    {
     "name": "stdout",
     "output_type": "stream",
     "text": [
      "banana berry\n"
     ]
    }
   ],
   "source": [
    "print(fruit.name, fruit.fruit_class)"
   ]
  },
  {
   "cell_type": "markdown",
   "id": "9fc820d3-e67b-4d10-9b91-67a3e32f78fd",
   "metadata": {},
   "source": [
    "No changes! That's the reason why it's wise to **render fruit_class a method in these circumstances**"
   ]
  },
  {
   "cell_type": "code",
   "execution_count": 63,
   "id": "6e6bf67e-54f9-4bf2-8a2e-9229277d55bb",
   "metadata": {},
   "outputs": [],
   "source": [
    "# Attributes can also be fixed values defined by us\n",
    "class Fruit:\n",
    "    def __init__(self, name):\n",
    "        self.name = name      \n",
    "        self.tastiness = 'delicious'\n",
    "        self.set_fruit_class()\n",
    "    \n",
    "    def set_fruit_class(self):\n",
    "        if self.name in ['orange', 'lemon', 'lime', 'kiwi']:\n",
    "            self.fruit_class = 'citrus' \n",
    "        elif 'berry' in self.name:\n",
    "            self.fruit_class = 'berry'\n",
    "        else:\n",
    "            self.fruit_class = 'other'\n",
    "    \n",
    "    def capitalize_fruit(self):\n",
    "        return self.name.capitalize()\n",
    "    \n",
    "    def change_fruit(self, new_fruit):\n",
    "        org_fruit = self.name\n",
    "        self.name = new_fruit\n",
    "        self.set_fruit_class() # we execute our defined method internally so that our fruit class is reset!\n",
    "        return f'Fruit has been changed from {org_fruit} to {self.name}'"
   ]
  },
  {
   "cell_type": "code",
   "execution_count": 64,
   "id": "a21acbfb-9c61-42d8-a24a-a9c77f5ab646",
   "metadata": {},
   "outputs": [
    {
     "name": "stdout",
     "output_type": "stream",
     "text": [
      "blueberry berry\n"
     ]
    }
   ],
   "source": [
    "fruit = Fruit('blueberry')\n",
    "print(fruit.name, fruit.fruit_class)"
   ]
  },
  {
   "cell_type": "code",
   "execution_count": 65,
   "id": "f1c4722d-339a-42ca-9b93-b2ec136e2706",
   "metadata": {},
   "outputs": [
    {
     "data": {
      "text/plain": [
       "'Fruit has been changed from blueberry to banana'"
      ]
     },
     "execution_count": 65,
     "metadata": {},
     "output_type": "execute_result"
    }
   ],
   "source": [
    "fruit.change_fruit('banana')"
   ]
  },
  {
   "cell_type": "code",
   "execution_count": 66,
   "id": "81c5b5f1-72a3-400d-ba87-3ce50438ec99",
   "metadata": {},
   "outputs": [
    {
     "name": "stdout",
     "output_type": "stream",
     "text": [
      "banana other\n"
     ]
    }
   ],
   "source": [
    "print(fruit.name, fruit.fruit_class)"
   ]
  },
  {
   "cell_type": "markdown",
   "id": "3eeb52e9-06fa-45f3-b8f1-5df5ce8b562d",
   "metadata": {},
   "source": [
    "### **Additional Exercises**"
   ]
  },
  {
   "cell_type": "markdown",
   "id": "914b0ad8-3261-4749-995a-60e9109b72f0",
   "metadata": {},
   "source": [
    "#### **Exercise 4**\n",
    "\n",
    "Create a function that intakes a list of cities, iterates through them, and returns the capialized list of cities, has taken out British cities, and that has replaced Japanese cities by the sentence \"City in Japan!\":"
   ]
  },
  {
   "cell_type": "code",
   "execution_count": 103,
   "id": "881c1168-c47e-4ff2-90e5-fb169b8a7c3b",
   "metadata": {},
   "outputs": [],
   "source": [
    "cities = [\"Calgary\", \"Paris\", \"Vancouver\", \"Tokyo\", \"Bath\", \"Osaka\", \"Madrid\", \"Warsaw\", \"Bucarest\", \"Glasgow\"]\n",
    "japanese_cities = [\"Tokyo\", \"Sapporo\", \"Osaka\", \"Nara\", \"Kyoto\", \"Hiroshima\"]\n",
    "uk_cities = [\"London\", \"Bath\", \"Glasgow\", \"Manchester\", \"Liverpool\", \"Blackpool\"]"
   ]
  },
  {
   "cell_type": "code",
   "execution_count": 107,
   "id": "b3a7f1cd-f71d-4245-94fb-a9a9da254dfa",
   "metadata": {},
   "outputs": [
    {
     "data": {
      "text/plain": [
       "['Calgary',\n",
       " 'Paris',\n",
       " 'Vancouver',\n",
       " 'City in Japan!',\n",
       " 'City in Japan!',\n",
       " 'Madrid',\n",
       " 'Warsaw',\n",
       " 'Bucarest']"
      ]
     },
     "execution_count": 107,
     "metadata": {},
     "output_type": "execute_result"
    }
   ],
   "source": [
    "def myfunc(list):\n",
    "    new_lst = [i.capitalize() for i in cities]\n",
    "    new_new_list = []\n",
    "    for i in new_lst:\n",
    "        if i in japanese_cities:\n",
    "            new_new_list.append('City in Japan!')\n",
    "        elif i in uk_cities:\n",
    "            pass\n",
    "        else:\n",
    "            new_new_list.append(i)\n",
    "    return new_new_list\n",
    "\n",
    "myfunc(cities)\n",
    "        \n",
    "    "
   ]
  },
  {
   "cell_type": "code",
   "execution_count": null,
   "id": "604a8b55-0251-44a7-8596-61a4045be544",
   "metadata": {},
   "outputs": [],
   "source": []
  }
 ],
 "metadata": {
  "kernelspec": {
   "display_name": "Python 3 (ipykernel)",
   "language": "python",
   "name": "python3"
  },
  "language_info": {
   "codemirror_mode": {
    "name": "ipython",
    "version": 3
   },
   "file_extension": ".py",
   "mimetype": "text/x-python",
   "name": "python",
   "nbconvert_exporter": "python",
   "pygments_lexer": "ipython3",
   "version": "3.10.6"
  }
 },
 "nbformat": 4,
 "nbformat_minor": 5
}
